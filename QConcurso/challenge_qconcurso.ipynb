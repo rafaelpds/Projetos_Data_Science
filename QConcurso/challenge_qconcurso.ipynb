{
  "nbformat": 4,
  "nbformat_minor": 0,
  "metadata": {
    "colab": {
      "provenance": [],
      "collapsed_sections": [],
      "authorship_tag": "ABX9TyNsxBugif5/HI2dzYt5Iqcq",
      "include_colab_link": true
    },
    "kernelspec": {
      "name": "python3",
      "display_name": "Python 3"
    },
    "language_info": {
      "name": "python"
    }
  },
  "cells": [
    {
      "cell_type": "markdown",
      "metadata": {
        "id": "view-in-github",
        "colab_type": "text"
      },
      "source": [
        "<a href=\"https://colab.research.google.com/github/rafaelpds/Projetos_Data_Science/blob/main/QConcurso/challenge_qconcurso.ipynb\" target=\"_parent\"><img src=\"https://colab.research.google.com/assets/colab-badge.svg\" alt=\"Open In Colab\"/></a>"
      ]
    },
    {
      "cell_type": "markdown",
      "source": [
        "The Challenge\n",
        "\n",
        "Participants are requested to create a model to rank the answer to the 101st question, given a set of 100 answers to questions answered sequentially by 20,000 users.\n",
        "\n",
        "The Dataset_Model database contains the answers to 100 questions answered sequentially by 20,000 users and should be used to train the model.\n",
        "\n",
        "The subjects_question file contains additional information about the questions, mapping the questions to subjects. It's important to note that each question may contain more than one subjects.\n",
        "\n",
        "The file Submit.csv is the file that contains the data about the 101st question for each user. Your model should score the \"Acertou\" (in english \"got it right\") column, containing \"0\" for wrong or \"1\" for correct.\n",
        "\n",
        "You must submit a .csv file containing 20,000 rows and only one column containing the 0's and 1's that your model calculated."
      ],
      "metadata": {
        "id": "ZZarkCdAGNr0"
      }
    },
    {
      "cell_type": "markdown",
      "source": [
        "Fonte de Dados:\n",
        "\n",
        "https://drive.google.com/drive/folders/1VtFkocuaNB8oo3bqF0VCx6ctnJwXitx_"
      ],
      "metadata": {
        "id": "Vc48ugjkBwsz"
      }
    },
    {
      "cell_type": "markdown",
      "source": [
        "**Dicionário dos Dados Disponibilizados:**\n",
        "\n",
        "**resolvidas_questions_users -** Nesta tabela estão as informações sobre as resoluções e sobre as questões que foram resolvidas, além das informações dos usuários.\n",
        "\n",
        "- user_id - identificação do usuário\n",
        "- city - cidade do usuário\n",
        "- country - país do usuário\n",
        "- device - dispositivo\n",
        "- device_type\t - tipo do dispositivo\n",
        "- os - sistema operacional\n",
        "- platform - tipo de acesso\n",
        "- region - Região do usuário\n",
        "- gp:carrers - carreira de preferência do usuário\n",
        "- gp:college type - Universidade de preferência\n",
        "- gp:degree course\t- Curso de preferência na universidade\n",
        "- gp:previous experience\t- experiência prévia como concurseiro\n",
        "- gp:school type - tipo de escola que se formou\n",
        "- gp:source_project - ambiente de preferência do usuário\n",
        "- question_id\t- identificação da questão\n",
        "- acertou - (errou (0), acertou (1))\n",
        "- created_at - data de resolução da questão\n",
        "- commented_by_professor - (não possui comentários do professor (0), possui comentário do professor (1))\n",
        "- difficulty - dificuldade da questão\n",
        "- discipline_id - disciplina da questão\n",
        "- examining_board_id - banca da questão\n",
        "- institute_id\t- instituto da questão\n",
        "- knowledge_area_id - área de conhecimento da questão\n",
        "- modality_id\t- tipo da questão (1, significa múltipla escolha (A,B,C,D ou E) e 2 significa certo ( C ) ou errado ( E ). \n",
        "- nullified - questões anuladas\n",
        "- outdated - questões desatualizadas\n",
        "- product_id - a qual produto a questão pertence\n",
        "- publication_year - ano em que a questão foi publicada\t\n",
        "- right_answer - alternativa correta (A,B,C,D ou E), se for questão de múltipla escolha ou (C ou E) se for questão de certo ou errado \n",
        "- scholarity_id - escolaridade da questão\t\n",
        "- subjects_questions - Nesta tabela estão informações adicionais sobre as questões que foram resolvidas pelos usuários\n",
        "- question_id - identificação da questão\n",
        "- subject_id - identificação do assunto"
      ],
      "metadata": {
        "id": "i3vH4fXcFeRp"
      }
    },
    {
      "cell_type": "code",
      "source": [
        "import pandas as pd\n",
        "import numpy as np\n",
        "\n",
        "from google.colab import drive"
      ],
      "metadata": {
        "id": "lNse1718EqvZ"
      },
      "execution_count": 6,
      "outputs": []
    },
    {
      "cell_type": "code",
      "source": [
        "drive.mount('/content/drive')"
      ],
      "metadata": {
        "id": "h8hETbSJB0Y7",
        "colab": {
          "base_uri": "https://localhost:8080/"
        },
        "outputId": "822894b1-9b8d-4f6d-9902-203b66df9a69"
      },
      "execution_count": 8,
      "outputs": [
        {
          "output_type": "stream",
          "name": "stdout",
          "text": [
            "Drive already mounted at /content/drive; to attempt to forcibly remount, call drive.mount(\"/content/drive\", force_remount=True).\n"
          ]
        }
      ]
    },
    {
      "cell_type": "code",
      "source": [
        "df_model = pd.read_csv(\"/content/drive/My Drive/QConcursos/Dataset_model.csv\")\n",
        "df_sub_question = pd.read_csv(\"/content/drive/My Drive/QConcursos/subjects_questions.csv\")"
      ],
      "metadata": {
        "colab": {
          "base_uri": "https://localhost:8080/"
        },
        "id": "juMynpTREUOL",
        "outputId": "411f4bce-2759-4f80-b221-f092cb01fe70"
      },
      "execution_count": 11,
      "outputs": [
        {
          "output_type": "stream",
          "name": "stderr",
          "text": [
            "/usr/local/lib/python3.7/dist-packages/IPython/core/interactiveshell.py:3326: DtypeWarning: Columns (9,10,12) have mixed types.Specify dtype option on import or set low_memory=False.\n",
            "  exec(code_obj, self.user_global_ns, self.user_ns)\n"
          ]
        }
      ]
    },
    {
      "cell_type": "code",
      "source": [
        "df_model.head(3)"
      ],
      "metadata": {
        "colab": {
          "base_uri": "https://localhost:8080/",
          "height": 306
        },
        "id": "ApwYdYg4E2mw",
        "outputId": "fef24a32-907c-4489-a6e7-d8bff0ad6ca6"
      },
      "execution_count": 12,
      "outputs": [
        {
          "output_type": "execute_result",
          "data": {
            "text/plain": [
              "   novo_user_id            city country        device  \\\n",
              "0             1  Rio de Janeiro  Brazil  Apple iPhone   \n",
              "1             1  Rio de Janeiro  Brazil  Apple iPhone   \n",
              "2             1  Rio de Janeiro  Brazil  Apple iPhone   \n",
              "\n",
              "               device_type          os platform          region  \\\n",
              "0  Apple iPhone 11 Pro Max  ios 15.4.1      iOS  Rio de Janeiro   \n",
              "1  Apple iPhone 11 Pro Max  ios 15.4.1      iOS  Rio de Janeiro   \n",
              "2  Apple iPhone 11 Pro Max  ios 15.4.1      iOS  Rio de Janeiro   \n",
              "\n",
              "                 gp:carrers gp:college type  ... institute_id  \\\n",
              "0  Tribunal, Administrativa             NaN  ...       4126.0   \n",
              "1  Tribunal, Administrativa             NaN  ...       4126.0   \n",
              "2  Tribunal, Administrativa             NaN  ...       4126.0   \n",
              "\n",
              "  knowledge_area_id modality_id nullified outdated  product_id  \\\n",
              "0              13.0         1.0       0.0      0.0         1.0   \n",
              "1              13.0         1.0       0.0      0.0         1.0   \n",
              "2              13.0         1.0       0.0      0.0         1.0   \n",
              "\n",
              "  publication_year  right_answer  scholarity_id  novo_question_id  \n",
              "0           2022.0             A            2.0            489400  \n",
              "1           2022.0             C            2.0            489399  \n",
              "2           2022.0             D            2.0            489398  \n",
              "\n",
              "[3 rows x 32 columns]"
            ],
            "text/html": [
              "\n",
              "  <div id=\"df-5309783d-313b-43bc-b6b7-965b7459c1de\">\n",
              "    <div class=\"colab-df-container\">\n",
              "      <div>\n",
              "<style scoped>\n",
              "    .dataframe tbody tr th:only-of-type {\n",
              "        vertical-align: middle;\n",
              "    }\n",
              "\n",
              "    .dataframe tbody tr th {\n",
              "        vertical-align: top;\n",
              "    }\n",
              "\n",
              "    .dataframe thead th {\n",
              "        text-align: right;\n",
              "    }\n",
              "</style>\n",
              "<table border=\"1\" class=\"dataframe\">\n",
              "  <thead>\n",
              "    <tr style=\"text-align: right;\">\n",
              "      <th></th>\n",
              "      <th>novo_user_id</th>\n",
              "      <th>city</th>\n",
              "      <th>country</th>\n",
              "      <th>device</th>\n",
              "      <th>device_type</th>\n",
              "      <th>os</th>\n",
              "      <th>platform</th>\n",
              "      <th>region</th>\n",
              "      <th>gp:carrers</th>\n",
              "      <th>gp:college type</th>\n",
              "      <th>...</th>\n",
              "      <th>institute_id</th>\n",
              "      <th>knowledge_area_id</th>\n",
              "      <th>modality_id</th>\n",
              "      <th>nullified</th>\n",
              "      <th>outdated</th>\n",
              "      <th>product_id</th>\n",
              "      <th>publication_year</th>\n",
              "      <th>right_answer</th>\n",
              "      <th>scholarity_id</th>\n",
              "      <th>novo_question_id</th>\n",
              "    </tr>\n",
              "  </thead>\n",
              "  <tbody>\n",
              "    <tr>\n",
              "      <th>0</th>\n",
              "      <td>1</td>\n",
              "      <td>Rio de Janeiro</td>\n",
              "      <td>Brazil</td>\n",
              "      <td>Apple iPhone</td>\n",
              "      <td>Apple iPhone 11 Pro Max</td>\n",
              "      <td>ios 15.4.1</td>\n",
              "      <td>iOS</td>\n",
              "      <td>Rio de Janeiro</td>\n",
              "      <td>Tribunal, Administrativa</td>\n",
              "      <td>NaN</td>\n",
              "      <td>...</td>\n",
              "      <td>4126.0</td>\n",
              "      <td>13.0</td>\n",
              "      <td>1.0</td>\n",
              "      <td>0.0</td>\n",
              "      <td>0.0</td>\n",
              "      <td>1.0</td>\n",
              "      <td>2022.0</td>\n",
              "      <td>A</td>\n",
              "      <td>2.0</td>\n",
              "      <td>489400</td>\n",
              "    </tr>\n",
              "    <tr>\n",
              "      <th>1</th>\n",
              "      <td>1</td>\n",
              "      <td>Rio de Janeiro</td>\n",
              "      <td>Brazil</td>\n",
              "      <td>Apple iPhone</td>\n",
              "      <td>Apple iPhone 11 Pro Max</td>\n",
              "      <td>ios 15.4.1</td>\n",
              "      <td>iOS</td>\n",
              "      <td>Rio de Janeiro</td>\n",
              "      <td>Tribunal, Administrativa</td>\n",
              "      <td>NaN</td>\n",
              "      <td>...</td>\n",
              "      <td>4126.0</td>\n",
              "      <td>13.0</td>\n",
              "      <td>1.0</td>\n",
              "      <td>0.0</td>\n",
              "      <td>0.0</td>\n",
              "      <td>1.0</td>\n",
              "      <td>2022.0</td>\n",
              "      <td>C</td>\n",
              "      <td>2.0</td>\n",
              "      <td>489399</td>\n",
              "    </tr>\n",
              "    <tr>\n",
              "      <th>2</th>\n",
              "      <td>1</td>\n",
              "      <td>Rio de Janeiro</td>\n",
              "      <td>Brazil</td>\n",
              "      <td>Apple iPhone</td>\n",
              "      <td>Apple iPhone 11 Pro Max</td>\n",
              "      <td>ios 15.4.1</td>\n",
              "      <td>iOS</td>\n",
              "      <td>Rio de Janeiro</td>\n",
              "      <td>Tribunal, Administrativa</td>\n",
              "      <td>NaN</td>\n",
              "      <td>...</td>\n",
              "      <td>4126.0</td>\n",
              "      <td>13.0</td>\n",
              "      <td>1.0</td>\n",
              "      <td>0.0</td>\n",
              "      <td>0.0</td>\n",
              "      <td>1.0</td>\n",
              "      <td>2022.0</td>\n",
              "      <td>D</td>\n",
              "      <td>2.0</td>\n",
              "      <td>489398</td>\n",
              "    </tr>\n",
              "  </tbody>\n",
              "</table>\n",
              "<p>3 rows × 32 columns</p>\n",
              "</div>\n",
              "      <button class=\"colab-df-convert\" onclick=\"convertToInteractive('df-5309783d-313b-43bc-b6b7-965b7459c1de')\"\n",
              "              title=\"Convert this dataframe to an interactive table.\"\n",
              "              style=\"display:none;\">\n",
              "        \n",
              "  <svg xmlns=\"http://www.w3.org/2000/svg\" height=\"24px\"viewBox=\"0 0 24 24\"\n",
              "       width=\"24px\">\n",
              "    <path d=\"M0 0h24v24H0V0z\" fill=\"none\"/>\n",
              "    <path d=\"M18.56 5.44l.94 2.06.94-2.06 2.06-.94-2.06-.94-.94-2.06-.94 2.06-2.06.94zm-11 1L8.5 8.5l.94-2.06 2.06-.94-2.06-.94L8.5 2.5l-.94 2.06-2.06.94zm10 10l.94 2.06.94-2.06 2.06-.94-2.06-.94-.94-2.06-.94 2.06-2.06.94z\"/><path d=\"M17.41 7.96l-1.37-1.37c-.4-.4-.92-.59-1.43-.59-.52 0-1.04.2-1.43.59L10.3 9.45l-7.72 7.72c-.78.78-.78 2.05 0 2.83L4 21.41c.39.39.9.59 1.41.59.51 0 1.02-.2 1.41-.59l7.78-7.78 2.81-2.81c.8-.78.8-2.07 0-2.86zM5.41 20L4 18.59l7.72-7.72 1.47 1.35L5.41 20z\"/>\n",
              "  </svg>\n",
              "      </button>\n",
              "      \n",
              "  <style>\n",
              "    .colab-df-container {\n",
              "      display:flex;\n",
              "      flex-wrap:wrap;\n",
              "      gap: 12px;\n",
              "    }\n",
              "\n",
              "    .colab-df-convert {\n",
              "      background-color: #E8F0FE;\n",
              "      border: none;\n",
              "      border-radius: 50%;\n",
              "      cursor: pointer;\n",
              "      display: none;\n",
              "      fill: #1967D2;\n",
              "      height: 32px;\n",
              "      padding: 0 0 0 0;\n",
              "      width: 32px;\n",
              "    }\n",
              "\n",
              "    .colab-df-convert:hover {\n",
              "      background-color: #E2EBFA;\n",
              "      box-shadow: 0px 1px 2px rgba(60, 64, 67, 0.3), 0px 1px 3px 1px rgba(60, 64, 67, 0.15);\n",
              "      fill: #174EA6;\n",
              "    }\n",
              "\n",
              "    [theme=dark] .colab-df-convert {\n",
              "      background-color: #3B4455;\n",
              "      fill: #D2E3FC;\n",
              "    }\n",
              "\n",
              "    [theme=dark] .colab-df-convert:hover {\n",
              "      background-color: #434B5C;\n",
              "      box-shadow: 0px 1px 3px 1px rgba(0, 0, 0, 0.15);\n",
              "      filter: drop-shadow(0px 1px 2px rgba(0, 0, 0, 0.3));\n",
              "      fill: #FFFFFF;\n",
              "    }\n",
              "  </style>\n",
              "\n",
              "      <script>\n",
              "        const buttonEl =\n",
              "          document.querySelector('#df-5309783d-313b-43bc-b6b7-965b7459c1de button.colab-df-convert');\n",
              "        buttonEl.style.display =\n",
              "          google.colab.kernel.accessAllowed ? 'block' : 'none';\n",
              "\n",
              "        async function convertToInteractive(key) {\n",
              "          const element = document.querySelector('#df-5309783d-313b-43bc-b6b7-965b7459c1de');\n",
              "          const dataTable =\n",
              "            await google.colab.kernel.invokeFunction('convertToInteractive',\n",
              "                                                     [key], {});\n",
              "          if (!dataTable) return;\n",
              "\n",
              "          const docLinkHtml = 'Like what you see? Visit the ' +\n",
              "            '<a target=\"_blank\" href=https://colab.research.google.com/notebooks/data_table.ipynb>data table notebook</a>'\n",
              "            + ' to learn more about interactive tables.';\n",
              "          element.innerHTML = '';\n",
              "          dataTable['output_type'] = 'display_data';\n",
              "          await google.colab.output.renderOutput(dataTable, element);\n",
              "          const docLink = document.createElement('div');\n",
              "          docLink.innerHTML = docLinkHtml;\n",
              "          element.appendChild(docLink);\n",
              "        }\n",
              "      </script>\n",
              "    </div>\n",
              "  </div>\n",
              "  "
            ]
          },
          "metadata": {},
          "execution_count": 12
        }
      ]
    },
    {
      "cell_type": "code",
      "source": [
        "df_sub_question.head(3)"
      ],
      "metadata": {
        "colab": {
          "base_uri": "https://localhost:8080/",
          "height": 143
        },
        "id": "vs1KABgnFTT7",
        "outputId": "d12c4328-ac8e-494a-a9a5-838d3b56a215"
      },
      "execution_count": 13,
      "outputs": [
        {
          "output_type": "execute_result",
          "data": {
            "text/plain": [
              "   subject_id  novo_question_id\n",
              "0     14655.0                15\n",
              "1     19271.0                15\n",
              "2     14655.0                16"
            ],
            "text/html": [
              "\n",
              "  <div id=\"df-c6332f38-6a27-4eed-8d72-1ffc9aec164b\">\n",
              "    <div class=\"colab-df-container\">\n",
              "      <div>\n",
              "<style scoped>\n",
              "    .dataframe tbody tr th:only-of-type {\n",
              "        vertical-align: middle;\n",
              "    }\n",
              "\n",
              "    .dataframe tbody tr th {\n",
              "        vertical-align: top;\n",
              "    }\n",
              "\n",
              "    .dataframe thead th {\n",
              "        text-align: right;\n",
              "    }\n",
              "</style>\n",
              "<table border=\"1\" class=\"dataframe\">\n",
              "  <thead>\n",
              "    <tr style=\"text-align: right;\">\n",
              "      <th></th>\n",
              "      <th>subject_id</th>\n",
              "      <th>novo_question_id</th>\n",
              "    </tr>\n",
              "  </thead>\n",
              "  <tbody>\n",
              "    <tr>\n",
              "      <th>0</th>\n",
              "      <td>14655.0</td>\n",
              "      <td>15</td>\n",
              "    </tr>\n",
              "    <tr>\n",
              "      <th>1</th>\n",
              "      <td>19271.0</td>\n",
              "      <td>15</td>\n",
              "    </tr>\n",
              "    <tr>\n",
              "      <th>2</th>\n",
              "      <td>14655.0</td>\n",
              "      <td>16</td>\n",
              "    </tr>\n",
              "  </tbody>\n",
              "</table>\n",
              "</div>\n",
              "      <button class=\"colab-df-convert\" onclick=\"convertToInteractive('df-c6332f38-6a27-4eed-8d72-1ffc9aec164b')\"\n",
              "              title=\"Convert this dataframe to an interactive table.\"\n",
              "              style=\"display:none;\">\n",
              "        \n",
              "  <svg xmlns=\"http://www.w3.org/2000/svg\" height=\"24px\"viewBox=\"0 0 24 24\"\n",
              "       width=\"24px\">\n",
              "    <path d=\"M0 0h24v24H0V0z\" fill=\"none\"/>\n",
              "    <path d=\"M18.56 5.44l.94 2.06.94-2.06 2.06-.94-2.06-.94-.94-2.06-.94 2.06-2.06.94zm-11 1L8.5 8.5l.94-2.06 2.06-.94-2.06-.94L8.5 2.5l-.94 2.06-2.06.94zm10 10l.94 2.06.94-2.06 2.06-.94-2.06-.94-.94-2.06-.94 2.06-2.06.94z\"/><path d=\"M17.41 7.96l-1.37-1.37c-.4-.4-.92-.59-1.43-.59-.52 0-1.04.2-1.43.59L10.3 9.45l-7.72 7.72c-.78.78-.78 2.05 0 2.83L4 21.41c.39.39.9.59 1.41.59.51 0 1.02-.2 1.41-.59l7.78-7.78 2.81-2.81c.8-.78.8-2.07 0-2.86zM5.41 20L4 18.59l7.72-7.72 1.47 1.35L5.41 20z\"/>\n",
              "  </svg>\n",
              "      </button>\n",
              "      \n",
              "  <style>\n",
              "    .colab-df-container {\n",
              "      display:flex;\n",
              "      flex-wrap:wrap;\n",
              "      gap: 12px;\n",
              "    }\n",
              "\n",
              "    .colab-df-convert {\n",
              "      background-color: #E8F0FE;\n",
              "      border: none;\n",
              "      border-radius: 50%;\n",
              "      cursor: pointer;\n",
              "      display: none;\n",
              "      fill: #1967D2;\n",
              "      height: 32px;\n",
              "      padding: 0 0 0 0;\n",
              "      width: 32px;\n",
              "    }\n",
              "\n",
              "    .colab-df-convert:hover {\n",
              "      background-color: #E2EBFA;\n",
              "      box-shadow: 0px 1px 2px rgba(60, 64, 67, 0.3), 0px 1px 3px 1px rgba(60, 64, 67, 0.15);\n",
              "      fill: #174EA6;\n",
              "    }\n",
              "\n",
              "    [theme=dark] .colab-df-convert {\n",
              "      background-color: #3B4455;\n",
              "      fill: #D2E3FC;\n",
              "    }\n",
              "\n",
              "    [theme=dark] .colab-df-convert:hover {\n",
              "      background-color: #434B5C;\n",
              "      box-shadow: 0px 1px 3px 1px rgba(0, 0, 0, 0.15);\n",
              "      filter: drop-shadow(0px 1px 2px rgba(0, 0, 0, 0.3));\n",
              "      fill: #FFFFFF;\n",
              "    }\n",
              "  </style>\n",
              "\n",
              "      <script>\n",
              "        const buttonEl =\n",
              "          document.querySelector('#df-c6332f38-6a27-4eed-8d72-1ffc9aec164b button.colab-df-convert');\n",
              "        buttonEl.style.display =\n",
              "          google.colab.kernel.accessAllowed ? 'block' : 'none';\n",
              "\n",
              "        async function convertToInteractive(key) {\n",
              "          const element = document.querySelector('#df-c6332f38-6a27-4eed-8d72-1ffc9aec164b');\n",
              "          const dataTable =\n",
              "            await google.colab.kernel.invokeFunction('convertToInteractive',\n",
              "                                                     [key], {});\n",
              "          if (!dataTable) return;\n",
              "\n",
              "          const docLinkHtml = 'Like what you see? Visit the ' +\n",
              "            '<a target=\"_blank\" href=https://colab.research.google.com/notebooks/data_table.ipynb>data table notebook</a>'\n",
              "            + ' to learn more about interactive tables.';\n",
              "          element.innerHTML = '';\n",
              "          dataTable['output_type'] = 'display_data';\n",
              "          await google.colab.output.renderOutput(dataTable, element);\n",
              "          const docLink = document.createElement('div');\n",
              "          docLink.innerHTML = docLinkHtml;\n",
              "          element.appendChild(docLink);\n",
              "        }\n",
              "      </script>\n",
              "    </div>\n",
              "  </div>\n",
              "  "
            ]
          },
          "metadata": {},
          "execution_count": 13
        }
      ]
    },
    {
      "cell_type": "markdown",
      "source": [
        "## 01 - Data Analysis"
      ],
      "metadata": {
        "id": "0MP0jDKUIKjG"
      }
    },
    {
      "cell_type": "code",
      "source": [],
      "metadata": {
        "id": "BKXMG80HIQDC"
      },
      "execution_count": null,
      "outputs": []
    },
    {
      "cell_type": "markdown",
      "source": [
        "## 02 - Exploration Data"
      ],
      "metadata": {
        "id": "RawI2rxDIQh5"
      }
    },
    {
      "cell_type": "code",
      "source": [],
      "metadata": {
        "id": "eQzxZIeaISfh"
      },
      "execution_count": null,
      "outputs": []
    },
    {
      "cell_type": "markdown",
      "source": [
        "## 03 - Train Model"
      ],
      "metadata": {
        "id": "8LwBcdfbITfy"
      }
    },
    {
      "cell_type": "code",
      "source": [],
      "metadata": {
        "id": "3XlvGlM9ITCu"
      },
      "execution_count": null,
      "outputs": []
    },
    {
      "cell_type": "markdown",
      "source": [
        "## 04 - Predict Model"
      ],
      "metadata": {
        "id": "6k6I_g41IY9A"
      }
    },
    {
      "cell_type": "code",
      "source": [],
      "metadata": {
        "id": "m45UkzaTIYtI"
      },
      "execution_count": null,
      "outputs": []
    }
  ]
}