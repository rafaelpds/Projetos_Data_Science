{
  "nbformat": 4,
  "nbformat_minor": 0,
  "metadata": {
    "colab": {
      "provenance": [],
      "collapsed_sections": [],
      "authorship_tag": "ABX9TyPA/qwD9SQ0T7VCGEbVuNIK",
      "include_colab_link": true
    },
    "kernelspec": {
      "name": "python3",
      "display_name": "Python 3"
    },
    "language_info": {
      "name": "python"
    }
  },
  "cells": [
    {
      "cell_type": "markdown",
      "metadata": {
        "id": "view-in-github",
        "colab_type": "text"
      },
      "source": [
        "<a href=\"https://colab.research.google.com/github/rafaelpds/Projetos_Data_Science/blob/main/QConcurso/challenge_qconcurso.ipynb\" target=\"_parent\"><img src=\"https://colab.research.google.com/assets/colab-badge.svg\" alt=\"Open In Colab\"/></a>"
      ]
    },
    {
      "cell_type": "markdown",
      "source": [
        "The Challenge\n",
        "\n",
        "Participants are requested to create a model to rank the answer to the 101st question, given a set of 100 answers to questions answered sequentially by 20,000 users.\n",
        "\n",
        "The Dataset_Model database contains the answers to 100 questions answered sequentially by 20,000 users and should be used to train the model.\n",
        "\n",
        "The subjects_question file contains additional information about the questions, mapping the questions to subjects. It's important to note that each question may contain more than one subjects.\n",
        "\n",
        "The file Submit.csv is the file that contains the data about the 101st question for each user. Your model should score the \"Acertou\" (in english \"got it right\") column, containing \"0\" for wrong or \"1\" for correct.\n",
        "\n",
        "You must submit a .csv file containing 20,000 rows and only one column containing the 0's and 1's that your model calculated."
      ],
      "metadata": {
        "id": "ZZarkCdAGNr0"
      }
    },
    {
      "cell_type": "markdown",
      "source": [
        "Fonte de Dados:\n",
        "\n",
        "https://drive.google.com/drive/folders/1VtFkocuaNB8oo3bqF0VCx6ctnJwXitx_"
      ],
      "metadata": {
        "id": "Vc48ugjkBwsz"
      }
    },
    {
      "cell_type": "markdown",
      "source": [
        "**Dicionário dos Dados Disponibilizados:**\n",
        "\n",
        "**resolvidas_questions_users -** Nesta tabela estão as informações sobre as resoluções e sobre as questões que foram resolvidas, além das informações dos usuários.\n",
        "\n",
        "- user_id - identificação do usuário\n",
        "- city - cidade do usuário\n",
        "- country - país do usuário\n",
        "- device - dispositivo\n",
        "- device_type\t - tipo do dispositivo\n",
        "- os - sistema operacional\n",
        "- platform - tipo de acesso\n",
        "- region - Região do usuário\n",
        "- gp:carrers - carreira de preferência do usuário\n",
        "- gp:college type - Universidade de preferência\n",
        "- gp:degree course\t- Curso de preferência na universidade\n",
        "- gp:previous experience\t- experiência prévia como concurseiro\n",
        "- gp:school type - tipo de escola que se formou\n",
        "- gp:source_project - ambiente de preferência do usuário\n",
        "- question_id\t- identificação da questão\n",
        "- acertou - (errou (0), acertou (1))\n",
        "- created_at - data de resolução da questão\n",
        "- commented_by_professor - (não possui comentários do professor (0), possui comentário do professor (1))\n",
        "- difficulty - dificuldade da questão\n",
        "- discipline_id - disciplina da questão\n",
        "- examining_board_id - banca da questão\n",
        "- institute_id\t- instituto da questão\n",
        "- knowledge_area_id - área de conhecimento da questão\n",
        "- modality_id\t- tipo da questão (1, significa múltipla escolha (A,B,C,D ou E) e 2 significa certo ( C ) ou errado ( E ). \n",
        "- nullified - questões anuladas\n",
        "- outdated - questões desatualizadas\n",
        "- product_id - a qual produto a questão pertence\n",
        "- publication_year - ano em que a questão foi publicada\t\n",
        "- right_answer - alternativa correta (A,B,C,D ou E), se for questão de múltipla escolha ou (C ou E) se for questão de certo ou errado \n",
        "- scholarity_id - escolaridade da questão\t\n",
        "\n",
        "**Tabela subjects_questions** - Nesta tabela estão informações adicionais sobre as questões que foram resolvidas pelos usuários\n",
        "- question_id - identificação da questão\n",
        "- subject_id - identificação do assunto"
      ],
      "metadata": {
        "id": "i3vH4fXcFeRp"
      }
    },
    {
      "cell_type": "code",
      "source": [
        "import pandas as pd\n",
        "import numpy as np\n",
        "\n",
        "from google.colab import drive"
      ],
      "metadata": {
        "id": "lNse1718EqvZ"
      },
      "execution_count": 1,
      "outputs": []
    },
    {
      "cell_type": "code",
      "source": [
        "drive.mount('/content/drive')"
      ],
      "metadata": {
        "id": "h8hETbSJB0Y7",
        "colab": {
          "base_uri": "https://localhost:8080/"
        },
        "outputId": "fa61cbe9-52f5-4a73-9c58-7758a08c6ee4"
      },
      "execution_count": 2,
      "outputs": [
        {
          "output_type": "stream",
          "name": "stdout",
          "text": [
            "Mounted at /content/drive\n"
          ]
        }
      ]
    },
    {
      "cell_type": "code",
      "source": [
        "df_model = pd.read_csv(\"/content/drive/My Drive/QConcursos/Dataset_model.csv\")\n",
        "df_sub_question = pd.read_csv(\"/content/drive/My Drive/QConcursos/subjects_questions.csv\")\n",
        "df_test = pd.read_csv(\"/content/drive/My Drive/QConcursos/Submit.csv\", sep=';')"
      ],
      "metadata": {
        "id": "juMynpTREUOL"
      },
      "execution_count": 21,
      "outputs": []
    },
    {
      "cell_type": "code",
      "source": [
        "df_test.head()"
      ],
      "metadata": {
        "id": "yhCbaBH21v1j",
        "outputId": "194789a2-b758-4a31-b9d0-3e829c4c0785",
        "colab": {
          "base_uri": "https://localhost:8080/",
          "height": 490
        }
      },
      "execution_count": 22,
      "outputs": [
        {
          "output_type": "execute_result",
          "data": {
            "text/plain": [
              "   novo_user_id            city country        device  \\\n",
              "0             1  Rio de Janeiro  Brazil  Apple iPhone   \n",
              "1             2       São Paulo  Brazil       Windows   \n",
              "2             3             NaN  Brazil  Apple iPhone   \n",
              "3             4          Recife  Brazil       Windows   \n",
              "4             5        Brasília  Brazil       Windows   \n",
              "\n",
              "               device_type          os platform            region  \\\n",
              "0  Apple iPhone 11 Pro Max  ios 15.4.1      iOS    Rio de Janeiro   \n",
              "1                  Windows  Chrome 104      Web         Sao Paulo   \n",
              "2          Apple iPhone 11    ios 15.5      iOS      Minas Gerais   \n",
              "3                  Windows  Chrome 104      Web        Pernambuco   \n",
              "4                  Windows   Chrome 99      Web  Federal District   \n",
              "\n",
              "                                          gp:carrers gp:college type  ...  \\\n",
              "0                           Tribunal, Administrativa             NaN  ...   \n",
              "1                                           Tribunal             NaN  ...   \n",
              "2          Controle e Gestão, Outras, Administrativa             NaN  ...   \n",
              "3  Fiscal, Tribunal, Policial, Legislativa, Jurídica             NaN  ...   \n",
              "4                                           Bancária             NaN  ...   \n",
              "\n",
              "  institute_id knowledge_area_id modality_id nullified outdated  product_id  \\\n",
              "0       6289.0              13.0         1.0       0.0      0.0         1.0   \n",
              "1       2994.0              53.0         1.0       0.0      0.0         1.0   \n",
              "2         20.0              14.0         1.0       0.0      0.0         1.0   \n",
              "3         36.0               9.0         2.0       0.0      0.0         1.0   \n",
              "4       6001.0              13.0         1.0       0.0      0.0         1.0   \n",
              "\n",
              "  publication_year  right_answer  scholarity_id  novo_question_id  \n",
              "0           2021.0             B            3.0            484766  \n",
              "1           2016.0             C            3.0            159545  \n",
              "2           2017.0             C            3.0            233145  \n",
              "3           2014.0             C            3.0            108082  \n",
              "4           2015.0             A            3.0            151695  \n",
              "\n",
              "[5 rows x 32 columns]"
            ],
            "text/html": [
              "\n",
              "  <div id=\"df-18444239-2f9b-47eb-821c-09a70a58e635\">\n",
              "    <div class=\"colab-df-container\">\n",
              "      <div>\n",
              "<style scoped>\n",
              "    .dataframe tbody tr th:only-of-type {\n",
              "        vertical-align: middle;\n",
              "    }\n",
              "\n",
              "    .dataframe tbody tr th {\n",
              "        vertical-align: top;\n",
              "    }\n",
              "\n",
              "    .dataframe thead th {\n",
              "        text-align: right;\n",
              "    }\n",
              "</style>\n",
              "<table border=\"1\" class=\"dataframe\">\n",
              "  <thead>\n",
              "    <tr style=\"text-align: right;\">\n",
              "      <th></th>\n",
              "      <th>novo_user_id</th>\n",
              "      <th>city</th>\n",
              "      <th>country</th>\n",
              "      <th>device</th>\n",
              "      <th>device_type</th>\n",
              "      <th>os</th>\n",
              "      <th>platform</th>\n",
              "      <th>region</th>\n",
              "      <th>gp:carrers</th>\n",
              "      <th>gp:college type</th>\n",
              "      <th>...</th>\n",
              "      <th>institute_id</th>\n",
              "      <th>knowledge_area_id</th>\n",
              "      <th>modality_id</th>\n",
              "      <th>nullified</th>\n",
              "      <th>outdated</th>\n",
              "      <th>product_id</th>\n",
              "      <th>publication_year</th>\n",
              "      <th>right_answer</th>\n",
              "      <th>scholarity_id</th>\n",
              "      <th>novo_question_id</th>\n",
              "    </tr>\n",
              "  </thead>\n",
              "  <tbody>\n",
              "    <tr>\n",
              "      <th>0</th>\n",
              "      <td>1</td>\n",
              "      <td>Rio de Janeiro</td>\n",
              "      <td>Brazil</td>\n",
              "      <td>Apple iPhone</td>\n",
              "      <td>Apple iPhone 11 Pro Max</td>\n",
              "      <td>ios 15.4.1</td>\n",
              "      <td>iOS</td>\n",
              "      <td>Rio de Janeiro</td>\n",
              "      <td>Tribunal, Administrativa</td>\n",
              "      <td>NaN</td>\n",
              "      <td>...</td>\n",
              "      <td>6289.0</td>\n",
              "      <td>13.0</td>\n",
              "      <td>1.0</td>\n",
              "      <td>0.0</td>\n",
              "      <td>0.0</td>\n",
              "      <td>1.0</td>\n",
              "      <td>2021.0</td>\n",
              "      <td>B</td>\n",
              "      <td>3.0</td>\n",
              "      <td>484766</td>\n",
              "    </tr>\n",
              "    <tr>\n",
              "      <th>1</th>\n",
              "      <td>2</td>\n",
              "      <td>São Paulo</td>\n",
              "      <td>Brazil</td>\n",
              "      <td>Windows</td>\n",
              "      <td>Windows</td>\n",
              "      <td>Chrome 104</td>\n",
              "      <td>Web</td>\n",
              "      <td>Sao Paulo</td>\n",
              "      <td>Tribunal</td>\n",
              "      <td>NaN</td>\n",
              "      <td>...</td>\n",
              "      <td>2994.0</td>\n",
              "      <td>53.0</td>\n",
              "      <td>1.0</td>\n",
              "      <td>0.0</td>\n",
              "      <td>0.0</td>\n",
              "      <td>1.0</td>\n",
              "      <td>2016.0</td>\n",
              "      <td>C</td>\n",
              "      <td>3.0</td>\n",
              "      <td>159545</td>\n",
              "    </tr>\n",
              "    <tr>\n",
              "      <th>2</th>\n",
              "      <td>3</td>\n",
              "      <td>NaN</td>\n",
              "      <td>Brazil</td>\n",
              "      <td>Apple iPhone</td>\n",
              "      <td>Apple iPhone 11</td>\n",
              "      <td>ios 15.5</td>\n",
              "      <td>iOS</td>\n",
              "      <td>Minas Gerais</td>\n",
              "      <td>Controle e Gestão, Outras, Administrativa</td>\n",
              "      <td>NaN</td>\n",
              "      <td>...</td>\n",
              "      <td>20.0</td>\n",
              "      <td>14.0</td>\n",
              "      <td>1.0</td>\n",
              "      <td>0.0</td>\n",
              "      <td>0.0</td>\n",
              "      <td>1.0</td>\n",
              "      <td>2017.0</td>\n",
              "      <td>C</td>\n",
              "      <td>3.0</td>\n",
              "      <td>233145</td>\n",
              "    </tr>\n",
              "    <tr>\n",
              "      <th>3</th>\n",
              "      <td>4</td>\n",
              "      <td>Recife</td>\n",
              "      <td>Brazil</td>\n",
              "      <td>Windows</td>\n",
              "      <td>Windows</td>\n",
              "      <td>Chrome 104</td>\n",
              "      <td>Web</td>\n",
              "      <td>Pernambuco</td>\n",
              "      <td>Fiscal, Tribunal, Policial, Legislativa, Jurídica</td>\n",
              "      <td>NaN</td>\n",
              "      <td>...</td>\n",
              "      <td>36.0</td>\n",
              "      <td>9.0</td>\n",
              "      <td>2.0</td>\n",
              "      <td>0.0</td>\n",
              "      <td>0.0</td>\n",
              "      <td>1.0</td>\n",
              "      <td>2014.0</td>\n",
              "      <td>C</td>\n",
              "      <td>3.0</td>\n",
              "      <td>108082</td>\n",
              "    </tr>\n",
              "    <tr>\n",
              "      <th>4</th>\n",
              "      <td>5</td>\n",
              "      <td>Brasília</td>\n",
              "      <td>Brazil</td>\n",
              "      <td>Windows</td>\n",
              "      <td>Windows</td>\n",
              "      <td>Chrome 99</td>\n",
              "      <td>Web</td>\n",
              "      <td>Federal District</td>\n",
              "      <td>Bancária</td>\n",
              "      <td>NaN</td>\n",
              "      <td>...</td>\n",
              "      <td>6001.0</td>\n",
              "      <td>13.0</td>\n",
              "      <td>1.0</td>\n",
              "      <td>0.0</td>\n",
              "      <td>0.0</td>\n",
              "      <td>1.0</td>\n",
              "      <td>2015.0</td>\n",
              "      <td>A</td>\n",
              "      <td>3.0</td>\n",
              "      <td>151695</td>\n",
              "    </tr>\n",
              "  </tbody>\n",
              "</table>\n",
              "<p>5 rows × 32 columns</p>\n",
              "</div>\n",
              "      <button class=\"colab-df-convert\" onclick=\"convertToInteractive('df-18444239-2f9b-47eb-821c-09a70a58e635')\"\n",
              "              title=\"Convert this dataframe to an interactive table.\"\n",
              "              style=\"display:none;\">\n",
              "        \n",
              "  <svg xmlns=\"http://www.w3.org/2000/svg\" height=\"24px\"viewBox=\"0 0 24 24\"\n",
              "       width=\"24px\">\n",
              "    <path d=\"M0 0h24v24H0V0z\" fill=\"none\"/>\n",
              "    <path d=\"M18.56 5.44l.94 2.06.94-2.06 2.06-.94-2.06-.94-.94-2.06-.94 2.06-2.06.94zm-11 1L8.5 8.5l.94-2.06 2.06-.94-2.06-.94L8.5 2.5l-.94 2.06-2.06.94zm10 10l.94 2.06.94-2.06 2.06-.94-2.06-.94-.94-2.06-.94 2.06-2.06.94z\"/><path d=\"M17.41 7.96l-1.37-1.37c-.4-.4-.92-.59-1.43-.59-.52 0-1.04.2-1.43.59L10.3 9.45l-7.72 7.72c-.78.78-.78 2.05 0 2.83L4 21.41c.39.39.9.59 1.41.59.51 0 1.02-.2 1.41-.59l7.78-7.78 2.81-2.81c.8-.78.8-2.07 0-2.86zM5.41 20L4 18.59l7.72-7.72 1.47 1.35L5.41 20z\"/>\n",
              "  </svg>\n",
              "      </button>\n",
              "      \n",
              "  <style>\n",
              "    .colab-df-container {\n",
              "      display:flex;\n",
              "      flex-wrap:wrap;\n",
              "      gap: 12px;\n",
              "    }\n",
              "\n",
              "    .colab-df-convert {\n",
              "      background-color: #E8F0FE;\n",
              "      border: none;\n",
              "      border-radius: 50%;\n",
              "      cursor: pointer;\n",
              "      display: none;\n",
              "      fill: #1967D2;\n",
              "      height: 32px;\n",
              "      padding: 0 0 0 0;\n",
              "      width: 32px;\n",
              "    }\n",
              "\n",
              "    .colab-df-convert:hover {\n",
              "      background-color: #E2EBFA;\n",
              "      box-shadow: 0px 1px 2px rgba(60, 64, 67, 0.3), 0px 1px 3px 1px rgba(60, 64, 67, 0.15);\n",
              "      fill: #174EA6;\n",
              "    }\n",
              "\n",
              "    [theme=dark] .colab-df-convert {\n",
              "      background-color: #3B4455;\n",
              "      fill: #D2E3FC;\n",
              "    }\n",
              "\n",
              "    [theme=dark] .colab-df-convert:hover {\n",
              "      background-color: #434B5C;\n",
              "      box-shadow: 0px 1px 3px 1px rgba(0, 0, 0, 0.15);\n",
              "      filter: drop-shadow(0px 1px 2px rgba(0, 0, 0, 0.3));\n",
              "      fill: #FFFFFF;\n",
              "    }\n",
              "  </style>\n",
              "\n",
              "      <script>\n",
              "        const buttonEl =\n",
              "          document.querySelector('#df-18444239-2f9b-47eb-821c-09a70a58e635 button.colab-df-convert');\n",
              "        buttonEl.style.display =\n",
              "          google.colab.kernel.accessAllowed ? 'block' : 'none';\n",
              "\n",
              "        async function convertToInteractive(key) {\n",
              "          const element = document.querySelector('#df-18444239-2f9b-47eb-821c-09a70a58e635');\n",
              "          const dataTable =\n",
              "            await google.colab.kernel.invokeFunction('convertToInteractive',\n",
              "                                                     [key], {});\n",
              "          if (!dataTable) return;\n",
              "\n",
              "          const docLinkHtml = 'Like what you see? Visit the ' +\n",
              "            '<a target=\"_blank\" href=https://colab.research.google.com/notebooks/data_table.ipynb>data table notebook</a>'\n",
              "            + ' to learn more about interactive tables.';\n",
              "          element.innerHTML = '';\n",
              "          dataTable['output_type'] = 'display_data';\n",
              "          await google.colab.output.renderOutput(dataTable, element);\n",
              "          const docLink = document.createElement('div');\n",
              "          docLink.innerHTML = docLinkHtml;\n",
              "          element.appendChild(docLink);\n",
              "        }\n",
              "      </script>\n",
              "    </div>\n",
              "  </div>\n",
              "  "
            ]
          },
          "metadata": {},
          "execution_count": 22
        }
      ]
    },
    {
      "cell_type": "code",
      "source": [
        "df_model.head(3)"
      ],
      "metadata": {
        "colab": {
          "base_uri": "https://localhost:8080/",
          "height": 306
        },
        "id": "ApwYdYg4E2mw",
        "outputId": "59da94e8-c04b-4b7c-94d6-544b5d6ef0cc"
      },
      "execution_count": 4,
      "outputs": [
        {
          "output_type": "execute_result",
          "data": {
            "text/plain": [
              "   novo_user_id            city country        device  \\\n",
              "0             1  Rio de Janeiro  Brazil  Apple iPhone   \n",
              "1             1  Rio de Janeiro  Brazil  Apple iPhone   \n",
              "2             1  Rio de Janeiro  Brazil  Apple iPhone   \n",
              "\n",
              "               device_type          os platform          region  \\\n",
              "0  Apple iPhone 11 Pro Max  ios 15.4.1      iOS  Rio de Janeiro   \n",
              "1  Apple iPhone 11 Pro Max  ios 15.4.1      iOS  Rio de Janeiro   \n",
              "2  Apple iPhone 11 Pro Max  ios 15.4.1      iOS  Rio de Janeiro   \n",
              "\n",
              "                 gp:carrers gp:college type  ... institute_id  \\\n",
              "0  Tribunal, Administrativa             NaN  ...       4126.0   \n",
              "1  Tribunal, Administrativa             NaN  ...       4126.0   \n",
              "2  Tribunal, Administrativa             NaN  ...       4126.0   \n",
              "\n",
              "  knowledge_area_id modality_id nullified outdated  product_id  \\\n",
              "0              13.0         1.0       0.0      0.0         1.0   \n",
              "1              13.0         1.0       0.0      0.0         1.0   \n",
              "2              13.0         1.0       0.0      0.0         1.0   \n",
              "\n",
              "  publication_year  right_answer  scholarity_id  novo_question_id  \n",
              "0           2022.0             A            2.0            489400  \n",
              "1           2022.0             C            2.0            489399  \n",
              "2           2022.0             D            2.0            489398  \n",
              "\n",
              "[3 rows x 32 columns]"
            ],
            "text/html": [
              "\n",
              "  <div id=\"df-10adcbf0-c346-458a-a7ec-769c7905d04d\">\n",
              "    <div class=\"colab-df-container\">\n",
              "      <div>\n",
              "<style scoped>\n",
              "    .dataframe tbody tr th:only-of-type {\n",
              "        vertical-align: middle;\n",
              "    }\n",
              "\n",
              "    .dataframe tbody tr th {\n",
              "        vertical-align: top;\n",
              "    }\n",
              "\n",
              "    .dataframe thead th {\n",
              "        text-align: right;\n",
              "    }\n",
              "</style>\n",
              "<table border=\"1\" class=\"dataframe\">\n",
              "  <thead>\n",
              "    <tr style=\"text-align: right;\">\n",
              "      <th></th>\n",
              "      <th>novo_user_id</th>\n",
              "      <th>city</th>\n",
              "      <th>country</th>\n",
              "      <th>device</th>\n",
              "      <th>device_type</th>\n",
              "      <th>os</th>\n",
              "      <th>platform</th>\n",
              "      <th>region</th>\n",
              "      <th>gp:carrers</th>\n",
              "      <th>gp:college type</th>\n",
              "      <th>...</th>\n",
              "      <th>institute_id</th>\n",
              "      <th>knowledge_area_id</th>\n",
              "      <th>modality_id</th>\n",
              "      <th>nullified</th>\n",
              "      <th>outdated</th>\n",
              "      <th>product_id</th>\n",
              "      <th>publication_year</th>\n",
              "      <th>right_answer</th>\n",
              "      <th>scholarity_id</th>\n",
              "      <th>novo_question_id</th>\n",
              "    </tr>\n",
              "  </thead>\n",
              "  <tbody>\n",
              "    <tr>\n",
              "      <th>0</th>\n",
              "      <td>1</td>\n",
              "      <td>Rio de Janeiro</td>\n",
              "      <td>Brazil</td>\n",
              "      <td>Apple iPhone</td>\n",
              "      <td>Apple iPhone 11 Pro Max</td>\n",
              "      <td>ios 15.4.1</td>\n",
              "      <td>iOS</td>\n",
              "      <td>Rio de Janeiro</td>\n",
              "      <td>Tribunal, Administrativa</td>\n",
              "      <td>NaN</td>\n",
              "      <td>...</td>\n",
              "      <td>4126.0</td>\n",
              "      <td>13.0</td>\n",
              "      <td>1.0</td>\n",
              "      <td>0.0</td>\n",
              "      <td>0.0</td>\n",
              "      <td>1.0</td>\n",
              "      <td>2022.0</td>\n",
              "      <td>A</td>\n",
              "      <td>2.0</td>\n",
              "      <td>489400</td>\n",
              "    </tr>\n",
              "    <tr>\n",
              "      <th>1</th>\n",
              "      <td>1</td>\n",
              "      <td>Rio de Janeiro</td>\n",
              "      <td>Brazil</td>\n",
              "      <td>Apple iPhone</td>\n",
              "      <td>Apple iPhone 11 Pro Max</td>\n",
              "      <td>ios 15.4.1</td>\n",
              "      <td>iOS</td>\n",
              "      <td>Rio de Janeiro</td>\n",
              "      <td>Tribunal, Administrativa</td>\n",
              "      <td>NaN</td>\n",
              "      <td>...</td>\n",
              "      <td>4126.0</td>\n",
              "      <td>13.0</td>\n",
              "      <td>1.0</td>\n",
              "      <td>0.0</td>\n",
              "      <td>0.0</td>\n",
              "      <td>1.0</td>\n",
              "      <td>2022.0</td>\n",
              "      <td>C</td>\n",
              "      <td>2.0</td>\n",
              "      <td>489399</td>\n",
              "    </tr>\n",
              "    <tr>\n",
              "      <th>2</th>\n",
              "      <td>1</td>\n",
              "      <td>Rio de Janeiro</td>\n",
              "      <td>Brazil</td>\n",
              "      <td>Apple iPhone</td>\n",
              "      <td>Apple iPhone 11 Pro Max</td>\n",
              "      <td>ios 15.4.1</td>\n",
              "      <td>iOS</td>\n",
              "      <td>Rio de Janeiro</td>\n",
              "      <td>Tribunal, Administrativa</td>\n",
              "      <td>NaN</td>\n",
              "      <td>...</td>\n",
              "      <td>4126.0</td>\n",
              "      <td>13.0</td>\n",
              "      <td>1.0</td>\n",
              "      <td>0.0</td>\n",
              "      <td>0.0</td>\n",
              "      <td>1.0</td>\n",
              "      <td>2022.0</td>\n",
              "      <td>D</td>\n",
              "      <td>2.0</td>\n",
              "      <td>489398</td>\n",
              "    </tr>\n",
              "  </tbody>\n",
              "</table>\n",
              "<p>3 rows × 32 columns</p>\n",
              "</div>\n",
              "      <button class=\"colab-df-convert\" onclick=\"convertToInteractive('df-10adcbf0-c346-458a-a7ec-769c7905d04d')\"\n",
              "              title=\"Convert this dataframe to an interactive table.\"\n",
              "              style=\"display:none;\">\n",
              "        \n",
              "  <svg xmlns=\"http://www.w3.org/2000/svg\" height=\"24px\"viewBox=\"0 0 24 24\"\n",
              "       width=\"24px\">\n",
              "    <path d=\"M0 0h24v24H0V0z\" fill=\"none\"/>\n",
              "    <path d=\"M18.56 5.44l.94 2.06.94-2.06 2.06-.94-2.06-.94-.94-2.06-.94 2.06-2.06.94zm-11 1L8.5 8.5l.94-2.06 2.06-.94-2.06-.94L8.5 2.5l-.94 2.06-2.06.94zm10 10l.94 2.06.94-2.06 2.06-.94-2.06-.94-.94-2.06-.94 2.06-2.06.94z\"/><path d=\"M17.41 7.96l-1.37-1.37c-.4-.4-.92-.59-1.43-.59-.52 0-1.04.2-1.43.59L10.3 9.45l-7.72 7.72c-.78.78-.78 2.05 0 2.83L4 21.41c.39.39.9.59 1.41.59.51 0 1.02-.2 1.41-.59l7.78-7.78 2.81-2.81c.8-.78.8-2.07 0-2.86zM5.41 20L4 18.59l7.72-7.72 1.47 1.35L5.41 20z\"/>\n",
              "  </svg>\n",
              "      </button>\n",
              "      \n",
              "  <style>\n",
              "    .colab-df-container {\n",
              "      display:flex;\n",
              "      flex-wrap:wrap;\n",
              "      gap: 12px;\n",
              "    }\n",
              "\n",
              "    .colab-df-convert {\n",
              "      background-color: #E8F0FE;\n",
              "      border: none;\n",
              "      border-radius: 50%;\n",
              "      cursor: pointer;\n",
              "      display: none;\n",
              "      fill: #1967D2;\n",
              "      height: 32px;\n",
              "      padding: 0 0 0 0;\n",
              "      width: 32px;\n",
              "    }\n",
              "\n",
              "    .colab-df-convert:hover {\n",
              "      background-color: #E2EBFA;\n",
              "      box-shadow: 0px 1px 2px rgba(60, 64, 67, 0.3), 0px 1px 3px 1px rgba(60, 64, 67, 0.15);\n",
              "      fill: #174EA6;\n",
              "    }\n",
              "\n",
              "    [theme=dark] .colab-df-convert {\n",
              "      background-color: #3B4455;\n",
              "      fill: #D2E3FC;\n",
              "    }\n",
              "\n",
              "    [theme=dark] .colab-df-convert:hover {\n",
              "      background-color: #434B5C;\n",
              "      box-shadow: 0px 1px 3px 1px rgba(0, 0, 0, 0.15);\n",
              "      filter: drop-shadow(0px 1px 2px rgba(0, 0, 0, 0.3));\n",
              "      fill: #FFFFFF;\n",
              "    }\n",
              "  </style>\n",
              "\n",
              "      <script>\n",
              "        const buttonEl =\n",
              "          document.querySelector('#df-10adcbf0-c346-458a-a7ec-769c7905d04d button.colab-df-convert');\n",
              "        buttonEl.style.display =\n",
              "          google.colab.kernel.accessAllowed ? 'block' : 'none';\n",
              "\n",
              "        async function convertToInteractive(key) {\n",
              "          const element = document.querySelector('#df-10adcbf0-c346-458a-a7ec-769c7905d04d');\n",
              "          const dataTable =\n",
              "            await google.colab.kernel.invokeFunction('convertToInteractive',\n",
              "                                                     [key], {});\n",
              "          if (!dataTable) return;\n",
              "\n",
              "          const docLinkHtml = 'Like what you see? Visit the ' +\n",
              "            '<a target=\"_blank\" href=https://colab.research.google.com/notebooks/data_table.ipynb>data table notebook</a>'\n",
              "            + ' to learn more about interactive tables.';\n",
              "          element.innerHTML = '';\n",
              "          dataTable['output_type'] = 'display_data';\n",
              "          await google.colab.output.renderOutput(dataTable, element);\n",
              "          const docLink = document.createElement('div');\n",
              "          docLink.innerHTML = docLinkHtml;\n",
              "          element.appendChild(docLink);\n",
              "        }\n",
              "      </script>\n",
              "    </div>\n",
              "  </div>\n",
              "  "
            ]
          },
          "metadata": {},
          "execution_count": 4
        }
      ]
    },
    {
      "cell_type": "code",
      "source": [
        "df_sub_question.head(3)"
      ],
      "metadata": {
        "colab": {
          "base_uri": "https://localhost:8080/",
          "height": 143
        },
        "id": "vs1KABgnFTT7",
        "outputId": "d7715af3-be19-4e89-f31f-12dda9937a64"
      },
      "execution_count": 5,
      "outputs": [
        {
          "output_type": "execute_result",
          "data": {
            "text/plain": [
              "   subject_id  novo_question_id\n",
              "0     14655.0                15\n",
              "1     19271.0                15\n",
              "2     14655.0                16"
            ],
            "text/html": [
              "\n",
              "  <div id=\"df-b05eb5c8-6d5e-497a-8a2e-3343b36c19aa\">\n",
              "    <div class=\"colab-df-container\">\n",
              "      <div>\n",
              "<style scoped>\n",
              "    .dataframe tbody tr th:only-of-type {\n",
              "        vertical-align: middle;\n",
              "    }\n",
              "\n",
              "    .dataframe tbody tr th {\n",
              "        vertical-align: top;\n",
              "    }\n",
              "\n",
              "    .dataframe thead th {\n",
              "        text-align: right;\n",
              "    }\n",
              "</style>\n",
              "<table border=\"1\" class=\"dataframe\">\n",
              "  <thead>\n",
              "    <tr style=\"text-align: right;\">\n",
              "      <th></th>\n",
              "      <th>subject_id</th>\n",
              "      <th>novo_question_id</th>\n",
              "    </tr>\n",
              "  </thead>\n",
              "  <tbody>\n",
              "    <tr>\n",
              "      <th>0</th>\n",
              "      <td>14655.0</td>\n",
              "      <td>15</td>\n",
              "    </tr>\n",
              "    <tr>\n",
              "      <th>1</th>\n",
              "      <td>19271.0</td>\n",
              "      <td>15</td>\n",
              "    </tr>\n",
              "    <tr>\n",
              "      <th>2</th>\n",
              "      <td>14655.0</td>\n",
              "      <td>16</td>\n",
              "    </tr>\n",
              "  </tbody>\n",
              "</table>\n",
              "</div>\n",
              "      <button class=\"colab-df-convert\" onclick=\"convertToInteractive('df-b05eb5c8-6d5e-497a-8a2e-3343b36c19aa')\"\n",
              "              title=\"Convert this dataframe to an interactive table.\"\n",
              "              style=\"display:none;\">\n",
              "        \n",
              "  <svg xmlns=\"http://www.w3.org/2000/svg\" height=\"24px\"viewBox=\"0 0 24 24\"\n",
              "       width=\"24px\">\n",
              "    <path d=\"M0 0h24v24H0V0z\" fill=\"none\"/>\n",
              "    <path d=\"M18.56 5.44l.94 2.06.94-2.06 2.06-.94-2.06-.94-.94-2.06-.94 2.06-2.06.94zm-11 1L8.5 8.5l.94-2.06 2.06-.94-2.06-.94L8.5 2.5l-.94 2.06-2.06.94zm10 10l.94 2.06.94-2.06 2.06-.94-2.06-.94-.94-2.06-.94 2.06-2.06.94z\"/><path d=\"M17.41 7.96l-1.37-1.37c-.4-.4-.92-.59-1.43-.59-.52 0-1.04.2-1.43.59L10.3 9.45l-7.72 7.72c-.78.78-.78 2.05 0 2.83L4 21.41c.39.39.9.59 1.41.59.51 0 1.02-.2 1.41-.59l7.78-7.78 2.81-2.81c.8-.78.8-2.07 0-2.86zM5.41 20L4 18.59l7.72-7.72 1.47 1.35L5.41 20z\"/>\n",
              "  </svg>\n",
              "      </button>\n",
              "      \n",
              "  <style>\n",
              "    .colab-df-container {\n",
              "      display:flex;\n",
              "      flex-wrap:wrap;\n",
              "      gap: 12px;\n",
              "    }\n",
              "\n",
              "    .colab-df-convert {\n",
              "      background-color: #E8F0FE;\n",
              "      border: none;\n",
              "      border-radius: 50%;\n",
              "      cursor: pointer;\n",
              "      display: none;\n",
              "      fill: #1967D2;\n",
              "      height: 32px;\n",
              "      padding: 0 0 0 0;\n",
              "      width: 32px;\n",
              "    }\n",
              "\n",
              "    .colab-df-convert:hover {\n",
              "      background-color: #E2EBFA;\n",
              "      box-shadow: 0px 1px 2px rgba(60, 64, 67, 0.3), 0px 1px 3px 1px rgba(60, 64, 67, 0.15);\n",
              "      fill: #174EA6;\n",
              "    }\n",
              "\n",
              "    [theme=dark] .colab-df-convert {\n",
              "      background-color: #3B4455;\n",
              "      fill: #D2E3FC;\n",
              "    }\n",
              "\n",
              "    [theme=dark] .colab-df-convert:hover {\n",
              "      background-color: #434B5C;\n",
              "      box-shadow: 0px 1px 3px 1px rgba(0, 0, 0, 0.15);\n",
              "      filter: drop-shadow(0px 1px 2px rgba(0, 0, 0, 0.3));\n",
              "      fill: #FFFFFF;\n",
              "    }\n",
              "  </style>\n",
              "\n",
              "      <script>\n",
              "        const buttonEl =\n",
              "          document.querySelector('#df-b05eb5c8-6d5e-497a-8a2e-3343b36c19aa button.colab-df-convert');\n",
              "        buttonEl.style.display =\n",
              "          google.colab.kernel.accessAllowed ? 'block' : 'none';\n",
              "\n",
              "        async function convertToInteractive(key) {\n",
              "          const element = document.querySelector('#df-b05eb5c8-6d5e-497a-8a2e-3343b36c19aa');\n",
              "          const dataTable =\n",
              "            await google.colab.kernel.invokeFunction('convertToInteractive',\n",
              "                                                     [key], {});\n",
              "          if (!dataTable) return;\n",
              "\n",
              "          const docLinkHtml = 'Like what you see? Visit the ' +\n",
              "            '<a target=\"_blank\" href=https://colab.research.google.com/notebooks/data_table.ipynb>data table notebook</a>'\n",
              "            + ' to learn more about interactive tables.';\n",
              "          element.innerHTML = '';\n",
              "          dataTable['output_type'] = 'display_data';\n",
              "          await google.colab.output.renderOutput(dataTable, element);\n",
              "          const docLink = document.createElement('div');\n",
              "          docLink.innerHTML = docLinkHtml;\n",
              "          element.appendChild(docLink);\n",
              "        }\n",
              "      </script>\n",
              "    </div>\n",
              "  </div>\n",
              "  "
            ]
          },
          "metadata": {},
          "execution_count": 5
        }
      ]
    },
    {
      "cell_type": "markdown",
      "source": [
        "## 01 - Data Analysis"
      ],
      "metadata": {
        "id": "0MP0jDKUIKjG"
      }
    },
    {
      "cell_type": "code",
      "source": [
        "#Target\n",
        "df_model['acertou']"
      ],
      "metadata": {
        "id": "BKXMG80HIQDC",
        "outputId": "86a69092-a204-438b-ca51-bbeac40c4f04",
        "colab": {
          "base_uri": "https://localhost:8080/"
        }
      },
      "execution_count": 6,
      "outputs": [
        {
          "output_type": "execute_result",
          "data": {
            "text/plain": [
              "0          0\n",
              "1          0\n",
              "2          1\n",
              "3          0\n",
              "4          1\n",
              "          ..\n",
              "1999995    1\n",
              "1999996    1\n",
              "1999997    0\n",
              "1999998    0\n",
              "1999999    0\n",
              "Name: acertou, Length: 2000000, dtype: int64"
            ]
          },
          "metadata": {},
          "execution_count": 6
        }
      ]
    },
    {
      "cell_type": "code",
      "source": [
        "#verificando o tipo das variaveis\n",
        "df_model.dtypes"
      ],
      "metadata": {
        "id": "H79dBC_NykSL",
        "outputId": "2b666dfe-7aa9-42dd-aacf-dac53398df08",
        "colab": {
          "base_uri": "https://localhost:8080/"
        }
      },
      "execution_count": 7,
      "outputs": [
        {
          "output_type": "execute_result",
          "data": {
            "text/plain": [
              "novo_user_id                int64\n",
              "city                       object\n",
              "country                    object\n",
              "device                     object\n",
              "device_type                object\n",
              "os                         object\n",
              "platform                   object\n",
              "region                     object\n",
              "gp:carrers                 object\n",
              "gp:college type            object\n",
              "gp:degree course           object\n",
              "gp:previous experience     object\n",
              "gp:school type             object\n",
              "gp:segment                 object\n",
              "gp:source_project          object\n",
              "acertou                     int64\n",
              "created_at                 object\n",
              "row                         int64\n",
              "commented_by_professor    float64\n",
              "difficulty                float64\n",
              "discipline_id             float64\n",
              "examining_board_id        float64\n",
              "institute_id              float64\n",
              "knowledge_area_id         float64\n",
              "modality_id               float64\n",
              "nullified                 float64\n",
              "outdated                  float64\n",
              "product_id                float64\n",
              "publication_year          float64\n",
              "right_answer               object\n",
              "scholarity_id             float64\n",
              "novo_question_id            int64\n",
              "dtype: object"
            ]
          },
          "metadata": {},
          "execution_count": 7
        }
      ]
    },
    {
      "cell_type": "markdown",
      "source": [
        "## 02 - Exploration Data"
      ],
      "metadata": {
        "id": "RawI2rxDIQh5"
      }
    },
    {
      "cell_type": "code",
      "source": [
        "#verificando se a base está desbalanceada\n",
        "round(df_model['acertou'].value_counts()/df_model['acertou'].shape[0],2)"
      ],
      "metadata": {
        "id": "eQzxZIeaISfh",
        "outputId": "b9e319ff-d438-416b-a497-692e783602ae",
        "colab": {
          "base_uri": "https://localhost:8080/"
        }
      },
      "execution_count": 31,
      "outputs": [
        {
          "output_type": "execute_result",
          "data": {
            "text/plain": [
              "1    0.65\n",
              "0    0.35\n",
              "Name: acertou, dtype: float64"
            ]
          },
          "metadata": {},
          "execution_count": 31
        }
      ]
    },
    {
      "cell_type": "code",
      "source": [
        "#Verificando se há dados em branco\n",
        "round(df_model.isnull().sum()/df_model.shape[0],4)*100"
      ],
      "metadata": {
        "id": "XV1nVHEK0rvR",
        "outputId": "b65304ac-20bc-4a17-f16f-aab9aaba8136",
        "colab": {
          "base_uri": "https://localhost:8080/"
        }
      },
      "execution_count": 45,
      "outputs": [
        {
          "output_type": "execute_result",
          "data": {
            "text/plain": [
              "novo_user_id               0.00\n",
              "city                       7.12\n",
              "country                    0.66\n",
              "device                     3.58\n",
              "device_type                8.16\n",
              "os                         0.66\n",
              "platform                   0.66\n",
              "region                     0.68\n",
              "gp:carrers                 5.84\n",
              "gp:college type           99.88\n",
              "gp:degree course          99.88\n",
              "gp:previous experience    52.61\n",
              "gp:school type            99.88\n",
              "gp:segment                 1.76\n",
              "gp:source_project          1.90\n",
              "acertou                    0.00\n",
              "created_at                 0.00\n",
              "row                        0.00\n",
              "commented_by_professor     0.01\n",
              "difficulty                 0.13\n",
              "discipline_id              0.01\n",
              "examining_board_id         0.01\n",
              "institute_id               0.01\n",
              "knowledge_area_id          0.01\n",
              "modality_id                0.01\n",
              "nullified                  0.01\n",
              "outdated                   0.01\n",
              "product_id                 0.01\n",
              "publication_year           0.01\n",
              "right_answer               0.01\n",
              "scholarity_id              0.01\n",
              "novo_question_id           0.00\n",
              "dtype: float64"
            ]
          },
          "metadata": {},
          "execution_count": 45
        }
      ]
    },
    {
      "cell_type": "markdown",
      "source": [
        "### Analisando as features\n",
        "\n",
        "- Primeiramente analisaremos as features que são do tipo: Object\n",
        "\n",
        "1. city\n",
        "2. country\n",
        "3. device\n",
        "4. device_type\n",
        "5. os\n",
        "6. platform\n",
        "7. region\n",
        "8. gp:carrers\n",
        "9. gp:college type\n",
        "10. gp:degree course\n",
        "11. gp:previous experience\n",
        "12. gp:school type\n",
        "13. gp:segment\n",
        "14. gp:source_project"
      ],
      "metadata": {
        "id": "4d5eOoOr8kAz"
      }
    },
    {
      "cell_type": "markdown",
      "source": [
        "City"
      ],
      "metadata": {
        "id": "kiTnF-Gn9zfT"
      }
    },
    {
      "cell_type": "code",
      "source": [
        "df_model['city'].nunique()"
      ],
      "metadata": {
        "id": "fABMdCjf7d_E",
        "outputId": "e7d65714-1cc1-41f0-aecb-fba5ce3ab447",
        "colab": {
          "base_uri": "https://localhost:8080/"
        }
      },
      "execution_count": 35,
      "outputs": [
        {
          "output_type": "execute_result",
          "data": {
            "text/plain": [
              "1799"
            ]
          },
          "metadata": {},
          "execution_count": 35
        }
      ]
    },
    {
      "cell_type": "code",
      "source": [
        "df_model['city'].value_counts().head()"
      ],
      "metadata": {
        "id": "zOPfWC1x9i8Y",
        "outputId": "76ba9887-dc69-4ef2-e4b7-290d599f85fe",
        "colab": {
          "base_uri": "https://localhost:8080/"
        }
      },
      "execution_count": 37,
      "outputs": [
        {
          "output_type": "execute_result",
          "data": {
            "text/plain": [
              "Brasília          167300\n",
              "Rio de Janeiro    112100\n",
              "São Paulo         108100\n",
              "Fortaleza          69300\n",
              "Manaus             50000\n",
              "Name: city, dtype: int64"
            ]
          },
          "metadata": {},
          "execution_count": 37
        }
      ]
    },
    {
      "cell_type": "code",
      "source": [
        "df_model['city'].isnull().sum()"
      ],
      "metadata": {
        "id": "VFj8sBcM9wtR",
        "outputId": "e4f59a67-2963-44a2-8ffc-6cf9d1dc657d",
        "colab": {
          "base_uri": "https://localhost:8080/"
        }
      },
      "execution_count": 38,
      "outputs": [
        {
          "output_type": "execute_result",
          "data": {
            "text/plain": [
              "142400"
            ]
          },
          "metadata": {},
          "execution_count": 38
        }
      ]
    },
    {
      "cell_type": "markdown",
      "source": [
        "Region"
      ],
      "metadata": {
        "id": "QULMOEIk-Zok"
      }
    },
    {
      "cell_type": "code",
      "source": [
        "df_model['region'].nunique()"
      ],
      "metadata": {
        "id": "x-6psPUm-ZLe",
        "outputId": "b4f197cf-bc6d-4c05-9ba6-0befb1502760",
        "colab": {
          "base_uri": "https://localhost:8080/"
        }
      },
      "execution_count": 39,
      "outputs": [
        {
          "output_type": "execute_result",
          "data": {
            "text/plain": [
              "50"
            ]
          },
          "metadata": {},
          "execution_count": 39
        }
      ]
    },
    {
      "cell_type": "code",
      "source": [
        "df_model['region'].value_counts().head()"
      ],
      "metadata": {
        "id": "WXLuMPK1-dpA",
        "outputId": "4e4f7e7d-7dd6-4422-b898-01c1aa0da6d4",
        "colab": {
          "base_uri": "https://localhost:8080/"
        }
      },
      "execution_count": 40,
      "outputs": [
        {
          "output_type": "execute_result",
          "data": {
            "text/plain": [
              "Sao Paulo           251700\n",
              "Rio de Janeiro      204200\n",
              "Federal District    179900\n",
              "Minas Gerais        154100\n",
              "Ceara               120100\n",
              "Name: region, dtype: int64"
            ]
          },
          "metadata": {},
          "execution_count": 40
        }
      ]
    },
    {
      "cell_type": "code",
      "source": [
        "df_model['region'].isnull().sum()"
      ],
      "metadata": {
        "id": "h3b8-EcA-ioF",
        "outputId": "a1bce5d6-ea81-4cdb-b2de-46b455883bf0",
        "colab": {
          "base_uri": "https://localhost:8080/"
        }
      },
      "execution_count": 41,
      "outputs": [
        {
          "output_type": "execute_result",
          "data": {
            "text/plain": [
              "13700"
            ]
          },
          "metadata": {},
          "execution_count": 41
        }
      ]
    },
    {
      "cell_type": "markdown",
      "source": [
        "## 03 - Train Model"
      ],
      "metadata": {
        "id": "8LwBcdfbITfy"
      }
    },
    {
      "cell_type": "code",
      "source": [],
      "metadata": {
        "id": "3XlvGlM9ITCu"
      },
      "execution_count": null,
      "outputs": []
    },
    {
      "cell_type": "markdown",
      "source": [
        "## 04 - Predict Model"
      ],
      "metadata": {
        "id": "6k6I_g41IY9A"
      }
    },
    {
      "cell_type": "code",
      "source": [],
      "metadata": {
        "id": "m45UkzaTIYtI"
      },
      "execution_count": null,
      "outputs": []
    }
  ]
}