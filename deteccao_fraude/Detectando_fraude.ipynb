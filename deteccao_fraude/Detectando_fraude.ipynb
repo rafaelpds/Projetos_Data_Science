{
 "cells": [
  {
   "cell_type": "code",
   "execution_count": 4,
   "id": "9d605712-0a34-40f3-ab8d-2c22ddfca608",
   "metadata": {},
   "outputs": [],
   "source": [
    "#bibliotecas matematicas\n",
    "import numpy as np\n",
    "import pandas as pd\n",
    "from scipy import special\n",
    "\n",
    "#loop\n",
    "import itertools\n",
    "from datetime import timedelta\n",
    "from IPython.display import display"
   ]
  },
  {
   "cell_type": "code",
   "execution_count": 7,
   "id": "fa627402-f08c-4e45-a5b8-3f1bda743b60",
   "metadata": {},
   "outputs": [],
   "source": [
    "fraude_df = pd.read_csv('../modelo_fraude/base-de-dados/Fraud_Data.csv', header=0)"
   ]
  },
  {
   "cell_type": "code",
   "execution_count": 9,
   "id": "5d80ffff-2d67-473f-9199-3db0e6af7ac5",
   "metadata": {},
   "outputs": [],
   "source": [
    "isp_df = pd.read_csv('../modelo_fraude/base-de-dados/IpAddress_to_Country.csv', header=0)"
   ]
  },
  {
   "cell_type": "markdown",
   "id": "8648df63-6002-4e87-9db6-6457acdd632d",
   "metadata": {},
   "source": [
    "### Conhecendo os dataframes"
   ]
  },
  {
   "cell_type": "code",
   "execution_count": null,
   "id": "c277a00f-02a0-4e0a-9edb-b80166173db4",
   "metadata": {},
   "outputs": [
    {
     "data": {
      "text/html": [
       "<div>\n",
       "<style scoped>\n",
       "    .dataframe tbody tr th:only-of-type {\n",
       "        vertical-align: middle;\n",
       "    }\n",
       "\n",
       "    .dataframe tbody tr th {\n",
       "        vertical-align: top;\n",
       "    }\n",
       "\n",
       "    .dataframe thead th {\n",
       "        text-align: right;\n",
       "    }\n",
       "</style>\n",
       "<table border=\"1\" class=\"dataframe\">\n",
       "  <thead>\n",
       "    <tr style=\"text-align: right;\">\n",
       "      <th></th>\n",
       "      <th>limite_inferior_ip</th>\n",
       "      <th>limite_superior_ip</th>\n",
       "      <th>pais</th>\n",
       "    </tr>\n",
       "  </thead>\n",
       "  <tbody>\n",
       "    <tr>\n",
       "      <th>0</th>\n",
       "      <td>16777216.0</td>\n",
       "      <td>16777471</td>\n",
       "      <td>Australia</td>\n",
       "    </tr>\n",
       "    <tr>\n",
       "      <th>1</th>\n",
       "      <td>16777472.0</td>\n",
       "      <td>16777727</td>\n",
       "      <td>China</td>\n",
       "    </tr>\n",
       "    <tr>\n",
       "      <th>2</th>\n",
       "      <td>16777728.0</td>\n",
       "      <td>16778239</td>\n",
       "      <td>China</td>\n",
       "    </tr>\n",
       "    <tr>\n",
       "      <th>3</th>\n",
       "      <td>16778240.0</td>\n",
       "      <td>16779263</td>\n",
       "      <td>Australia</td>\n",
       "    </tr>\n",
       "    <tr>\n",
       "      <th>4</th>\n",
       "      <td>16779264.0</td>\n",
       "      <td>16781311</td>\n",
       "      <td>China</td>\n",
       "    </tr>\n",
       "  </tbody>\n",
       "</table>\n",
       "</div>"
      ],
      "text/plain": [
       "   limite_inferior_ip  limite_superior_ip       pais\n",
       "0          16777216.0            16777471  Australia\n",
       "1          16777472.0            16777727      China\n",
       "2          16777728.0            16778239      China\n",
       "3          16778240.0            16779263  Australia\n",
       "4          16779264.0            16781311      China"
      ]
     },
     "execution_count": 19,
     "metadata": {},
     "output_type": "execute_result"
    }
   ],
   "source": [
    "isp_df.head()"
   ]
  },
  {
   "cell_type": "markdown",
   "id": "0ef591a9-e110-46f1-b217-76d33ca5ab58",
   "metadata": {},
   "source": [
    "como o limite_inferior_ip é um float, vou precisar primeiro checar se existe algum ip está como o formato errado e depois converter."
   ]
  },
  {
   "cell_type": "code",
   "execution_count": 23,
   "id": "e7ace8e5-3cc2-49af-9b41-87b54204496c",
   "metadata": {
    "tags": []
   },
   "outputs": [
    {
     "name": "stdout",
     "output_type": "stream",
     "text": [
      "limite_inferior_ip: float64\n",
      "limite_superior_ip: int64\n",
      "pais: object\n"
     ]
    }
   ],
   "source": [
    "for col in isp_df.columns:\n",
    "    print('{}: {}'.format(col, isp_df[col].dtype))"
   ]
  },
  {
   "cell_type": "code",
   "execution_count": 29,
   "id": "9f57071a-ffc6-4fcb-8642-93c8b2b53236",
   "metadata": {},
   "outputs": [
    {
     "name": "stdout",
     "output_type": "stream",
     "text": [
      "Total IP com decimal não zero: 0\n"
     ]
    }
   ],
   "source": [
    "ip_floats = isp_df.limite_inferior_ip.apply(lambda x: not x.is_integer()).sum()\n",
    "print(\"Total IP com decimal não zero: {}\".format(ip_floats))"
   ]
  },
  {
   "cell_type": "code",
   "execution_count": 34,
   "id": "8fb5e30b-7223-40bf-b6ba-7e767d1e3567",
   "metadata": {},
   "outputs": [],
   "source": [
    "isp_df.limite_inferior_ip = isp_df.limite_inferior_ip.astype(int)"
   ]
  },
  {
   "cell_type": "code",
   "execution_count": 35,
   "id": "9a47e026-dca8-4bfb-b920-929a282994be",
   "metadata": {},
   "outputs": [
    {
     "name": "stdout",
     "output_type": "stream",
     "text": [
      "limite_inferior_ip: int32\n",
      "limite_superior_ip: int64\n",
      "pais: object\n"
     ]
    }
   ],
   "source": [
    "for col in isp_df.columns:\n",
    "    print('{}: {}'.format(col, isp_df[col].dtype))"
   ]
  },
  {
   "cell_type": "markdown",
   "id": "79f04848-2015-4d3a-8a0a-94bf7c5100db",
   "metadata": {},
   "source": [
    "#### Possui valores nulos?"
   ]
  },
  {
   "cell_type": "code",
   "execution_count": 15,
   "id": "56d83b0a-9f4d-4852-84b7-0f84c58af871",
   "metadata": {},
   "outputs": [
    {
     "name": "stdout",
     "output_type": "stream",
     "text": [
      "Valores nulos na coluna id é: 0\n",
      "Valores nulos na coluna cadastro é: 0\n",
      "Valores nulos na coluna compra é: 0\n",
      "Valores nulos na coluna valor é: 0\n",
      "Valores nulos na coluna id_dispositivo é: 0\n",
      "Valores nulos na coluna fonte é: 0\n",
      "Valores nulos na coluna browser é: 0\n",
      "Valores nulos na coluna genero é: 0\n",
      "Valores nulos na coluna idade é: 0\n",
      "Valores nulos na coluna ip é: 0\n",
      "Valores nulos na coluna fraude é: 0\n"
     ]
    }
   ],
   "source": [
    "for col in fraude_df.columns:\n",
    "    print('Valores nulos na coluna {} é: {}'.format(col, fraude_df[col].isnull().sum()))"
   ]
  },
  {
   "cell_type": "code",
   "execution_count": 31,
   "id": "e28e2ae7-1ea3-4093-aefa-805ee29f318a",
   "metadata": {},
   "outputs": [
    {
     "name": "stdout",
     "output_type": "stream",
     "text": [
      "Valores nulos na coluna limite_inferior_ip é: 0\n",
      "Valores nulos na coluna limite_superior_ip é: 0\n",
      "Valores nulos na coluna pais é: 0\n"
     ]
    }
   ],
   "source": [
    "for col in isp_df.columns:\n",
    "    print('Valores nulos na coluna {} é: {}'.format(col, isp_df[col].isnull().sum()))"
   ]
  },
  {
   "cell_type": "markdown",
   "id": "6da5a241-ea46-4c5c-80d8-b737e410b34f",
   "metadata": {},
   "source": [
    "#### Estatistica descritiva"
   ]
  },
  {
   "cell_type": "code",
   "execution_count": 17,
   "id": "d396ca3e-9be0-4d18-b43c-bd7829946571",
   "metadata": {},
   "outputs": [
    {
     "data": {
      "text/html": [
       "<div>\n",
       "<style scoped>\n",
       "    .dataframe tbody tr th:only-of-type {\n",
       "        vertical-align: middle;\n",
       "    }\n",
       "\n",
       "    .dataframe tbody tr th {\n",
       "        vertical-align: top;\n",
       "    }\n",
       "\n",
       "    .dataframe thead th {\n",
       "        text-align: right;\n",
       "    }\n",
       "</style>\n",
       "<table border=\"1\" class=\"dataframe\">\n",
       "  <thead>\n",
       "    <tr style=\"text-align: right;\">\n",
       "      <th></th>\n",
       "      <th>id</th>\n",
       "      <th>valor</th>\n",
       "      <th>idade</th>\n",
       "      <th>ip</th>\n",
       "      <th>fraude</th>\n",
       "    </tr>\n",
       "  </thead>\n",
       "  <tbody>\n",
       "    <tr>\n",
       "      <th>count</th>\n",
       "      <td>151112.000000</td>\n",
       "      <td>151112.000000</td>\n",
       "      <td>151112.000000</td>\n",
       "      <td>1.511120e+05</td>\n",
       "      <td>151112.000000</td>\n",
       "    </tr>\n",
       "    <tr>\n",
       "      <th>mean</th>\n",
       "      <td>200171.040970</td>\n",
       "      <td>36.935372</td>\n",
       "      <td>33.140704</td>\n",
       "      <td>2.152145e+09</td>\n",
       "      <td>0.093646</td>\n",
       "    </tr>\n",
       "    <tr>\n",
       "      <th>std</th>\n",
       "      <td>115369.285024</td>\n",
       "      <td>18.322762</td>\n",
       "      <td>8.617733</td>\n",
       "      <td>1.248497e+09</td>\n",
       "      <td>0.291336</td>\n",
       "    </tr>\n",
       "    <tr>\n",
       "      <th>min</th>\n",
       "      <td>2.000000</td>\n",
       "      <td>9.000000</td>\n",
       "      <td>18.000000</td>\n",
       "      <td>5.209350e+04</td>\n",
       "      <td>0.000000</td>\n",
       "    </tr>\n",
       "    <tr>\n",
       "      <th>25%</th>\n",
       "      <td>100642.500000</td>\n",
       "      <td>22.000000</td>\n",
       "      <td>27.000000</td>\n",
       "      <td>1.085934e+09</td>\n",
       "      <td>0.000000</td>\n",
       "    </tr>\n",
       "    <tr>\n",
       "      <th>50%</th>\n",
       "      <td>199958.000000</td>\n",
       "      <td>35.000000</td>\n",
       "      <td>33.000000</td>\n",
       "      <td>2.154770e+09</td>\n",
       "      <td>0.000000</td>\n",
       "    </tr>\n",
       "    <tr>\n",
       "      <th>75%</th>\n",
       "      <td>300054.000000</td>\n",
       "      <td>49.000000</td>\n",
       "      <td>39.000000</td>\n",
       "      <td>3.243258e+09</td>\n",
       "      <td>0.000000</td>\n",
       "    </tr>\n",
       "    <tr>\n",
       "      <th>max</th>\n",
       "      <td>400000.000000</td>\n",
       "      <td>154.000000</td>\n",
       "      <td>76.000000</td>\n",
       "      <td>4.294850e+09</td>\n",
       "      <td>1.000000</td>\n",
       "    </tr>\n",
       "  </tbody>\n",
       "</table>\n",
       "</div>"
      ],
      "text/plain": [
       "                  id          valor          idade            ip  \\\n",
       "count  151112.000000  151112.000000  151112.000000  1.511120e+05   \n",
       "mean   200171.040970      36.935372      33.140704  2.152145e+09   \n",
       "std    115369.285024      18.322762       8.617733  1.248497e+09   \n",
       "min         2.000000       9.000000      18.000000  5.209350e+04   \n",
       "25%    100642.500000      22.000000      27.000000  1.085934e+09   \n",
       "50%    199958.000000      35.000000      33.000000  2.154770e+09   \n",
       "75%    300054.000000      49.000000      39.000000  3.243258e+09   \n",
       "max    400000.000000     154.000000      76.000000  4.294850e+09   \n",
       "\n",
       "              fraude  \n",
       "count  151112.000000  \n",
       "mean        0.093646  \n",
       "std         0.291336  \n",
       "min         0.000000  \n",
       "25%         0.000000  \n",
       "50%         0.000000  \n",
       "75%         0.000000  \n",
       "max         1.000000  "
      ]
     },
     "execution_count": 17,
     "metadata": {},
     "output_type": "execute_result"
    }
   ],
   "source": [
    "fraude_df.describe()"
   ]
  },
  {
   "cell_type": "code",
   "execution_count": null,
   "id": "e0cf2a3d-b1f8-4661-990b-919a86982b55",
   "metadata": {},
   "outputs": [],
   "source": []
  }
 ],
 "metadata": {
  "kernelspec": {
   "display_name": "Python 3 (ipykernel)",
   "language": "python",
   "name": "python3"
  },
  "language_info": {
   "codemirror_mode": {
    "name": "ipython",
    "version": 3
   },
   "file_extension": ".py",
   "mimetype": "text/x-python",
   "name": "python",
   "nbconvert_exporter": "python",
   "pygments_lexer": "ipython3",
   "version": "3.9.7"
  }
 },
 "nbformat": 4,
 "nbformat_minor": 5
}
