{
 "cells": [
  {
   "cell_type": "code",
   "execution_count": 4,
   "id": "9d605712-0a34-40f3-ab8d-2c22ddfca608",
   "metadata": {},
   "outputs": [],
   "source": [
    "#bibliotecas matematicas\n",
    "import numpy as np\n",
    "import pandas as pd\n",
    "from scipy import special\n",
    "\n",
    "#loop\n",
    "import itertools\n",
    "from datetime import timedelta\n",
    "from IPython.display import display"
   ]
  },
  {
   "cell_type": "code",
   "execution_count": 7,
   "id": "fa627402-f08c-4e45-a5b8-3f1bda743b60",
   "metadata": {},
   "outputs": [],
   "source": [
    "fraude_df = pd.read_csv('../modelo_fraude/base-de-dados/Fraud_Data.csv', header=0)"
   ]
  },
  {
   "cell_type": "code",
   "execution_count": 9,
   "id": "5d80ffff-2d67-473f-9199-3db0e6af7ac5",
   "metadata": {},
   "outputs": [],
   "source": [
    "isp_df = pd.read_csv('../modelo_fraude/base-de-dados/IpAddress_to_Country.csv', header=0)"
   ]
  },
  {
   "cell_type": "markdown",
   "id": "8648df63-6002-4e87-9db6-6457acdd632d",
   "metadata": {},
   "source": [
    "### Conhecendo os dataframes"
   ]
  },
  {
   "cell_type": "code",
   "execution_count": 15,
   "id": "56d83b0a-9f4d-4852-84b7-0f84c58af871",
   "metadata": {},
   "outputs": [
    {
     "name": "stdout",
     "output_type": "stream",
     "text": [
      "Valores nulos na coluna id é: 0\n",
      "Valores nulos na coluna cadastro é: 0\n",
      "Valores nulos na coluna compra é: 0\n",
      "Valores nulos na coluna valor é: 0\n",
      "Valores nulos na coluna id_dispositivo é: 0\n",
      "Valores nulos na coluna fonte é: 0\n",
      "Valores nulos na coluna browser é: 0\n",
      "Valores nulos na coluna genero é: 0\n",
      "Valores nulos na coluna idade é: 0\n",
      "Valores nulos na coluna ip é: 0\n",
      "Valores nulos na coluna fraude é: 0\n"
     ]
    }
   ],
   "source": [
    "for col in fraude_df.columns:\n",
    "    print('Valores nulos na coluna {} é: {}'.format(col, fraude_df[col].isnull().sum()))"
   ]
  },
  {
   "cell_type": "code",
   "execution_count": null,
   "id": "e28e2ae7-1ea3-4093-aefa-805ee29f318a",
   "metadata": {},
   "outputs": [],
   "source": []
  }
 ],
 "metadata": {
  "kernelspec": {
   "display_name": "Python 3 (ipykernel)",
   "language": "python",
   "name": "python3"
  },
  "language_info": {
   "codemirror_mode": {
    "name": "ipython",
    "version": 3
   },
   "file_extension": ".py",
   "mimetype": "text/x-python",
   "name": "python",
   "nbconvert_exporter": "python",
   "pygments_lexer": "ipython3",
   "version": "3.9.7"
  }
 },
 "nbformat": 4,
 "nbformat_minor": 5
}
