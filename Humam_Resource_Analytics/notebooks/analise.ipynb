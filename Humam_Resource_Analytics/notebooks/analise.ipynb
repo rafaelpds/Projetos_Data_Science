{
 "cells": [
  {
   "cell_type": "markdown",
   "id": "60343520",
   "metadata": {},
   "source": [
    "## Stack - Bootcamp de Data Science"
   ]
  },
  {
   "cell_type": "markdown",
   "id": "1b1bad41",
   "metadata": {},
   "source": [
    "### Análise Exploratória de Dados."
   ]
  },
  {
   "cell_type": "code",
   "execution_count": null,
   "id": "8d9b163d",
   "metadata": {},
   "outputs": [],
   "source": [
    "import pandas as pd\n",
    "import datetime\n",
    "import glob\n",
    "from minio import Minio\n",
    "import seaborn as sns\n",
    "import matplotlib.pyplot as plt"
   ]
  },
  {
   "cell_type": "code",
   "execution_count": null,
   "id": "f5274952",
   "metadata": {},
   "outputs": [],
   "source": [
    "client = Minio(\n",
    "        \"localhost:9000\",\n",
    "        access_key=\"minioadmin\",\n",
    "        secret_key=\"minioadmin\",\n",
    "        secure=False\n",
    "    )"
   ]
  },
  {
   "cell_type": "markdown",
   "id": "838ed69f",
   "metadata": {},
   "source": [
    "### Baixando o Dataset do Data Lake."
   ]
  },
  {
   "cell_type": "code",
   "execution_count": null,
   "id": "bfa60edd",
   "metadata": {},
   "outputs": [],
   "source": [
    "client.fget_object(\n",
    "            \"processing\",\n",
    "            \"employees_dataset.parquet\",\n",
    "            \"temp_.parquet\",\n",
    ")\n",
    "df = pd.read_parquet(\"temp_.parquet\")"
   ]
  },
  {
   "cell_type": "code",
   "execution_count": null,
   "id": "22142337",
   "metadata": {},
   "outputs": [],
   "source": [
    "df.head()"
   ]
  },
  {
   "cell_type": "markdown",
   "id": "fc2fa009",
   "metadata": {},
   "source": [
    "#### Organizando o dataset."
   ]
  },
  {
   "cell_type": "code",
   "execution_count": null,
   "id": "2f5b7a35",
   "metadata": {},
   "outputs": [],
   "source": [
    "df = df[['department', 'salary', 'mean_work_last_3_months',\n",
    "       'number_projects', 'satisfaction_level', 'last_evaluation',\n",
    "       'time_in_company', 'work_accident','left']]"
   ]
  },
  {
   "cell_type": "code",
   "execution_count": null,
   "id": "b95448bd",
   "metadata": {
    "scrolled": true
   },
   "outputs": [],
   "source": [
    "df.head()"
   ]
  },
  {
   "cell_type": "markdown",
   "id": "2b4fa52c",
   "metadata": {},
   "source": [
    "#### Verificando os registros missing."
   ]
  },
  {
   "cell_type": "code",
   "execution_count": null,
   "id": "65e92b9c",
   "metadata": {},
   "outputs": [],
   "source": [
    "df.isnull().sum()"
   ]
  },
  {
   "cell_type": "code",
   "execution_count": null,
   "id": "a6559f2c",
   "metadata": {},
   "outputs": [],
   "source": [
    "df[df.notnull()]"
   ]
  },
  {
   "cell_type": "code",
   "execution_count": null,
   "id": "42ea9765",
   "metadata": {},
   "outputs": [],
   "source": [
    "df = df[:14998]"
   ]
  },
  {
   "cell_type": "markdown",
   "id": "6345aae2",
   "metadata": {},
   "source": [
    "#### Alterando os tipos de dados."
   ]
  },
  {
   "cell_type": "code",
   "execution_count": null,
   "id": "3bed250e",
   "metadata": {},
   "outputs": [],
   "source": [
    "df[\"number_projects\"] = df[\"number_projects\"].astype(int)\n",
    "df[\"mean_work_last_3_months\"] = df[\"mean_work_last_3_months\"].astype(int)\n",
    "df[\"time_in_company\"] = df[\"time_in_company\"].astype(int)\n",
    "df[\"work_accident\"] = df[\"work_accident\"].astype(int)\n",
    "df[\"left\"] = df[\"left\"].astype(int)"
   ]
  },
  {
   "cell_type": "code",
   "execution_count": null,
   "id": "d41aab97",
   "metadata": {},
   "outputs": [],
   "source": [
    "df.info()"
   ]
  },
  {
   "cell_type": "code",
   "execution_count": null,
   "id": "b3be9995",
   "metadata": {},
   "outputs": [],
   "source": [
    "df.head()"
   ]
  },
  {
   "cell_type": "markdown",
   "id": "0732373c",
   "metadata": {},
   "source": [
    "#### Renomeando atributos"
   ]
  },
  {
   "cell_type": "code",
   "execution_count": null,
   "id": "e51e02de",
   "metadata": {},
   "outputs": [],
   "source": [
    "df = df.rename(columns={'satisfaction_level': 'satisfaction', \n",
    "                        'last_evaluation': 'evaluation',\n",
    "                        'number_projects': 'projectCount',\n",
    "                        'mean_work_last_3_months': 'averageMonthlyHours',\n",
    "                        'time_in_company': 'yearsAtCompany',\n",
    "                        'work_accident': 'workAccident',\n",
    "                        'left' : 'turnover'\n",
    "                        })"
   ]
  },
  {
   "cell_type": "code",
   "execution_count": null,
   "id": "8df7f8fd",
   "metadata": {
    "scrolled": true
   },
   "outputs": [],
   "source": [
    "df.head()"
   ]
  },
  {
   "cell_type": "markdown",
   "id": "dc0e78d7",
   "metadata": {},
   "source": [
    "##  Análise Estatística"
   ]
  },
  {
   "cell_type": "markdown",
   "id": "43c38e9f",
   "metadata": {},
   "source": [
    "#### Verificando o número de registros."
   ]
  },
  {
   "cell_type": "code",
   "execution_count": null,
   "id": "24295f99",
   "metadata": {},
   "outputs": [],
   "source": [
    "df.shape"
   ]
  },
  {
   "cell_type": "markdown",
   "id": "cee2382f",
   "metadata": {},
   "source": [
    "#### Calculando a taxa de turnover"
   ]
  },
  {
   "cell_type": "code",
   "execution_count": null,
   "id": "1e944d05",
   "metadata": {},
   "outputs": [],
   "source": [
    "turnover_rate = df.turnover.value_counts() / len(df)\n",
    "turnover_rate"
   ]
  },
  {
   "cell_type": "markdown",
   "id": "409ad3b2",
   "metadata": {},
   "source": [
    "#### Overview statistico dos dados."
   ]
  },
  {
   "cell_type": "code",
   "execution_count": null,
   "id": "0027292f",
   "metadata": {},
   "outputs": [],
   "source": [
    "df.describe()"
   ]
  },
  {
   "cell_type": "markdown",
   "id": "3fbe56c5",
   "metadata": {},
   "source": [
    "#### Overview statistico por turnover."
   ]
  },
  {
   "cell_type": "code",
   "execution_count": null,
   "id": "cd3384cf",
   "metadata": {},
   "outputs": [],
   "source": [
    "turnover_summary = df.groupby('turnover')\n",
    "turnover_summary.mean()"
   ]
  },
  {
   "cell_type": "markdown",
   "id": "3ec250ef",
   "metadata": {},
   "source": [
    "O conjunto de dados tem:\n",
    "\n",
    "- 14.998 observações de empregados e 9 atributos.\n",
    "- A empresa tem uma rotatividade de 24%.\n",
    "- A satisfação média dos empregados é de 61.\n",
    "-- A satisfação média dos empregados que deixaram a empresa é 51."
   ]
  },
  {
   "cell_type": "markdown",
   "id": "a71d9da7",
   "metadata": {},
   "source": [
    "#### Calculando a matriz de correlação."
   ]
  },
  {
   "cell_type": "code",
   "execution_count": null,
   "id": "983162db",
   "metadata": {},
   "outputs": [],
   "source": [
    "corr = df.corr()\n",
    "corr = (corr)\n",
    "sns.heatmap(corr, \n",
    "            xticklabels=corr.columns.values,\n",
    "            yticklabels=corr.columns.values)\n",
    "\n",
    "corr"
   ]
  },
  {
   "cell_type": "markdown",
   "id": "82b1a4f2",
   "metadata": {},
   "source": [
    "###  Correlation Matrix & Heatmap\n",
    "***\n",
    "**Atributos com uma correlação moderada positiva:** \n",
    "- projectCount vs evaluation: 0.34\n",
    "- yearsCompany vs projectCount: 0.19\n",
    "\n",
    "**Atributos com uma correlação moderada negativa:**\n",
    " - satisfaction vs turnover:  -0.21\n",
    "\n",
    "**Questões:**\n",
    "- Quais atributos afetam nossa variável alvo (turnover)?\n",
    "- Existem atributos com alta correlação entre eles?\n",
    "- Como podemos aprofundar para entender as correlações?\n",
    "\n",
    "**Resumo:**\n",
    "\n",
    "Existe uma **correlação positiva** entre os atributos projectCount e Evaluation.\n",
    "\n",
    "Faz sentido que empregados que estão envolvidos em mais projetos, trabalham mais e tem melhor avaliação.\n",
    "\n",
    "Existe uma **correlação negativa** entre os atributos satisfaction e turnover.\n",
    "\n",
    "Podemos assumir que empregados que mais deixam a empresa estão menos satisfeitos."
   ]
  },
  {
   "cell_type": "markdown",
   "id": "75019b9c",
   "metadata": {},
   "source": [
    "#### Calculando distribuições dos atributos."
   ]
  },
  {
   "cell_type": "code",
   "execution_count": null,
   "id": "e8bd189d",
   "metadata": {},
   "outputs": [],
   "source": [
    "f, axes = plt.subplots(ncols=3, figsize=(15, 6))\n",
    "\n",
    "sns.distplot(df.satisfaction, kde=False, color=\"g\", ax=axes[0]).set_title('Employee Satisfaction')\n",
    "axes[0].set_ylabel('Employee Count')\n",
    "\n",
    "sns.distplot(df.evaluation, kde=False, color=\"r\", ax=axes[1]).set_title('Employee Evaluation')\n",
    "axes[1].set_ylabel('Employee Count')\n",
    "\n",
    "sns.distplot(df.averageMonthlyHours, kde=False, color=\"b\", ax=axes[2]).set_title('Employee Average Monthly Hours')\n",
    "axes[2].set_ylabel('Employee Count')\n",
    "plt.show()"
   ]
  },
  {
   "cell_type": "markdown",
   "id": "a0bf11d5",
   "metadata": {},
   "source": [
    "## Distribuiçöes (Satisfaction - Evaluation - AverageMonthlyHours)\n",
    "***\n",
    "**Summary:** Examinando a distribuição de alguns atributos do conjunto de dados:\n",
    " - **Satisfaction** - Existe um pico de empregados com baixa satisfação mas a maior concentração está em 60 a 80.\n",
    " - **Evaluation** - Temos uma distribuição bimodal de empregados com avaliações baixas, menor que de 60 e altas, maior que 80.\n",
    " - **AverageMonthlyHours** - A concentração da quantidade de horas trabalhadas nos últimos 3 meses está ao redor da média em 275 horas.\n",
    " \n",
    "**Questões:** \n",
    " - Existe uma razão para o pico de empregados insatisfeitos?"
   ]
  },
  {
   "cell_type": "markdown",
   "id": "9811c0b2",
   "metadata": {},
   "source": [
    "#### Verificando o turnover em relação ao salário."
   ]
  },
  {
   "cell_type": "code",
   "execution_count": null,
   "id": "00dee6b0",
   "metadata": {},
   "outputs": [],
   "source": [
    "f, ax = plt.subplots(figsize=(15, 4))\n",
    "sns.countplot(y=\"salary\", hue='turnover', data=df).set_title('Employee Salary Turnover');"
   ]
  },
  {
   "cell_type": "markdown",
   "id": "fcc89e8b",
   "metadata": {},
   "source": [
    "##  Salary V.S. Turnover\n",
    "***\n",
    "**Summary:** This is not unusual. Here's what I found:\n",
    " - A maioria dos empregados que saíram tinha salário **baixo** ou **médio**.\n",
    " - Quase nenhum empregado com alto salário deixou a empresa.\n",
    " \n",
    "**Questões:** \n",
    " - Como é o ambiente de trabalho? Isso se difere por salário?\n",
    " - O que faz empregados com alto salário sairem da empresa."
   ]
  },
  {
   "cell_type": "markdown",
   "id": "bba947c9",
   "metadata": {},
   "source": [
    "#### Verificando o turnover em relação departamento."
   ]
  },
  {
   "cell_type": "code",
   "execution_count": null,
   "id": "190f670b",
   "metadata": {},
   "outputs": [],
   "source": [
    "f, ax = plt.subplots(figsize=(15, 5))\n",
    "color_types = ['#78C850','#F08030','#6890F0','#A8B820','#A8A878','#A040A0','#F8D030',  \n",
    "                '#E0C068','#EE99AC','#C03028','#F85888','#B8A038','#705898','#98D8D8','#7038F8']\n",
    "plt.xticks(rotation=-45)\n",
    "\n",
    "sns.countplot(x='department', data=df, palette=color_types).set_title('Distribuição de Departamentos');"
   ]
  },
  {
   "cell_type": "code",
   "execution_count": null,
   "id": "b4ff4090",
   "metadata": {
    "scrolled": true
   },
   "outputs": [],
   "source": [
    "f, ax = plt.subplots(figsize=(15, 5))\n",
    "sns.countplot(y=\"department\", hue='turnover', data=df).set_title('Departamento vs Turnover');"
   ]
  },
  {
   "cell_type": "markdown",
   "id": "cad7fb7c",
   "metadata": {},
   "source": [
    "## Department V.S. Turnover \n",
    "***\n",
    "**Resumo:** Vamos ver mais informações sobre os departamentos da empresa.\n",
    " - Os departamentos de vendas, técnico e suporte são top 3 departamentos com maior índice de turnover.\n",
    " - O departamento management tem o menor volume de turnover.\n",
    "\n",
    "**Questões:** \n",
    " - Será que examinar em profundidade os departamentos que tem maior índice de turnover e o menor pode nos revelar mais    informações importantes?\n",
    " - Qual o salário nestes departamentos?"
   ]
  },
  {
   "cell_type": "markdown",
   "id": "321d0488",
   "metadata": {},
   "source": [
    "#### Verificando o turnover em relação ao número de projetos."
   ]
  },
  {
   "cell_type": "code",
   "execution_count": null,
   "id": "ecc1ed70",
   "metadata": {},
   "outputs": [],
   "source": [
    "fig = plt.figure(figsize=(8,4),)\n",
    "ax = sns.barplot(x=\"projectCount\", y=\"projectCount\", hue=\"turnover\", data=df, estimator=lambda x: len(x) / len(df) * 100)\n",
    "ax.set(ylabel=\"Percent\")\n",
    "plt.title('Turnover vs número de projetos')\n",
    "plt.plot()"
   ]
  },
  {
   "cell_type": "markdown",
   "id": "eadc8119",
   "metadata": {},
   "source": [
    "##  Turnover V.S. ProjectCount \n",
    "***\n",
    "**Resumo:** Insights interessantes que encontramos aqui:\n",
    " - Mais da metade dos empregados com **2,6 e 7 projetos** deixam a empresa.\n",
    " - A maioria dos empregados que permancem na empresa estão envolvidos de **3 à 5 projetos**.\n",
    " - Todos os empregados que estavam inseridos **7 projetos** deixaram a empresa.\n",
    " - Existe uma pequena **tendência de crescimento no índice de turnover** em relação à quantidade de projetos.\n",
    " \n",
    "**Questões:**\n",
    " - Porque os empregados estão deixando a empresa em relação a quantidade de projetos ?\n",
    " - Será que faz sentido pensar que empregados envolvidos em 2 ou menos projetos estão desmotivados e por isso deixam a empresa?\n",
    " - Será que empregados envolvidos em mais que 6 projetos se sintam sobrecarregados e deixam a empresa?"
   ]
  },
  {
   "cell_type": "markdown",
   "id": "c973f50a",
   "metadata": {},
   "source": [
    "#### Verificando o turnover em relação a nota de avaliação."
   ]
  },
  {
   "cell_type": "code",
   "execution_count": null,
   "id": "6f2257dc",
   "metadata": {},
   "outputs": [],
   "source": [
    "fig = plt.figure(figsize=(15,4),)\n",
    "ax=sns.kdeplot(df.loc[(df['turnover'] == 0),'evaluation'] , color='b',shade=True,label='no turnover')\n",
    "ax=sns.kdeplot(df.loc[(df['turnover'] == 1),'evaluation'] , color='r',shade=True, label='turnover')\n",
    "ax.set(xlabel='Employee Evaluation', ylabel='Frequency')\n",
    "plt.title('Distribuição da Nota de Avaliação do Empregado - Turnover V.S. No Turnover')\n",
    "plt.plot()"
   ]
  },
  {
   "cell_type": "markdown",
   "id": "c232e355",
   "metadata": {},
   "source": [
    "## Turnover V.S. Evaluation \n",
    "***\n",
    "**Resumo:** \n",
    " - Temos uma distribuição bimodal para o conjunto que deixou a empresa.\n",
    " - Colaboradores com **baixa performance** tendem a deixar a empresa.\n",
    " - Colaboradores com **alta performance** tendem a deixar a empresa.\n",
    " - O **ponto ideal** para os funcionários que permaneceram está dentro da avaliação de 60 à 80."
   ]
  },
  {
   "cell_type": "markdown",
   "id": "55bc50a4",
   "metadata": {},
   "source": [
    "#### Verificando o turnover em relação a satisfação do empregado."
   ]
  },
  {
   "cell_type": "code",
   "execution_count": null,
   "id": "785b0bd0",
   "metadata": {},
   "outputs": [],
   "source": [
    "fig = plt.figure(figsize=(15,4))\n",
    "ax=sns.kdeplot(df.loc[(df['turnover'] == 0),'satisfaction'] , color='b',shade=True, label='no turnover')\n",
    "ax=sns.kdeplot(df.loc[(df['turnover'] == 1),'satisfaction'] , color='r',shade=True, label='turnover')\n",
    "plt.title('Distribuição da Satisfação do Empregado - Turnover V.S. No Turnover')\n",
    "plt.plot()"
   ]
  },
  {
   "cell_type": "markdown",
   "id": "a0c7cdab",
   "metadata": {},
   "source": [
    "##  Turnover V.S. Satisfaction \n",
    "***\n",
    "**Resumo:** \n",
    " - Empregados com o nível de satisfação em 20 ou menos tendem a deixar a empresa.\n",
    " - Empregados com o nível de satisfação em até 50 tem maior probabilidade de deixar a empresa."
   ]
  },
  {
   "cell_type": "markdown",
   "id": "60a68ce2",
   "metadata": {},
   "source": [
    "#### Verificando a relação entre número de projetos e a nota de avaliação do empregado."
   ]
  },
  {
   "cell_type": "code",
   "execution_count": null,
   "id": "2971ee48",
   "metadata": {
    "scrolled": false
   },
   "outputs": [],
   "source": [
    "fig = plt.figure(figsize=(12, 8))\n",
    "import seaborn as sns\n",
    "sns.boxplot(x=\"projectCount\", y=\"evaluation\", hue=\"turnover\", data=df)\n",
    "plt.title(\"Número de projetos e Nota de Avaliação\")\n",
    "plt.show()"
   ]
  },
  {
   "cell_type": "markdown",
   "id": "2350d7f3",
   "metadata": {},
   "source": [
    "##  ProjectCount VS Evaluation\n",
    "***\n",
    "**Resumo:** \n",
    "- Há um **aumento na avaliação** para os funcionários que realizaram mais projetos dentro do grupo de quem deixou a empresa. \n",
    "- Para o grupo de pessoas que permaneceram na empresa, os empregados tiveram uma **pontuação de avaliação consistente**, apesar do aumento nas contagens de projetos.\n",
    "- Empregados que permaneceram na empresa tiveram uma **avaliação média em torno de 70%**, mesmo com o número de projetos crescendo.\n",
    "- Esta relação muda drasticamente entre os empregados que deixaram a empresa. A partir de 3 projetos, as **médias de avaliação aumentam consideravelmente**.\n",
    "- Empregados que tinham **dois projetos e uma péssima avaliação** saíram.\n",
    "- Empregados com **mais de 3 projetos e avaliações altas** deixaram a empresa.\n",
    "\n",
    "**Questões:**\n",
    "  - Por que será que os funcionários que saíram tiveram em média uma avaliação superior aos funcionários que não saíram, mesmo com um aumento no número de projetos?\n",
    "  - Os funcionários com avaliações mais baixas não deveriam ter tendência a sair mais da empresa?"
   ]
  },
  {
   "cell_type": "markdown",
   "id": "0ba1ce0b",
   "metadata": {},
   "source": [
    "#### Verificando a relação entre a satisfação do empregado e a sua avaliação."
   ]
  },
  {
   "cell_type": "code",
   "execution_count": null,
   "id": "5bdc28ee",
   "metadata": {
    "scrolled": false
   },
   "outputs": [],
   "source": [
    "sns.lmplot(x = 'satisfaction', \n",
    "           y = 'evaluation', \n",
    "           data = df,\n",
    "           fit_reg = False,\n",
    "           hue='turnover')"
   ]
  },
  {
   "cell_type": "markdown",
   "id": "81bd878f",
   "metadata": {},
   "source": [
    "##  Satisfaction VS Evaluation\n",
    "***\n",
    "**Resumo:**: Temos aqui 3 grupos distintos de empregados.\n",
    " \n",
    "**Cluster 1 (Empregados insatisfeitos e trabalhadores):** A satisfação foi inferior a 20 e as avaliações foram superiores a 75. \n",
    "- O que pode ser uma boa indicação de que os funcionários que deixaram a empresa eram bons trabalhadores, mas se sentiam péssimos no trabalho.\n",
    "\n",
    "Questões: \n",
    " - Qual poderia ser o motivo de se sentir tão mal quando você é altamente avaliado? \n",
    " - Será que está trabalhando muito? \n",
    " - Esse cluster poderia significar funcionários que estão \"sobrecarregados\"? \n",
    " \n",
    "**Cluster 2 (Empregados ruins e insatisfeitos):** Satisfação entre 35 à 50 e as suas avaliações abaixo de ~ 58. \n",
    "\n",
    "Questões:\n",
    "- Isso pode ser visto como funcionários que foram mal avaliados e se sentiram mal no trabalho.\n",
    "- Podemos chamar esse grupo de baixo desempenho?\n",
    "\n",
    "**Cluster 3 (Empregados satisfeitos e trabalhadores):** Satisfação entre 75 à 90 e avaliações superiores a 80. \n",
    "- O que poderia significar que os funcionários neste grupo eram \"ideais\". \n",
    "- Eles amavam seu trabalho e eram altamente avaliados por seu desempenho.\n",
    "\n",
    "Questões: \n",
    "- Este grupo pode representar os empregados que deixaram a empresa porque encontraram outra oportunidade de trabalho?\n",
    "- Poderiamos ter mais do que 3 clusters?"
   ]
  },
  {
   "cell_type": "markdown",
   "id": "a7c401aa",
   "metadata": {},
   "source": [
    "#### Computando os clusters"
   ]
  },
  {
   "cell_type": "markdown",
   "id": "0971cd9d",
   "metadata": {},
   "source": [
    "#### Importando a biblioteca Scikit-learn"
   ]
  },
  {
   "cell_type": "code",
   "execution_count": null,
   "id": "6a93abef",
   "metadata": {},
   "outputs": [],
   "source": [
    "from sklearn.cluster import KMeans"
   ]
  },
  {
   "cell_type": "markdown",
   "id": "ef70fe8d",
   "metadata": {},
   "source": [
    "#### Inicializando os clusters."
   ]
  },
  {
   "cell_type": "code",
   "execution_count": null,
   "id": "8a8d7310",
   "metadata": {},
   "outputs": [],
   "source": [
    "kmeans = KMeans(n_clusters=3,random_state=2)"
   ]
  },
  {
   "cell_type": "markdown",
   "id": "9c9acff3",
   "metadata": {},
   "source": [
    "#### Definindo o conjunto de dados."
   ]
  },
  {
   "cell_type": "code",
   "execution_count": null,
   "id": "6ac91dcf",
   "metadata": {},
   "outputs": [],
   "source": [
    "df_turnover = df[df.turnover==1][[\"satisfaction\",\"evaluation\"]]"
   ]
  },
  {
   "cell_type": "markdown",
   "id": "174eda93",
   "metadata": {},
   "source": [
    "#### Computando os clusters."
   ]
  },
  {
   "cell_type": "code",
   "execution_count": null,
   "id": "724a0d6a",
   "metadata": {
    "scrolled": true
   },
   "outputs": [],
   "source": [
    "kmeans.fit(df_turnover)"
   ]
  },
  {
   "cell_type": "code",
   "execution_count": null,
   "id": "29b35283",
   "metadata": {},
   "outputs": [],
   "source": [
    "kmeans_colors = ['green' if c == 0 else 'red' if c == 1 else 'blue' for c in kmeans.labels_]"
   ]
  },
  {
   "cell_type": "code",
   "execution_count": null,
   "id": "ca724249",
   "metadata": {
    "scrolled": false
   },
   "outputs": [],
   "source": [
    "fig = plt.figure(figsize=(10, 6))\n",
    "plt.scatter( x=\"satisfaction\"\n",
    "            ,y=\"evaluation\"\n",
    "            ,data=df_turnover,\n",
    "            alpha=0.25,color = kmeans_colors)\n",
    "\n",
    "plt.xlabel(\"Satisfaction\")\n",
    "plt.ylabel(\"Evaluation\")\n",
    "\n",
    "plt.scatter( x=kmeans.cluster_centers_[:,0]\n",
    "            ,y=kmeans.cluster_centers_[:,1]\n",
    "            ,color=\"black\"\n",
    "            ,marker=\"X\",s=100)\n",
    "\n",
    "plt.title(\"Grupos de Empregados - Satisfação vs Avaliação.\")\n",
    "plt.show()"
   ]
  },
  {
   "cell_type": "markdown",
   "id": "5f761e4c",
   "metadata": {},
   "source": [
    "## K-Means Grupos\n",
    "***\n",
    "**Cluster 0 (Verde):** Empregados trabalhadores e satisfeitos.\n",
    "\n",
    "**Cluster 1 (Vermelho):** Empregados ruins e insatisfeitos. \n",
    "\n",
    "**Cluster 2 (Azul):** Empregados trabalhadores e tristes."
   ]
  },
  {
   "cell_type": "markdown",
   "id": "44cae868",
   "metadata": {},
   "source": [
    "#### Verificando a relação entre o tempo de empresa e o turnover."
   ]
  },
  {
   "cell_type": "code",
   "execution_count": null,
   "id": "9040de49",
   "metadata": {},
   "outputs": [],
   "source": [
    "fig = plt.figure(figsize=(10, 6))\n",
    "ax = sns.barplot(x=\"yearsAtCompany\", y=\"yearsAtCompany\", hue=\"turnover\", data=df, estimator=lambda x: len(x) / len(df) * 100)\n",
    "ax.set(ylabel=\"Percent\")\n",
    "plt.title(\"Turnover V.S. YearsAtCompany\")\n",
    "plt.show()"
   ]
  },
  {
   "cell_type": "markdown",
   "id": "f38e8004",
   "metadata": {},
   "source": [
    "##  Turnover V.S. YearsAtCompany \n",
    "***\n",
    "**Resumo:** Vamos ver mais alguns pontos para entender o porque os empregados deixam a empresa.\n",
    " - Empregados com **4 e 5 anos de casa** deixaram a empresa.\n",
    " - Empregados acima de **5 anos de casa** devem ser examinados.\n",
    " \n",
    "**Questões:**\n",
    "  - Por que os Empregados estão saindo principalmente na faixa de 3-5 anos?\n",
    "  - Quem são esses Empregados que saíram?"
   ]
  },
  {
   "cell_type": "markdown",
   "id": "857c5054",
   "metadata": {},
   "source": [
    "### Carrega os artefatos para o Data Lake."
   ]
  },
  {
   "cell_type": "code",
   "execution_count": null,
   "id": "10fe34f5",
   "metadata": {},
   "outputs": [],
   "source": [
    "import joblib"
   ]
  },
  {
   "cell_type": "markdown",
   "id": "50c3cc15",
   "metadata": {},
   "source": [
    "#### Persistindo o objeto cluster para o disco."
   ]
  },
  {
   "cell_type": "code",
   "execution_count": null,
   "id": "5d611d23",
   "metadata": {},
   "outputs": [],
   "source": [
    "joblib.dump(kmeans, \"cluster.joblib\")"
   ]
  },
  {
   "cell_type": "markdown",
   "id": "defc1c78",
   "metadata": {},
   "source": [
    "#### Transferindo o arquivo para o Data Lake."
   ]
  },
  {
   "cell_type": "code",
   "execution_count": null,
   "id": "a780d5ec",
   "metadata": {},
   "outputs": [],
   "source": [
    "client.fput_object(\n",
    "    \"curated\",\n",
    "    \"cluster.joblib\",\n",
    "    \"cluster.joblib\"\n",
    ")"
   ]
  },
  {
   "cell_type": "markdown",
   "id": "1d5bf50f",
   "metadata": {},
   "source": [
    "# Sweetviz"
   ]
  },
  {
   "cell_type": "code",
   "execution_count": null,
   "id": "a00c1938",
   "metadata": {},
   "outputs": [],
   "source": [
    "pip install sweetviz"
   ]
  },
  {
   "cell_type": "code",
   "execution_count": null,
   "id": "f6b1a25d",
   "metadata": {},
   "outputs": [],
   "source": [
    "import sweetviz as sv\n",
    "\n",
    "my_report = sv.analyze(df,\"turnover\")\n",
    "my_report.show_html()"
   ]
  }
 ],
 "metadata": {
  "kernelspec": {
   "display_name": "Python 3",
   "language": "python",
   "name": "python3"
  },
  "language_info": {
   "codemirror_mode": {
    "name": "ipython",
    "version": 3
   },
   "file_extension": ".py",
   "mimetype": "text/x-python",
   "name": "python",
   "nbconvert_exporter": "python",
   "pygments_lexer": "ipython3",
   "version": "3.8.8"
  }
 },
 "nbformat": 4,
 "nbformat_minor": 5
}
