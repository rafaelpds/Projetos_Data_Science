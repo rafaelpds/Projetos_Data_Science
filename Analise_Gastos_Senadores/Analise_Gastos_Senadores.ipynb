{
 "cells": [
  {
   "cell_type": "markdown",
   "id": "0b6dd635-74b6-461c-8428-e942375e33ce",
   "metadata": {
    "tags": []
   },
   "source": [
    "# Análise dados CEAPS"
   ]
  },
  {
   "cell_type": "markdown",
   "id": "81b13355-3c32-4333-af17-91f41aeb391a",
   "metadata": {},
   "source": [
    "CEAPS - Cotas para exercício da atividade parlamentar dos Senadores.\n",
    "A cota parlamentar é o valor que os membros do Poder Legislativo (deputados federais e estaduais, senadores e vereadores) têm direito a receber para cobrir despesas em função da sua atividade como parlamentar (agente público)."
   ]
  },
  {
   "cell_type": "markdown",
   "id": "5911a555-75a1-4e9d-b2f6-2b7c85f05092",
   "metadata": {},
   "source": [
    "### Importações necessárias"
   ]
  },
  {
   "cell_type": "code",
   "execution_count": 1,
   "id": "97cd7d32-286e-46c7-adae-e07219c60b43",
   "metadata": {},
   "outputs": [],
   "source": [
    "import pandas as pd"
   ]
  },
  {
   "cell_type": "code",
   "execution_count": 2,
   "id": "9b05b58c-7589-4314-8d71-b69f3ae8b9ba",
   "metadata": {},
   "outputs": [],
   "source": [
    "df_ceaps19 = pd.read_csv('despesa_ceaps_2019.csv', on_bad_lines='skip', sep = ';', header=1)\n",
    "df_ceaps20 = pd.read_csv('despesa_ceaps_2020.csv', on_bad_lines='skip', sep = ';', header=1)\n",
    "df_ceaps21 = pd.read_csv('despesa_ceaps_2021.csv', on_bad_lines='skip', sep = ';', header=1)\n",
    "df_ceaps22 = pd.read_csv('despesa_ceaps_2022.csv', on_bad_lines='skip', sep = ';', header=1)"
   ]
  },
  {
   "cell_type": "code",
   "execution_count": 3,
   "id": "8a01af64-c2e8-4724-bb14-efa3dd37dba1",
   "metadata": {},
   "outputs": [
    {
     "name": "stdout",
     "output_type": "stream",
     "text": [
      "3582\n",
      "16808\n",
      "14090\n",
      "21634\n"
     ]
    }
   ],
   "source": [
    "print(df_ceaps22.shape[0])\n",
    "print(df_ceaps21.shape[0])\n",
    "print(df_ceaps20.shape[0])\n",
    "print(df_ceaps19.shape[0])"
   ]
  },
  {
   "cell_type": "markdown",
   "id": "1ed9a7a7-1f09-4b19-9350-353cbbdd1864",
   "metadata": {},
   "source": [
    "### Validando a importação realizada"
   ]
  },
  {
   "cell_type": "code",
   "execution_count": 4,
   "id": "ba8aa217-f252-48a7-9e3d-422787aa9d41",
   "metadata": {},
   "outputs": [
    {
     "data": {
      "text/html": [
       "<div>\n",
       "<style scoped>\n",
       "    .dataframe tbody tr th:only-of-type {\n",
       "        vertical-align: middle;\n",
       "    }\n",
       "\n",
       "    .dataframe tbody tr th {\n",
       "        vertical-align: top;\n",
       "    }\n",
       "\n",
       "    .dataframe thead th {\n",
       "        text-align: right;\n",
       "    }\n",
       "</style>\n",
       "<table border=\"1\" class=\"dataframe\">\n",
       "  <thead>\n",
       "    <tr style=\"text-align: right;\">\n",
       "      <th></th>\n",
       "      <th>ANO</th>\n",
       "      <th>MES</th>\n",
       "      <th>SENADOR</th>\n",
       "      <th>TIPO_DESPESA</th>\n",
       "      <th>CNPJ_CPF</th>\n",
       "      <th>FORNECEDOR</th>\n",
       "      <th>DOCUMENTO</th>\n",
       "      <th>DATA</th>\n",
       "      <th>DETALHAMENTO</th>\n",
       "      <th>VALOR_REEMBOLSADO</th>\n",
       "      <th>COD_DOCUMENTO</th>\n",
       "    </tr>\n",
       "  </thead>\n",
       "  <tbody>\n",
       "    <tr>\n",
       "      <th>0</th>\n",
       "      <td>2022</td>\n",
       "      <td>1</td>\n",
       "      <td>ACIR GURGACZ</td>\n",
       "      <td>Aluguel de imóveis para escritório político, c...</td>\n",
       "      <td>004.948.028-63</td>\n",
       "      <td>GILBERTO PISELO DO NASCIMENTO</td>\n",
       "      <td>001/22</td>\n",
       "      <td>03/01/2022</td>\n",
       "      <td>Despesa com pagamento de aluguel de imóvel par...</td>\n",
       "      <td>6000</td>\n",
       "      <td>2173614</td>\n",
       "    </tr>\n",
       "  </tbody>\n",
       "</table>\n",
       "</div>"
      ],
      "text/plain": [
       "    ANO  MES       SENADOR                                       TIPO_DESPESA  \\\n",
       "0  2022    1  ACIR GURGACZ  Aluguel de imóveis para escritório político, c...   \n",
       "\n",
       "         CNPJ_CPF                     FORNECEDOR DOCUMENTO        DATA  \\\n",
       "0  004.948.028-63  GILBERTO PISELO DO NASCIMENTO    001/22  03/01/2022   \n",
       "\n",
       "                                        DETALHAMENTO VALOR_REEMBOLSADO  \\\n",
       "0  Despesa com pagamento de aluguel de imóvel par...              6000   \n",
       "\n",
       "   COD_DOCUMENTO  \n",
       "0        2173614  "
      ]
     },
     "execution_count": 4,
     "metadata": {},
     "output_type": "execute_result"
    }
   ],
   "source": [
    "df_ceaps22.head(1)"
   ]
  },
  {
   "cell_type": "code",
   "execution_count": 5,
   "id": "dcabfadf-2778-474e-8628-fe6451bdfb92",
   "metadata": {},
   "outputs": [
    {
     "data": {
      "text/html": [
       "<div>\n",
       "<style scoped>\n",
       "    .dataframe tbody tr th:only-of-type {\n",
       "        vertical-align: middle;\n",
       "    }\n",
       "\n",
       "    .dataframe tbody tr th {\n",
       "        vertical-align: top;\n",
       "    }\n",
       "\n",
       "    .dataframe thead th {\n",
       "        text-align: right;\n",
       "    }\n",
       "</style>\n",
       "<table border=\"1\" class=\"dataframe\">\n",
       "  <thead>\n",
       "    <tr style=\"text-align: right;\">\n",
       "      <th></th>\n",
       "      <th>ANO</th>\n",
       "      <th>MES</th>\n",
       "      <th>SENADOR</th>\n",
       "      <th>TIPO_DESPESA</th>\n",
       "      <th>CNPJ_CPF</th>\n",
       "      <th>FORNECEDOR</th>\n",
       "      <th>DOCUMENTO</th>\n",
       "      <th>DATA</th>\n",
       "      <th>DETALHAMENTO</th>\n",
       "      <th>VALOR_REEMBOLSADO</th>\n",
       "      <th>COD_DOCUMENTO</th>\n",
       "    </tr>\n",
       "  </thead>\n",
       "  <tbody>\n",
       "    <tr>\n",
       "      <th>0</th>\n",
       "      <td>2021</td>\n",
       "      <td>1</td>\n",
       "      <td>ACIR GURGACZ</td>\n",
       "      <td>Aluguel de imóveis para escritório político, c...</td>\n",
       "      <td>05.914.650/0001-66</td>\n",
       "      <td>ENERGISA</td>\n",
       "      <td>23.489.627</td>\n",
       "      <td>21/01/2021</td>\n",
       "      <td>Pagamento de energia elétrica para uso do escr...</td>\n",
       "      <td>75,29</td>\n",
       "      <td>2158003</td>\n",
       "    </tr>\n",
       "  </tbody>\n",
       "</table>\n",
       "</div>"
      ],
      "text/plain": [
       "    ANO  MES       SENADOR                                       TIPO_DESPESA  \\\n",
       "0  2021    1  ACIR GURGACZ  Aluguel de imóveis para escritório político, c...   \n",
       "\n",
       "             CNPJ_CPF FORNECEDOR   DOCUMENTO        DATA  \\\n",
       "0  05.914.650/0001-66   ENERGISA  23.489.627  21/01/2021   \n",
       "\n",
       "                                        DETALHAMENTO VALOR_REEMBOLSADO  \\\n",
       "0  Pagamento de energia elétrica para uso do escr...             75,29   \n",
       "\n",
       "   COD_DOCUMENTO  \n",
       "0        2158003  "
      ]
     },
     "execution_count": 5,
     "metadata": {},
     "output_type": "execute_result"
    }
   ],
   "source": [
    "df_ceaps21.head(1)"
   ]
  },
  {
   "cell_type": "code",
   "execution_count": 6,
   "id": "a16d44eb-63f1-4e82-b896-cb311ee21efc",
   "metadata": {},
   "outputs": [
    {
     "data": {
      "text/html": [
       "<div>\n",
       "<style scoped>\n",
       "    .dataframe tbody tr th:only-of-type {\n",
       "        vertical-align: middle;\n",
       "    }\n",
       "\n",
       "    .dataframe tbody tr th {\n",
       "        vertical-align: top;\n",
       "    }\n",
       "\n",
       "    .dataframe thead th {\n",
       "        text-align: right;\n",
       "    }\n",
       "</style>\n",
       "<table border=\"1\" class=\"dataframe\">\n",
       "  <thead>\n",
       "    <tr style=\"text-align: right;\">\n",
       "      <th></th>\n",
       "      <th>ANO</th>\n",
       "      <th>MES</th>\n",
       "      <th>SENADOR</th>\n",
       "      <th>TIPO_DESPESA</th>\n",
       "      <th>CNPJ_CPF</th>\n",
       "      <th>FORNECEDOR</th>\n",
       "      <th>DOCUMENTO</th>\n",
       "      <th>DATA</th>\n",
       "      <th>DETALHAMENTO</th>\n",
       "      <th>VALOR_REEMBOLSADO</th>\n",
       "      <th>COD_DOCUMENTO</th>\n",
       "    </tr>\n",
       "  </thead>\n",
       "  <tbody>\n",
       "    <tr>\n",
       "      <th>0</th>\n",
       "      <td>2020</td>\n",
       "      <td>1</td>\n",
       "      <td>ACIR GURGACZ</td>\n",
       "      <td>Aluguel de imóveis para escritório político, c...</td>\n",
       "      <td>05.914.650/0001-66</td>\n",
       "      <td>ENERGISA</td>\n",
       "      <td>14764742</td>\n",
       "      <td>06/01/2020</td>\n",
       "      <td>Despesa com energia elétrica para uso do escri...</td>\n",
       "      <td>122,62</td>\n",
       "      <td>2141820</td>\n",
       "    </tr>\n",
       "  </tbody>\n",
       "</table>\n",
       "</div>"
      ],
      "text/plain": [
       "    ANO  MES       SENADOR                                       TIPO_DESPESA  \\\n",
       "0  2020    1  ACIR GURGACZ  Aluguel de imóveis para escritório político, c...   \n",
       "\n",
       "             CNPJ_CPF FORNECEDOR DOCUMENTO        DATA  \\\n",
       "0  05.914.650/0001-66   ENERGISA  14764742  06/01/2020   \n",
       "\n",
       "                                        DETALHAMENTO VALOR_REEMBOLSADO  \\\n",
       "0  Despesa com energia elétrica para uso do escri...            122,62   \n",
       "\n",
       "   COD_DOCUMENTO  \n",
       "0        2141820  "
      ]
     },
     "execution_count": 6,
     "metadata": {},
     "output_type": "execute_result"
    }
   ],
   "source": [
    "df_ceaps20.head(1)"
   ]
  },
  {
   "cell_type": "code",
   "execution_count": 7,
   "id": "e8faa9e3-4fc6-4fc4-a8c4-7321ad31e7e2",
   "metadata": {},
   "outputs": [
    {
     "data": {
      "text/html": [
       "<div>\n",
       "<style scoped>\n",
       "    .dataframe tbody tr th:only-of-type {\n",
       "        vertical-align: middle;\n",
       "    }\n",
       "\n",
       "    .dataframe tbody tr th {\n",
       "        vertical-align: top;\n",
       "    }\n",
       "\n",
       "    .dataframe thead th {\n",
       "        text-align: right;\n",
       "    }\n",
       "</style>\n",
       "<table border=\"1\" class=\"dataframe\">\n",
       "  <thead>\n",
       "    <tr style=\"text-align: right;\">\n",
       "      <th></th>\n",
       "      <th>ANO</th>\n",
       "      <th>MES</th>\n",
       "      <th>SENADOR</th>\n",
       "      <th>TIPO_DESPESA</th>\n",
       "      <th>CNPJ_CPF</th>\n",
       "      <th>FORNECEDOR</th>\n",
       "      <th>DOCUMENTO</th>\n",
       "      <th>DATA</th>\n",
       "      <th>DETALHAMENTO</th>\n",
       "      <th>VALOR_REEMBOLSADO</th>\n",
       "      <th>COD_DOCUMENTO</th>\n",
       "    </tr>\n",
       "  </thead>\n",
       "  <tbody>\n",
       "    <tr>\n",
       "      <th>0</th>\n",
       "      <td>2019</td>\n",
       "      <td>1</td>\n",
       "      <td>ACIR GURGACZ</td>\n",
       "      <td>Aluguel de imóveis para escritório político, c...</td>\n",
       "      <td>05.914.650/0001-66</td>\n",
       "      <td>ENERGISA</td>\n",
       "      <td>6582758</td>\n",
       "      <td>04/01/2019</td>\n",
       "      <td>Despesa com pagamento de energia elétrica do e...</td>\n",
       "      <td>66,02</td>\n",
       "      <td>2116543</td>\n",
       "    </tr>\n",
       "  </tbody>\n",
       "</table>\n",
       "</div>"
      ],
      "text/plain": [
       "    ANO  MES       SENADOR                                       TIPO_DESPESA  \\\n",
       "0  2019    1  ACIR GURGACZ  Aluguel de imóveis para escritório político, c...   \n",
       "\n",
       "             CNPJ_CPF FORNECEDOR DOCUMENTO        DATA  \\\n",
       "0  05.914.650/0001-66   ENERGISA   6582758  04/01/2019   \n",
       "\n",
       "                                        DETALHAMENTO VALOR_REEMBOLSADO  \\\n",
       "0  Despesa com pagamento de energia elétrica do e...             66,02   \n",
       "\n",
       "   COD_DOCUMENTO  \n",
       "0        2116543  "
      ]
     },
     "execution_count": 7,
     "metadata": {},
     "output_type": "execute_result"
    }
   ],
   "source": [
    "df_ceaps19.head(1)"
   ]
  },
  {
   "cell_type": "markdown",
   "id": "6c414436-0be5-41da-9bed-563826af372c",
   "metadata": {
    "tags": []
   },
   "source": [
    "## Data Cleaning"
   ]
  },
  {
   "cell_type": "markdown",
   "id": "06a5ee01-7618-40bd-a934-3532f60a4cbb",
   "metadata": {},
   "source": [
    "#### As tabelas possuem a mesma quantidade de senadores que solicitaram reembolsos?"
   ]
  },
  {
   "cell_type": "code",
   "execution_count": 8,
   "id": "9943122d-2d02-4660-a06b-1943ac707751",
   "metadata": {},
   "outputs": [
    {
     "name": "stdout",
     "output_type": "stream",
     "text": [
      "80\n",
      "86\n",
      "84\n",
      "127\n"
     ]
    }
   ],
   "source": [
    "print(df_ceaps22.SENADOR.unique().shape[0])\n",
    "print(df_ceaps21.SENADOR.unique().shape[0])\n",
    "print(df_ceaps20.SENADOR.unique().shape[0])\n",
    "print(df_ceaps19.SENADOR.unique().shape[0])"
   ]
  },
  {
   "cell_type": "markdown",
   "id": "7a25c816-87bb-4140-b44c-6f7bf8dc2f49",
   "metadata": {},
   "source": [
    "#### O formato dos campos estão corretos?"
   ]
  },
  {
   "cell_type": "code",
   "execution_count": 9,
   "id": "1eea591a-169b-4c38-aef4-d3e5d8ac715f",
   "metadata": {},
   "outputs": [
    {
     "name": "stdout",
     "output_type": "stream",
     "text": [
      "<class 'pandas.core.frame.DataFrame'>\n",
      "RangeIndex: 3582 entries, 0 to 3581\n",
      "Data columns (total 11 columns):\n",
      " #   Column             Non-Null Count  Dtype \n",
      "---  ------             --------------  ----- \n",
      " 0   ANO                3582 non-null   int64 \n",
      " 1   MES                3582 non-null   int64 \n",
      " 2   SENADOR            3582 non-null   object\n",
      " 3   TIPO_DESPESA       3582 non-null   object\n",
      " 4   CNPJ_CPF           3582 non-null   object\n",
      " 5   FORNECEDOR         3582 non-null   object\n",
      " 6   DOCUMENTO          3418 non-null   object\n",
      " 7   DATA               3582 non-null   object\n",
      " 8   DETALHAMENTO       1818 non-null   object\n",
      " 9   VALOR_REEMBOLSADO  3582 non-null   object\n",
      " 10  COD_DOCUMENTO      3582 non-null   int64 \n",
      "dtypes: int64(3), object(8)\n",
      "memory usage: 308.0+ KB\n",
      "None\n",
      "***************\n",
      "***************\n",
      "<class 'pandas.core.frame.DataFrame'>\n",
      "RangeIndex: 16808 entries, 0 to 16807\n",
      "Data columns (total 11 columns):\n",
      " #   Column             Non-Null Count  Dtype \n",
      "---  ------             --------------  ----- \n",
      " 0   ANO                16808 non-null  int64 \n",
      " 1   MES                16808 non-null  int64 \n",
      " 2   SENADOR            16808 non-null  object\n",
      " 3   TIPO_DESPESA       16808 non-null  object\n",
      " 4   CNPJ_CPF           16808 non-null  object\n",
      " 5   FORNECEDOR         16808 non-null  object\n",
      " 6   DOCUMENTO          16133 non-null  object\n",
      " 7   DATA               16808 non-null  object\n",
      " 8   DETALHAMENTO       9193 non-null   object\n",
      " 9   VALOR_REEMBOLSADO  16808 non-null  object\n",
      " 10  COD_DOCUMENTO      16808 non-null  int64 \n",
      "dtypes: int64(3), object(8)\n",
      "memory usage: 1.4+ MB\n",
      "None\n",
      "***************\n",
      "***************\n",
      "<class 'pandas.core.frame.DataFrame'>\n",
      "RangeIndex: 14090 entries, 0 to 14089\n",
      "Data columns (total 11 columns):\n",
      " #   Column             Non-Null Count  Dtype \n",
      "---  ------             --------------  ----- \n",
      " 0   ANO                14090 non-null  int64 \n",
      " 1   MES                14090 non-null  int64 \n",
      " 2   SENADOR            14090 non-null  object\n",
      " 3   TIPO_DESPESA       14090 non-null  object\n",
      " 4   CNPJ_CPF           14090 non-null  object\n",
      " 5   FORNECEDOR         14090 non-null  object\n",
      " 6   DOCUMENTO          13470 non-null  object\n",
      " 7   DATA               14090 non-null  object\n",
      " 8   DETALHAMENTO       7228 non-null   object\n",
      " 9   VALOR_REEMBOLSADO  14090 non-null  object\n",
      " 10  COD_DOCUMENTO      14090 non-null  int64 \n",
      "dtypes: int64(3), object(8)\n",
      "memory usage: 1.2+ MB\n",
      "None\n",
      "***************\n",
      "***************\n",
      "<class 'pandas.core.frame.DataFrame'>\n",
      "RangeIndex: 21634 entries, 0 to 21633\n",
      "Data columns (total 11 columns):\n",
      " #   Column             Non-Null Count  Dtype \n",
      "---  ------             --------------  ----- \n",
      " 0   ANO                21634 non-null  int64 \n",
      " 1   MES                21634 non-null  int64 \n",
      " 2   SENADOR            21634 non-null  object\n",
      " 3   TIPO_DESPESA       21634 non-null  object\n",
      " 4   CNPJ_CPF           21634 non-null  object\n",
      " 5   FORNECEDOR         21634 non-null  object\n",
      " 6   DOCUMENTO          20900 non-null  object\n",
      " 7   DATA               21634 non-null  object\n",
      " 8   DETALHAMENTO       13092 non-null  object\n",
      " 9   VALOR_REEMBOLSADO  21634 non-null  object\n",
      " 10  COD_DOCUMENTO      21634 non-null  int64 \n",
      "dtypes: int64(3), object(8)\n",
      "memory usage: 1.8+ MB\n",
      "None\n"
     ]
    }
   ],
   "source": [
    "print(df_ceaps22.info())\n",
    "print(\"***************\")\n",
    "print(\"***************\")\n",
    "print(df_ceaps21.info())\n",
    "print(\"***************\")\n",
    "print(\"***************\")\n",
    "print(df_ceaps20.info())\n",
    "print(\"***************\")\n",
    "print(\"***************\")\n",
    "print(df_ceaps19.info())"
   ]
  },
  {
   "cell_type": "markdown",
   "id": "c4ca8bf0-54da-4ce6-9f7d-f7b29260018e",
   "metadata": {},
   "source": [
    "O campo de valor e data não estão no formato correto"
   ]
  },
  {
   "cell_type": "markdown",
   "id": "695462b8-7606-4cbf-b3d5-dc1a7125dbd6",
   "metadata": {},
   "source": [
    "#### Juntando as tabelas"
   ]
  },
  {
   "cell_type": "markdown",
   "id": "3946b642-3668-45a6-80b8-5d929bf2935c",
   "metadata": {},
   "source": [
    "Optei por juntar as tabelas para facilitar no tratamento das bases"
   ]
  },
  {
   "cell_type": "code",
   "execution_count": 10,
   "id": "2f1ec317-894c-4a0d-bf00-7aade4fdf8df",
   "metadata": {},
   "outputs": [],
   "source": [
    "df = pd.concat([df_ceaps19, df_ceaps20, df_ceaps21, df_ceaps22])"
   ]
  },
  {
   "cell_type": "code",
   "execution_count": 11,
   "id": "b9515b06-1216-45a4-b85b-03f5e8d78c28",
   "metadata": {},
   "outputs": [
    {
     "data": {
      "text/plain": [
       "56114"
      ]
     },
     "execution_count": 11,
     "metadata": {},
     "output_type": "execute_result"
    }
   ],
   "source": [
    "df.shape[0]"
   ]
  },
  {
   "cell_type": "code",
   "execution_count": 12,
   "id": "9292015d-1959-4687-9c03-925c8712758b",
   "metadata": {},
   "outputs": [
    {
     "data": {
      "text/html": [
       "<div>\n",
       "<style scoped>\n",
       "    .dataframe tbody tr th:only-of-type {\n",
       "        vertical-align: middle;\n",
       "    }\n",
       "\n",
       "    .dataframe tbody tr th {\n",
       "        vertical-align: top;\n",
       "    }\n",
       "\n",
       "    .dataframe thead th {\n",
       "        text-align: right;\n",
       "    }\n",
       "</style>\n",
       "<table border=\"1\" class=\"dataframe\">\n",
       "  <thead>\n",
       "    <tr style=\"text-align: right;\">\n",
       "      <th></th>\n",
       "      <th>ANO</th>\n",
       "      <th>MES</th>\n",
       "      <th>SENADOR</th>\n",
       "      <th>TIPO_DESPESA</th>\n",
       "      <th>CNPJ_CPF</th>\n",
       "      <th>FORNECEDOR</th>\n",
       "      <th>DOCUMENTO</th>\n",
       "      <th>DATA</th>\n",
       "      <th>DETALHAMENTO</th>\n",
       "      <th>VALOR_REEMBOLSADO</th>\n",
       "      <th>COD_DOCUMENTO</th>\n",
       "    </tr>\n",
       "  </thead>\n",
       "  <tbody>\n",
       "    <tr>\n",
       "      <th>3577</th>\n",
       "      <td>2022</td>\n",
       "      <td>4</td>\n",
       "      <td>ZEQUINHA MARINHO</td>\n",
       "      <td>Passagens aéreas, aquáticas e terrestres nacio...</td>\n",
       "      <td>22.052.777/0001-32</td>\n",
       "      <td>Exceller Tour</td>\n",
       "      <td>FXMSVF</td>\n",
       "      <td>02/04/2022</td>\n",
       "      <td>Companhia Aérea: LATAM, Localizador: FXMSVF. P...</td>\n",
       "      <td>1361,66</td>\n",
       "      <td>2177783</td>\n",
       "    </tr>\n",
       "    <tr>\n",
       "      <th>3578</th>\n",
       "      <td>2022</td>\n",
       "      <td>4</td>\n",
       "      <td>ZEQUINHA MARINHO</td>\n",
       "      <td>Passagens aéreas, aquáticas e terrestres nacio...</td>\n",
       "      <td>22.052.777/0001-32</td>\n",
       "      <td>Exceller Tour</td>\n",
       "      <td>VLNWSC</td>\n",
       "      <td>02/04/2022</td>\n",
       "      <td>Companhia Aérea: LATAM, Localizador: VLNWSC. P...</td>\n",
       "      <td>2723,23</td>\n",
       "      <td>2177780</td>\n",
       "    </tr>\n",
       "    <tr>\n",
       "      <th>3579</th>\n",
       "      <td>2022</td>\n",
       "      <td>4</td>\n",
       "      <td>ZEQUINHA MARINHO</td>\n",
       "      <td>Passagens aéreas, aquáticas e terrestres nacio...</td>\n",
       "      <td>22.052.777/0001-32</td>\n",
       "      <td>Exceller Tour</td>\n",
       "      <td>QVOLRY</td>\n",
       "      <td>04/04/2022</td>\n",
       "      <td>Companhia Aérea: GOL, Localizador: QVOLRY. Pas...</td>\n",
       "      <td>1681,23</td>\n",
       "      <td>2177794</td>\n",
       "    </tr>\n",
       "    <tr>\n",
       "      <th>3580</th>\n",
       "      <td>2022</td>\n",
       "      <td>4</td>\n",
       "      <td>ZEQUINHA MARINHO</td>\n",
       "      <td>Passagens aéreas, aquáticas e terrestres nacio...</td>\n",
       "      <td>22.052.777/0001-32</td>\n",
       "      <td>Exceller Tour</td>\n",
       "      <td>JBHH5Y</td>\n",
       "      <td>06/04/2022</td>\n",
       "      <td>Companhia Aérea: AZUL, Localizador: JBHH5Y. Pa...</td>\n",
       "      <td>1663,61</td>\n",
       "      <td>2177879</td>\n",
       "    </tr>\n",
       "    <tr>\n",
       "      <th>3581</th>\n",
       "      <td>2022</td>\n",
       "      <td>4</td>\n",
       "      <td>ZEQUINHA MARINHO</td>\n",
       "      <td>Passagens aéreas, aquáticas e terrestres nacio...</td>\n",
       "      <td>22.052.777/0001-32</td>\n",
       "      <td>Exceller Tour</td>\n",
       "      <td>FRFFFI</td>\n",
       "      <td>06/04/2022</td>\n",
       "      <td>Companhia Aérea: LATAM, Localizador: FRFFFI. P...</td>\n",
       "      <td>2324</td>\n",
       "      <td>2177912</td>\n",
       "    </tr>\n",
       "  </tbody>\n",
       "</table>\n",
       "</div>"
      ],
      "text/plain": [
       "       ANO  MES           SENADOR  \\\n",
       "3577  2022    4  ZEQUINHA MARINHO   \n",
       "3578  2022    4  ZEQUINHA MARINHO   \n",
       "3579  2022    4  ZEQUINHA MARINHO   \n",
       "3580  2022    4  ZEQUINHA MARINHO   \n",
       "3581  2022    4  ZEQUINHA MARINHO   \n",
       "\n",
       "                                           TIPO_DESPESA            CNPJ_CPF  \\\n",
       "3577  Passagens aéreas, aquáticas e terrestres nacio...  22.052.777/0001-32   \n",
       "3578  Passagens aéreas, aquáticas e terrestres nacio...  22.052.777/0001-32   \n",
       "3579  Passagens aéreas, aquáticas e terrestres nacio...  22.052.777/0001-32   \n",
       "3580  Passagens aéreas, aquáticas e terrestres nacio...  22.052.777/0001-32   \n",
       "3581  Passagens aéreas, aquáticas e terrestres nacio...  22.052.777/0001-32   \n",
       "\n",
       "         FORNECEDOR DOCUMENTO        DATA  \\\n",
       "3577  Exceller Tour    FXMSVF  02/04/2022   \n",
       "3578  Exceller Tour    VLNWSC  02/04/2022   \n",
       "3579  Exceller Tour    QVOLRY  04/04/2022   \n",
       "3580  Exceller Tour    JBHH5Y  06/04/2022   \n",
       "3581  Exceller Tour    FRFFFI  06/04/2022   \n",
       "\n",
       "                                           DETALHAMENTO VALOR_REEMBOLSADO  \\\n",
       "3577  Companhia Aérea: LATAM, Localizador: FXMSVF. P...           1361,66   \n",
       "3578  Companhia Aérea: LATAM, Localizador: VLNWSC. P...           2723,23   \n",
       "3579  Companhia Aérea: GOL, Localizador: QVOLRY. Pas...           1681,23   \n",
       "3580  Companhia Aérea: AZUL, Localizador: JBHH5Y. Pa...           1663,61   \n",
       "3581  Companhia Aérea: LATAM, Localizador: FRFFFI. P...              2324   \n",
       "\n",
       "      COD_DOCUMENTO  \n",
       "3577        2177783  \n",
       "3578        2177780  \n",
       "3579        2177794  \n",
       "3580        2177879  \n",
       "3581        2177912  "
      ]
     },
     "execution_count": 12,
     "metadata": {},
     "output_type": "execute_result"
    }
   ],
   "source": [
    "df.tail()"
   ]
  },
  {
   "cell_type": "markdown",
   "id": "e3b84ead-a223-487b-bd36-3ae9e4f1aeb6",
   "metadata": {},
   "source": [
    "verificando se o resultado após a concatenação está correto"
   ]
  },
  {
   "cell_type": "code",
   "execution_count": 13,
   "id": "dca4d1e1-0e60-4ba8-a107-e7e045c2b974",
   "metadata": {},
   "outputs": [
    {
     "data": {
      "text/plain": [
       "80"
      ]
     },
     "execution_count": 13,
     "metadata": {},
     "output_type": "execute_result"
    }
   ],
   "source": [
    "df[(df['ANO'] == 2022)].SENADOR.unique().shape[0]"
   ]
  },
  {
   "cell_type": "markdown",
   "id": "c839b386-e84e-423a-9a41-4959546d5c60",
   "metadata": {},
   "source": [
    "#### Convertendo os campos"
   ]
  },
  {
   "cell_type": "code",
   "execution_count": 14,
   "id": "78c2962c-865d-46ab-8ccf-f3b0676f696a",
   "metadata": {},
   "outputs": [
    {
     "data": {
      "text/html": [
       "<div>\n",
       "<style scoped>\n",
       "    .dataframe tbody tr th:only-of-type {\n",
       "        vertical-align: middle;\n",
       "    }\n",
       "\n",
       "    .dataframe tbody tr th {\n",
       "        vertical-align: top;\n",
       "    }\n",
       "\n",
       "    .dataframe thead th {\n",
       "        text-align: right;\n",
       "    }\n",
       "</style>\n",
       "<table border=\"1\" class=\"dataframe\">\n",
       "  <thead>\n",
       "    <tr style=\"text-align: right;\">\n",
       "      <th></th>\n",
       "      <th>ANO</th>\n",
       "      <th>MES</th>\n",
       "      <th>SENADOR</th>\n",
       "      <th>TIPO_DESPESA</th>\n",
       "      <th>CNPJ_CPF</th>\n",
       "      <th>FORNECEDOR</th>\n",
       "      <th>DOCUMENTO</th>\n",
       "      <th>DATA</th>\n",
       "      <th>DETALHAMENTO</th>\n",
       "      <th>VALOR_REEMBOLSADO</th>\n",
       "      <th>COD_DOCUMENTO</th>\n",
       "    </tr>\n",
       "  </thead>\n",
       "  <tbody>\n",
       "    <tr>\n",
       "      <th>0</th>\n",
       "      <td>2019</td>\n",
       "      <td>1</td>\n",
       "      <td>ACIR GURGACZ</td>\n",
       "      <td>Aluguel de imóveis para escritório político, c...</td>\n",
       "      <td>05.914.650/0001-66</td>\n",
       "      <td>ENERGISA</td>\n",
       "      <td>6582758</td>\n",
       "      <td>04/01/2019</td>\n",
       "      <td>Despesa com pagamento de energia elétrica do e...</td>\n",
       "      <td>66,02</td>\n",
       "      <td>2116543</td>\n",
       "    </tr>\n",
       "    <tr>\n",
       "      <th>1</th>\n",
       "      <td>2019</td>\n",
       "      <td>1</td>\n",
       "      <td>ACIR GURGACZ</td>\n",
       "      <td>Aluguel de imóveis para escritório político, c...</td>\n",
       "      <td>05.914.650/0001-66</td>\n",
       "      <td>ENERGISA</td>\n",
       "      <td>6582755</td>\n",
       "      <td>04/01/2019</td>\n",
       "      <td>Despesa com pagamento de energia elétrica do e...</td>\n",
       "      <td>139,98</td>\n",
       "      <td>2116546</td>\n",
       "    </tr>\n",
       "    <tr>\n",
       "      <th>2</th>\n",
       "      <td>2019</td>\n",
       "      <td>1</td>\n",
       "      <td>ACIR GURGACZ</td>\n",
       "      <td>Aluguel de imóveis para escritório político, c...</td>\n",
       "      <td>004.948.028-63</td>\n",
       "      <td>GILBERTO PISELO DO NASCIMENTO</td>\n",
       "      <td>119</td>\n",
       "      <td>07/01/2019</td>\n",
       "      <td>Despesa com pagamento de aluguel de imóvel par...</td>\n",
       "      <td>6000</td>\n",
       "      <td>2113817</td>\n",
       "    </tr>\n",
       "    <tr>\n",
       "      <th>3</th>\n",
       "      <td>2019</td>\n",
       "      <td>1</td>\n",
       "      <td>ACIR GURGACZ</td>\n",
       "      <td>Aluguel de imóveis para escritório político, c...</td>\n",
       "      <td>05.423.963/0001-11</td>\n",
       "      <td>OI MÓVEL S.A.</td>\n",
       "      <td>86161151</td>\n",
       "      <td>25/12/2018</td>\n",
       "      <td>Despesa com pagamento de telefonia para o escr...</td>\n",
       "      <td>316,39</td>\n",
       "      <td>2116541</td>\n",
       "    </tr>\n",
       "    <tr>\n",
       "      <th>4</th>\n",
       "      <td>2019</td>\n",
       "      <td>2</td>\n",
       "      <td>ACIR GURGACZ</td>\n",
       "      <td>Aluguel de imóveis para escritório político, c...</td>\n",
       "      <td>05.914.650/0001-66</td>\n",
       "      <td>ENERGISA</td>\n",
       "      <td>7236036</td>\n",
       "      <td>04/02/2019</td>\n",
       "      <td>Despesa com pagamento de energia elétrica para...</td>\n",
       "      <td>99,45</td>\n",
       "      <td>2116550</td>\n",
       "    </tr>\n",
       "  </tbody>\n",
       "</table>\n",
       "</div>"
      ],
      "text/plain": [
       "    ANO  MES       SENADOR                                       TIPO_DESPESA  \\\n",
       "0  2019    1  ACIR GURGACZ  Aluguel de imóveis para escritório político, c...   \n",
       "1  2019    1  ACIR GURGACZ  Aluguel de imóveis para escritório político, c...   \n",
       "2  2019    1  ACIR GURGACZ  Aluguel de imóveis para escritório político, c...   \n",
       "3  2019    1  ACIR GURGACZ  Aluguel de imóveis para escritório político, c...   \n",
       "4  2019    2  ACIR GURGACZ  Aluguel de imóveis para escritório político, c...   \n",
       "\n",
       "             CNPJ_CPF                     FORNECEDOR DOCUMENTO        DATA  \\\n",
       "0  05.914.650/0001-66                       ENERGISA   6582758  04/01/2019   \n",
       "1  05.914.650/0001-66                       ENERGISA   6582755  04/01/2019   \n",
       "2      004.948.028-63  GILBERTO PISELO DO NASCIMENTO       119  07/01/2019   \n",
       "3  05.423.963/0001-11                  OI MÓVEL S.A.  86161151  25/12/2018   \n",
       "4  05.914.650/0001-66                       ENERGISA   7236036  04/02/2019   \n",
       "\n",
       "                                        DETALHAMENTO VALOR_REEMBOLSADO  \\\n",
       "0  Despesa com pagamento de energia elétrica do e...             66,02   \n",
       "1  Despesa com pagamento de energia elétrica do e...            139,98   \n",
       "2  Despesa com pagamento de aluguel de imóvel par...              6000   \n",
       "3  Despesa com pagamento de telefonia para o escr...            316,39   \n",
       "4  Despesa com pagamento de energia elétrica para...             99,45   \n",
       "\n",
       "   COD_DOCUMENTO  \n",
       "0        2116543  \n",
       "1        2116546  \n",
       "2        2113817  \n",
       "3        2116541  \n",
       "4        2116550  "
      ]
     },
     "execution_count": 14,
     "metadata": {},
     "output_type": "execute_result"
    }
   ],
   "source": [
    "df.head()"
   ]
  },
  {
   "cell_type": "code",
   "execution_count": 15,
   "id": "7a104320-8717-4743-8a66-795f9ac8dd80",
   "metadata": {},
   "outputs": [
    {
     "name": "stdout",
     "output_type": "stream",
     "text": [
      "<class 'pandas.core.frame.DataFrame'>\n",
      "Int64Index: 56114 entries, 0 to 3581\n",
      "Data columns (total 11 columns):\n",
      " #   Column             Non-Null Count  Dtype \n",
      "---  ------             --------------  ----- \n",
      " 0   ANO                56114 non-null  int64 \n",
      " 1   MES                56114 non-null  int64 \n",
      " 2   SENADOR            56114 non-null  object\n",
      " 3   TIPO_DESPESA       56114 non-null  object\n",
      " 4   CNPJ_CPF           56114 non-null  object\n",
      " 5   FORNECEDOR         56114 non-null  object\n",
      " 6   DOCUMENTO          53921 non-null  object\n",
      " 7   DATA               56114 non-null  object\n",
      " 8   DETALHAMENTO       31331 non-null  object\n",
      " 9   VALOR_REEMBOLSADO  56114 non-null  object\n",
      " 10  COD_DOCUMENTO      56114 non-null  int64 \n",
      "dtypes: int64(3), object(8)\n",
      "memory usage: 5.1+ MB\n"
     ]
    }
   ],
   "source": [
    "df.info()"
   ]
  },
  {
   "cell_type": "markdown",
   "id": "7d2e9b09-808c-438a-8e7b-984de0e08c23",
   "metadata": {},
   "source": [
    "primeiramente vou ter que alterar a ',' para '.'"
   ]
  },
  {
   "cell_type": "code",
   "execution_count": 16,
   "id": "1184fe1f-5767-4e9e-8706-3666c94a031e",
   "metadata": {},
   "outputs": [],
   "source": [
    "df['VALOR_REEMBOLSADO'] = df['VALOR_REEMBOLSADO'].replace(',','.',regex=True)"
   ]
  },
  {
   "cell_type": "code",
   "execution_count": 17,
   "id": "fdf8b288-a533-4c2e-8598-8d58f1b7090d",
   "metadata": {},
   "outputs": [],
   "source": [
    "df['VALOR_REEMBOLSADO'] = df['VALOR_REEMBOLSADO'].astype(float)"
   ]
  },
  {
   "cell_type": "code",
   "execution_count": 18,
   "id": "dec566ef-65a3-4611-9128-637a76574680",
   "metadata": {},
   "outputs": [
    {
     "name": "stdout",
     "output_type": "stream",
     "text": [
      "<class 'pandas.core.frame.DataFrame'>\n",
      "Int64Index: 56114 entries, 0 to 3581\n",
      "Data columns (total 11 columns):\n",
      " #   Column             Non-Null Count  Dtype  \n",
      "---  ------             --------------  -----  \n",
      " 0   ANO                56114 non-null  int64  \n",
      " 1   MES                56114 non-null  int64  \n",
      " 2   SENADOR            56114 non-null  object \n",
      " 3   TIPO_DESPESA       56114 non-null  object \n",
      " 4   CNPJ_CPF           56114 non-null  object \n",
      " 5   FORNECEDOR         56114 non-null  object \n",
      " 6   DOCUMENTO          53921 non-null  object \n",
      " 7   DATA               56114 non-null  object \n",
      " 8   DETALHAMENTO       31331 non-null  object \n",
      " 9   VALOR_REEMBOLSADO  56114 non-null  float64\n",
      " 10  COD_DOCUMENTO      56114 non-null  int64  \n",
      "dtypes: float64(1), int64(3), object(7)\n",
      "memory usage: 5.1+ MB\n"
     ]
    }
   ],
   "source": [
    "df.info()"
   ]
  },
  {
   "cell_type": "code",
   "execution_count": 19,
   "id": "53bc0051-c80b-4140-8146-1e3ede0a4c2f",
   "metadata": {},
   "outputs": [
    {
     "data": {
      "text/html": [
       "<div>\n",
       "<style scoped>\n",
       "    .dataframe tbody tr th:only-of-type {\n",
       "        vertical-align: middle;\n",
       "    }\n",
       "\n",
       "    .dataframe tbody tr th {\n",
       "        vertical-align: top;\n",
       "    }\n",
       "\n",
       "    .dataframe thead th {\n",
       "        text-align: right;\n",
       "    }\n",
       "</style>\n",
       "<table border=\"1\" class=\"dataframe\">\n",
       "  <thead>\n",
       "    <tr style=\"text-align: right;\">\n",
       "      <th></th>\n",
       "      <th>ANO</th>\n",
       "      <th>MES</th>\n",
       "      <th>SENADOR</th>\n",
       "      <th>TIPO_DESPESA</th>\n",
       "      <th>CNPJ_CPF</th>\n",
       "      <th>FORNECEDOR</th>\n",
       "      <th>DOCUMENTO</th>\n",
       "      <th>DATA</th>\n",
       "      <th>DETALHAMENTO</th>\n",
       "      <th>VALOR_REEMBOLSADO</th>\n",
       "      <th>COD_DOCUMENTO</th>\n",
       "    </tr>\n",
       "  </thead>\n",
       "  <tbody>\n",
       "    <tr>\n",
       "      <th>0</th>\n",
       "      <td>2019</td>\n",
       "      <td>1</td>\n",
       "      <td>ACIR GURGACZ</td>\n",
       "      <td>Aluguel de imóveis para escritório político, c...</td>\n",
       "      <td>05.914.650/0001-66</td>\n",
       "      <td>ENERGISA</td>\n",
       "      <td>6582758</td>\n",
       "      <td>04/01/2019</td>\n",
       "      <td>Despesa com pagamento de energia elétrica do e...</td>\n",
       "      <td>66.02</td>\n",
       "      <td>2116543</td>\n",
       "    </tr>\n",
       "    <tr>\n",
       "      <th>1</th>\n",
       "      <td>2019</td>\n",
       "      <td>1</td>\n",
       "      <td>ACIR GURGACZ</td>\n",
       "      <td>Aluguel de imóveis para escritório político, c...</td>\n",
       "      <td>05.914.650/0001-66</td>\n",
       "      <td>ENERGISA</td>\n",
       "      <td>6582755</td>\n",
       "      <td>04/01/2019</td>\n",
       "      <td>Despesa com pagamento de energia elétrica do e...</td>\n",
       "      <td>139.98</td>\n",
       "      <td>2116546</td>\n",
       "    </tr>\n",
       "    <tr>\n",
       "      <th>2</th>\n",
       "      <td>2019</td>\n",
       "      <td>1</td>\n",
       "      <td>ACIR GURGACZ</td>\n",
       "      <td>Aluguel de imóveis para escritório político, c...</td>\n",
       "      <td>004.948.028-63</td>\n",
       "      <td>GILBERTO PISELO DO NASCIMENTO</td>\n",
       "      <td>119</td>\n",
       "      <td>07/01/2019</td>\n",
       "      <td>Despesa com pagamento de aluguel de imóvel par...</td>\n",
       "      <td>6000.00</td>\n",
       "      <td>2113817</td>\n",
       "    </tr>\n",
       "    <tr>\n",
       "      <th>3</th>\n",
       "      <td>2019</td>\n",
       "      <td>1</td>\n",
       "      <td>ACIR GURGACZ</td>\n",
       "      <td>Aluguel de imóveis para escritório político, c...</td>\n",
       "      <td>05.423.963/0001-11</td>\n",
       "      <td>OI MÓVEL S.A.</td>\n",
       "      <td>86161151</td>\n",
       "      <td>25/12/2018</td>\n",
       "      <td>Despesa com pagamento de telefonia para o escr...</td>\n",
       "      <td>316.39</td>\n",
       "      <td>2116541</td>\n",
       "    </tr>\n",
       "    <tr>\n",
       "      <th>4</th>\n",
       "      <td>2019</td>\n",
       "      <td>2</td>\n",
       "      <td>ACIR GURGACZ</td>\n",
       "      <td>Aluguel de imóveis para escritório político, c...</td>\n",
       "      <td>05.914.650/0001-66</td>\n",
       "      <td>ENERGISA</td>\n",
       "      <td>7236036</td>\n",
       "      <td>04/02/2019</td>\n",
       "      <td>Despesa com pagamento de energia elétrica para...</td>\n",
       "      <td>99.45</td>\n",
       "      <td>2116550</td>\n",
       "    </tr>\n",
       "  </tbody>\n",
       "</table>\n",
       "</div>"
      ],
      "text/plain": [
       "    ANO  MES       SENADOR                                       TIPO_DESPESA  \\\n",
       "0  2019    1  ACIR GURGACZ  Aluguel de imóveis para escritório político, c...   \n",
       "1  2019    1  ACIR GURGACZ  Aluguel de imóveis para escritório político, c...   \n",
       "2  2019    1  ACIR GURGACZ  Aluguel de imóveis para escritório político, c...   \n",
       "3  2019    1  ACIR GURGACZ  Aluguel de imóveis para escritório político, c...   \n",
       "4  2019    2  ACIR GURGACZ  Aluguel de imóveis para escritório político, c...   \n",
       "\n",
       "             CNPJ_CPF                     FORNECEDOR DOCUMENTO        DATA  \\\n",
       "0  05.914.650/0001-66                       ENERGISA   6582758  04/01/2019   \n",
       "1  05.914.650/0001-66                       ENERGISA   6582755  04/01/2019   \n",
       "2      004.948.028-63  GILBERTO PISELO DO NASCIMENTO       119  07/01/2019   \n",
       "3  05.423.963/0001-11                  OI MÓVEL S.A.  86161151  25/12/2018   \n",
       "4  05.914.650/0001-66                       ENERGISA   7236036  04/02/2019   \n",
       "\n",
       "                                        DETALHAMENTO  VALOR_REEMBOLSADO  \\\n",
       "0  Despesa com pagamento de energia elétrica do e...              66.02   \n",
       "1  Despesa com pagamento de energia elétrica do e...             139.98   \n",
       "2  Despesa com pagamento de aluguel de imóvel par...            6000.00   \n",
       "3  Despesa com pagamento de telefonia para o escr...             316.39   \n",
       "4  Despesa com pagamento de energia elétrica para...              99.45   \n",
       "\n",
       "   COD_DOCUMENTO  \n",
       "0        2116543  \n",
       "1        2116546  \n",
       "2        2113817  \n",
       "3        2116541  \n",
       "4        2116550  "
      ]
     },
     "execution_count": 19,
     "metadata": {},
     "output_type": "execute_result"
    }
   ],
   "source": [
    "df.head()"
   ]
  },
  {
   "cell_type": "code",
   "execution_count": 20,
   "id": "b1aa450b-f4ed-45ae-bd55-fdb07aa26893",
   "metadata": {},
   "outputs": [],
   "source": [
    "df['DATA_NEW'] = pd.to_datetime(df['DATA'], format=\"%d/%m/%Y\", errors='coerce')"
   ]
  },
  {
   "cell_type": "markdown",
   "id": "90ba60ef-a2f6-4deb-947d-4b4191334ec7",
   "metadata": {},
   "source": [
    "Algumas datas estão com o formato errado, será necessário tratar antes da formatação"
   ]
  },
  {
   "cell_type": "code",
   "execution_count": 21,
   "id": "6b4e4a22-0a62-4c1c-895f-7e5d1ba33e72",
   "metadata": {},
   "outputs": [
    {
     "data": {
      "text/html": [
       "<div>\n",
       "<style scoped>\n",
       "    .dataframe tbody tr th:only-of-type {\n",
       "        vertical-align: middle;\n",
       "    }\n",
       "\n",
       "    .dataframe tbody tr th {\n",
       "        vertical-align: top;\n",
       "    }\n",
       "\n",
       "    .dataframe thead th {\n",
       "        text-align: right;\n",
       "    }\n",
       "</style>\n",
       "<table border=\"1\" class=\"dataframe\">\n",
       "  <thead>\n",
       "    <tr style=\"text-align: right;\">\n",
       "      <th></th>\n",
       "      <th>ANO</th>\n",
       "      <th>MES</th>\n",
       "      <th>SENADOR</th>\n",
       "      <th>TIPO_DESPESA</th>\n",
       "      <th>CNPJ_CPF</th>\n",
       "      <th>FORNECEDOR</th>\n",
       "      <th>DOCUMENTO</th>\n",
       "      <th>DATA</th>\n",
       "      <th>DETALHAMENTO</th>\n",
       "      <th>VALOR_REEMBOLSADO</th>\n",
       "      <th>COD_DOCUMENTO</th>\n",
       "      <th>DATA_NEW</th>\n",
       "    </tr>\n",
       "  </thead>\n",
       "  <tbody>\n",
       "    <tr>\n",
       "      <th>10986</th>\n",
       "      <td>2019</td>\n",
       "      <td>1</td>\n",
       "      <td>LÚCIA VÂNIA</td>\n",
       "      <td>Aluguel de imóveis para escritório político, c...</td>\n",
       "      <td>08.573.731/0001-38</td>\n",
       "      <td>LDE Contabilidade e Administração de Condomíni...</td>\n",
       "      <td>107007</td>\n",
       "      <td>31/01/0219</td>\n",
       "      <td>Taxa condominial</td>\n",
       "      <td>271.26</td>\n",
       "      <td>2114251</td>\n",
       "      <td>NaT</td>\n",
       "    </tr>\n",
       "    <tr>\n",
       "      <th>10362</th>\n",
       "      <td>2020</td>\n",
       "      <td>5</td>\n",
       "      <td>PLÍNIO VALÉRIO</td>\n",
       "      <td>Divulgação da atividade parlamentar</td>\n",
       "      <td>27.209.437/0001-96</td>\n",
       "      <td>Excelsior Comunicação Digital Ltda</td>\n",
       "      <td>2020/9</td>\n",
       "      <td>05/05/0202</td>\n",
       "      <td>NaN</td>\n",
       "      <td>1150.00</td>\n",
       "      <td>2144535</td>\n",
       "      <td>NaT</td>\n",
       "    </tr>\n",
       "    <tr>\n",
       "      <th>2146</th>\n",
       "      <td>2021</td>\n",
       "      <td>11</td>\n",
       "      <td>CARLOS VIANA</td>\n",
       "      <td>Passagens aéreas, aquáticas e terrestres nacio...</td>\n",
       "      <td>16.978.175/0001-08</td>\n",
       "      <td>ADRIA VIAGENS E TURISMO LTDA</td>\n",
       "      <td>YK1QHD</td>\n",
       "      <td>29/10/0202</td>\n",
       "      <td>Companhia Aérea: AZUL, Localizador: YK1QHD. Pa...</td>\n",
       "      <td>339.90</td>\n",
       "      <td>2169237</td>\n",
       "      <td>NaT</td>\n",
       "    </tr>\n",
       "  </tbody>\n",
       "</table>\n",
       "</div>"
      ],
      "text/plain": [
       "        ANO  MES         SENADOR  \\\n",
       "10986  2019    1     LÚCIA VÂNIA   \n",
       "10362  2020    5  PLÍNIO VALÉRIO   \n",
       "2146   2021   11    CARLOS VIANA   \n",
       "\n",
       "                                            TIPO_DESPESA            CNPJ_CPF  \\\n",
       "10986  Aluguel de imóveis para escritório político, c...  08.573.731/0001-38   \n",
       "10362                Divulgação da atividade parlamentar  27.209.437/0001-96   \n",
       "2146   Passagens aéreas, aquáticas e terrestres nacio...  16.978.175/0001-08   \n",
       "\n",
       "                                              FORNECEDOR DOCUMENTO  \\\n",
       "10986  LDE Contabilidade e Administração de Condomíni...    107007   \n",
       "10362                 Excelsior Comunicação Digital Ltda    2020/9   \n",
       "2146                        ADRIA VIAGENS E TURISMO LTDA    YK1QHD   \n",
       "\n",
       "             DATA                                       DETALHAMENTO  \\\n",
       "10986  31/01/0219                                   Taxa condominial   \n",
       "10362  05/05/0202                                                NaN   \n",
       "2146   29/10/0202  Companhia Aérea: AZUL, Localizador: YK1QHD. Pa...   \n",
       "\n",
       "       VALOR_REEMBOLSADO  COD_DOCUMENTO DATA_NEW  \n",
       "10986             271.26        2114251      NaT  \n",
       "10362            1150.00        2144535      NaT  \n",
       "2146              339.90        2169237      NaT  "
      ]
     },
     "execution_count": 21,
     "metadata": {},
     "output_type": "execute_result"
    }
   ],
   "source": [
    "df[df['DATA_NEW'].isnull()]"
   ]
  },
  {
   "cell_type": "code",
   "execution_count": 22,
   "id": "baa0d0cd-6d08-4fd9-ac70-baa70c8fb1a6",
   "metadata": {},
   "outputs": [],
   "source": [
    "df['DATA'] = df['DATA'].replace('31/01/0219','31/01/2019')\n",
    "df['DATA'] = df['DATA'].replace('05/05/0202','05/05/2020')\n",
    "df['DATA'] = df['DATA'].replace('29/10/0202','29/10/2020')"
   ]
  },
  {
   "cell_type": "code",
   "execution_count": 23,
   "id": "73e3ac3d-141a-4dc2-9c98-47cf04965766",
   "metadata": {},
   "outputs": [],
   "source": [
    "df['DATA'] = pd.to_datetime(df['DATA'], format=\"%d/%m/%Y\")"
   ]
  },
  {
   "cell_type": "code",
   "execution_count": 24,
   "id": "0812b38d-a43d-4d95-b797-735b4e20e384",
   "metadata": {},
   "outputs": [
    {
     "name": "stdout",
     "output_type": "stream",
     "text": [
      "<class 'pandas.core.frame.DataFrame'>\n",
      "Int64Index: 56114 entries, 0 to 3581\n",
      "Data columns (total 12 columns):\n",
      " #   Column             Non-Null Count  Dtype         \n",
      "---  ------             --------------  -----         \n",
      " 0   ANO                56114 non-null  int64         \n",
      " 1   MES                56114 non-null  int64         \n",
      " 2   SENADOR            56114 non-null  object        \n",
      " 3   TIPO_DESPESA       56114 non-null  object        \n",
      " 4   CNPJ_CPF           56114 non-null  object        \n",
      " 5   FORNECEDOR         56114 non-null  object        \n",
      " 6   DOCUMENTO          53921 non-null  object        \n",
      " 7   DATA               56114 non-null  datetime64[ns]\n",
      " 8   DETALHAMENTO       31331 non-null  object        \n",
      " 9   VALOR_REEMBOLSADO  56114 non-null  float64       \n",
      " 10  COD_DOCUMENTO      56114 non-null  int64         \n",
      " 11  DATA_NEW           56111 non-null  datetime64[ns]\n",
      "dtypes: datetime64[ns](2), float64(1), int64(3), object(6)\n",
      "memory usage: 5.6+ MB\n"
     ]
    }
   ],
   "source": [
    "df.info()"
   ]
  },
  {
   "cell_type": "code",
   "execution_count": 25,
   "id": "491a7677-890d-4b6f-afe1-713f507af0e5",
   "metadata": {},
   "outputs": [],
   "source": [
    "df = df.drop('DATA_NEW', axis=1)"
   ]
  },
  {
   "cell_type": "code",
   "execution_count": 26,
   "id": "33608b84-fdf0-4f33-9056-21baa4edc544",
   "metadata": {},
   "outputs": [
    {
     "data": {
      "text/html": [
       "<div>\n",
       "<style scoped>\n",
       "    .dataframe tbody tr th:only-of-type {\n",
       "        vertical-align: middle;\n",
       "    }\n",
       "\n",
       "    .dataframe tbody tr th {\n",
       "        vertical-align: top;\n",
       "    }\n",
       "\n",
       "    .dataframe thead th {\n",
       "        text-align: right;\n",
       "    }\n",
       "</style>\n",
       "<table border=\"1\" class=\"dataframe\">\n",
       "  <thead>\n",
       "    <tr style=\"text-align: right;\">\n",
       "      <th></th>\n",
       "      <th>ANO</th>\n",
       "      <th>MES</th>\n",
       "      <th>SENADOR</th>\n",
       "      <th>TIPO_DESPESA</th>\n",
       "      <th>CNPJ_CPF</th>\n",
       "      <th>FORNECEDOR</th>\n",
       "      <th>DOCUMENTO</th>\n",
       "      <th>DATA</th>\n",
       "      <th>DETALHAMENTO</th>\n",
       "      <th>VALOR_REEMBOLSADO</th>\n",
       "      <th>COD_DOCUMENTO</th>\n",
       "    </tr>\n",
       "  </thead>\n",
       "  <tbody>\n",
       "    <tr>\n",
       "      <th>0</th>\n",
       "      <td>2019</td>\n",
       "      <td>1</td>\n",
       "      <td>ACIR GURGACZ</td>\n",
       "      <td>Aluguel de imóveis para escritório político, c...</td>\n",
       "      <td>05.914.650/0001-66</td>\n",
       "      <td>ENERGISA</td>\n",
       "      <td>6582758</td>\n",
       "      <td>2019-01-04</td>\n",
       "      <td>Despesa com pagamento de energia elétrica do e...</td>\n",
       "      <td>66.02</td>\n",
       "      <td>2116543</td>\n",
       "    </tr>\n",
       "  </tbody>\n",
       "</table>\n",
       "</div>"
      ],
      "text/plain": [
       "    ANO  MES       SENADOR                                       TIPO_DESPESA  \\\n",
       "0  2019    1  ACIR GURGACZ  Aluguel de imóveis para escritório político, c...   \n",
       "\n",
       "             CNPJ_CPF FORNECEDOR DOCUMENTO       DATA  \\\n",
       "0  05.914.650/0001-66   ENERGISA   6582758 2019-01-04   \n",
       "\n",
       "                                        DETALHAMENTO  VALOR_REEMBOLSADO  \\\n",
       "0  Despesa com pagamento de energia elétrica do e...              66.02   \n",
       "\n",
       "   COD_DOCUMENTO  \n",
       "0        2116543  "
      ]
     },
     "execution_count": 26,
     "metadata": {},
     "output_type": "execute_result"
    }
   ],
   "source": [
    "df.head(1)"
   ]
  },
  {
   "cell_type": "markdown",
   "id": "5dfdeea3-bb5f-47bd-9851-574c4dad5193",
   "metadata": {},
   "source": [
    "#### Verificando se tem nulos"
   ]
  },
  {
   "cell_type": "code",
   "execution_count": 27,
   "id": "d109d77a-7f19-49f4-bb64-0d6bdeff4ea0",
   "metadata": {},
   "outputs": [
    {
     "data": {
      "text/plain": [
       "ANO                      0\n",
       "MES                      0\n",
       "SENADOR                  0\n",
       "TIPO_DESPESA             0\n",
       "CNPJ_CPF                 0\n",
       "FORNECEDOR               0\n",
       "DOCUMENTO             2193\n",
       "DATA                     0\n",
       "DETALHAMENTO         24783\n",
       "VALOR_REEMBOLSADO        0\n",
       "COD_DOCUMENTO            0\n",
       "dtype: int64"
      ]
     },
     "execution_count": 27,
     "metadata": {},
     "output_type": "execute_result"
    }
   ],
   "source": [
    "df.isnull().sum()"
   ]
  },
  {
   "cell_type": "markdown",
   "id": "0e27c974-6f3d-4fba-9cef-9e73634ab24c",
   "metadata": {},
   "source": [
    "a feature documento não me diz muita coisa, vou preencher com -1 e depois vou avaliar se vou retirar essa feature"
   ]
  },
  {
   "cell_type": "code",
   "execution_count": 28,
   "id": "f41ac861-e787-4717-8794-068abf3def64",
   "metadata": {},
   "outputs": [],
   "source": [
    "df['DOCUMENTO'] = df['DOCUMENTO'].fillna(-1)"
   ]
  },
  {
   "cell_type": "code",
   "execution_count": 29,
   "id": "b23a1b63-acde-48dc-b8fd-9a80ca0a9aa2",
   "metadata": {},
   "outputs": [],
   "source": [
    "df['DETALHAMENTO'] = df['DETALHAMENTO'].fillna('Nao Informado')"
   ]
  },
  {
   "cell_type": "code",
   "execution_count": 30,
   "id": "2a7aebe8-96aa-41e1-b754-923e5710ee0d",
   "metadata": {},
   "outputs": [
    {
     "data": {
      "text/plain": [
       "ANO                  0\n",
       "MES                  0\n",
       "SENADOR              0\n",
       "TIPO_DESPESA         0\n",
       "CNPJ_CPF             0\n",
       "FORNECEDOR           0\n",
       "DOCUMENTO            0\n",
       "DATA                 0\n",
       "DETALHAMENTO         0\n",
       "VALOR_REEMBOLSADO    0\n",
       "COD_DOCUMENTO        0\n",
       "dtype: int64"
      ]
     },
     "execution_count": 30,
     "metadata": {},
     "output_type": "execute_result"
    }
   ],
   "source": [
    "df.isnull().sum()"
   ]
  },
  {
   "cell_type": "markdown",
   "id": "46a2f155-d77f-4462-ba79-780521755de5",
   "metadata": {},
   "source": [
    "#### Tem valor de reembolso negativo ou vazio?"
   ]
  },
  {
   "cell_type": "code",
   "execution_count": 31,
   "id": "6a95c49d-5e80-4dea-9ab0-9b0d07c21078",
   "metadata": {},
   "outputs": [
    {
     "data": {
      "text/html": [
       "<div>\n",
       "<style scoped>\n",
       "    .dataframe tbody tr th:only-of-type {\n",
       "        vertical-align: middle;\n",
       "    }\n",
       "\n",
       "    .dataframe tbody tr th {\n",
       "        vertical-align: top;\n",
       "    }\n",
       "\n",
       "    .dataframe thead th {\n",
       "        text-align: right;\n",
       "    }\n",
       "</style>\n",
       "<table border=\"1\" class=\"dataframe\">\n",
       "  <thead>\n",
       "    <tr style=\"text-align: right;\">\n",
       "      <th></th>\n",
       "      <th>ANO</th>\n",
       "      <th>MES</th>\n",
       "      <th>SENADOR</th>\n",
       "      <th>TIPO_DESPESA</th>\n",
       "      <th>CNPJ_CPF</th>\n",
       "      <th>FORNECEDOR</th>\n",
       "      <th>DOCUMENTO</th>\n",
       "      <th>DATA</th>\n",
       "      <th>DETALHAMENTO</th>\n",
       "      <th>VALOR_REEMBOLSADO</th>\n",
       "      <th>COD_DOCUMENTO</th>\n",
       "    </tr>\n",
       "  </thead>\n",
       "  <tbody>\n",
       "  </tbody>\n",
       "</table>\n",
       "</div>"
      ],
      "text/plain": [
       "Empty DataFrame\n",
       "Columns: [ANO, MES, SENADOR, TIPO_DESPESA, CNPJ_CPF, FORNECEDOR, DOCUMENTO, DATA, DETALHAMENTO, VALOR_REEMBOLSADO, COD_DOCUMENTO]\n",
       "Index: []"
      ]
     },
     "execution_count": 31,
     "metadata": {},
     "output_type": "execute_result"
    }
   ],
   "source": [
    "df[df['VALOR_REEMBOLSADO']<0]"
   ]
  },
  {
   "cell_type": "code",
   "execution_count": 32,
   "id": "0b0d6727-8dbe-4f3e-999c-b0c40015b2ce",
   "metadata": {},
   "outputs": [
    {
     "data": {
      "text/html": [
       "<div>\n",
       "<style scoped>\n",
       "    .dataframe tbody tr th:only-of-type {\n",
       "        vertical-align: middle;\n",
       "    }\n",
       "\n",
       "    .dataframe tbody tr th {\n",
       "        vertical-align: top;\n",
       "    }\n",
       "\n",
       "    .dataframe thead th {\n",
       "        text-align: right;\n",
       "    }\n",
       "</style>\n",
       "<table border=\"1\" class=\"dataframe\">\n",
       "  <thead>\n",
       "    <tr style=\"text-align: right;\">\n",
       "      <th></th>\n",
       "      <th>ANO</th>\n",
       "      <th>MES</th>\n",
       "      <th>SENADOR</th>\n",
       "      <th>TIPO_DESPESA</th>\n",
       "      <th>CNPJ_CPF</th>\n",
       "      <th>FORNECEDOR</th>\n",
       "      <th>DOCUMENTO</th>\n",
       "      <th>DATA</th>\n",
       "      <th>DETALHAMENTO</th>\n",
       "      <th>VALOR_REEMBOLSADO</th>\n",
       "      <th>COD_DOCUMENTO</th>\n",
       "    </tr>\n",
       "  </thead>\n",
       "  <tbody>\n",
       "  </tbody>\n",
       "</table>\n",
       "</div>"
      ],
      "text/plain": [
       "Empty DataFrame\n",
       "Columns: [ANO, MES, SENADOR, TIPO_DESPESA, CNPJ_CPF, FORNECEDOR, DOCUMENTO, DATA, DETALHAMENTO, VALOR_REEMBOLSADO, COD_DOCUMENTO]\n",
       "Index: []"
      ]
     },
     "execution_count": 32,
     "metadata": {},
     "output_type": "execute_result"
    }
   ],
   "source": [
    "df[df['VALOR_REEMBOLSADO'].isnull()]"
   ]
  },
  {
   "cell_type": "markdown",
   "id": "f9f3ad25-403c-4a30-9eda-d5f49f3ce5c4",
   "metadata": {},
   "source": [
    "#### Existem linhas duplicadas?"
   ]
  },
  {
   "cell_type": "code",
   "execution_count": 33,
   "id": "4ccc68c6-bc5d-4f48-99d1-653d93b5bb4b",
   "metadata": {},
   "outputs": [
    {
     "data": {
      "text/plain": [
       "False"
      ]
     },
     "execution_count": 33,
     "metadata": {},
     "output_type": "execute_result"
    }
   ],
   "source": [
    "df.duplicated().any()"
   ]
  },
  {
   "cell_type": "markdown",
   "id": "a5973ee2-fa06-4a8a-9d86-43d02c3e8df0",
   "metadata": {},
   "source": [
    "#### Há nomes incorretos?"
   ]
  },
  {
   "cell_type": "code",
   "execution_count": 48,
   "id": "0d57aa01-c768-4a6a-81fd-dc33005c0123",
   "metadata": {},
   "outputs": [
    {
     "data": {
      "text/plain": [
       "array(['ACIR GURGACZ', 'AÉCIO NEVES', 'ALESSANDRO VIEIRA',\n",
       "       'ALOYSIO NUNES FERREIRA', 'ALVARO DIAS', 'ANA AMÉLIA',\n",
       "       'ÂNGELA PORTELA', 'ANGELO CORONEL', 'ANTONIO ANASTASIA',\n",
       "       'ANTÔNIO CARLOS VALADARES', 'ARMANDO MONTEIRO',\n",
       "       'AROLDE DE OLIVEIRA', 'ATAÍDES OLIVEIRA', 'BENEDITO DE LIRA',\n",
       "       'BLAIRO MAGGI', 'CARLOS VIANA', 'CÁSSIO CUNHA LIMA',\n",
       "       'CHICO RODRIGUES', 'CID GOMES', 'CIRO NOGUEIRA', 'CONFÚCIO MOURA',\n",
       "       'DALIRIO BEBER', 'DANIELLA RIBEIRO', 'DÁRIO BERGER',\n",
       "       'DAVI ALCOLUMBRE', 'EDISON LOBÃO', 'EDUARDO AMORIM',\n",
       "       'EDUARDO BRAGA', 'EDUARDO GIRÃO', 'EDUARDO GOMES', 'ELIZIANE GAMA',\n",
       "       'ELMANO FÉRRER', 'ESPERIDIÃO AMIN', 'FABIANO CONTARATO',\n",
       "       'FERNANDO BEZERRA COELHO', 'FERNANDO COLLOR', 'FLÁVIO ARNS',\n",
       "       'FLÁVIO BOLSONARO', 'FLEXA RIBEIRO', 'GARIBALDI ALVES FILHO',\n",
       "       'GLEISI HOFFMANN', 'GUARACY SILVEIRA', 'HÉLIO JOSÉ',\n",
       "       'HUMBERTO COSTA', 'IRAJÁ', 'IVO CASSOL', 'IZALCI LUCAS',\n",
       "       'JADER BARBALHO', 'JAQUES WAGNER', 'JARBAS VASCONCELOS',\n",
       "       'JAYME CAMPOS', 'JEAN PAUL PRATES', 'JOÃO ALBERTO SOUZA',\n",
       "       'JOÃO CAPIBERIBE', 'JORGE VIANA', 'JORGINHO MELLO',\n",
       "       'JOSÉ AGRIPINO', 'JOSÉ MARANHÃO', 'JOSÉ MEDEIROS', 'JOSÉ PIMENTEL',\n",
       "       'JOSÉ SERRA', 'JUÍZA SELMA', 'KÁTIA ABREU', 'LASIER MARTINS',\n",
       "       'LÍDICE DA MATA', 'LINDBERGH FARIAS', 'LUCAS BARRETO',\n",
       "       'LÚCIA VÂNIA', 'LUIS CARLOS HEINZE', 'LUIZ CARLOS DO CARMO',\n",
       "       'LUIZ PASTORE', 'MAGNO MALTA', 'MAILZA GOMES', 'MAJOR OLIMPIO',\n",
       "       'MARA GABRILLI', 'MARCELO CASTRO', 'MARCIO BITTAR',\n",
       "       'MARCOS DO VAL', 'MARCOS ROGÉRIO', 'MARIA DO CARMO ALVES',\n",
       "       'MARTA SUPLICY', 'MECIAS DE JESUS', 'NELSINHO TRAD', 'OMAR AZIZ',\n",
       "       'ORIOVISTO GUIMARÃES', 'OTTO ALENCAR', 'PAULO ALBUQUERQUE',\n",
       "       'PAULO BAUER', 'PAULO PAIM', 'PAULO ROCHA',\n",
       "       'PEDRO CHAVES DOS SANTOS FILHO', 'PLÍNIO VALÉRIO',\n",
       "       'PRISCO BEZERRA', 'RAIMUNDO LIRA', 'RANDOLFE RODRIGUES',\n",
       "       'RENAN CALHEIROS', 'RENILDE BULHÕES', 'RICARDO FERRAÇO',\n",
       "       'ROBERTO REQUIÃO', 'ROBERTO ROCHA', 'RODRIGO CUNHA',\n",
       "       'RODRIGO PACHECO', 'ROGÉRIO CARVALHO', 'ROMÁRIO', 'ROMERO JUCÁ',\n",
       "       'ROSE DE FREITAS', 'SÉRGIO PETECÃO', 'SIMONE TEBET',\n",
       "       'SIQUEIRA CAMPOS', 'SORAYA THRONICKE', 'STYVENSON VALENTIM',\n",
       "       'TASSO JEREISSATI', 'TELMÁRIO MOTA', 'VALDIR RAUPP',\n",
       "       'VANDERLAN CARDOSO', 'VANESSA GRAZZIOTIN',\n",
       "       'VENEZIANO VITAL DO RÊGO', 'VICENTINHO ALVES', 'WALDEMIR MOKA',\n",
       "       'WALTER PINHEIRO', 'WELLINGTON FAGUNDES', 'WEVERTON ROCHA',\n",
       "       'WILDER MORAIS', 'ZÉ SANTANA', 'ZENAIDE MAIA', 'ZEQUINHA MARINHO',\n",
       "       'ZEZÉ PERRELLA', 'CARLOS FÁVARO', 'CARLOS PORTINHO',\n",
       "       'DIEGO TAVARES', 'NEY SUASSUNA', 'CHIQUINHO FEITOSA',\n",
       "       'ELIANE NOGUEIRA', 'GIORDANO', 'JOSÉ ANÍBAL',\n",
       "       'MARIA ELIZA DE AGUIAR E SILVA', 'NAILDE PANTA', 'NILDA GONDIM',\n",
       "       'VIRGINIO DE CARVALHO', 'ALEXANDRE SILVEIRA'], dtype=object)"
      ]
     },
     "execution_count": 48,
     "metadata": {},
     "output_type": "execute_result"
    }
   ],
   "source": [
    "df['SENADOR'].unique()"
   ]
  },
  {
   "cell_type": "markdown",
   "id": "5d49f230-d13e-4119-a8ce-ce676640d107",
   "metadata": {},
   "source": [
    "Fiz uma análise visual e não identifiquei nenhum nome incorreto"
   ]
  },
  {
   "cell_type": "markdown",
   "id": "087243bb-5a90-4ac0-891c-ca4abf5c465c",
   "metadata": {},
   "source": [
    "#### Removendo os acentos"
   ]
  },
  {
   "cell_type": "markdown",
   "id": "cf6d2545-afb2-4de5-b236-096dd6c0ebc0",
   "metadata": {},
   "source": [
    "Optei por trabalhar com a base sem caracteres especiais"
   ]
  },
  {
   "cell_type": "code",
   "execution_count": 130,
   "id": "d8097545-5cf7-4c46-9a76-f420a2240d09",
   "metadata": {},
   "outputs": [],
   "source": [
    "df['SENADOR'] = df['SENADOR'].replace(['Á','Ã','Â'],'A',regex=True)\n",
    "df['SENADOR'] = df['SENADOR'].replace(['É','Ê'],'E',regex=True)\n",
    "df['SENADOR'] = df['SENADOR'].replace(['Í','Î'],'I',regex=True)\n",
    "df['SENADOR'] = df['SENADOR'].replace(['Ó','Õ','Ô'],'O',regex=True)\n",
    "df['SENADOR'] = df['SENADOR'].replace(['Ú','Û'],'U',regex=True)\n",
    "df['SENADOR'] = df['SENADOR'].replace('Ç','C',regex=True)"
   ]
  },
  {
   "cell_type": "code",
   "execution_count": 131,
   "id": "46a4c761-edcf-484c-a144-bf536d1a1dc8",
   "metadata": {},
   "outputs": [
    {
     "data": {
      "text/plain": [
       "array(['ACIR GURGACZ', 'AECIO NEVES', 'ALESSANDRO VIEIRA',\n",
       "       'ALOYSIO NUNES FERREIRA', 'ALVARO DIAS', 'ANA AMELIA',\n",
       "       'ANGELA PORTELA', 'ANGELO CORONEL', 'ANTONIO ANASTASIA',\n",
       "       'ANTONIO CARLOS VALADARES', 'ARMANDO MONTEIRO',\n",
       "       'AROLDE DE OLIVEIRA', 'ATAIDES OLIVEIRA', 'BENEDITO DE LIRA',\n",
       "       'BLAIRO MAGGI', 'CARLOS VIANA', 'CASSIO CUNHA LIMA',\n",
       "       'CHICO RODRIGUES', 'CID GOMES', 'CIRO NOGUEIRA', 'CONFUCIO MOURA',\n",
       "       'DALIRIO BEBER', 'DANIELLA RIBEIRO', 'DARIO BERGER',\n",
       "       'DAVI ALCOLUMBRE', 'EDISON LOBAO', 'EDUARDO AMORIM',\n",
       "       'EDUARDO BRAGA', 'EDUARDO GIRAO', 'EDUARDO GOMES', 'ELIZIANE GAMA',\n",
       "       'ELMANO FERRER', 'ESPERIDIAO AMIN', 'FABIANO CONTARATO',\n",
       "       'FERNANDO BEZERRA COELHO', 'FERNANDO COLLOR', 'FLAVIO ARNS',\n",
       "       'FLAVIO BOLSONARO', 'FLEXA RIBEIRO', 'GARIBALDI ALVES FILHO',\n",
       "       'GLEISI HOFFMANN', 'GUARACY SILVEIRA', 'HELIO JOSE',\n",
       "       'HUMBERTO COSTA', 'IRAJA', 'IVO CASSOL', 'IZALCI LUCAS',\n",
       "       'JADER BARBALHO', 'JAQUES WAGNER', 'JARBAS VASCONCELOS',\n",
       "       'JAYME CAMPOS', 'JEAN PAUL PRATES', 'JOAO ALBERTO SOUZA',\n",
       "       'JOAO CAPIBERIBE', 'JORGE VIANA', 'JORGINHO MELLO',\n",
       "       'JOSE AGRIPINO', 'JOSE MARANHAO', 'JOSE MEDEIROS', 'JOSE PIMENTEL',\n",
       "       'JOSE SERRA', 'JUIZA SELMA', 'KATIA ABREU', 'LASIER MARTINS',\n",
       "       'LIDICE DA MATA', 'LINDBERGH FARIAS', 'LUCAS BARRETO',\n",
       "       'LUCIA VANIA', 'LUIS CARLOS HEINZE', 'LUIZ CARLOS DO CARMO',\n",
       "       'LUIZ PASTORE', 'MAGNO MALTA', 'MAILZA GOMES', 'MAJOR OLIMPIO',\n",
       "       'MARA GABRILLI', 'MARCELO CASTRO', 'MARCIO BITTAR',\n",
       "       'MARCOS DO VAL', 'MARCOS ROGERIO', 'MARIA DO CARMO ALVES',\n",
       "       'MARTA SUPLICY', 'MECIAS DE JESUS', 'NELSINHO TRAD', 'OMAR AZIZ',\n",
       "       'ORIOVISTO GUIMARAES', 'OTTO ALENCAR', 'PAULO ALBUQUERQUE',\n",
       "       'PAULO BAUER', 'PAULO PAIM', 'PAULO ROCHA',\n",
       "       'PEDRO CHAVES DOS SANTOS FILHO', 'PLINIO VALERIO',\n",
       "       'PRISCO BEZERRA', 'RAIMUNDO LIRA', 'RANDOLFE RODRIGUES',\n",
       "       'RENAN CALHEIROS', 'RENILDE BULHOES', 'RICARDO FERRACO',\n",
       "       'ROBERTO REQUIAO', 'ROBERTO ROCHA', 'RODRIGO CUNHA',\n",
       "       'RODRIGO PACHECO', 'ROGERIO CARVALHO', 'ROMARIO', 'ROMERO JUCA',\n",
       "       'ROSE DE FREITAS', 'SERGIO PETECAO', 'SIMONE TEBET',\n",
       "       'SIQUEIRA CAMPOS', 'SORAYA THRONICKE', 'STYVENSON VALENTIM',\n",
       "       'TASSO JEREISSATI', 'TELMARIO MOTA', 'VALDIR RAUPP',\n",
       "       'VANDERLAN CARDOSO', 'VANESSA GRAZZIOTIN',\n",
       "       'VENEZIANO VITAL DO REGO', 'VICENTINHO ALVES', 'WALDEMIR MOKA',\n",
       "       'WALTER PINHEIRO', 'WELLINGTON FAGUNDES', 'WEVERTON ROCHA',\n",
       "       'WILDER MORAIS', 'ZE SANTANA', 'ZENAIDE MAIA', 'ZEQUINHA MARINHO',\n",
       "       'ZEZE PERRELLA', 'CARLOS FAVARO', 'CARLOS PORTINHO',\n",
       "       'DIEGO TAVARES', 'NEY SUASSUNA', 'CHIQUINHO FEITOSA',\n",
       "       'ELIANE NOGUEIRA', 'GIORDANO', 'JOSE ANIBAL',\n",
       "       'MARIA ELIZA DE AGUIAR E SILVA', 'NAILDE PANTA', 'NILDA GONDIM',\n",
       "       'VIRGINIO DE CARVALHO', 'ALEXANDRE SILVEIRA'], dtype=object)"
      ]
     },
     "execution_count": 131,
     "metadata": {},
     "output_type": "execute_result"
    }
   ],
   "source": [
    "df['SENADOR'].unique()"
   ]
  },
  {
   "cell_type": "markdown",
   "id": "5ebe713f-67c5-4a88-b978-6c5a814d38de",
   "metadata": {},
   "source": [
    "#### O campo CNPJ_CPF precisa de ajuste na formatação?"
   ]
  },
  {
   "cell_type": "markdown",
   "id": "b464f8a3-1faa-4560-b5ea-3ca9ec37db22",
   "metadata": {},
   "source": [
    "Tem algum CNPJ ou CPF com mais digitos do que o normal?"
   ]
  },
  {
   "cell_type": "code",
   "execution_count": 38,
   "id": "9858a958-d20e-4ac3-a5e6-fdbe64f9e7d5",
   "metadata": {},
   "outputs": [],
   "source": [
    "valid_base1 = df['CNPJ_CPF'].str.len()"
   ]
  },
  {
   "cell_type": "code",
   "execution_count": 39,
   "id": "90d474a4-f4a8-4b2e-a8a8-43683fddf99a",
   "metadata": {},
   "outputs": [
    {
     "data": {
      "text/plain": [
       "18    54830\n",
       "14     1284\n",
       "Name: CNPJ_CPF, dtype: int64"
      ]
     },
     "execution_count": 39,
     "metadata": {},
     "output_type": "execute_result"
    }
   ],
   "source": [
    "valid_base1.value_counts()"
   ]
  },
  {
   "cell_type": "markdown",
   "id": "551f853b-f196-4cfd-b020-2cd76d786063",
   "metadata": {},
   "source": [
    "Verificando se tem letras no campo"
   ]
  },
  {
   "cell_type": "code",
   "execution_count": 68,
   "id": "4df85a03-260f-4088-9b6a-603a0716cdae",
   "metadata": {},
   "outputs": [],
   "source": [
    "valid_base2 = df[df['CNPJ_CPF'].str.contains('[A-Za-z]')]"
   ]
  },
  {
   "cell_type": "code",
   "execution_count": 69,
   "id": "3ec2b6fc-7e79-4a33-9f36-330e6de700e4",
   "metadata": {},
   "outputs": [
    {
     "data": {
      "text/html": [
       "<div>\n",
       "<style scoped>\n",
       "    .dataframe tbody tr th:only-of-type {\n",
       "        vertical-align: middle;\n",
       "    }\n",
       "\n",
       "    .dataframe tbody tr th {\n",
       "        vertical-align: top;\n",
       "    }\n",
       "\n",
       "    .dataframe thead th {\n",
       "        text-align: right;\n",
       "    }\n",
       "</style>\n",
       "<table border=\"1\" class=\"dataframe\">\n",
       "  <thead>\n",
       "    <tr style=\"text-align: right;\">\n",
       "      <th></th>\n",
       "      <th>ANO</th>\n",
       "      <th>MES</th>\n",
       "      <th>SENADOR</th>\n",
       "      <th>TIPO_DESPESA</th>\n",
       "      <th>CNPJ_CPF</th>\n",
       "      <th>FORNECEDOR</th>\n",
       "      <th>DOCUMENTO</th>\n",
       "      <th>DATA</th>\n",
       "      <th>DETALHAMENTO</th>\n",
       "      <th>VALOR_REEMBOLSADO</th>\n",
       "      <th>COD_DOCUMENTO</th>\n",
       "    </tr>\n",
       "  </thead>\n",
       "  <tbody>\n",
       "  </tbody>\n",
       "</table>\n",
       "</div>"
      ],
      "text/plain": [
       "Empty DataFrame\n",
       "Columns: [ANO, MES, SENADOR, TIPO_DESPESA, CNPJ_CPF, FORNECEDOR, DOCUMENTO, DATA, DETALHAMENTO, VALOR_REEMBOLSADO, COD_DOCUMENTO]\n",
       "Index: []"
      ]
     },
     "execution_count": 69,
     "metadata": {},
     "output_type": "execute_result"
    }
   ],
   "source": [
    "valid_base2[valid_base2 == True]"
   ]
  },
  {
   "cell_type": "markdown",
   "id": "f1e81c8d-aee3-4a2c-9843-b8e9d434f366",
   "metadata": {},
   "source": [
    "#### O campo DOCUMENTO precisa de ajuste na formatação?"
   ]
  },
  {
   "cell_type": "code",
   "execution_count": 51,
   "id": "637735b4-8d5c-45ac-a0a8-07c8cb73f448",
   "metadata": {},
   "outputs": [],
   "source": [
    "valid_base3 = df['DOCUMENTO'].str.match(\"^[a-zA-Z]\")"
   ]
  },
  {
   "cell_type": "code",
   "execution_count": 52,
   "id": "2880ac8f-5264-41fc-9c71-949c06fd5fdc",
   "metadata": {},
   "outputs": [
    {
     "data": {
      "text/plain": [
       "False    40703\n",
       "True     13218\n",
       "Name: DOCUMENTO, dtype: int64"
      ]
     },
     "execution_count": 52,
     "metadata": {},
     "output_type": "execute_result"
    }
   ],
   "source": [
    "valid_base3.value_counts()"
   ]
  },
  {
   "cell_type": "code",
   "execution_count": 61,
   "id": "a52d62a8-a331-4d9b-b627-3b4b092b5bc9",
   "metadata": {},
   "outputs": [
    {
     "data": {
      "text/plain": [
       "Int64Index([  36,   37,   53,   54,   55,   70,  130,  131,  132,  158,\n",
       "            ...\n",
       "            3572, 3573, 3574, 3575, 3576, 3577, 3578, 3579, 3580, 3581],\n",
       "           dtype='int64', length=13218)"
      ]
     },
     "execution_count": 61,
     "metadata": {},
     "output_type": "execute_result"
    }
   ],
   "source": [
    "valid_base3.index[valid_base3 == True]"
   ]
  },
  {
   "cell_type": "code",
   "execution_count": 62,
   "id": "db8a6498-d532-4578-9696-6e69df255040",
   "metadata": {},
   "outputs": [
    {
     "data": {
      "text/plain": [
       "ANO                                                               2019\n",
       "MES                                                                  5\n",
       "SENADOR                                                   ACIR GURGACZ\n",
       "TIPO_DESPESA         Passagens aéreas, aquáticas e terrestres nacio...\n",
       "CNPJ_CPF                                            33.937.681/0001-78\n",
       "FORNECEDOR                                                       LATAM\n",
       "DOCUMENTO                                                       NHWTDT\n",
       "DATA                                               2019-05-21 00:00:00\n",
       "DETALHAMENTO         Companhia Aérea: LATAM, Localizador: NHWTDT. P...\n",
       "VALOR_REEMBOLSADO                                              2839.84\n",
       "COD_DOCUMENTO                                                  2124740\n",
       "Name: 36, dtype: object"
      ]
     },
     "execution_count": 62,
     "metadata": {},
     "output_type": "execute_result"
    }
   ],
   "source": [
    "df.iloc[36]"
   ]
  },
  {
   "cell_type": "markdown",
   "id": "86f9ee1a-afdb-4ac3-9bf2-9942e40aa5a6",
   "metadata": {},
   "source": [
    "Analisando as informações disponíveis, não consegui chegar a conclusão acerca da feature DOCUMENTO, nesse caso optei por não utilizar esta. Além disso, como pode ser visualizado nas verificações acima, a feature não contém um padrão, ou seja, em alguns momento tem letras e números ou somente letras."
   ]
  },
  {
   "cell_type": "markdown",
   "id": "58b19bfb-ade7-4df1-8d13-6719694e7396",
   "metadata": {},
   "source": [
    "## Data Visualization"
   ]
  },
  {
   "cell_type": "code",
   "execution_count": null,
   "id": "f61445a6-4c91-4d5d-9f28-8bc4b25e7fb2",
   "metadata": {},
   "outputs": [],
   "source": []
  }
 ],
 "metadata": {
  "kernelspec": {
   "display_name": "Python 3 (ipykernel)",
   "language": "python",
   "name": "python3"
  },
  "language_info": {
   "codemirror_mode": {
    "name": "ipython",
    "version": 3
   },
   "file_extension": ".py",
   "mimetype": "text/x-python",
   "name": "python",
   "nbconvert_exporter": "python",
   "pygments_lexer": "ipython3",
   "version": "3.9.7"
  }
 },
 "nbformat": 4,
 "nbformat_minor": 5
}
