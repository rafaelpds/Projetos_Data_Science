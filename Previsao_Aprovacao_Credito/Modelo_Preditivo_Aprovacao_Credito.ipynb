{
  "nbformat": 4,
  "nbformat_minor": 0,
  "metadata": {
    "colab": {
      "name": "Untitled5.ipynb",
      "provenance": [],
      "authorship_tag": "ABX9TyPS23132rkuxnAxSaDGlEOW",
      "include_colab_link": true
    },
    "kernelspec": {
      "name": "python3",
      "display_name": "Python 3"
    },
    "language_info": {
      "name": "python"
    }
  },
  "cells": [
    {
      "cell_type": "markdown",
      "metadata": {
        "id": "view-in-github",
        "colab_type": "text"
      },
      "source": [
        "<a href=\"https://colab.research.google.com/github/rafaelpds/Projetos_Data_Science/blob/main/Previsao_Aprovacao_Credito/Modelo_Preditivo_Aprovacao_Credito.ipynb\" target=\"_parent\"><img src=\"https://colab.research.google.com/assets/colab-badge.svg\" alt=\"Open In Colab\"/></a>"
      ]
    },
    {
      "cell_type": "code",
      "execution_count": 144,
      "metadata": {
        "colab": {
          "base_uri": "https://localhost:8080/",
          "height": 17
        },
        "id": "tsemLRvmnak2",
        "outputId": "2aee0510-7714-4f81-b6ad-3c9c3e87c46f"
      },
      "outputs": [
        {
          "output_type": "display_data",
          "data": {
            "text/html": [
              "        <script type=\"text/javascript\">\n",
              "        window.PlotlyConfig = {MathJaxConfig: 'local'};\n",
              "        if (window.MathJax) {MathJax.Hub.Config({SVG: {font: \"STIX-Web\"}});}\n",
              "        if (typeof require !== 'undefined') {\n",
              "        require.undef(\"plotly\");\n",
              "        requirejs.config({\n",
              "            paths: {\n",
              "                'plotly': ['https://cdn.plot.ly/plotly-2.8.3.min']\n",
              "            }\n",
              "        });\n",
              "        require(['plotly'], function(Plotly) {\n",
              "            window._Plotly = Plotly;\n",
              "        });\n",
              "        }\n",
              "        </script>\n",
              "        "
            ]
          },
          "metadata": {}
        }
      ],
      "source": [
        "import pandas as pd\n",
        "import numpy as np\n",
        "\n",
        "import matplotlib.pyplot as plt\n",
        "import seaborn as sns\n",
        "import cufflinks as cf\n",
        "cf.go_offline()\n",
        "\n",
        "# Sampling Methods\n",
        "from imblearn.over_sampling import RandomOverSampler, SMOTE\n",
        "from imblearn.under_sampling import RandomUnderSampler, NearMiss, TomekLinks\n",
        "from imblearn.pipeline import Pipeline\n",
        "from imblearn.combine import SMOTETomek"
      ]
    },
    {
      "cell_type": "code",
      "source": [
        "df_train = pd.read_csv('treino.csv')\n",
        "df_test = pd.read_csv('teste.csv')"
      ],
      "metadata": {
        "id": "JrxrqYSSndaj"
      },
      "execution_count": 145,
      "outputs": []
    },
    {
      "cell_type": "code",
      "source": [
        "df_train.head()"
      ],
      "metadata": {
        "colab": {
          "base_uri": "https://localhost:8080/",
          "height": 270
        },
        "id": "eUuof6URnqzA",
        "outputId": "b1f80a06-e021-43c8-90d0-160874ad4282"
      },
      "execution_count": 146,
      "outputs": [
        {
          "output_type": "execute_result",
          "data": {
            "text/html": [
              "\n",
              "  <div id=\"df-106e290b-45c3-44b3-9a54-ba95c32a5ce1\">\n",
              "    <div class=\"colab-df-container\">\n",
              "      <div>\n",
              "<style scoped>\n",
              "    .dataframe tbody tr th:only-of-type {\n",
              "        vertical-align: middle;\n",
              "    }\n",
              "\n",
              "    .dataframe tbody tr th {\n",
              "        vertical-align: top;\n",
              "    }\n",
              "\n",
              "    .dataframe thead th {\n",
              "        text-align: right;\n",
              "    }\n",
              "</style>\n",
              "<table border=\"1\" class=\"dataframe\">\n",
              "  <thead>\n",
              "    <tr style=\"text-align: right;\">\n",
              "      <th></th>\n",
              "      <th>inadimplente</th>\n",
              "      <th>util_linhas_inseguras</th>\n",
              "      <th>idade</th>\n",
              "      <th>vezes_passou_de_30_59_dias</th>\n",
              "      <th>razao_debito</th>\n",
              "      <th>salario_mensal</th>\n",
              "      <th>numero_linhas_crdto_aberto</th>\n",
              "      <th>numero_vezes_passou_90_dias</th>\n",
              "      <th>numero_emprestimos_imobiliarios</th>\n",
              "      <th>numero_de_vezes_que_passou_60_89_dias</th>\n",
              "      <th>numero_de_dependentes</th>\n",
              "    </tr>\n",
              "  </thead>\n",
              "  <tbody>\n",
              "    <tr>\n",
              "      <th>0</th>\n",
              "      <td>1</td>\n",
              "      <td>0.766127</td>\n",
              "      <td>45</td>\n",
              "      <td>2</td>\n",
              "      <td>0.802982</td>\n",
              "      <td>9120.0</td>\n",
              "      <td>13</td>\n",
              "      <td>0</td>\n",
              "      <td>6</td>\n",
              "      <td>0</td>\n",
              "      <td>2.0</td>\n",
              "    </tr>\n",
              "    <tr>\n",
              "      <th>1</th>\n",
              "      <td>0</td>\n",
              "      <td>0.957151</td>\n",
              "      <td>40</td>\n",
              "      <td>0</td>\n",
              "      <td>0.121876</td>\n",
              "      <td>2600.0</td>\n",
              "      <td>4</td>\n",
              "      <td>0</td>\n",
              "      <td>0</td>\n",
              "      <td>0</td>\n",
              "      <td>1.0</td>\n",
              "    </tr>\n",
              "    <tr>\n",
              "      <th>2</th>\n",
              "      <td>0</td>\n",
              "      <td>0.658180</td>\n",
              "      <td>38</td>\n",
              "      <td>1</td>\n",
              "      <td>0.085113</td>\n",
              "      <td>3042.0</td>\n",
              "      <td>2</td>\n",
              "      <td>1</td>\n",
              "      <td>0</td>\n",
              "      <td>0</td>\n",
              "      <td>0.0</td>\n",
              "    </tr>\n",
              "    <tr>\n",
              "      <th>3</th>\n",
              "      <td>0</td>\n",
              "      <td>0.233810</td>\n",
              "      <td>30</td>\n",
              "      <td>0</td>\n",
              "      <td>0.036050</td>\n",
              "      <td>3300.0</td>\n",
              "      <td>5</td>\n",
              "      <td>0</td>\n",
              "      <td>0</td>\n",
              "      <td>0</td>\n",
              "      <td>0.0</td>\n",
              "    </tr>\n",
              "    <tr>\n",
              "      <th>4</th>\n",
              "      <td>0</td>\n",
              "      <td>0.907239</td>\n",
              "      <td>49</td>\n",
              "      <td>1</td>\n",
              "      <td>0.024926</td>\n",
              "      <td>63588.0</td>\n",
              "      <td>7</td>\n",
              "      <td>0</td>\n",
              "      <td>1</td>\n",
              "      <td>0</td>\n",
              "      <td>0.0</td>\n",
              "    </tr>\n",
              "  </tbody>\n",
              "</table>\n",
              "</div>\n",
              "      <button class=\"colab-df-convert\" onclick=\"convertToInteractive('df-106e290b-45c3-44b3-9a54-ba95c32a5ce1')\"\n",
              "              title=\"Convert this dataframe to an interactive table.\"\n",
              "              style=\"display:none;\">\n",
              "        \n",
              "  <svg xmlns=\"http://www.w3.org/2000/svg\" height=\"24px\"viewBox=\"0 0 24 24\"\n",
              "       width=\"24px\">\n",
              "    <path d=\"M0 0h24v24H0V0z\" fill=\"none\"/>\n",
              "    <path d=\"M18.56 5.44l.94 2.06.94-2.06 2.06-.94-2.06-.94-.94-2.06-.94 2.06-2.06.94zm-11 1L8.5 8.5l.94-2.06 2.06-.94-2.06-.94L8.5 2.5l-.94 2.06-2.06.94zm10 10l.94 2.06.94-2.06 2.06-.94-2.06-.94-.94-2.06-.94 2.06-2.06.94z\"/><path d=\"M17.41 7.96l-1.37-1.37c-.4-.4-.92-.59-1.43-.59-.52 0-1.04.2-1.43.59L10.3 9.45l-7.72 7.72c-.78.78-.78 2.05 0 2.83L4 21.41c.39.39.9.59 1.41.59.51 0 1.02-.2 1.41-.59l7.78-7.78 2.81-2.81c.8-.78.8-2.07 0-2.86zM5.41 20L4 18.59l7.72-7.72 1.47 1.35L5.41 20z\"/>\n",
              "  </svg>\n",
              "      </button>\n",
              "      \n",
              "  <style>\n",
              "    .colab-df-container {\n",
              "      display:flex;\n",
              "      flex-wrap:wrap;\n",
              "      gap: 12px;\n",
              "    }\n",
              "\n",
              "    .colab-df-convert {\n",
              "      background-color: #E8F0FE;\n",
              "      border: none;\n",
              "      border-radius: 50%;\n",
              "      cursor: pointer;\n",
              "      display: none;\n",
              "      fill: #1967D2;\n",
              "      height: 32px;\n",
              "      padding: 0 0 0 0;\n",
              "      width: 32px;\n",
              "    }\n",
              "\n",
              "    .colab-df-convert:hover {\n",
              "      background-color: #E2EBFA;\n",
              "      box-shadow: 0px 1px 2px rgba(60, 64, 67, 0.3), 0px 1px 3px 1px rgba(60, 64, 67, 0.15);\n",
              "      fill: #174EA6;\n",
              "    }\n",
              "\n",
              "    [theme=dark] .colab-df-convert {\n",
              "      background-color: #3B4455;\n",
              "      fill: #D2E3FC;\n",
              "    }\n",
              "\n",
              "    [theme=dark] .colab-df-convert:hover {\n",
              "      background-color: #434B5C;\n",
              "      box-shadow: 0px 1px 3px 1px rgba(0, 0, 0, 0.15);\n",
              "      filter: drop-shadow(0px 1px 2px rgba(0, 0, 0, 0.3));\n",
              "      fill: #FFFFFF;\n",
              "    }\n",
              "  </style>\n",
              "\n",
              "      <script>\n",
              "        const buttonEl =\n",
              "          document.querySelector('#df-106e290b-45c3-44b3-9a54-ba95c32a5ce1 button.colab-df-convert');\n",
              "        buttonEl.style.display =\n",
              "          google.colab.kernel.accessAllowed ? 'block' : 'none';\n",
              "\n",
              "        async function convertToInteractive(key) {\n",
              "          const element = document.querySelector('#df-106e290b-45c3-44b3-9a54-ba95c32a5ce1');\n",
              "          const dataTable =\n",
              "            await google.colab.kernel.invokeFunction('convertToInteractive',\n",
              "                                                     [key], {});\n",
              "          if (!dataTable) return;\n",
              "\n",
              "          const docLinkHtml = 'Like what you see? Visit the ' +\n",
              "            '<a target=\"_blank\" href=https://colab.research.google.com/notebooks/data_table.ipynb>data table notebook</a>'\n",
              "            + ' to learn more about interactive tables.';\n",
              "          element.innerHTML = '';\n",
              "          dataTable['output_type'] = 'display_data';\n",
              "          await google.colab.output.renderOutput(dataTable, element);\n",
              "          const docLink = document.createElement('div');\n",
              "          docLink.innerHTML = docLinkHtml;\n",
              "          element.appendChild(docLink);\n",
              "        }\n",
              "      </script>\n",
              "    </div>\n",
              "  </div>\n",
              "  "
            ],
            "text/plain": [
              "   inadimplente  ...  numero_de_dependentes\n",
              "0             1  ...                    2.0\n",
              "1             0  ...                    1.0\n",
              "2             0  ...                    0.0\n",
              "3             0  ...                    0.0\n",
              "4             0  ...                    0.0\n",
              "\n",
              "[5 rows x 11 columns]"
            ]
          },
          "metadata": {},
          "execution_count": 146
        }
      ]
    },
    {
      "cell_type": "code",
      "source": [
        "df_test.head()"
      ],
      "metadata": {
        "colab": {
          "base_uri": "https://localhost:8080/",
          "height": 270
        },
        "id": "wH1bHbCBnxDe",
        "outputId": "5ddf5258-0337-4a17-bb1a-ccd077b78e63"
      },
      "execution_count": 147,
      "outputs": [
        {
          "output_type": "execute_result",
          "data": {
            "text/html": [
              "\n",
              "  <div id=\"df-790912de-f7cb-44be-a879-132f072a45c0\">\n",
              "    <div class=\"colab-df-container\">\n",
              "      <div>\n",
              "<style scoped>\n",
              "    .dataframe tbody tr th:only-of-type {\n",
              "        vertical-align: middle;\n",
              "    }\n",
              "\n",
              "    .dataframe tbody tr th {\n",
              "        vertical-align: top;\n",
              "    }\n",
              "\n",
              "    .dataframe thead th {\n",
              "        text-align: right;\n",
              "    }\n",
              "</style>\n",
              "<table border=\"1\" class=\"dataframe\">\n",
              "  <thead>\n",
              "    <tr style=\"text-align: right;\">\n",
              "      <th></th>\n",
              "      <th>util_linhas_inseguras</th>\n",
              "      <th>idade</th>\n",
              "      <th>vezes_passou_de_30_59_dias</th>\n",
              "      <th>razao_debito</th>\n",
              "      <th>salario_mensal</th>\n",
              "      <th>numero_linhas_crdto_aberto</th>\n",
              "      <th>numero_vezes_passou_90_dias</th>\n",
              "      <th>numero_emprestimos_imobiliarios</th>\n",
              "      <th>numero_de_vezes_que_passou_60_89_dias</th>\n",
              "      <th>numero_de_dependentes</th>\n",
              "    </tr>\n",
              "  </thead>\n",
              "  <tbody>\n",
              "    <tr>\n",
              "      <th>0</th>\n",
              "      <td>0.025849</td>\n",
              "      <td>62</td>\n",
              "      <td>0</td>\n",
              "      <td>0.081775</td>\n",
              "      <td>8180.0</td>\n",
              "      <td>3</td>\n",
              "      <td>0</td>\n",
              "      <td>2</td>\n",
              "      <td>0</td>\n",
              "      <td>0.0</td>\n",
              "    </tr>\n",
              "    <tr>\n",
              "      <th>1</th>\n",
              "      <td>0.667083</td>\n",
              "      <td>55</td>\n",
              "      <td>0</td>\n",
              "      <td>0.153112</td>\n",
              "      <td>2200.0</td>\n",
              "      <td>3</td>\n",
              "      <td>0</td>\n",
              "      <td>0</td>\n",
              "      <td>0</td>\n",
              "      <td>0.0</td>\n",
              "    </tr>\n",
              "    <tr>\n",
              "      <th>2</th>\n",
              "      <td>0.007093</td>\n",
              "      <td>44</td>\n",
              "      <td>0</td>\n",
              "      <td>0.148800</td>\n",
              "      <td>7499.0</td>\n",
              "      <td>20</td>\n",
              "      <td>0</td>\n",
              "      <td>1</td>\n",
              "      <td>0</td>\n",
              "      <td>0.0</td>\n",
              "    </tr>\n",
              "    <tr>\n",
              "      <th>3</th>\n",
              "      <td>0.091213</td>\n",
              "      <td>54</td>\n",
              "      <td>0</td>\n",
              "      <td>0.351635</td>\n",
              "      <td>5900.0</td>\n",
              "      <td>15</td>\n",
              "      <td>0</td>\n",
              "      <td>1</td>\n",
              "      <td>1</td>\n",
              "      <td>0.0</td>\n",
              "    </tr>\n",
              "    <tr>\n",
              "      <th>4</th>\n",
              "      <td>0.112680</td>\n",
              "      <td>54</td>\n",
              "      <td>0</td>\n",
              "      <td>0.065959</td>\n",
              "      <td>2167.0</td>\n",
              "      <td>3</td>\n",
              "      <td>0</td>\n",
              "      <td>0</td>\n",
              "      <td>0</td>\n",
              "      <td>0.0</td>\n",
              "    </tr>\n",
              "  </tbody>\n",
              "</table>\n",
              "</div>\n",
              "      <button class=\"colab-df-convert\" onclick=\"convertToInteractive('df-790912de-f7cb-44be-a879-132f072a45c0')\"\n",
              "              title=\"Convert this dataframe to an interactive table.\"\n",
              "              style=\"display:none;\">\n",
              "        \n",
              "  <svg xmlns=\"http://www.w3.org/2000/svg\" height=\"24px\"viewBox=\"0 0 24 24\"\n",
              "       width=\"24px\">\n",
              "    <path d=\"M0 0h24v24H0V0z\" fill=\"none\"/>\n",
              "    <path d=\"M18.56 5.44l.94 2.06.94-2.06 2.06-.94-2.06-.94-.94-2.06-.94 2.06-2.06.94zm-11 1L8.5 8.5l.94-2.06 2.06-.94-2.06-.94L8.5 2.5l-.94 2.06-2.06.94zm10 10l.94 2.06.94-2.06 2.06-.94-2.06-.94-.94-2.06-.94 2.06-2.06.94z\"/><path d=\"M17.41 7.96l-1.37-1.37c-.4-.4-.92-.59-1.43-.59-.52 0-1.04.2-1.43.59L10.3 9.45l-7.72 7.72c-.78.78-.78 2.05 0 2.83L4 21.41c.39.39.9.59 1.41.59.51 0 1.02-.2 1.41-.59l7.78-7.78 2.81-2.81c.8-.78.8-2.07 0-2.86zM5.41 20L4 18.59l7.72-7.72 1.47 1.35L5.41 20z\"/>\n",
              "  </svg>\n",
              "      </button>\n",
              "      \n",
              "  <style>\n",
              "    .colab-df-container {\n",
              "      display:flex;\n",
              "      flex-wrap:wrap;\n",
              "      gap: 12px;\n",
              "    }\n",
              "\n",
              "    .colab-df-convert {\n",
              "      background-color: #E8F0FE;\n",
              "      border: none;\n",
              "      border-radius: 50%;\n",
              "      cursor: pointer;\n",
              "      display: none;\n",
              "      fill: #1967D2;\n",
              "      height: 32px;\n",
              "      padding: 0 0 0 0;\n",
              "      width: 32px;\n",
              "    }\n",
              "\n",
              "    .colab-df-convert:hover {\n",
              "      background-color: #E2EBFA;\n",
              "      box-shadow: 0px 1px 2px rgba(60, 64, 67, 0.3), 0px 1px 3px 1px rgba(60, 64, 67, 0.15);\n",
              "      fill: #174EA6;\n",
              "    }\n",
              "\n",
              "    [theme=dark] .colab-df-convert {\n",
              "      background-color: #3B4455;\n",
              "      fill: #D2E3FC;\n",
              "    }\n",
              "\n",
              "    [theme=dark] .colab-df-convert:hover {\n",
              "      background-color: #434B5C;\n",
              "      box-shadow: 0px 1px 3px 1px rgba(0, 0, 0, 0.15);\n",
              "      filter: drop-shadow(0px 1px 2px rgba(0, 0, 0, 0.3));\n",
              "      fill: #FFFFFF;\n",
              "    }\n",
              "  </style>\n",
              "\n",
              "      <script>\n",
              "        const buttonEl =\n",
              "          document.querySelector('#df-790912de-f7cb-44be-a879-132f072a45c0 button.colab-df-convert');\n",
              "        buttonEl.style.display =\n",
              "          google.colab.kernel.accessAllowed ? 'block' : 'none';\n",
              "\n",
              "        async function convertToInteractive(key) {\n",
              "          const element = document.querySelector('#df-790912de-f7cb-44be-a879-132f072a45c0');\n",
              "          const dataTable =\n",
              "            await google.colab.kernel.invokeFunction('convertToInteractive',\n",
              "                                                     [key], {});\n",
              "          if (!dataTable) return;\n",
              "\n",
              "          const docLinkHtml = 'Like what you see? Visit the ' +\n",
              "            '<a target=\"_blank\" href=https://colab.research.google.com/notebooks/data_table.ipynb>data table notebook</a>'\n",
              "            + ' to learn more about interactive tables.';\n",
              "          element.innerHTML = '';\n",
              "          dataTable['output_type'] = 'display_data';\n",
              "          await google.colab.output.renderOutput(dataTable, element);\n",
              "          const docLink = document.createElement('div');\n",
              "          docLink.innerHTML = docLinkHtml;\n",
              "          element.appendChild(docLink);\n",
              "        }\n",
              "      </script>\n",
              "    </div>\n",
              "  </div>\n",
              "  "
            ],
            "text/plain": [
              "   util_linhas_inseguras  ...  numero_de_dependentes\n",
              "0               0.025849  ...                    0.0\n",
              "1               0.667083  ...                    0.0\n",
              "2               0.007093  ...                    0.0\n",
              "3               0.091213  ...                    0.0\n",
              "4               0.112680  ...                    0.0\n",
              "\n",
              "[5 rows x 10 columns]"
            ]
          },
          "metadata": {},
          "execution_count": 147
        }
      ]
    },
    {
      "cell_type": "code",
      "source": [
        "df_train.columns"
      ],
      "metadata": {
        "colab": {
          "base_uri": "https://localhost:8080/"
        },
        "id": "KrcsQKbnn5gB",
        "outputId": "c481210e-aae1-4a89-b8d4-e9feeb5fa67c"
      },
      "execution_count": 148,
      "outputs": [
        {
          "output_type": "execute_result",
          "data": {
            "text/plain": [
              "Index(['inadimplente', 'util_linhas_inseguras', 'idade',\n",
              "       'vezes_passou_de_30_59_dias', 'razao_debito', 'salario_mensal',\n",
              "       'numero_linhas_crdto_aberto', 'numero_vezes_passou_90_dias',\n",
              "       'numero_emprestimos_imobiliarios',\n",
              "       'numero_de_vezes_que_passou_60_89_dias', 'numero_de_dependentes'],\n",
              "      dtype='object')"
            ]
          },
          "metadata": {},
          "execution_count": 148
        }
      ]
    },
    {
      "cell_type": "markdown",
      "source": [
        "### Análise Estatistica"
      ],
      "metadata": {
        "id": "2Lw6BEMSr2Ge"
      }
    },
    {
      "cell_type": "code",
      "source": [
        "df_train.info()"
      ],
      "metadata": {
        "colab": {
          "base_uri": "https://localhost:8080/"
        },
        "id": "zxZR2z2moB3S",
        "outputId": "b47c30c8-d802-4067-a249-90861ab39dbe"
      },
      "execution_count": 149,
      "outputs": [
        {
          "output_type": "stream",
          "name": "stdout",
          "text": [
            "<class 'pandas.core.frame.DataFrame'>\n",
            "RangeIndex: 110000 entries, 0 to 109999\n",
            "Data columns (total 11 columns):\n",
            " #   Column                                 Non-Null Count   Dtype  \n",
            "---  ------                                 --------------   -----  \n",
            " 0   inadimplente                           110000 non-null  int64  \n",
            " 1   util_linhas_inseguras                  110000 non-null  float64\n",
            " 2   idade                                  110000 non-null  int64  \n",
            " 3   vezes_passou_de_30_59_dias             110000 non-null  int64  \n",
            " 4   razao_debito                           110000 non-null  float64\n",
            " 5   salario_mensal                         88237 non-null   float64\n",
            " 6   numero_linhas_crdto_aberto             110000 non-null  int64  \n",
            " 7   numero_vezes_passou_90_dias            110000 non-null  int64  \n",
            " 8   numero_emprestimos_imobiliarios        110000 non-null  int64  \n",
            " 9   numero_de_vezes_que_passou_60_89_dias  110000 non-null  int64  \n",
            " 10  numero_de_dependentes                  107122 non-null  float64\n",
            "dtypes: float64(4), int64(7)\n",
            "memory usage: 9.2 MB\n"
          ]
        }
      ]
    },
    {
      "cell_type": "code",
      "source": [
        "df_train.describe()"
      ],
      "metadata": {
        "colab": {
          "base_uri": "https://localhost:8080/",
          "height": 366
        },
        "id": "hGeDHJ2mr6Y_",
        "outputId": "fe320a6f-7f42-4ec1-ed38-5cf577a9a755"
      },
      "execution_count": 150,
      "outputs": [
        {
          "output_type": "execute_result",
          "data": {
            "text/html": [
              "\n",
              "  <div id=\"df-1576a5f4-3881-4e71-add8-7f973742a255\">\n",
              "    <div class=\"colab-df-container\">\n",
              "      <div>\n",
              "<style scoped>\n",
              "    .dataframe tbody tr th:only-of-type {\n",
              "        vertical-align: middle;\n",
              "    }\n",
              "\n",
              "    .dataframe tbody tr th {\n",
              "        vertical-align: top;\n",
              "    }\n",
              "\n",
              "    .dataframe thead th {\n",
              "        text-align: right;\n",
              "    }\n",
              "</style>\n",
              "<table border=\"1\" class=\"dataframe\">\n",
              "  <thead>\n",
              "    <tr style=\"text-align: right;\">\n",
              "      <th></th>\n",
              "      <th>inadimplente</th>\n",
              "      <th>util_linhas_inseguras</th>\n",
              "      <th>idade</th>\n",
              "      <th>vezes_passou_de_30_59_dias</th>\n",
              "      <th>razao_debito</th>\n",
              "      <th>salario_mensal</th>\n",
              "      <th>numero_linhas_crdto_aberto</th>\n",
              "      <th>numero_vezes_passou_90_dias</th>\n",
              "      <th>numero_emprestimos_imobiliarios</th>\n",
              "      <th>numero_de_vezes_que_passou_60_89_dias</th>\n",
              "      <th>numero_de_dependentes</th>\n",
              "    </tr>\n",
              "  </thead>\n",
              "  <tbody>\n",
              "    <tr>\n",
              "      <th>count</th>\n",
              "      <td>110000.000000</td>\n",
              "      <td>110000.000000</td>\n",
              "      <td>110000.000000</td>\n",
              "      <td>110000.000000</td>\n",
              "      <td>110000.000000</td>\n",
              "      <td>8.823700e+04</td>\n",
              "      <td>110000.000000</td>\n",
              "      <td>110000.000000</td>\n",
              "      <td>110000.000000</td>\n",
              "      <td>110000.000000</td>\n",
              "      <td>107122.000000</td>\n",
              "    </tr>\n",
              "    <tr>\n",
              "      <th>mean</th>\n",
              "      <td>0.066645</td>\n",
              "      <td>5.929979</td>\n",
              "      <td>52.255636</td>\n",
              "      <td>0.424055</td>\n",
              "      <td>354.823589</td>\n",
              "      <td>6.637411e+03</td>\n",
              "      <td>8.445573</td>\n",
              "      <td>0.269955</td>\n",
              "      <td>1.019891</td>\n",
              "      <td>0.243891</td>\n",
              "      <td>0.757482</td>\n",
              "    </tr>\n",
              "    <tr>\n",
              "      <th>std</th>\n",
              "      <td>0.249408</td>\n",
              "      <td>252.301965</td>\n",
              "      <td>14.768241</td>\n",
              "      <td>4.240780</td>\n",
              "      <td>2074.140421</td>\n",
              "      <td>1.338395e+04</td>\n",
              "      <td>5.139026</td>\n",
              "      <td>4.217326</td>\n",
              "      <td>1.135989</td>\n",
              "      <td>4.204137</td>\n",
              "      <td>1.114670</td>\n",
              "    </tr>\n",
              "    <tr>\n",
              "      <th>min</th>\n",
              "      <td>0.000000</td>\n",
              "      <td>0.000000</td>\n",
              "      <td>0.000000</td>\n",
              "      <td>0.000000</td>\n",
              "      <td>0.000000</td>\n",
              "      <td>0.000000e+00</td>\n",
              "      <td>0.000000</td>\n",
              "      <td>0.000000</td>\n",
              "      <td>0.000000</td>\n",
              "      <td>0.000000</td>\n",
              "      <td>0.000000</td>\n",
              "    </tr>\n",
              "    <tr>\n",
              "      <th>25%</th>\n",
              "      <td>0.000000</td>\n",
              "      <td>0.030054</td>\n",
              "      <td>41.000000</td>\n",
              "      <td>0.000000</td>\n",
              "      <td>0.175016</td>\n",
              "      <td>3.400000e+03</td>\n",
              "      <td>5.000000</td>\n",
              "      <td>0.000000</td>\n",
              "      <td>0.000000</td>\n",
              "      <td>0.000000</td>\n",
              "      <td>0.000000</td>\n",
              "    </tr>\n",
              "    <tr>\n",
              "      <th>50%</th>\n",
              "      <td>0.000000</td>\n",
              "      <td>0.155936</td>\n",
              "      <td>52.000000</td>\n",
              "      <td>0.000000</td>\n",
              "      <td>0.366682</td>\n",
              "      <td>5.400000e+03</td>\n",
              "      <td>8.000000</td>\n",
              "      <td>0.000000</td>\n",
              "      <td>1.000000</td>\n",
              "      <td>0.000000</td>\n",
              "      <td>0.000000</td>\n",
              "    </tr>\n",
              "    <tr>\n",
              "      <th>75%</th>\n",
              "      <td>0.000000</td>\n",
              "      <td>0.562806</td>\n",
              "      <td>63.000000</td>\n",
              "      <td>0.000000</td>\n",
              "      <td>0.866874</td>\n",
              "      <td>8.225000e+03</td>\n",
              "      <td>11.000000</td>\n",
              "      <td>0.000000</td>\n",
              "      <td>2.000000</td>\n",
              "      <td>0.000000</td>\n",
              "      <td>1.000000</td>\n",
              "    </tr>\n",
              "    <tr>\n",
              "      <th>max</th>\n",
              "      <td>1.000000</td>\n",
              "      <td>50708.000000</td>\n",
              "      <td>109.000000</td>\n",
              "      <td>98.000000</td>\n",
              "      <td>329664.000000</td>\n",
              "      <td>3.008750e+06</td>\n",
              "      <td>58.000000</td>\n",
              "      <td>98.000000</td>\n",
              "      <td>54.000000</td>\n",
              "      <td>98.000000</td>\n",
              "      <td>20.000000</td>\n",
              "    </tr>\n",
              "  </tbody>\n",
              "</table>\n",
              "</div>\n",
              "      <button class=\"colab-df-convert\" onclick=\"convertToInteractive('df-1576a5f4-3881-4e71-add8-7f973742a255')\"\n",
              "              title=\"Convert this dataframe to an interactive table.\"\n",
              "              style=\"display:none;\">\n",
              "        \n",
              "  <svg xmlns=\"http://www.w3.org/2000/svg\" height=\"24px\"viewBox=\"0 0 24 24\"\n",
              "       width=\"24px\">\n",
              "    <path d=\"M0 0h24v24H0V0z\" fill=\"none\"/>\n",
              "    <path d=\"M18.56 5.44l.94 2.06.94-2.06 2.06-.94-2.06-.94-.94-2.06-.94 2.06-2.06.94zm-11 1L8.5 8.5l.94-2.06 2.06-.94-2.06-.94L8.5 2.5l-.94 2.06-2.06.94zm10 10l.94 2.06.94-2.06 2.06-.94-2.06-.94-.94-2.06-.94 2.06-2.06.94z\"/><path d=\"M17.41 7.96l-1.37-1.37c-.4-.4-.92-.59-1.43-.59-.52 0-1.04.2-1.43.59L10.3 9.45l-7.72 7.72c-.78.78-.78 2.05 0 2.83L4 21.41c.39.39.9.59 1.41.59.51 0 1.02-.2 1.41-.59l7.78-7.78 2.81-2.81c.8-.78.8-2.07 0-2.86zM5.41 20L4 18.59l7.72-7.72 1.47 1.35L5.41 20z\"/>\n",
              "  </svg>\n",
              "      </button>\n",
              "      \n",
              "  <style>\n",
              "    .colab-df-container {\n",
              "      display:flex;\n",
              "      flex-wrap:wrap;\n",
              "      gap: 12px;\n",
              "    }\n",
              "\n",
              "    .colab-df-convert {\n",
              "      background-color: #E8F0FE;\n",
              "      border: none;\n",
              "      border-radius: 50%;\n",
              "      cursor: pointer;\n",
              "      display: none;\n",
              "      fill: #1967D2;\n",
              "      height: 32px;\n",
              "      padding: 0 0 0 0;\n",
              "      width: 32px;\n",
              "    }\n",
              "\n",
              "    .colab-df-convert:hover {\n",
              "      background-color: #E2EBFA;\n",
              "      box-shadow: 0px 1px 2px rgba(60, 64, 67, 0.3), 0px 1px 3px 1px rgba(60, 64, 67, 0.15);\n",
              "      fill: #174EA6;\n",
              "    }\n",
              "\n",
              "    [theme=dark] .colab-df-convert {\n",
              "      background-color: #3B4455;\n",
              "      fill: #D2E3FC;\n",
              "    }\n",
              "\n",
              "    [theme=dark] .colab-df-convert:hover {\n",
              "      background-color: #434B5C;\n",
              "      box-shadow: 0px 1px 3px 1px rgba(0, 0, 0, 0.15);\n",
              "      filter: drop-shadow(0px 1px 2px rgba(0, 0, 0, 0.3));\n",
              "      fill: #FFFFFF;\n",
              "    }\n",
              "  </style>\n",
              "\n",
              "      <script>\n",
              "        const buttonEl =\n",
              "          document.querySelector('#df-1576a5f4-3881-4e71-add8-7f973742a255 button.colab-df-convert');\n",
              "        buttonEl.style.display =\n",
              "          google.colab.kernel.accessAllowed ? 'block' : 'none';\n",
              "\n",
              "        async function convertToInteractive(key) {\n",
              "          const element = document.querySelector('#df-1576a5f4-3881-4e71-add8-7f973742a255');\n",
              "          const dataTable =\n",
              "            await google.colab.kernel.invokeFunction('convertToInteractive',\n",
              "                                                     [key], {});\n",
              "          if (!dataTable) return;\n",
              "\n",
              "          const docLinkHtml = 'Like what you see? Visit the ' +\n",
              "            '<a target=\"_blank\" href=https://colab.research.google.com/notebooks/data_table.ipynb>data table notebook</a>'\n",
              "            + ' to learn more about interactive tables.';\n",
              "          element.innerHTML = '';\n",
              "          dataTable['output_type'] = 'display_data';\n",
              "          await google.colab.output.renderOutput(dataTable, element);\n",
              "          const docLink = document.createElement('div');\n",
              "          docLink.innerHTML = docLinkHtml;\n",
              "          element.appendChild(docLink);\n",
              "        }\n",
              "      </script>\n",
              "    </div>\n",
              "  </div>\n",
              "  "
            ],
            "text/plain": [
              "        inadimplente  ...  numero_de_dependentes\n",
              "count  110000.000000  ...          107122.000000\n",
              "mean        0.066645  ...               0.757482\n",
              "std         0.249408  ...               1.114670\n",
              "min         0.000000  ...               0.000000\n",
              "25%         0.000000  ...               0.000000\n",
              "50%         0.000000  ...               0.000000\n",
              "75%         0.000000  ...               1.000000\n",
              "max         1.000000  ...              20.000000\n",
              "\n",
              "[8 rows x 11 columns]"
            ]
          },
          "metadata": {},
          "execution_count": 150
        }
      ]
    },
    {
      "cell_type": "code",
      "source": [
        "#Porcentagem de numeros em branco\n",
        "df_train.isnull().sum() / len(df_train)*100"
      ],
      "metadata": {
        "colab": {
          "base_uri": "https://localhost:8080/"
        },
        "id": "Z2HTSzzHoKJn",
        "outputId": "6d4a66b8-c262-4855-8d4e-60d6003fb2f2"
      },
      "execution_count": 151,
      "outputs": [
        {
          "output_type": "execute_result",
          "data": {
            "text/plain": [
              "inadimplente                              0.000000\n",
              "util_linhas_inseguras                     0.000000\n",
              "idade                                     0.000000\n",
              "vezes_passou_de_30_59_dias                0.000000\n",
              "razao_debito                              0.000000\n",
              "salario_mensal                           19.784545\n",
              "numero_linhas_crdto_aberto                0.000000\n",
              "numero_vezes_passou_90_dias               0.000000\n",
              "numero_emprestimos_imobiliarios           0.000000\n",
              "numero_de_vezes_que_passou_60_89_dias     0.000000\n",
              "numero_de_dependentes                     2.616364\n",
              "dtype: float64"
            ]
          },
          "metadata": {},
          "execution_count": 151
        }
      ]
    },
    {
      "cell_type": "code",
      "source": [
        "#Verificando se tem campos em branco\n",
        "df_test.isnull().sum()"
      ],
      "metadata": {
        "colab": {
          "base_uri": "https://localhost:8080/"
        },
        "id": "47g3e4NXpUQJ",
        "outputId": "f9658e29-2397-48f9-dbfa-48ac22dbe174"
      },
      "execution_count": 152,
      "outputs": [
        {
          "output_type": "execute_result",
          "data": {
            "text/plain": [
              "util_linhas_inseguras                       0\n",
              "idade                                       0\n",
              "vezes_passou_de_30_59_dias                  0\n",
              "razao_debito                                0\n",
              "salario_mensal                           7968\n",
              "numero_linhas_crdto_aberto                  0\n",
              "numero_vezes_passou_90_dias                 0\n",
              "numero_emprestimos_imobiliarios             0\n",
              "numero_de_vezes_que_passou_60_89_dias       0\n",
              "numero_de_dependentes                    1046\n",
              "dtype: int64"
            ]
          },
          "metadata": {},
          "execution_count": 152
        }
      ]
    },
    {
      "cell_type": "code",
      "source": [
        "df_train[(df_train['salario_mensal'].isnull()) & (df_train['inadimplente'] == 1)]"
      ],
      "metadata": {
        "colab": {
          "base_uri": "https://localhost:8080/",
          "height": 488
        },
        "id": "BUFaw_mnoPYc",
        "outputId": "c2a1f86d-1928-4dac-f9cf-80447e82431a"
      },
      "execution_count": 153,
      "outputs": [
        {
          "output_type": "execute_result",
          "data": {
            "text/html": [
              "\n",
              "  <div id=\"df-093a054f-947b-4dda-a4a1-2a9e5d00c2ad\">\n",
              "    <div class=\"colab-df-container\">\n",
              "      <div>\n",
              "<style scoped>\n",
              "    .dataframe tbody tr th:only-of-type {\n",
              "        vertical-align: middle;\n",
              "    }\n",
              "\n",
              "    .dataframe tbody tr th {\n",
              "        vertical-align: top;\n",
              "    }\n",
              "\n",
              "    .dataframe thead th {\n",
              "        text-align: right;\n",
              "    }\n",
              "</style>\n",
              "<table border=\"1\" class=\"dataframe\">\n",
              "  <thead>\n",
              "    <tr style=\"text-align: right;\">\n",
              "      <th></th>\n",
              "      <th>inadimplente</th>\n",
              "      <th>util_linhas_inseguras</th>\n",
              "      <th>idade</th>\n",
              "      <th>vezes_passou_de_30_59_dias</th>\n",
              "      <th>razao_debito</th>\n",
              "      <th>salario_mensal</th>\n",
              "      <th>numero_linhas_crdto_aberto</th>\n",
              "      <th>numero_vezes_passou_90_dias</th>\n",
              "      <th>numero_emprestimos_imobiliarios</th>\n",
              "      <th>numero_de_vezes_que_passou_60_89_dias</th>\n",
              "      <th>numero_de_dependentes</th>\n",
              "    </tr>\n",
              "  </thead>\n",
              "  <tbody>\n",
              "    <tr>\n",
              "      <th>179</th>\n",
              "      <td>1</td>\n",
              "      <td>0.946964</td>\n",
              "      <td>35</td>\n",
              "      <td>0</td>\n",
              "      <td>1593.0</td>\n",
              "      <td>NaN</td>\n",
              "      <td>6</td>\n",
              "      <td>0</td>\n",
              "      <td>1</td>\n",
              "      <td>0</td>\n",
              "      <td>1.0</td>\n",
              "    </tr>\n",
              "    <tr>\n",
              "      <th>214</th>\n",
              "      <td>1</td>\n",
              "      <td>0.655316</td>\n",
              "      <td>63</td>\n",
              "      <td>0</td>\n",
              "      <td>5223.0</td>\n",
              "      <td>NaN</td>\n",
              "      <td>19</td>\n",
              "      <td>0</td>\n",
              "      <td>2</td>\n",
              "      <td>0</td>\n",
              "      <td>0.0</td>\n",
              "    </tr>\n",
              "    <tr>\n",
              "      <th>354</th>\n",
              "      <td>1</td>\n",
              "      <td>0.953344</td>\n",
              "      <td>48</td>\n",
              "      <td>2</td>\n",
              "      <td>2073.0</td>\n",
              "      <td>NaN</td>\n",
              "      <td>5</td>\n",
              "      <td>1</td>\n",
              "      <td>2</td>\n",
              "      <td>2</td>\n",
              "      <td>0.0</td>\n",
              "    </tr>\n",
              "    <tr>\n",
              "      <th>398</th>\n",
              "      <td>1</td>\n",
              "      <td>0.802417</td>\n",
              "      <td>58</td>\n",
              "      <td>1</td>\n",
              "      <td>668.0</td>\n",
              "      <td>NaN</td>\n",
              "      <td>5</td>\n",
              "      <td>1</td>\n",
              "      <td>0</td>\n",
              "      <td>0</td>\n",
              "      <td>0.0</td>\n",
              "    </tr>\n",
              "    <tr>\n",
              "      <th>789</th>\n",
              "      <td>1</td>\n",
              "      <td>1.008507</td>\n",
              "      <td>58</td>\n",
              "      <td>3</td>\n",
              "      <td>3265.0</td>\n",
              "      <td>NaN</td>\n",
              "      <td>20</td>\n",
              "      <td>0</td>\n",
              "      <td>0</td>\n",
              "      <td>1</td>\n",
              "      <td>0.0</td>\n",
              "    </tr>\n",
              "    <tr>\n",
              "      <th>...</th>\n",
              "      <td>...</td>\n",
              "      <td>...</td>\n",
              "      <td>...</td>\n",
              "      <td>...</td>\n",
              "      <td>...</td>\n",
              "      <td>...</td>\n",
              "      <td>...</td>\n",
              "      <td>...</td>\n",
              "      <td>...</td>\n",
              "      <td>...</td>\n",
              "      <td>...</td>\n",
              "    </tr>\n",
              "    <tr>\n",
              "      <th>109616</th>\n",
              "      <td>1</td>\n",
              "      <td>1.000000</td>\n",
              "      <td>48</td>\n",
              "      <td>0</td>\n",
              "      <td>1761.0</td>\n",
              "      <td>NaN</td>\n",
              "      <td>7</td>\n",
              "      <td>0</td>\n",
              "      <td>0</td>\n",
              "      <td>0</td>\n",
              "      <td>0.0</td>\n",
              "    </tr>\n",
              "    <tr>\n",
              "      <th>109714</th>\n",
              "      <td>1</td>\n",
              "      <td>0.900119</td>\n",
              "      <td>43</td>\n",
              "      <td>1</td>\n",
              "      <td>1493.0</td>\n",
              "      <td>NaN</td>\n",
              "      <td>14</td>\n",
              "      <td>0</td>\n",
              "      <td>0</td>\n",
              "      <td>1</td>\n",
              "      <td>NaN</td>\n",
              "    </tr>\n",
              "    <tr>\n",
              "      <th>109716</th>\n",
              "      <td>1</td>\n",
              "      <td>0.578842</td>\n",
              "      <td>47</td>\n",
              "      <td>0</td>\n",
              "      <td>1460.0</td>\n",
              "      <td>NaN</td>\n",
              "      <td>2</td>\n",
              "      <td>0</td>\n",
              "      <td>1</td>\n",
              "      <td>0</td>\n",
              "      <td>0.0</td>\n",
              "    </tr>\n",
              "    <tr>\n",
              "      <th>109774</th>\n",
              "      <td>1</td>\n",
              "      <td>1.000000</td>\n",
              "      <td>62</td>\n",
              "      <td>0</td>\n",
              "      <td>53.0</td>\n",
              "      <td>NaN</td>\n",
              "      <td>0</td>\n",
              "      <td>0</td>\n",
              "      <td>0</td>\n",
              "      <td>0</td>\n",
              "      <td>0.0</td>\n",
              "    </tr>\n",
              "    <tr>\n",
              "      <th>109914</th>\n",
              "      <td>1</td>\n",
              "      <td>1.000000</td>\n",
              "      <td>46</td>\n",
              "      <td>1</td>\n",
              "      <td>1650.0</td>\n",
              "      <td>NaN</td>\n",
              "      <td>1</td>\n",
              "      <td>0</td>\n",
              "      <td>1</td>\n",
              "      <td>0</td>\n",
              "      <td>0.0</td>\n",
              "    </tr>\n",
              "  </tbody>\n",
              "</table>\n",
              "<p>1247 rows × 11 columns</p>\n",
              "</div>\n",
              "      <button class=\"colab-df-convert\" onclick=\"convertToInteractive('df-093a054f-947b-4dda-a4a1-2a9e5d00c2ad')\"\n",
              "              title=\"Convert this dataframe to an interactive table.\"\n",
              "              style=\"display:none;\">\n",
              "        \n",
              "  <svg xmlns=\"http://www.w3.org/2000/svg\" height=\"24px\"viewBox=\"0 0 24 24\"\n",
              "       width=\"24px\">\n",
              "    <path d=\"M0 0h24v24H0V0z\" fill=\"none\"/>\n",
              "    <path d=\"M18.56 5.44l.94 2.06.94-2.06 2.06-.94-2.06-.94-.94-2.06-.94 2.06-2.06.94zm-11 1L8.5 8.5l.94-2.06 2.06-.94-2.06-.94L8.5 2.5l-.94 2.06-2.06.94zm10 10l.94 2.06.94-2.06 2.06-.94-2.06-.94-.94-2.06-.94 2.06-2.06.94z\"/><path d=\"M17.41 7.96l-1.37-1.37c-.4-.4-.92-.59-1.43-.59-.52 0-1.04.2-1.43.59L10.3 9.45l-7.72 7.72c-.78.78-.78 2.05 0 2.83L4 21.41c.39.39.9.59 1.41.59.51 0 1.02-.2 1.41-.59l7.78-7.78 2.81-2.81c.8-.78.8-2.07 0-2.86zM5.41 20L4 18.59l7.72-7.72 1.47 1.35L5.41 20z\"/>\n",
              "  </svg>\n",
              "      </button>\n",
              "      \n",
              "  <style>\n",
              "    .colab-df-container {\n",
              "      display:flex;\n",
              "      flex-wrap:wrap;\n",
              "      gap: 12px;\n",
              "    }\n",
              "\n",
              "    .colab-df-convert {\n",
              "      background-color: #E8F0FE;\n",
              "      border: none;\n",
              "      border-radius: 50%;\n",
              "      cursor: pointer;\n",
              "      display: none;\n",
              "      fill: #1967D2;\n",
              "      height: 32px;\n",
              "      padding: 0 0 0 0;\n",
              "      width: 32px;\n",
              "    }\n",
              "\n",
              "    .colab-df-convert:hover {\n",
              "      background-color: #E2EBFA;\n",
              "      box-shadow: 0px 1px 2px rgba(60, 64, 67, 0.3), 0px 1px 3px 1px rgba(60, 64, 67, 0.15);\n",
              "      fill: #174EA6;\n",
              "    }\n",
              "\n",
              "    [theme=dark] .colab-df-convert {\n",
              "      background-color: #3B4455;\n",
              "      fill: #D2E3FC;\n",
              "    }\n",
              "\n",
              "    [theme=dark] .colab-df-convert:hover {\n",
              "      background-color: #434B5C;\n",
              "      box-shadow: 0px 1px 3px 1px rgba(0, 0, 0, 0.15);\n",
              "      filter: drop-shadow(0px 1px 2px rgba(0, 0, 0, 0.3));\n",
              "      fill: #FFFFFF;\n",
              "    }\n",
              "  </style>\n",
              "\n",
              "      <script>\n",
              "        const buttonEl =\n",
              "          document.querySelector('#df-093a054f-947b-4dda-a4a1-2a9e5d00c2ad button.colab-df-convert');\n",
              "        buttonEl.style.display =\n",
              "          google.colab.kernel.accessAllowed ? 'block' : 'none';\n",
              "\n",
              "        async function convertToInteractive(key) {\n",
              "          const element = document.querySelector('#df-093a054f-947b-4dda-a4a1-2a9e5d00c2ad');\n",
              "          const dataTable =\n",
              "            await google.colab.kernel.invokeFunction('convertToInteractive',\n",
              "                                                     [key], {});\n",
              "          if (!dataTable) return;\n",
              "\n",
              "          const docLinkHtml = 'Like what you see? Visit the ' +\n",
              "            '<a target=\"_blank\" href=https://colab.research.google.com/notebooks/data_table.ipynb>data table notebook</a>'\n",
              "            + ' to learn more about interactive tables.';\n",
              "          element.innerHTML = '';\n",
              "          dataTable['output_type'] = 'display_data';\n",
              "          await google.colab.output.renderOutput(dataTable, element);\n",
              "          const docLink = document.createElement('div');\n",
              "          docLink.innerHTML = docLinkHtml;\n",
              "          element.appendChild(docLink);\n",
              "        }\n",
              "      </script>\n",
              "    </div>\n",
              "  </div>\n",
              "  "
            ],
            "text/plain": [
              "        inadimplente  ...  numero_de_dependentes\n",
              "179                1  ...                    1.0\n",
              "214                1  ...                    0.0\n",
              "354                1  ...                    0.0\n",
              "398                1  ...                    0.0\n",
              "789                1  ...                    0.0\n",
              "...              ...  ...                    ...\n",
              "109616             1  ...                    0.0\n",
              "109714             1  ...                    NaN\n",
              "109716             1  ...                    0.0\n",
              "109774             1  ...                    0.0\n",
              "109914             1  ...                    0.0\n",
              "\n",
              "[1247 rows x 11 columns]"
            ]
          },
          "metadata": {},
          "execution_count": 153
        }
      ]
    },
    {
      "cell_type": "markdown",
      "source": [
        "## Criando baseline"
      ],
      "metadata": {
        "id": "t2LbMbnJpzGL"
      }
    },
    {
      "cell_type": "markdown",
      "source": [
        "### Tratamento do Dataset"
      ],
      "metadata": {
        "id": "Z4eY66zfqT5g"
      }
    },
    {
      "cell_type": "code",
      "source": [
        "#Preenchendo os campos em branco de maneira aleatoria para criar a baseline\n",
        "\n",
        "df_train['salario_mensal'].fillna(-1, inplace = True)\n",
        "df_train['numero_de_dependentes'].fillna(-1, inplace = True)\n",
        "df_test['salario_mensal'].fillna(-1, inplace = True)\n",
        "df_test['numero_de_dependentes'].fillna(-1, inplace = True)"
      ],
      "metadata": {
        "id": "XW5uJCqIw3lF"
      },
      "execution_count": 154,
      "outputs": []
    },
    {
      "cell_type": "code",
      "source": [
        "df_train.isnull().sum()"
      ],
      "metadata": {
        "colab": {
          "base_uri": "https://localhost:8080/"
        },
        "id": "eoGT7QaLpSR3",
        "outputId": "f90fe022-d0f8-498d-e3d1-4486fc3f896e"
      },
      "execution_count": 155,
      "outputs": [
        {
          "output_type": "execute_result",
          "data": {
            "text/plain": [
              "inadimplente                             0\n",
              "util_linhas_inseguras                    0\n",
              "idade                                    0\n",
              "vezes_passou_de_30_59_dias               0\n",
              "razao_debito                             0\n",
              "salario_mensal                           0\n",
              "numero_linhas_crdto_aberto               0\n",
              "numero_vezes_passou_90_dias              0\n",
              "numero_emprestimos_imobiliarios          0\n",
              "numero_de_vezes_que_passou_60_89_dias    0\n",
              "numero_de_dependentes                    0\n",
              "dtype: int64"
            ]
          },
          "metadata": {},
          "execution_count": 155
        }
      ]
    },
    {
      "cell_type": "code",
      "source": [
        "df_test.isnull().sum()"
      ],
      "metadata": {
        "colab": {
          "base_uri": "https://localhost:8080/"
        },
        "id": "8_hgRK43qC92",
        "outputId": "9d6514c8-c818-4997-f81f-ce78af5e836b"
      },
      "execution_count": 156,
      "outputs": [
        {
          "output_type": "execute_result",
          "data": {
            "text/plain": [
              "util_linhas_inseguras                    0\n",
              "idade                                    0\n",
              "vezes_passou_de_30_59_dias               0\n",
              "razao_debito                             0\n",
              "salario_mensal                           0\n",
              "numero_linhas_crdto_aberto               0\n",
              "numero_vezes_passou_90_dias              0\n",
              "numero_emprestimos_imobiliarios          0\n",
              "numero_de_vezes_que_passou_60_89_dias    0\n",
              "numero_de_dependentes                    0\n",
              "dtype: int64"
            ]
          },
          "metadata": {},
          "execution_count": 156
        }
      ]
    },
    {
      "cell_type": "code",
      "source": [
        "total_inadimplente = df_train.inadimplente.value_counts() / len(df_train)\n",
        "total_inadimplente"
      ],
      "metadata": {
        "colab": {
          "base_uri": "https://localhost:8080/"
        },
        "id": "jWyMFFDJqJdB",
        "outputId": "ea6b2c7b-6c25-4a84-a616-142c8a923ac1"
      },
      "execution_count": 157,
      "outputs": [
        {
          "output_type": "execute_result",
          "data": {
            "text/plain": [
              "0    0.933355\n",
              "1    0.066645\n",
              "Name: inadimplente, dtype: float64"
            ]
          },
          "metadata": {},
          "execution_count": 157
        }
      ]
    },
    {
      "cell_type": "markdown",
      "source": [
        "A classe está desbalanceada, pois a maioria dos casos não são inadimplentes"
      ],
      "metadata": {
        "id": "QUlXQ4CPrp9s"
      }
    },
    {
      "cell_type": "code",
      "source": [
        "corr = df_train.corr()\n",
        "corr = (corr)\n",
        "sns.heatmap(corr,\n",
        "            xticklabels=corr.columns.values,\n",
        "            yticklabels=corr.columns.values)\n",
        "corr"
      ],
      "metadata": {
        "colab": {
          "base_uri": "https://localhost:8080/",
          "height": 915
        },
        "id": "SDS6qeXyrZXx",
        "outputId": "843d9c80-6777-461d-c2d5-323320a84324"
      },
      "execution_count": 17,
      "outputs": [
        {
          "output_type": "execute_result",
          "data": {
            "text/html": [
              "\n",
              "  <div id=\"df-8738b2a0-5464-4192-b600-06e287a3bd5b\">\n",
              "    <div class=\"colab-df-container\">\n",
              "      <div>\n",
              "<style scoped>\n",
              "    .dataframe tbody tr th:only-of-type {\n",
              "        vertical-align: middle;\n",
              "    }\n",
              "\n",
              "    .dataframe tbody tr th {\n",
              "        vertical-align: top;\n",
              "    }\n",
              "\n",
              "    .dataframe thead th {\n",
              "        text-align: right;\n",
              "    }\n",
              "</style>\n",
              "<table border=\"1\" class=\"dataframe\">\n",
              "  <thead>\n",
              "    <tr style=\"text-align: right;\">\n",
              "      <th></th>\n",
              "      <th>inadimplente</th>\n",
              "      <th>util_linhas_inseguras</th>\n",
              "      <th>idade</th>\n",
              "      <th>vezes_passou_de_30_59_dias</th>\n",
              "      <th>razao_debito</th>\n",
              "      <th>salario_mensal</th>\n",
              "      <th>numero_linhas_crdto_aberto</th>\n",
              "      <th>numero_vezes_passou_90_dias</th>\n",
              "      <th>numero_emprestimos_imobiliarios</th>\n",
              "      <th>numero_de_vezes_que_passou_60_89_dias</th>\n",
              "      <th>numero_de_dependentes</th>\n",
              "    </tr>\n",
              "  </thead>\n",
              "  <tbody>\n",
              "    <tr>\n",
              "      <th>inadimplente</th>\n",
              "      <td>1.000000</td>\n",
              "      <td>-0.003263</td>\n",
              "      <td>-0.114281</td>\n",
              "      <td>0.124546</td>\n",
              "      <td>-0.006534</td>\n",
              "      <td>-0.014002</td>\n",
              "      <td>-0.029332</td>\n",
              "      <td>0.116023</td>\n",
              "      <td>-0.008144</td>\n",
              "      <td>0.101536</td>\n",
              "      <td>0.044728</td>\n",
              "    </tr>\n",
              "    <tr>\n",
              "      <th>util_linhas_inseguras</th>\n",
              "      <td>-0.003263</td>\n",
              "      <td>1.000000</td>\n",
              "      <td>-0.004444</td>\n",
              "      <td>-0.001336</td>\n",
              "      <td>0.001255</td>\n",
              "      <td>0.007285</td>\n",
              "      <td>-0.010120</td>\n",
              "      <td>-0.001154</td>\n",
              "      <td>0.007590</td>\n",
              "      <td>-0.001105</td>\n",
              "      <td>-0.002077</td>\n",
              "    </tr>\n",
              "    <tr>\n",
              "      <th>idade</th>\n",
              "      <td>-0.114281</td>\n",
              "      <td>-0.004444</td>\n",
              "      <td>1.000000</td>\n",
              "      <td>-0.063230</td>\n",
              "      <td>0.025221</td>\n",
              "      <td>0.005342</td>\n",
              "      <td>0.148640</td>\n",
              "      <td>-0.061371</td>\n",
              "      <td>0.032920</td>\n",
              "      <td>-0.057604</td>\n",
              "      <td>-0.221090</td>\n",
              "    </tr>\n",
              "    <tr>\n",
              "      <th>vezes_passou_de_30_59_dias</th>\n",
              "      <td>0.124546</td>\n",
              "      <td>-0.001336</td>\n",
              "      <td>-0.063230</td>\n",
              "      <td>1.000000</td>\n",
              "      <td>-0.006860</td>\n",
              "      <td>-0.011853</td>\n",
              "      <td>-0.056347</td>\n",
              "      <td>0.984157</td>\n",
              "      <td>-0.031093</td>\n",
              "      <td>0.987377</td>\n",
              "      <td>-0.007989</td>\n",
              "    </tr>\n",
              "    <tr>\n",
              "      <th>razao_debito</th>\n",
              "      <td>-0.006534</td>\n",
              "      <td>0.001255</td>\n",
              "      <td>0.025221</td>\n",
              "      <td>-0.006860</td>\n",
              "      <td>1.000000</td>\n",
              "      <td>-0.074143</td>\n",
              "      <td>0.047158</td>\n",
              "      <td>-0.008344</td>\n",
              "      <td>0.117054</td>\n",
              "      <td>-0.007558</td>\n",
              "      <td>-0.052581</td>\n",
              "    </tr>\n",
              "    <tr>\n",
              "      <th>salario_mensal</th>\n",
              "      <td>-0.014002</td>\n",
              "      <td>0.007285</td>\n",
              "      <td>0.005342</td>\n",
              "      <td>-0.011853</td>\n",
              "      <td>-0.074143</td>\n",
              "      <td>1.000000</td>\n",
              "      <td>0.110981</td>\n",
              "      <td>-0.015425</td>\n",
              "      <td>0.132617</td>\n",
              "      <td>-0.014289</td>\n",
              "      <td>0.112412</td>\n",
              "    </tr>\n",
              "    <tr>\n",
              "      <th>numero_linhas_crdto_aberto</th>\n",
              "      <td>-0.029332</td>\n",
              "      <td>-0.010120</td>\n",
              "      <td>0.148640</td>\n",
              "      <td>-0.056347</td>\n",
              "      <td>0.047158</td>\n",
              "      <td>0.110981</td>\n",
              "      <td>1.000000</td>\n",
              "      <td>-0.080873</td>\n",
              "      <td>0.433337</td>\n",
              "      <td>-0.071979</td>\n",
              "      <td>0.085158</td>\n",
              "    </tr>\n",
              "    <tr>\n",
              "      <th>numero_vezes_passou_90_dias</th>\n",
              "      <td>0.116023</td>\n",
              "      <td>-0.001154</td>\n",
              "      <td>-0.061371</td>\n",
              "      <td>0.984157</td>\n",
              "      <td>-0.008344</td>\n",
              "      <td>-0.015425</td>\n",
              "      <td>-0.080873</td>\n",
              "      <td>1.000000</td>\n",
              "      <td>-0.045902</td>\n",
              "      <td>0.993162</td>\n",
              "      <td>-0.015901</td>\n",
              "    </tr>\n",
              "    <tr>\n",
              "      <th>numero_emprestimos_imobiliarios</th>\n",
              "      <td>-0.008144</td>\n",
              "      <td>0.007590</td>\n",
              "      <td>0.032920</td>\n",
              "      <td>-0.031093</td>\n",
              "      <td>0.117054</td>\n",
              "      <td>0.132617</td>\n",
              "      <td>0.433337</td>\n",
              "      <td>-0.045902</td>\n",
              "      <td>1.000000</td>\n",
              "      <td>-0.039987</td>\n",
              "      <td>0.132922</td>\n",
              "    </tr>\n",
              "    <tr>\n",
              "      <th>numero_de_vezes_que_passou_60_89_dias</th>\n",
              "      <td>0.101536</td>\n",
              "      <td>-0.001105</td>\n",
              "      <td>-0.057604</td>\n",
              "      <td>0.987377</td>\n",
              "      <td>-0.007558</td>\n",
              "      <td>-0.014289</td>\n",
              "      <td>-0.071979</td>\n",
              "      <td>0.993162</td>\n",
              "      <td>-0.039987</td>\n",
              "      <td>1.000000</td>\n",
              "      <td>-0.016519</td>\n",
              "    </tr>\n",
              "    <tr>\n",
              "      <th>numero_de_dependentes</th>\n",
              "      <td>0.044728</td>\n",
              "      <td>-0.002077</td>\n",
              "      <td>-0.221090</td>\n",
              "      <td>-0.007989</td>\n",
              "      <td>-0.052581</td>\n",
              "      <td>0.112412</td>\n",
              "      <td>0.085158</td>\n",
              "      <td>-0.015901</td>\n",
              "      <td>0.132922</td>\n",
              "      <td>-0.016519</td>\n",
              "      <td>1.000000</td>\n",
              "    </tr>\n",
              "  </tbody>\n",
              "</table>\n",
              "</div>\n",
              "      <button class=\"colab-df-convert\" onclick=\"convertToInteractive('df-8738b2a0-5464-4192-b600-06e287a3bd5b')\"\n",
              "              title=\"Convert this dataframe to an interactive table.\"\n",
              "              style=\"display:none;\">\n",
              "        \n",
              "  <svg xmlns=\"http://www.w3.org/2000/svg\" height=\"24px\"viewBox=\"0 0 24 24\"\n",
              "       width=\"24px\">\n",
              "    <path d=\"M0 0h24v24H0V0z\" fill=\"none\"/>\n",
              "    <path d=\"M18.56 5.44l.94 2.06.94-2.06 2.06-.94-2.06-.94-.94-2.06-.94 2.06-2.06.94zm-11 1L8.5 8.5l.94-2.06 2.06-.94-2.06-.94L8.5 2.5l-.94 2.06-2.06.94zm10 10l.94 2.06.94-2.06 2.06-.94-2.06-.94-.94-2.06-.94 2.06-2.06.94z\"/><path d=\"M17.41 7.96l-1.37-1.37c-.4-.4-.92-.59-1.43-.59-.52 0-1.04.2-1.43.59L10.3 9.45l-7.72 7.72c-.78.78-.78 2.05 0 2.83L4 21.41c.39.39.9.59 1.41.59.51 0 1.02-.2 1.41-.59l7.78-7.78 2.81-2.81c.8-.78.8-2.07 0-2.86zM5.41 20L4 18.59l7.72-7.72 1.47 1.35L5.41 20z\"/>\n",
              "  </svg>\n",
              "      </button>\n",
              "      \n",
              "  <style>\n",
              "    .colab-df-container {\n",
              "      display:flex;\n",
              "      flex-wrap:wrap;\n",
              "      gap: 12px;\n",
              "    }\n",
              "\n",
              "    .colab-df-convert {\n",
              "      background-color: #E8F0FE;\n",
              "      border: none;\n",
              "      border-radius: 50%;\n",
              "      cursor: pointer;\n",
              "      display: none;\n",
              "      fill: #1967D2;\n",
              "      height: 32px;\n",
              "      padding: 0 0 0 0;\n",
              "      width: 32px;\n",
              "    }\n",
              "\n",
              "    .colab-df-convert:hover {\n",
              "      background-color: #E2EBFA;\n",
              "      box-shadow: 0px 1px 2px rgba(60, 64, 67, 0.3), 0px 1px 3px 1px rgba(60, 64, 67, 0.15);\n",
              "      fill: #174EA6;\n",
              "    }\n",
              "\n",
              "    [theme=dark] .colab-df-convert {\n",
              "      background-color: #3B4455;\n",
              "      fill: #D2E3FC;\n",
              "    }\n",
              "\n",
              "    [theme=dark] .colab-df-convert:hover {\n",
              "      background-color: #434B5C;\n",
              "      box-shadow: 0px 1px 3px 1px rgba(0, 0, 0, 0.15);\n",
              "      filter: drop-shadow(0px 1px 2px rgba(0, 0, 0, 0.3));\n",
              "      fill: #FFFFFF;\n",
              "    }\n",
              "  </style>\n",
              "\n",
              "      <script>\n",
              "        const buttonEl =\n",
              "          document.querySelector('#df-8738b2a0-5464-4192-b600-06e287a3bd5b button.colab-df-convert');\n",
              "        buttonEl.style.display =\n",
              "          google.colab.kernel.accessAllowed ? 'block' : 'none';\n",
              "\n",
              "        async function convertToInteractive(key) {\n",
              "          const element = document.querySelector('#df-8738b2a0-5464-4192-b600-06e287a3bd5b');\n",
              "          const dataTable =\n",
              "            await google.colab.kernel.invokeFunction('convertToInteractive',\n",
              "                                                     [key], {});\n",
              "          if (!dataTable) return;\n",
              "\n",
              "          const docLinkHtml = 'Like what you see? Visit the ' +\n",
              "            '<a target=\"_blank\" href=https://colab.research.google.com/notebooks/data_table.ipynb>data table notebook</a>'\n",
              "            + ' to learn more about interactive tables.';\n",
              "          element.innerHTML = '';\n",
              "          dataTable['output_type'] = 'display_data';\n",
              "          await google.colab.output.renderOutput(dataTable, element);\n",
              "          const docLink = document.createElement('div');\n",
              "          docLink.innerHTML = docLinkHtml;\n",
              "          element.appendChild(docLink);\n",
              "        }\n",
              "      </script>\n",
              "    </div>\n",
              "  </div>\n",
              "  "
            ],
            "text/plain": [
              "                                       inadimplente  ...  numero_de_dependentes\n",
              "inadimplente                               1.000000  ...               0.044728\n",
              "util_linhas_inseguras                     -0.003263  ...              -0.002077\n",
              "idade                                     -0.114281  ...              -0.221090\n",
              "vezes_passou_de_30_59_dias                 0.124546  ...              -0.007989\n",
              "razao_debito                              -0.006534  ...              -0.052581\n",
              "salario_mensal                            -0.014002  ...               0.112412\n",
              "numero_linhas_crdto_aberto                -0.029332  ...               0.085158\n",
              "numero_vezes_passou_90_dias                0.116023  ...              -0.015901\n",
              "numero_emprestimos_imobiliarios           -0.008144  ...               0.132922\n",
              "numero_de_vezes_que_passou_60_89_dias      0.101536  ...              -0.016519\n",
              "numero_de_dependentes                      0.044728  ...               1.000000\n",
              "\n",
              "[11 rows x 11 columns]"
            ]
          },
          "metadata": {},
          "execution_count": 17
        },
        {
          "output_type": "display_data",
          "data": {
            "image/png": "[encoded data removed]",
            "text/plain": [
              "<Figure size 432x288 with 2 Axes>"
            ]
          },
          "metadata": {
            "needs_background": "light"
          }
        }
      ]
    },
    {
      "cell_type": "markdown",
      "source": [
        "**Questões**\n",
        "\n",
        "Quais atributos afetam a variável alvo(inadimplente)?\n",
        "Existem atributos com alta correlação entre eles?\n",
        "\n",
        "**Resumo**\n",
        "\n",
        "DESCREVER AS RESPOSTAS"
      ],
      "metadata": {
        "id": "YWlB1JiRtK64"
      }
    },
    {
      "cell_type": "markdown",
      "source": [
        "**Separando os conjuntos de dados**"
      ],
      "metadata": {
        "id": "tkc9yHg-uFwP"
      }
    },
    {
      "cell_type": "code",
      "source": [
        "target_name = 'inadimplente'\n",
        "X = df_train.drop('inadimplente', axis=1)\n",
        "y = df_train[target_name]"
      ],
      "metadata": {
        "id": "b_tnqVDHssG5"
      },
      "execution_count": 158,
      "outputs": []
    },
    {
      "cell_type": "code",
      "source": [
        "X.head()"
      ],
      "metadata": {
        "colab": {
          "base_uri": "https://localhost:8080/",
          "height": 270
        },
        "id": "cLJWDk8yuYWh",
        "outputId": "3d9cf04f-d740-4135-fe3a-2476e7d79d53"
      },
      "execution_count": 22,
      "outputs": [
        {
          "output_type": "execute_result",
          "data": {
            "text/html": [
              "\n",
              "  <div id=\"df-633b830c-46ff-481d-9a92-50facdea8183\">\n",
              "    <div class=\"colab-df-container\">\n",
              "      <div>\n",
              "<style scoped>\n",
              "    .dataframe tbody tr th:only-of-type {\n",
              "        vertical-align: middle;\n",
              "    }\n",
              "\n",
              "    .dataframe tbody tr th {\n",
              "        vertical-align: top;\n",
              "    }\n",
              "\n",
              "    .dataframe thead th {\n",
              "        text-align: right;\n",
              "    }\n",
              "</style>\n",
              "<table border=\"1\" class=\"dataframe\">\n",
              "  <thead>\n",
              "    <tr style=\"text-align: right;\">\n",
              "      <th></th>\n",
              "      <th>util_linhas_inseguras</th>\n",
              "      <th>idade</th>\n",
              "      <th>vezes_passou_de_30_59_dias</th>\n",
              "      <th>razao_debito</th>\n",
              "      <th>salario_mensal</th>\n",
              "      <th>numero_linhas_crdto_aberto</th>\n",
              "      <th>numero_vezes_passou_90_dias</th>\n",
              "      <th>numero_emprestimos_imobiliarios</th>\n",
              "      <th>numero_de_vezes_que_passou_60_89_dias</th>\n",
              "      <th>numero_de_dependentes</th>\n",
              "    </tr>\n",
              "  </thead>\n",
              "  <tbody>\n",
              "    <tr>\n",
              "      <th>0</th>\n",
              "      <td>0.766127</td>\n",
              "      <td>45</td>\n",
              "      <td>2</td>\n",
              "      <td>0.802982</td>\n",
              "      <td>9120.0</td>\n",
              "      <td>13</td>\n",
              "      <td>0</td>\n",
              "      <td>6</td>\n",
              "      <td>0</td>\n",
              "      <td>2.0</td>\n",
              "    </tr>\n",
              "    <tr>\n",
              "      <th>1</th>\n",
              "      <td>0.957151</td>\n",
              "      <td>40</td>\n",
              "      <td>0</td>\n",
              "      <td>0.121876</td>\n",
              "      <td>2600.0</td>\n",
              "      <td>4</td>\n",
              "      <td>0</td>\n",
              "      <td>0</td>\n",
              "      <td>0</td>\n",
              "      <td>1.0</td>\n",
              "    </tr>\n",
              "    <tr>\n",
              "      <th>2</th>\n",
              "      <td>0.658180</td>\n",
              "      <td>38</td>\n",
              "      <td>1</td>\n",
              "      <td>0.085113</td>\n",
              "      <td>3042.0</td>\n",
              "      <td>2</td>\n",
              "      <td>1</td>\n",
              "      <td>0</td>\n",
              "      <td>0</td>\n",
              "      <td>0.0</td>\n",
              "    </tr>\n",
              "    <tr>\n",
              "      <th>3</th>\n",
              "      <td>0.233810</td>\n",
              "      <td>30</td>\n",
              "      <td>0</td>\n",
              "      <td>0.036050</td>\n",
              "      <td>3300.0</td>\n",
              "      <td>5</td>\n",
              "      <td>0</td>\n",
              "      <td>0</td>\n",
              "      <td>0</td>\n",
              "      <td>0.0</td>\n",
              "    </tr>\n",
              "    <tr>\n",
              "      <th>4</th>\n",
              "      <td>0.907239</td>\n",
              "      <td>49</td>\n",
              "      <td>1</td>\n",
              "      <td>0.024926</td>\n",
              "      <td>63588.0</td>\n",
              "      <td>7</td>\n",
              "      <td>0</td>\n",
              "      <td>1</td>\n",
              "      <td>0</td>\n",
              "      <td>0.0</td>\n",
              "    </tr>\n",
              "  </tbody>\n",
              "</table>\n",
              "</div>\n",
              "      <button class=\"colab-df-convert\" onclick=\"convertToInteractive('df-633b830c-46ff-481d-9a92-50facdea8183')\"\n",
              "              title=\"Convert this dataframe to an interactive table.\"\n",
              "              style=\"display:none;\">\n",
              "        \n",
              "  <svg xmlns=\"http://www.w3.org/2000/svg\" height=\"24px\"viewBox=\"0 0 24 24\"\n",
              "       width=\"24px\">\n",
              "    <path d=\"M0 0h24v24H0V0z\" fill=\"none\"/>\n",
              "    <path d=\"M18.56 5.44l.94 2.06.94-2.06 2.06-.94-2.06-.94-.94-2.06-.94 2.06-2.06.94zm-11 1L8.5 8.5l.94-2.06 2.06-.94-2.06-.94L8.5 2.5l-.94 2.06-2.06.94zm10 10l.94 2.06.94-2.06 2.06-.94-2.06-.94-.94-2.06-.94 2.06-2.06.94z\"/><path d=\"M17.41 7.96l-1.37-1.37c-.4-.4-.92-.59-1.43-.59-.52 0-1.04.2-1.43.59L10.3 9.45l-7.72 7.72c-.78.78-.78 2.05 0 2.83L4 21.41c.39.39.9.59 1.41.59.51 0 1.02-.2 1.41-.59l7.78-7.78 2.81-2.81c.8-.78.8-2.07 0-2.86zM5.41 20L4 18.59l7.72-7.72 1.47 1.35L5.41 20z\"/>\n",
              "  </svg>\n",
              "      </button>\n",
              "      \n",
              "  <style>\n",
              "    .colab-df-container {\n",
              "      display:flex;\n",
              "      flex-wrap:wrap;\n",
              "      gap: 12px;\n",
              "    }\n",
              "\n",
              "    .colab-df-convert {\n",
              "      background-color: #E8F0FE;\n",
              "      border: none;\n",
              "      border-radius: 50%;\n",
              "      cursor: pointer;\n",
              "      display: none;\n",
              "      fill: #1967D2;\n",
              "      height: 32px;\n",
              "      padding: 0 0 0 0;\n",
              "      width: 32px;\n",
              "    }\n",
              "\n",
              "    .colab-df-convert:hover {\n",
              "      background-color: #E2EBFA;\n",
              "      box-shadow: 0px 1px 2px rgba(60, 64, 67, 0.3), 0px 1px 3px 1px rgba(60, 64, 67, 0.15);\n",
              "      fill: #174EA6;\n",
              "    }\n",
              "\n",
              "    [theme=dark] .colab-df-convert {\n",
              "      background-color: #3B4455;\n",
              "      fill: #D2E3FC;\n",
              "    }\n",
              "\n",
              "    [theme=dark] .colab-df-convert:hover {\n",
              "      background-color: #434B5C;\n",
              "      box-shadow: 0px 1px 3px 1px rgba(0, 0, 0, 0.15);\n",
              "      filter: drop-shadow(0px 1px 2px rgba(0, 0, 0, 0.3));\n",
              "      fill: #FFFFFF;\n",
              "    }\n",
              "  </style>\n",
              "\n",
              "      <script>\n",
              "        const buttonEl =\n",
              "          document.querySelector('#df-633b830c-46ff-481d-9a92-50facdea8183 button.colab-df-convert');\n",
              "        buttonEl.style.display =\n",
              "          google.colab.kernel.accessAllowed ? 'block' : 'none';\n",
              "\n",
              "        async function convertToInteractive(key) {\n",
              "          const element = document.querySelector('#df-633b830c-46ff-481d-9a92-50facdea8183');\n",
              "          const dataTable =\n",
              "            await google.colab.kernel.invokeFunction('convertToInteractive',\n",
              "                                                     [key], {});\n",
              "          if (!dataTable) return;\n",
              "\n",
              "          const docLinkHtml = 'Like what you see? Visit the ' +\n",
              "            '<a target=\"_blank\" href=https://colab.research.google.com/notebooks/data_table.ipynb>data table notebook</a>'\n",
              "            + ' to learn more about interactive tables.';\n",
              "          element.innerHTML = '';\n",
              "          dataTable['output_type'] = 'display_data';\n",
              "          await google.colab.output.renderOutput(dataTable, element);\n",
              "          const docLink = document.createElement('div');\n",
              "          docLink.innerHTML = docLinkHtml;\n",
              "          element.appendChild(docLink);\n",
              "        }\n",
              "      </script>\n",
              "    </div>\n",
              "  </div>\n",
              "  "
            ],
            "text/plain": [
              "   util_linhas_inseguras  ...  numero_de_dependentes\n",
              "0               0.766127  ...                    2.0\n",
              "1               0.957151  ...                    1.0\n",
              "2               0.658180  ...                    0.0\n",
              "3               0.233810  ...                    0.0\n",
              "4               0.907239  ...                    0.0\n",
              "\n",
              "[5 rows x 10 columns]"
            ]
          },
          "metadata": {},
          "execution_count": 22
        }
      ]
    },
    {
      "cell_type": "code",
      "source": [
        "y.head()"
      ],
      "metadata": {
        "colab": {
          "base_uri": "https://localhost:8080/"
        },
        "id": "V_jxsLiKuhMI",
        "outputId": "6e41d68c-b21d-46e5-ad32-7dd2640aec82"
      },
      "execution_count": 23,
      "outputs": [
        {
          "output_type": "execute_result",
          "data": {
            "text/plain": [
              "0    1\n",
              "1    0\n",
              "2    0\n",
              "3    0\n",
              "4    0\n",
              "Name: inadimplente, dtype: int64"
            ]
          },
          "metadata": {},
          "execution_count": 23
        }
      ]
    },
    {
      "cell_type": "code",
      "source": [
        "oversample = SMOTE()\n",
        "X_sm, y_sm = oversample.fit_resample(X, y)\n",
        "\n",
        "print(f'''Shape of X before SMOTE: {X.shape}\n",
        "Shape of X after SMOTE: {X_sm.shape}''')\n",
        "\n",
        "print('\\nBalance of positive and negative classes (%):')\n",
        "y_sm.value_counts(normalize=True) * 100"
      ],
      "metadata": {
        "colab": {
          "base_uri": "https://localhost:8080/"
        },
        "id": "Xc6atbgxTqKR",
        "outputId": "8ddeecac-f6ee-4dcb-d67c-4d06236125a7"
      },
      "execution_count": 75,
      "outputs": [
        {
          "output_type": "stream",
          "name": "stdout",
          "text": [
            "Shape of X before SMOTE: (110000, 10)\n",
            "Shape of X after SMOTE: (205338, 10)\n",
            "\n",
            "Balance of positive and negative classes (%):\n"
          ]
        },
        {
          "output_type": "execute_result",
          "data": {
            "text/plain": [
              "1    50.0\n",
              "0    50.0\n",
              "Name: inadimplente, dtype: float64"
            ]
          },
          "metadata": {},
          "execution_count": 75
        }
      ]
    },
    {
      "cell_type": "code",
      "source": [
        "from sklearn.model_selection import train_test_split\n",
        "from sklearn.tree import DecisionTreeClassifier, plot_tree"
      ],
      "metadata": {
        "id": "8ymjhaiLVbQb"
      },
      "execution_count": 159,
      "outputs": []
    },
    {
      "cell_type": "code",
      "source": [
        "X_train, X_val, y_train, y_val = train_test_split(X, y, random_state=0, test_size=0.50)"
      ],
      "metadata": {
        "id": "-HD-U715VQXp"
      },
      "execution_count": 160,
      "outputs": []
    },
    {
      "cell_type": "code",
      "source": [
        "dtree = DecisionTreeClassifier(max_depth=5, random_state=0)\n",
        "dtree = dtree.fit(X_train, y_train)"
      ],
      "metadata": {
        "id": "uDmaUn03YArI"
      },
      "execution_count": 161,
      "outputs": []
    },
    {
      "cell_type": "code",
      "source": [
        "p_val = dtree.predict(X_val)"
      ],
      "metadata": {
        "id": "MKSdj10eYAkh"
      },
      "execution_count": 162,
      "outputs": []
    },
    {
      "cell_type": "code",
      "source": [
        "np.mean(y_val == p_val)"
      ],
      "metadata": {
        "colab": {
          "base_uri": "https://localhost:8080/"
        },
        "id": "Z7JhOKelYAX3",
        "outputId": "d65162ca-46a8-4e33-cde0-d6372e33c32b"
      },
      "execution_count": 163,
      "outputs": [
        {
          "output_type": "execute_result",
          "data": {
            "text/plain": [
              "0.9354727272727272"
            ]
          },
          "metadata": {},
          "execution_count": 163
        }
      ]
    },
    {
      "cell_type": "markdown",
      "source": [
        "**Resultado testeando o Maxdepth**\n",
        "\n",
        "None -> 0.8974181818181818\n",
        "\n",
        "1 -> 0.9334545454545454\n",
        "\n",
        "5 -> 0.9354727272727272\n",
        "\n",
        "10 -> 0.932509090909091\n",
        "\n",
        "\n",
        "**Resultado testeando o min_samples_leaf**\n",
        "\n",
        "None -> 0.8978727272727273\n",
        "\n",
        "1 -> 0.8978727272727273\n",
        "\n",
        "5 -> 0.919290909090909\n",
        "\n",
        "10 -> 0.9280363636363637"
      ],
      "metadata": {
        "id": "0D2MLlTXcK58"
      }
    },
    {
      "cell_type": "code",
      "source": [
        "p_val = (X_val['numero_vezes_passou_90_dias'] == 1).astype(np.int64)\n",
        "np.mean(y_val == p_val)"
      ],
      "metadata": {
        "colab": {
          "base_uri": "https://localhost:8080/"
        },
        "id": "UKB6XQdVcTkb",
        "outputId": "e4664df7-2550-400e-f59e-96e346ec3544"
      },
      "execution_count": 165,
      "outputs": [
        {
          "output_type": "execute_result",
          "data": {
            "text/plain": [
              "0.9219272727272727"
            ]
          },
          "metadata": {},
          "execution_count": 165
        }
      ]
    },
    {
      "cell_type": "code",
      "source": [
        "plot_tree(dtree, feature_names=X_train.columns)"
      ],
      "metadata": {
        "colab": {
          "base_uri": "https://localhost:8080/",
          "height": 1000
        },
        "id": "yfEpdbzvZ00u",
        "outputId": "d66ce11b-77d3-4774-9783-2c47e3b7a350"
      },
      "execution_count": 130,
      "outputs": [
        {
          "output_type": "execute_result",
          "data": {
            "text/plain": [
              "[Text(0.5, 0.9166666666666666, 'numero_vezes_passou_90_dias <= 0.5\\ngini = 0.125\\nsamples = 55000\\nvalue = [51329, 3671]'),\n",
              " Text(0.25, 0.75, 'util_linhas_inseguras <= 0.667\\ngini = 0.088\\nsamples = 51922\\nvalue = [49521, 2401]'),\n",
              " Text(0.125, 0.5833333333333334, 'vezes_passou_de_30_59_dias <= 0.5\\ngini = 0.051\\nsamples = 42318\\nvalue = [41202, 1116]'),\n",
              " Text(0.0625, 0.4166666666666667, 'numero_de_vezes_que_passou_60_89_dias <= 0.5\\ngini = 0.036\\nsamples = 37605\\nvalue = [36921, 684]'),\n",
              " Text(0.03125, 0.25, 'util_linhas_inseguras <= 0.323\\ngini = 0.033\\nsamples = 37064\\nvalue = [36440, 624]'),\n",
              " Text(0.015625, 0.08333333333333333, 'gini = 0.025\\nsamples = 30707\\nvalue = [30322, 385]'),\n",
              " Text(0.046875, 0.08333333333333333, 'gini = 0.072\\nsamples = 6357\\nvalue = [6118, 239]'),\n",
              " Text(0.09375, 0.25, 'numero_de_vezes_que_passou_60_89_dias <= 1.5\\ngini = 0.197\\nsamples = 541\\nvalue = [481, 60]'),\n",
              " Text(0.078125, 0.08333333333333333, 'gini = 0.169\\nsamples = 495\\nvalue = [449, 46]'),\n",
              " Text(0.109375, 0.08333333333333333, 'gini = 0.423\\nsamples = 46\\nvalue = [32, 14]'),\n",
              " Text(0.1875, 0.4166666666666667, 'numero_de_vezes_que_passou_60_89_dias <= 0.5\\ngini = 0.167\\nsamples = 4713\\nvalue = [4281, 432]'),\n",
              " Text(0.15625, 0.25, 'vezes_passou_de_30_59_dias <= 1.5\\ngini = 0.148\\nsamples = 4318\\nvalue = [3971, 347]'),\n",
              " Text(0.140625, 0.08333333333333333, 'gini = 0.123\\nsamples = 3366\\nvalue = [3145, 221]'),\n",
              " Text(0.171875, 0.08333333333333333, 'gini = 0.23\\nsamples = 952\\nvalue = [826, 126]'),\n",
              " Text(0.21875, 0.25, 'idade <= 33.5\\ngini = 0.338\\nsamples = 395\\nvalue = [310, 85]'),\n",
              " Text(0.203125, 0.08333333333333333, 'gini = 0.473\\nsamples = 52\\nvalue = [32, 20]'),\n",
              " Text(0.234375, 0.08333333333333333, 'gini = 0.307\\nsamples = 343\\nvalue = [278, 65]'),\n",
              " Text(0.375, 0.5833333333333334, 'vezes_passou_de_30_59_dias <= 0.5\\ngini = 0.232\\nsamples = 9604\\nvalue = [8319, 1285]'),\n",
              " Text(0.3125, 0.4166666666666667, 'numero_de_vezes_que_passou_60_89_dias <= 0.5\\ngini = 0.17\\nsamples = 7139\\nvalue = [6471, 668]'),\n",
              " Text(0.28125, 0.25, 'idade <= 46.5\\ngini = 0.152\\nsamples = 6835\\nvalue = [6268, 567]'),\n",
              " Text(0.265625, 0.08333333333333333, 'gini = 0.181\\nsamples = 3514\\nvalue = [3160, 354]'),\n",
              " Text(0.296875, 0.08333333333333333, 'gini = 0.12\\nsamples = 3321\\nvalue = [3108, 213]'),\n",
              " Text(0.34375, 0.25, 'util_linhas_inseguras <= 0.959\\ngini = 0.444\\nsamples = 304\\nvalue = [203, 101]'),\n",
              " Text(0.328125, 0.08333333333333333, 'gini = 0.36\\nsamples = 123\\nvalue = [94, 29]'),\n",
              " Text(0.359375, 0.08333333333333333, 'gini = 0.479\\nsamples = 181\\nvalue = [109, 72]'),\n",
              " Text(0.4375, 0.4166666666666667, 'util_linhas_inseguras <= 1.003\\ngini = 0.375\\nsamples = 2465\\nvalue = [1848, 617]'),\n",
              " Text(0.40625, 0.25, 'vezes_passou_de_30_59_dias <= 2.5\\ngini = 0.344\\nsamples = 2109\\nvalue = [1644, 465]'),\n",
              " Text(0.390625, 0.08333333333333333, 'gini = 0.311\\nsamples = 1783\\nvalue = [1440, 343]'),\n",
              " Text(0.421875, 0.08333333333333333, 'gini = 0.468\\nsamples = 326\\nvalue = [204, 122]'),\n",
              " Text(0.46875, 0.25, 'idade <= 55.5\\ngini = 0.489\\nsamples = 356\\nvalue = [204, 152]'),\n",
              " Text(0.453125, 0.08333333333333333, 'gini = 0.497\\nsamples = 289\\nvalue = [155, 134]'),\n",
              " Text(0.484375, 0.08333333333333333, 'gini = 0.393\\nsamples = 67\\nvalue = [49, 18]'),\n",
              " Text(0.75, 0.75, 'numero_vezes_passou_90_dias <= 1.5\\ngini = 0.485\\nsamples = 3078\\nvalue = [1808, 1270]'),\n",
              " Text(0.625, 0.5833333333333334, 'util_linhas_inseguras <= 0.596\\ngini = 0.446\\nsamples = 1956\\nvalue = [1300, 656]'),\n",
              " Text(0.5625, 0.4166666666666667, 'numero_de_vezes_que_passou_60_89_dias <= 0.5\\ngini = 0.335\\nsamples = 728\\nvalue = [573, 155]'),\n",
              " Text(0.53125, 0.25, 'vezes_passou_de_30_59_dias <= 2.5\\ngini = 0.291\\nsamples = 583\\nvalue = [480, 103]'),\n",
              " Text(0.515625, 0.08333333333333333, 'gini = 0.268\\nsamples = 547\\nvalue = [460, 87]'),\n",
              " Text(0.546875, 0.08333333333333333, 'gini = 0.494\\nsamples = 36\\nvalue = [20, 16]'),\n",
              " Text(0.59375, 0.25, 'numero_emprestimos_imobiliarios <= 2.5\\ngini = 0.46\\nsamples = 145\\nvalue = [93, 52]'),\n",
              " Text(0.578125, 0.08333333333333333, 'gini = 0.446\\nsamples = 137\\nvalue = [91, 46]'),\n",
              " Text(0.609375, 0.08333333333333333, 'gini = 0.375\\nsamples = 8\\nvalue = [2, 6]'),\n",
              " Text(0.6875, 0.4166666666666667, 'vezes_passou_de_30_59_dias <= 1.5\\ngini = 0.483\\nsamples = 1228\\nvalue = [727, 501]'),\n",
              " Text(0.65625, 0.25, 'numero_de_vezes_que_passou_60_89_dias <= 0.5\\ngini = 0.462\\nsamples = 888\\nvalue = [566, 322]'),\n",
              " Text(0.640625, 0.08333333333333333, 'gini = 0.438\\nsamples = 671\\nvalue = [454, 217]'),\n",
              " Text(0.671875, 0.08333333333333333, 'gini = 0.499\\nsamples = 217\\nvalue = [112, 105]'),\n",
              " Text(0.71875, 0.25, 'razao_debito <= 0.025\\ngini = 0.499\\nsamples = 340\\nvalue = [161, 179]'),\n",
              " Text(0.703125, 0.08333333333333333, 'gini = 0.0\\nsamples = 9\\nvalue = [9, 0]'),\n",
              " Text(0.734375, 0.08333333333333333, 'gini = 0.497\\nsamples = 331\\nvalue = [152, 179]'),\n",
              " Text(0.875, 0.5833333333333334, 'numero_vezes_passou_90_dias <= 3.5\\ngini = 0.496\\nsamples = 1122\\nvalue = [508, 614]'),\n",
              " Text(0.8125, 0.4166666666666667, 'numero_de_vezes_que_passou_60_89_dias <= 1.5\\ngini = 0.5\\nsamples = 801\\nvalue = [392, 409]'),\n",
              " Text(0.78125, 0.25, 'idade <= 31.5\\ngini = 0.5\\nsamples = 682\\nvalue = [349, 333]'),\n",
              " Text(0.765625, 0.08333333333333333, 'gini = 0.471\\nsamples = 95\\nvalue = [36, 59]'),\n",
              " Text(0.796875, 0.08333333333333333, 'gini = 0.498\\nsamples = 587\\nvalue = [313, 274]'),\n",
              " Text(0.84375, 0.25, 'salario_mensal <= 9750.0\\ngini = 0.462\\nsamples = 119\\nvalue = [43, 76]'),\n",
              " Text(0.828125, 0.08333333333333333, 'gini = 0.478\\nsamples = 106\\nvalue = [42, 64]'),\n",
              " Text(0.859375, 0.08333333333333333, 'gini = 0.142\\nsamples = 13\\nvalue = [1, 12]'),\n",
              " Text(0.9375, 0.4166666666666667, 'idade <= 22.5\\ngini = 0.462\\nsamples = 321\\nvalue = [116, 205]'),\n",
              " Text(0.90625, 0.25, 'salario_mensal <= 2136.0\\ngini = 0.188\\nsamples = 19\\nvalue = [17, 2]'),\n",
              " Text(0.890625, 0.08333333333333333, 'gini = 0.0\\nsamples = 17\\nvalue = [17, 0]'),\n",
              " Text(0.921875, 0.08333333333333333, 'gini = 0.0\\nsamples = 2\\nvalue = [0, 2]'),\n",
              " Text(0.96875, 0.25, 'razao_debito <= 0.351\\ngini = 0.441\\nsamples = 302\\nvalue = [99, 203]'),\n",
              " Text(0.953125, 0.08333333333333333, 'gini = 0.483\\nsamples = 184\\nvalue = [75, 109]'),\n",
              " Text(0.984375, 0.08333333333333333, 'gini = 0.324\\nsamples = 118\\nvalue = [24, 94]')]"
            ]
          },
          "metadata": {},
          "execution_count": 130
        },
        {
          "output_type": "display_data",
          "data": {
            "image/png": "[encoded data removed]",
            "text/plain": [
              "<Figure size 432x288 with 1 Axes>"
            ]
          },
          "metadata": {
            "needs_background": "light"
          }
        }
      ]
    },
    {
      "cell_type": "code",
      "source": [
        "X_test = df_test"
      ],
      "metadata": {
        "id": "uYMtZ_Sehy8w"
      },
      "execution_count": null,
      "outputs": []
    },
    {
      "cell_type": "code",
      "source": [
        "X_train.shape, y_train.shape, X_test.shape"
      ],
      "metadata": {
        "id": "KaVb1LZohy6A"
      },
      "execution_count": null,
      "outputs": []
    },
    {
      "cell_type": "code",
      "source": [
        "p = dtree.predict(X_test)"
      ],
      "metadata": {
        "id": "xiryHolRhy3V"
      },
      "execution_count": 139,
      "outputs": []
    },
    {
      "cell_type": "code",
      "source": [
        "acc_dtree = round(dtree.score(X_train, y_train) * 100, 2)\n",
        "acc_dtree"
      ],
      "metadata": {
        "colab": {
          "base_uri": "https://localhost:8080/"
        },
        "id": "io6Dp4ocier7",
        "outputId": "af110153-ed68-41a0-a6e4-e34b8df12447"
      },
      "execution_count": 143,
      "outputs": [
        {
          "output_type": "execute_result",
          "data": {
            "text/plain": [
              "93.68"
            ]
          },
          "metadata": {},
          "execution_count": 143
        }
      ]
    },
    {
      "cell_type": "markdown",
      "source": [
        "**Transformando os dados**"
      ],
      "metadata": {
        "id": "24v4fbyfuok4"
      }
    },
    {
      "cell_type": "code",
      "source": [
        "from sklearn.preprocessing import MinMaxScaler"
      ],
      "metadata": {
        "id": "CtQUpm19uj02"
      },
      "execution_count": 24,
      "outputs": []
    },
    {
      "cell_type": "code",
      "source": [
        "scaler = MinMaxScaler()"
      ],
      "metadata": {
        "id": "I1YCjdU7u7sf"
      },
      "execution_count": 25,
      "outputs": []
    },
    {
      "cell_type": "code",
      "source": [
        "X_sm = scaler.fit_transform(X)"
      ],
      "metadata": {
        "id": "lQSzZsVSu-3m"
      },
      "execution_count": 79,
      "outputs": []
    },
    {
      "cell_type": "code",
      "source": [
        "X_sm"
      ],
      "metadata": {
        "colab": {
          "base_uri": "https://localhost:8080/"
        },
        "id": "_oBIvXcQvFQK",
        "outputId": "100c7d9f-a8cc-4877-da5d-1c700fb6bbee"
      },
      "execution_count": 80,
      "outputs": [
        {
          "output_type": "execute_result",
          "data": {
            "text/plain": [
              "array([[1.51085945e-05, 4.12844037e-01, 2.04081633e-02, ...,\n",
              "        1.11111111e-01, 0.00000000e+00, 1.42857143e-01],\n",
              "       [1.88757399e-05, 3.66972477e-01, 0.00000000e+00, ...,\n",
              "        0.00000000e+00, 0.00000000e+00, 9.52380952e-02],\n",
              "       [1.29798087e-05, 3.48623853e-01, 1.02040816e-02, ...,\n",
              "        0.00000000e+00, 0.00000000e+00, 4.76190476e-02],\n",
              "       ...,\n",
              "       [3.57453084e-06, 3.94495413e-01, 0.00000000e+00, ...,\n",
              "        3.70370370e-02, 0.00000000e+00, 1.42857143e-01],\n",
              "       [7.43461702e-07, 7.88990826e-01, 0.00000000e+00, ...,\n",
              "        3.70370370e-02, 0.00000000e+00, 9.52380952e-02],\n",
              "       [1.97207521e-05, 5.22935780e-01, 0.00000000e+00, ...,\n",
              "        0.00000000e+00, 0.00000000e+00, 4.76190476e-02]])"
            ]
          },
          "metadata": {},
          "execution_count": 80
        }
      ]
    },
    {
      "cell_type": "code",
      "source": [
        "X_test = df_test"
      ],
      "metadata": {
        "id": "cFfCI0pXvFyD"
      },
      "execution_count": 137,
      "outputs": []
    },
    {
      "cell_type": "code",
      "source": [
        "X_train.shape, y_train.shape, X_test.shape"
      ],
      "metadata": {
        "colab": {
          "base_uri": "https://localhost:8080/"
        },
        "id": "vrNe6eefwLSi",
        "outputId": "28aa9dbd-02db-4b1f-f7bc-a4a655a2d013"
      },
      "execution_count": 138,
      "outputs": [
        {
          "output_type": "execute_result",
          "data": {
            "text/plain": [
              "((55000, 10), (55000,), (40000, 10))"
            ]
          },
          "metadata": {},
          "execution_count": 138
        }
      ]
    },
    {
      "cell_type": "code",
      "source": [
        ""
      ],
      "metadata": {
        "id": "dFS6s8lUhwOw"
      },
      "execution_count": null,
      "outputs": []
    },
    {
      "cell_type": "code",
      "source": [
        "dtree = DecisionTreeClassifier()\n",
        "dtree = dtree.fit(X, y)"
      ],
      "metadata": {
        "id": "JEPi0MLTwYM6"
      },
      "execution_count": 33,
      "outputs": []
    },
    {
      "cell_type": "code",
      "source": [
        "importances = dtree.feature_importances_\n",
        "feat_names = df_train.drop(['inadimplente'], axis=1).columns"
      ],
      "metadata": {
        "id": "aU_Tb_Anwf30"
      },
      "execution_count": 34,
      "outputs": []
    },
    {
      "cell_type": "code",
      "source": [
        "indices = np.argsort(importances)[::-1]\n",
        "plt.figure(figsize=(12,4))\n",
        "plt.title(\"Importancias das Features\")\n",
        "plt.bar(range(len(indices)), importances[indices],color='lightblue')\n",
        "plt.xticks(range(len(indices)), feat_names[indices], rotation = 'vertical')\n",
        "plt.xlim([-1, len(indices)])\n",
        "plt.show()"
      ],
      "metadata": {
        "colab": {
          "base_uri": "https://localhost:8080/",
          "height": 486
        },
        "id": "zkWve910w_zD",
        "outputId": "8b1ee5bf-d9e2-465d-d1ed-045db0d7292f"
      },
      "execution_count": 38,
      "outputs": [
        {
          "output_type": "display_data",
          "data": {
            "image/png": "[encoded data removed]",
            "text/plain": [
              "<Figure size 864x288 with 1 Axes>"
            ]
          },
          "metadata": {
            "needs_background": "light"
          }
        }
      ]
    },
    {
      "cell_type": "markdown",
      "source": [
        "**Filtrando apenas os atributos relevantes**"
      ],
      "metadata": {
        "id": "_UAfUf20yBvX"
      }
    },
    {
      "cell_type": "code",
      "source": [
        "X = df_train[[\"salario_mensal\", \"util_linhas_inseguras\", \"razao_debito\", \"idade\", \"numero_vezes_passou_90_dias\", \"numero_linhas_crdto_aberto\"]]"
      ],
      "metadata": {
        "id": "dijWweUdxn6j"
      },
      "execution_count": 43,
      "outputs": []
    },
    {
      "cell_type": "code",
      "source": [
        "X_prev = df_test[[\"salario_mensal\", \"util_linhas_inseguras\", \"razao_debito\", \"idade\", \"numero_vezes_passou_90_dias\", \"numero_linhas_crdto_aberto\"]]"
      ],
      "metadata": {
        "id": "TZGV-Y5JKfpI"
      },
      "execution_count": 53,
      "outputs": []
    },
    {
      "cell_type": "code",
      "source": [
        "X = scaler.fit_transform(X)"
      ],
      "metadata": {
        "id": "JqkH8D0Tyk9m"
      },
      "execution_count": 44,
      "outputs": []
    },
    {
      "cell_type": "code",
      "source": [
        "X"
      ],
      "metadata": {
        "colab": {
          "base_uri": "https://localhost:8080/"
        },
        "id": "DNwM-sLFyz8D",
        "outputId": "9e234492-2dc4-4034-948c-fee281eb4954"
      },
      "execution_count": 45,
      "outputs": [
        {
          "output_type": "execute_result",
          "data": {
            "text/plain": [
              "array([[3.03149048e-03, 1.51085945e-05, 2.43575922e-06, 4.12844037e-01,\n",
              "        0.00000000e+00, 2.24137931e-01],\n",
              "       [8.64478317e-04, 1.88757399e-05, 3.69698241e-07, 3.66972477e-01,\n",
              "        0.00000000e+00, 6.89655172e-02],\n",
              "       [1.01138313e-03, 1.29798087e-05, 2.58182195e-07, 3.48623853e-01,\n",
              "        1.02040816e-02, 3.44827586e-02],\n",
              "       ...,\n",
              "       [3.98869830e-03, 3.57453084e-06, 1.16068112e-06, 3.94495413e-01,\n",
              "        0.00000000e+00, 2.24137931e-01],\n",
              "       [2.32687916e-03, 7.43461702e-07, 7.52606936e-07, 7.88990826e-01,\n",
              "        0.00000000e+00, 2.41379310e-01],\n",
              "       [1.27162401e-03, 1.97207521e-05, 7.13552587e-09, 5.22935780e-01,\n",
              "        0.00000000e+00, 1.72413793e-02]])"
            ]
          },
          "metadata": {},
          "execution_count": 45
        }
      ]
    },
    {
      "cell_type": "code",
      "source": [
        "dtree = DecisionTreeClassifier()\n",
        "dtree = dtree.fit(X, y)"
      ],
      "metadata": {
        "id": "z5vF7JHzJ0J8"
      },
      "execution_count": 58,
      "outputs": []
    },
    {
      "cell_type": "code",
      "source": [
        "y_predict = dtree.predict(X_prev)"
      ],
      "metadata": {
        "colab": {
          "base_uri": "https://localhost:8080/"
        },
        "id": "aec_pQ1OKX4s",
        "outputId": "7453b98a-2f2d-435e-ebb2-ae9a9a2bf89c"
      },
      "execution_count": 61,
      "outputs": [
        {
          "output_type": "stream",
          "name": "stderr",
          "text": [
            "/usr/local/lib/python3.7/dist-packages/sklearn/base.py:444: UserWarning:\n",
            "\n",
            "X has feature names, but DecisionTreeClassifier was fitted without feature names\n",
            "\n"
          ]
        }
      ]
    },
    {
      "cell_type": "code",
      "source": [
        "y_predict"
      ],
      "metadata": {
        "colab": {
          "base_uri": "https://localhost:8080/"
        },
        "id": "MOxOy3zjLdfw",
        "outputId": "e5e1c72d-b8b5-46fb-81a5-7e5932697cd8"
      },
      "execution_count": 62,
      "outputs": [
        {
          "output_type": "execute_result",
          "data": {
            "text/plain": [
              "array([1, 1, 1, ..., 1, 1, 0])"
            ]
          },
          "metadata": {},
          "execution_count": 62
        }
      ]
    },
    {
      "cell_type": "code",
      "source": [
        "def accuracy_result (y, y_predict):\n",
        "  acc = accuracy_score(y, y_predict)\n",
        "  print(\"Accuracy = %2.2f\" % acc)"
      ],
      "metadata": {
        "id": "7YAFqdhJMYJT"
      },
      "execution_count": 64,
      "outputs": []
    },
    {
      "cell_type": "code",
      "source": [
        "y.shape"
      ],
      "metadata": {
        "colab": {
          "base_uri": "https://localhost:8080/"
        },
        "id": "RFDY8VzcL3Ob",
        "outputId": "ea59b08b-fa6c-4458-b746-3355a0a92a7d"
      },
      "execution_count": 71,
      "outputs": [
        {
          "output_type": "execute_result",
          "data": {
            "text/plain": [
              "(110000,)"
            ]
          },
          "metadata": {},
          "execution_count": 71
        }
      ]
    },
    {
      "cell_type": "code",
      "source": [
        "y_predict.shape"
      ],
      "metadata": {
        "colab": {
          "base_uri": "https://localhost:8080/"
        },
        "id": "7Yn-Y7j6NYfl",
        "outputId": "b1ed32f1-2cf4-41ac-84e7-3e865eec0ea3"
      },
      "execution_count": 72,
      "outputs": [
        {
          "output_type": "execute_result",
          "data": {
            "text/plain": [
              "(40000,)"
            ]
          },
          "metadata": {},
          "execution_count": 72
        }
      ]
    },
    {
      "cell_type": "markdown",
      "source": [
        "**Função do modelo baseline**"
      ],
      "metadata": {
        "id": "L_H-vtrZIwTG"
      }
    },
    {
      "cell_type": "code",
      "source": [
        "def baseline_model(X):\n",
        "  y = np.zeros(X.shape[0])\n",
        "  return y"
      ],
      "metadata": {
        "id": "TLIw4ZEXy0dQ"
      },
      "execution_count": 46,
      "outputs": []
    },
    {
      "cell_type": "markdown",
      "source": [
        "**Importando o método de métrica de avaliação**"
      ],
      "metadata": {
        "id": "Ka_WP45XJCMK"
      }
    },
    {
      "cell_type": "code",
      "source": [
        "from sklearn.metrics import roc_auc_score, accuracy_score, classification_report"
      ],
      "metadata": {
        "id": "71fxCYIVJArZ"
      },
      "execution_count": 48,
      "outputs": []
    },
    {
      "cell_type": "code",
      "source": [
        ""
      ],
      "metadata": {
        "id": "2wekcblWJO_L"
      },
      "execution_count": null,
      "outputs": []
    }
  ]
}