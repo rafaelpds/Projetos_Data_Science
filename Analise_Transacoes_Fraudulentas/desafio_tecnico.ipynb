{
  "nbformat": 4,
  "nbformat_minor": 0,
  "metadata": {
    "colab": {
      "name": "desafio_tecnico.ipynb",
      "provenance": [],
      "collapsed_sections": [],
      "authorship_tag": "ABX9TyOWY/CdS6NKX8R3mch43g+K"
    },
    "kernelspec": {
      "name": "python3",
      "display_name": "Python 3"
    },
    "language_info": {
      "name": "python"
    }
  },
  "cells": [
    {
      "cell_type": "markdown",
      "source": [
        "# Previsão se uma transação é fraudulenta\n",
        "\n",
        "-> Desenvolvido por Rafael Santos"
      ],
      "metadata": {
        "id": "7psk7JqfoNtz"
      }
    },
    {
      "cell_type": "markdown",
      "source": [
        "#### Qual problema de negócio quero resolver com essa solução?\n",
        "\n",
        "- Identificar se as transações são fraudulentas ou não."
      ],
      "metadata": {
        "id": "K2LdJ06ioXuE"
      }
    },
    {
      "cell_type": "markdown",
      "source": [
        "Para isso serão utilizadas as seguintes tabelas:\n",
        "\n",
        "1.\taccounts\n",
        "\n",
        "Tabela que apresenta as informações cadastrais de cada conta.\n",
        "Colunas:\n",
        "\n",
        "-\tid: ID identificador da tabela\n",
        "-\taccount_number: Número da conta\n",
        "-\tbirth: Data de nascimento\n",
        "-\toccupation: Tipo de negócio autodeclarado\n",
        "-\temail: E-mail da conta\n",
        "-\taddress_id: ID identificador da tabela address\n",
        "-\tcreated_at: Data de criação da conta\n",
        "\n",
        "2.\taddress\n",
        "\n",
        "Tabela que identifica os pares de estado e cidade. Para verificar a residência de cada conta é necessário realizar o join com esta tabela.\n",
        "\n",
        "-\tid: ID identificador da tabela\n",
        "-\tstate: Estado de residência do cliente\n",
        "-\tcity: Cidade de residência do cliente\n",
        "\n",
        "3.\tlevels\n",
        "\n",
        "Cada conta recebe uma classificação de acordo com a forma que utiliza a plataforma. Contas que utilizam com maior consistência ou com grande potencial podem receber uma melhor classificação (A>B>C>D). Caso identifique-se que a conta possui características suspeitas, de fraude, é atribuída a categoria F e executado o encerramento.\n",
        "-\tid: ID identificador da tabela\n",
        "-\taccount_number: Número da conta\n",
        "-\tlevel: A, B, C, D e F\n",
        "-\tcreated_at: Data da classificação\n",
        "\n",
        "4.\tcharges\n",
        "\n",
        "Tabela apresenta as emissões de boletos realizadas pelos clientes com os respectivos status de pago ou não.\n",
        "-\tid: ID identificador da tabela\n",
        "-\taccount_number: Número da conta\n",
        "-\tstatus: Status da cobrança [paid, unpaid]\n",
        "-\tvalue: Valor da cobrança (em centavos)\n",
        "-\tcreated_at: Data de criação do boleto\n",
        "\n",
        "5.\ttransactions\n",
        "\n",
        "Tabela com as transações efetivadas por cada conta, logo, caso um boleto tenha sido pago esta informação estará presente nesta tabela e na tabela charges.\n",
        "-\tid: ID identificador da tabela\n",
        "-\taccount_number: Número da conta\n",
        "-\ttransaction_type_id: ID identificador da tabela transaction_type\n",
        "-\tvalue: Valor da transação (em centavos)\n",
        "-\tcreated_at: Data da transação\n",
        "\n",
        "6.\ttransaction_type\n",
        "\n",
        "Tabela que permite identificar qual o tipo de cada transação da tabela transactions.\n",
        "-\tid: ID identificador da tabela\n",
        "-\tdescription: boleto_recebido, pix_enviado e pix_recebido\n",
        "-\tdescription_long: 'BOLETO RECEBIDO PELO CLIENTE', 'PIX ENVIADO PELO CLIENTE PARA UMA CONTA EXTERNA' e 'PIX RECEBIDO PELO CLIENTE'\n"
      ],
      "metadata": {
        "id": "RuznrM4wq_LA"
      }
    },
    {
      "cell_type": "markdown",
      "source": [
        "#### Imports necessários"
      ],
      "metadata": {
        "id": "l4x3GAm7ol_R"
      }
    },
    {
      "cell_type": "code",
      "execution_count": 1,
      "metadata": {
        "id": "dRQ_zs67nrQb"
      },
      "outputs": [],
      "source": [
        "import pandas as pd\n",
        "import seaborn as sns\n",
        "\n",
        "import sqlite3\n",
        "con = sqlite3.connect('desafio-tecnico.db')"
      ]
    },
    {
      "cell_type": "markdown",
      "source": [
        "#### Visualizando os dados importados"
      ],
      "metadata": {
        "id": "UULG36I7oLPE"
      }
    },
    {
      "cell_type": "code",
      "source": [
        "table = pd.read_sql_query(\"SELECT name FROM sqlite_master WHERE type='table'\", con)\n",
        "print(table)"
      ],
      "metadata": {
        "colab": {
          "base_uri": "https://localhost:8080/"
        },
        "id": "yzfLqK9dpu8p",
        "outputId": "74655ffd-51e7-4960-d004-931b7e2e3d3b"
      },
      "execution_count": 2,
      "outputs": [
        {
          "output_type": "stream",
          "name": "stdout",
          "text": [
            "               name\n",
            "0          accounts\n",
            "1           address\n",
            "2            levels\n",
            "3           charges\n",
            "4      transactions\n",
            "5  transaction_type\n"
          ]
        }
      ]
    },
    {
      "cell_type": "markdown",
      "source": [
        "#### Criando os dataframes"
      ],
      "metadata": {
        "id": "4plCyJPfp_Aq"
      }
    },
    {
      "cell_type": "code",
      "source": [
        "df_accounts = pd.read_sql_query(\"SELECT * FROM accounts\", con)\n",
        "df_address = pd.read_sql_query(\"SELECT * FROM address\", con)\n",
        "df_levels = pd.read_sql_query(\"SELECT * FROM levels\", con)\n",
        "df_charges = pd.read_sql_query(\"SELECT * FROM charges\", con)\n",
        "df_transactions = pd.read_sql_query(\"SELECT * FROM transactions\", con)\n",
        "df_transaction_type = pd.read_sql_query(\"SELECT * FROM transaction_type\", con)"
      ],
      "metadata": {
        "id": "yyjpjMTbp7lq"
      },
      "execution_count": 3,
      "outputs": []
    },
    {
      "cell_type": "markdown",
      "source": [
        "#### Verificando se a importação foi correta"
      ],
      "metadata": {
        "id": "GYDPBnz2ql2F"
      }
    },
    {
      "cell_type": "code",
      "source": [
        "df_accounts.shape"
      ],
      "metadata": {
        "colab": {
          "base_uri": "https://localhost:8080/"
        },
        "id": "L69c4IPkqM_l",
        "outputId": "e695b855-4441-4789-9b67-68a1bed26f6c"
      },
      "execution_count": 4,
      "outputs": [
        {
          "output_type": "execute_result",
          "data": {
            "text/plain": [
              "(1029, 7)"
            ]
          },
          "metadata": {},
          "execution_count": 4
        }
      ]
    },
    {
      "cell_type": "code",
      "source": [
        "df_accounts.info()"
      ],
      "metadata": {
        "colab": {
          "base_uri": "https://localhost:8080/"
        },
        "id": "eQcR_6RGqO9m",
        "outputId": "7356390c-38eb-4101-dbc3-169f8c156a29"
      },
      "execution_count": 5,
      "outputs": [
        {
          "output_type": "stream",
          "name": "stdout",
          "text": [
            "<class 'pandas.core.frame.DataFrame'>\n",
            "RangeIndex: 1029 entries, 0 to 1028\n",
            "Data columns (total 7 columns):\n",
            " #   Column          Non-Null Count  Dtype \n",
            "---  ------          --------------  ----- \n",
            " 0   id              1029 non-null   int64 \n",
            " 1   account_number  1029 non-null   int64 \n",
            " 2   birth           1029 non-null   object\n",
            " 3   occupation      1029 non-null   object\n",
            " 4   email           1029 non-null   object\n",
            " 5   address_id      1029 non-null   int64 \n",
            " 6   created_at      1029 non-null   object\n",
            "dtypes: int64(3), object(4)\n",
            "memory usage: 56.4+ KB\n"
          ]
        }
      ]
    },
    {
      "cell_type": "code",
      "source": [
        "df_accounts.head(1)"
      ],
      "metadata": {
        "colab": {
          "base_uri": "https://localhost:8080/",
          "height": 162
        },
        "id": "rpIEMRVVsh9W",
        "outputId": "a1dbe6a6-0811-4c9b-9166-2d3f23365a41"
      },
      "execution_count": 6,
      "outputs": [
        {
          "output_type": "execute_result",
          "data": {
            "text/plain": [
              "   id  account_number       birth occupation  \\\n",
              "0   1          155938  1984-10-29     Outros   \n",
              "\n",
              "                                email  address_id           created_at  \n",
              "0  mariaceciliaazevedo042@example.com           1  2021-04-01 02:30:00  "
            ],
            "text/html": [
              "\n",
              "  <div id=\"df-7b9f05e9-4611-4dca-86c5-5bc43c79bb82\">\n",
              "    <div class=\"colab-df-container\">\n",
              "      <div>\n",
              "<style scoped>\n",
              "    .dataframe tbody tr th:only-of-type {\n",
              "        vertical-align: middle;\n",
              "    }\n",
              "\n",
              "    .dataframe tbody tr th {\n",
              "        vertical-align: top;\n",
              "    }\n",
              "\n",
              "    .dataframe thead th {\n",
              "        text-align: right;\n",
              "    }\n",
              "</style>\n",
              "<table border=\"1\" class=\"dataframe\">\n",
              "  <thead>\n",
              "    <tr style=\"text-align: right;\">\n",
              "      <th></th>\n",
              "      <th>id</th>\n",
              "      <th>account_number</th>\n",
              "      <th>birth</th>\n",
              "      <th>occupation</th>\n",
              "      <th>email</th>\n",
              "      <th>address_id</th>\n",
              "      <th>created_at</th>\n",
              "    </tr>\n",
              "  </thead>\n",
              "  <tbody>\n",
              "    <tr>\n",
              "      <th>0</th>\n",
              "      <td>1</td>\n",
              "      <td>155938</td>\n",
              "      <td>1984-10-29</td>\n",
              "      <td>Outros</td>\n",
              "      <td>mariaceciliaazevedo042@example.com</td>\n",
              "      <td>1</td>\n",
              "      <td>2021-04-01 02:30:00</td>\n",
              "    </tr>\n",
              "  </tbody>\n",
              "</table>\n",
              "</div>\n",
              "      <button class=\"colab-df-convert\" onclick=\"convertToInteractive('df-7b9f05e9-4611-4dca-86c5-5bc43c79bb82')\"\n",
              "              title=\"Convert this dataframe to an interactive table.\"\n",
              "              style=\"display:none;\">\n",
              "        \n",
              "  <svg xmlns=\"http://www.w3.org/2000/svg\" height=\"24px\"viewBox=\"0 0 24 24\"\n",
              "       width=\"24px\">\n",
              "    <path d=\"M0 0h24v24H0V0z\" fill=\"none\"/>\n",
              "    <path d=\"M18.56 5.44l.94 2.06.94-2.06 2.06-.94-2.06-.94-.94-2.06-.94 2.06-2.06.94zm-11 1L8.5 8.5l.94-2.06 2.06-.94-2.06-.94L8.5 2.5l-.94 2.06-2.06.94zm10 10l.94 2.06.94-2.06 2.06-.94-2.06-.94-.94-2.06-.94 2.06-2.06.94z\"/><path d=\"M17.41 7.96l-1.37-1.37c-.4-.4-.92-.59-1.43-.59-.52 0-1.04.2-1.43.59L10.3 9.45l-7.72 7.72c-.78.78-.78 2.05 0 2.83L4 21.41c.39.39.9.59 1.41.59.51 0 1.02-.2 1.41-.59l7.78-7.78 2.81-2.81c.8-.78.8-2.07 0-2.86zM5.41 20L4 18.59l7.72-7.72 1.47 1.35L5.41 20z\"/>\n",
              "  </svg>\n",
              "      </button>\n",
              "      \n",
              "  <style>\n",
              "    .colab-df-container {\n",
              "      display:flex;\n",
              "      flex-wrap:wrap;\n",
              "      gap: 12px;\n",
              "    }\n",
              "\n",
              "    .colab-df-convert {\n",
              "      background-color: #E8F0FE;\n",
              "      border: none;\n",
              "      border-radius: 50%;\n",
              "      cursor: pointer;\n",
              "      display: none;\n",
              "      fill: #1967D2;\n",
              "      height: 32px;\n",
              "      padding: 0 0 0 0;\n",
              "      width: 32px;\n",
              "    }\n",
              "\n",
              "    .colab-df-convert:hover {\n",
              "      background-color: #E2EBFA;\n",
              "      box-shadow: 0px 1px 2px rgba(60, 64, 67, 0.3), 0px 1px 3px 1px rgba(60, 64, 67, 0.15);\n",
              "      fill: #174EA6;\n",
              "    }\n",
              "\n",
              "    [theme=dark] .colab-df-convert {\n",
              "      background-color: #3B4455;\n",
              "      fill: #D2E3FC;\n",
              "    }\n",
              "\n",
              "    [theme=dark] .colab-df-convert:hover {\n",
              "      background-color: #434B5C;\n",
              "      box-shadow: 0px 1px 3px 1px rgba(0, 0, 0, 0.15);\n",
              "      filter: drop-shadow(0px 1px 2px rgba(0, 0, 0, 0.3));\n",
              "      fill: #FFFFFF;\n",
              "    }\n",
              "  </style>\n",
              "\n",
              "      <script>\n",
              "        const buttonEl =\n",
              "          document.querySelector('#df-7b9f05e9-4611-4dca-86c5-5bc43c79bb82 button.colab-df-convert');\n",
              "        buttonEl.style.display =\n",
              "          google.colab.kernel.accessAllowed ? 'block' : 'none';\n",
              "\n",
              "        async function convertToInteractive(key) {\n",
              "          const element = document.querySelector('#df-7b9f05e9-4611-4dca-86c5-5bc43c79bb82');\n",
              "          const dataTable =\n",
              "            await google.colab.kernel.invokeFunction('convertToInteractive',\n",
              "                                                     [key], {});\n",
              "          if (!dataTable) return;\n",
              "\n",
              "          const docLinkHtml = 'Like what you see? Visit the ' +\n",
              "            '<a target=\"_blank\" href=https://colab.research.google.com/notebooks/data_table.ipynb>data table notebook</a>'\n",
              "            + ' to learn more about interactive tables.';\n",
              "          element.innerHTML = '';\n",
              "          dataTable['output_type'] = 'display_data';\n",
              "          await google.colab.output.renderOutput(dataTable, element);\n",
              "          const docLink = document.createElement('div');\n",
              "          docLink.innerHTML = docLinkHtml;\n",
              "          element.appendChild(docLink);\n",
              "        }\n",
              "      </script>\n",
              "    </div>\n",
              "  </div>\n",
              "  "
            ]
          },
          "metadata": {},
          "execution_count": 6
        }
      ]
    },
    {
      "cell_type": "markdown",
      "source": [
        "com base na lista de colunas descritas no cabeçalho, é possível verificar que a importação foi correta."
      ],
      "metadata": {
        "id": "Bi4lx7hZr2dj"
      }
    },
    {
      "cell_type": "markdown",
      "source": [
        "## Data Cleaning"
      ],
      "metadata": {
        "id": "O9yLrwk1sJDp"
      }
    },
    {
      "cell_type": "markdown",
      "source": [
        "#### O formato dos campos estão corretos?"
      ],
      "metadata": {
        "id": "ISUwAUlOsK6f"
      }
    },
    {
      "cell_type": "code",
      "source": [
        "print(df_accounts.info())\n",
        "print(\"***************\")\n",
        "print(\"***************\")\n",
        "print(df_address.info())\n",
        "print(\"***************\")\n",
        "print(\"***************\")\n",
        "print(df_levels.info())\n",
        "print(\"***************\")\n",
        "print(\"***************\")\n",
        "print(df_charges.info())\n",
        "print(\"***************\")\n",
        "print(\"***************\")\n",
        "print(df_transactions.info())\n",
        "print(\"***************\")\n",
        "print(\"***************\")\n",
        "print(df_transaction_type.info())"
      ],
      "metadata": {
        "colab": {
          "base_uri": "https://localhost:8080/"
        },
        "id": "uFlRtJjQruXn",
        "outputId": "e703d563-f5b4-4a60-ff8b-a2d14733e47e"
      },
      "execution_count": 7,
      "outputs": [
        {
          "output_type": "stream",
          "name": "stdout",
          "text": [
            "<class 'pandas.core.frame.DataFrame'>\n",
            "RangeIndex: 1029 entries, 0 to 1028\n",
            "Data columns (total 7 columns):\n",
            " #   Column          Non-Null Count  Dtype \n",
            "---  ------          --------------  ----- \n",
            " 0   id              1029 non-null   int64 \n",
            " 1   account_number  1029 non-null   int64 \n",
            " 2   birth           1029 non-null   object\n",
            " 3   occupation      1029 non-null   object\n",
            " 4   email           1029 non-null   object\n",
            " 5   address_id      1029 non-null   int64 \n",
            " 6   created_at      1029 non-null   object\n",
            "dtypes: int64(3), object(4)\n",
            "memory usage: 56.4+ KB\n",
            "None\n",
            "***************\n",
            "***************\n",
            "<class 'pandas.core.frame.DataFrame'>\n",
            "RangeIndex: 747 entries, 0 to 746\n",
            "Data columns (total 4 columns):\n",
            " #   Column      Non-Null Count  Dtype \n",
            "---  ------      --------------  ----- \n",
            " 0   id          747 non-null    int64 \n",
            " 1   state       747 non-null    object\n",
            " 2   city        747 non-null    object\n",
            " 3   created_at  747 non-null    object\n",
            "dtypes: int64(1), object(3)\n",
            "memory usage: 23.5+ KB\n",
            "None\n",
            "***************\n",
            "***************\n",
            "<class 'pandas.core.frame.DataFrame'>\n",
            "RangeIndex: 926 entries, 0 to 925\n",
            "Data columns (total 4 columns):\n",
            " #   Column          Non-Null Count  Dtype \n",
            "---  ------          --------------  ----- \n",
            " 0   id              926 non-null    int64 \n",
            " 1   account_number  926 non-null    int64 \n",
            " 2   level           926 non-null    object\n",
            " 3   created_at      926 non-null    object\n",
            "dtypes: int64(2), object(2)\n",
            "memory usage: 29.1+ KB\n",
            "None\n",
            "***************\n",
            "***************\n",
            "<class 'pandas.core.frame.DataFrame'>\n",
            "RangeIndex: 154469 entries, 0 to 154468\n",
            "Data columns (total 5 columns):\n",
            " #   Column          Non-Null Count   Dtype \n",
            "---  ------          --------------   ----- \n",
            " 0   id              154469 non-null  int64 \n",
            " 1   account_number  154469 non-null  int64 \n",
            " 2   status          154469 non-null  object\n",
            " 3   value           154469 non-null  int64 \n",
            " 4   created_at      154469 non-null  object\n",
            "dtypes: int64(3), object(2)\n",
            "memory usage: 5.9+ MB\n",
            "None\n",
            "***************\n",
            "***************\n",
            "<class 'pandas.core.frame.DataFrame'>\n",
            "RangeIndex: 256227 entries, 0 to 256226\n",
            "Data columns (total 5 columns):\n",
            " #   Column               Non-Null Count   Dtype \n",
            "---  ------               --------------   ----- \n",
            " 0   id                   256227 non-null  int64 \n",
            " 1   account_number       256227 non-null  int64 \n",
            " 2   transaction_type_id  256227 non-null  int64 \n",
            " 3   value                256227 non-null  int64 \n",
            " 4   created_at           256227 non-null  object\n",
            "dtypes: int64(4), object(1)\n",
            "memory usage: 9.8+ MB\n",
            "None\n",
            "***************\n",
            "***************\n",
            "<class 'pandas.core.frame.DataFrame'>\n",
            "RangeIndex: 3 entries, 0 to 2\n",
            "Data columns (total 3 columns):\n",
            " #   Column            Non-Null Count  Dtype \n",
            "---  ------            --------------  ----- \n",
            " 0   id                3 non-null      int64 \n",
            " 1   description       3 non-null      object\n",
            " 2   description_long  3 non-null      object\n",
            "dtypes: int64(1), object(2)\n",
            "memory usage: 200.0+ bytes\n",
            "None\n"
          ]
        }
      ]
    },
    {
      "cell_type": "markdown",
      "source": [
        "#### Há valores nulos?"
      ],
      "metadata": {
        "id": "d9QCy7WErHsC"
      }
    },
    {
      "cell_type": "code",
      "source": [
        "df_accounts.isnull().sum()"
      ],
      "metadata": {
        "colab": {
          "base_uri": "https://localhost:8080/"
        },
        "id": "K_a3MB_bql3D",
        "outputId": "29c50d69-f037-4d12-8abf-fce36ad3fb91"
      },
      "execution_count": 8,
      "outputs": [
        {
          "output_type": "execute_result",
          "data": {
            "text/plain": [
              "id                0\n",
              "account_number    0\n",
              "birth             0\n",
              "occupation        0\n",
              "email             0\n",
              "address_id        0\n",
              "created_at        0\n",
              "dtype: int64"
            ]
          },
          "metadata": {},
          "execution_count": 8
        }
      ]
    },
    {
      "cell_type": "code",
      "source": [
        "df_address.isnull().sum()"
      ],
      "metadata": {
        "colab": {
          "base_uri": "https://localhost:8080/"
        },
        "id": "n2BQDgsIrOg7",
        "outputId": "5329b960-89eb-4c7f-9595-9ae17a11e3bb"
      },
      "execution_count": 9,
      "outputs": [
        {
          "output_type": "execute_result",
          "data": {
            "text/plain": [
              "id            0\n",
              "state         0\n",
              "city          0\n",
              "created_at    0\n",
              "dtype: int64"
            ]
          },
          "metadata": {},
          "execution_count": 9
        }
      ]
    },
    {
      "cell_type": "code",
      "source": [
        "df_levels.isnull().sum()"
      ],
      "metadata": {
        "colab": {
          "base_uri": "https://localhost:8080/"
        },
        "id": "5t97EijbrOZX",
        "outputId": "5e6eb7c8-48d8-420b-8dea-667ddb2e679b"
      },
      "execution_count": 10,
      "outputs": [
        {
          "output_type": "execute_result",
          "data": {
            "text/plain": [
              "id                0\n",
              "account_number    0\n",
              "level             0\n",
              "created_at        0\n",
              "dtype: int64"
            ]
          },
          "metadata": {},
          "execution_count": 10
        }
      ]
    },
    {
      "cell_type": "code",
      "source": [
        "df_charges.isnull().sum()"
      ],
      "metadata": {
        "colab": {
          "base_uri": "https://localhost:8080/"
        },
        "id": "Gn9psqnxrOPl",
        "outputId": "e0a1c32d-5cb2-45db-ca92-02272eebc0f6"
      },
      "execution_count": 11,
      "outputs": [
        {
          "output_type": "execute_result",
          "data": {
            "text/plain": [
              "id                0\n",
              "account_number    0\n",
              "status            0\n",
              "value             0\n",
              "created_at        0\n",
              "dtype: int64"
            ]
          },
          "metadata": {},
          "execution_count": 11
        }
      ]
    },
    {
      "cell_type": "code",
      "source": [
        "df_transactions.isnull().sum()"
      ],
      "metadata": {
        "colab": {
          "base_uri": "https://localhost:8080/"
        },
        "id": "UNYNQJpMrOIG",
        "outputId": "bf19997d-acaa-46dc-9212-65594aa0c44a"
      },
      "execution_count": 12,
      "outputs": [
        {
          "output_type": "execute_result",
          "data": {
            "text/plain": [
              "id                     0\n",
              "account_number         0\n",
              "transaction_type_id    0\n",
              "value                  0\n",
              "created_at             0\n",
              "dtype: int64"
            ]
          },
          "metadata": {},
          "execution_count": 12
        }
      ]
    },
    {
      "cell_type": "code",
      "source": [
        "df_transaction_type.isnull().sum()"
      ],
      "metadata": {
        "colab": {
          "base_uri": "https://localhost:8080/"
        },
        "id": "sVdo6W09rN_T",
        "outputId": "868b0890-6a09-424e-c3a3-994d8eabe5be"
      },
      "execution_count": 13,
      "outputs": [
        {
          "output_type": "execute_result",
          "data": {
            "text/plain": [
              "id                  0\n",
              "description         0\n",
              "description_long    0\n",
              "dtype: int64"
            ]
          },
          "metadata": {},
          "execution_count": 13
        }
      ]
    },
    {
      "cell_type": "code",
      "source": [
        "print(df_accounts.shape[0])\n",
        "print(df_address.shape[0])\n",
        "print(df_levels.shape[0])\n",
        "print(df_charges.shape[0])\n",
        "print(df_transactions.shape[0])\n",
        "print(df_transaction_type.shape[0])"
      ],
      "metadata": {
        "colab": {
          "base_uri": "https://localhost:8080/"
        },
        "id": "f7paFc0ZsuIa",
        "outputId": "591ce98d-034f-49cc-9ce8-1102f88c0230"
      },
      "execution_count": 14,
      "outputs": [
        {
          "output_type": "stream",
          "name": "stdout",
          "text": [
            "1029\n",
            "747\n",
            "926\n",
            "154469\n",
            "256227\n",
            "3\n"
          ]
        }
      ]
    },
    {
      "cell_type": "markdown",
      "source": [
        "Existem alguns campos que estão com o formato indevido, primeiramente, vou juntar as tabelas e depois fazer a transformação"
      ],
      "metadata": {
        "id": "RMMmzH7FoBvK"
      }
    },
    {
      "cell_type": "code",
      "source": [
        "df_transaction_type.head()"
      ],
      "metadata": {
        "colab": {
          "base_uri": "https://localhost:8080/",
          "height": 143
        },
        "id": "BtKkRM7O2SdO",
        "outputId": "7a7b2e2a-8ee4-4904-a550-d2fe8a17a8d9"
      },
      "execution_count": 15,
      "outputs": [
        {
          "output_type": "execute_result",
          "data": {
            "text/plain": [
              "   id      description                                 description_long\n",
              "0   1  boleto_recebido                     BOLETO RECEBIDO PELO CLIENTE\n",
              "1   2      pix_enviado  PIX ENVIADO PELO CLIENTE PARA UMA CONTA EXTERNA\n",
              "2   3     pix_recebido                        PIX RECEBIDO PELO CLIENTE"
            ],
            "text/html": [
              "\n",
              "  <div id=\"df-23202b2e-4acc-4c0a-8937-7bc0aa2a35b2\">\n",
              "    <div class=\"colab-df-container\">\n",
              "      <div>\n",
              "<style scoped>\n",
              "    .dataframe tbody tr th:only-of-type {\n",
              "        vertical-align: middle;\n",
              "    }\n",
              "\n",
              "    .dataframe tbody tr th {\n",
              "        vertical-align: top;\n",
              "    }\n",
              "\n",
              "    .dataframe thead th {\n",
              "        text-align: right;\n",
              "    }\n",
              "</style>\n",
              "<table border=\"1\" class=\"dataframe\">\n",
              "  <thead>\n",
              "    <tr style=\"text-align: right;\">\n",
              "      <th></th>\n",
              "      <th>id</th>\n",
              "      <th>description</th>\n",
              "      <th>description_long</th>\n",
              "    </tr>\n",
              "  </thead>\n",
              "  <tbody>\n",
              "    <tr>\n",
              "      <th>0</th>\n",
              "      <td>1</td>\n",
              "      <td>boleto_recebido</td>\n",
              "      <td>BOLETO RECEBIDO PELO CLIENTE</td>\n",
              "    </tr>\n",
              "    <tr>\n",
              "      <th>1</th>\n",
              "      <td>2</td>\n",
              "      <td>pix_enviado</td>\n",
              "      <td>PIX ENVIADO PELO CLIENTE PARA UMA CONTA EXTERNA</td>\n",
              "    </tr>\n",
              "    <tr>\n",
              "      <th>2</th>\n",
              "      <td>3</td>\n",
              "      <td>pix_recebido</td>\n",
              "      <td>PIX RECEBIDO PELO CLIENTE</td>\n",
              "    </tr>\n",
              "  </tbody>\n",
              "</table>\n",
              "</div>\n",
              "      <button class=\"colab-df-convert\" onclick=\"convertToInteractive('df-23202b2e-4acc-4c0a-8937-7bc0aa2a35b2')\"\n",
              "              title=\"Convert this dataframe to an interactive table.\"\n",
              "              style=\"display:none;\">\n",
              "        \n",
              "  <svg xmlns=\"http://www.w3.org/2000/svg\" height=\"24px\"viewBox=\"0 0 24 24\"\n",
              "       width=\"24px\">\n",
              "    <path d=\"M0 0h24v24H0V0z\" fill=\"none\"/>\n",
              "    <path d=\"M18.56 5.44l.94 2.06.94-2.06 2.06-.94-2.06-.94-.94-2.06-.94 2.06-2.06.94zm-11 1L8.5 8.5l.94-2.06 2.06-.94-2.06-.94L8.5 2.5l-.94 2.06-2.06.94zm10 10l.94 2.06.94-2.06 2.06-.94-2.06-.94-.94-2.06-.94 2.06-2.06.94z\"/><path d=\"M17.41 7.96l-1.37-1.37c-.4-.4-.92-.59-1.43-.59-.52 0-1.04.2-1.43.59L10.3 9.45l-7.72 7.72c-.78.78-.78 2.05 0 2.83L4 21.41c.39.39.9.59 1.41.59.51 0 1.02-.2 1.41-.59l7.78-7.78 2.81-2.81c.8-.78.8-2.07 0-2.86zM5.41 20L4 18.59l7.72-7.72 1.47 1.35L5.41 20z\"/>\n",
              "  </svg>\n",
              "      </button>\n",
              "      \n",
              "  <style>\n",
              "    .colab-df-container {\n",
              "      display:flex;\n",
              "      flex-wrap:wrap;\n",
              "      gap: 12px;\n",
              "    }\n",
              "\n",
              "    .colab-df-convert {\n",
              "      background-color: #E8F0FE;\n",
              "      border: none;\n",
              "      border-radius: 50%;\n",
              "      cursor: pointer;\n",
              "      display: none;\n",
              "      fill: #1967D2;\n",
              "      height: 32px;\n",
              "      padding: 0 0 0 0;\n",
              "      width: 32px;\n",
              "    }\n",
              "\n",
              "    .colab-df-convert:hover {\n",
              "      background-color: #E2EBFA;\n",
              "      box-shadow: 0px 1px 2px rgba(60, 64, 67, 0.3), 0px 1px 3px 1px rgba(60, 64, 67, 0.15);\n",
              "      fill: #174EA6;\n",
              "    }\n",
              "\n",
              "    [theme=dark] .colab-df-convert {\n",
              "      background-color: #3B4455;\n",
              "      fill: #D2E3FC;\n",
              "    }\n",
              "\n",
              "    [theme=dark] .colab-df-convert:hover {\n",
              "      background-color: #434B5C;\n",
              "      box-shadow: 0px 1px 3px 1px rgba(0, 0, 0, 0.15);\n",
              "      filter: drop-shadow(0px 1px 2px rgba(0, 0, 0, 0.3));\n",
              "      fill: #FFFFFF;\n",
              "    }\n",
              "  </style>\n",
              "\n",
              "      <script>\n",
              "        const buttonEl =\n",
              "          document.querySelector('#df-23202b2e-4acc-4c0a-8937-7bc0aa2a35b2 button.colab-df-convert');\n",
              "        buttonEl.style.display =\n",
              "          google.colab.kernel.accessAllowed ? 'block' : 'none';\n",
              "\n",
              "        async function convertToInteractive(key) {\n",
              "          const element = document.querySelector('#df-23202b2e-4acc-4c0a-8937-7bc0aa2a35b2');\n",
              "          const dataTable =\n",
              "            await google.colab.kernel.invokeFunction('convertToInteractive',\n",
              "                                                     [key], {});\n",
              "          if (!dataTable) return;\n",
              "\n",
              "          const docLinkHtml = 'Like what you see? Visit the ' +\n",
              "            '<a target=\"_blank\" href=https://colab.research.google.com/notebooks/data_table.ipynb>data table notebook</a>'\n",
              "            + ' to learn more about interactive tables.';\n",
              "          element.innerHTML = '';\n",
              "          dataTable['output_type'] = 'display_data';\n",
              "          await google.colab.output.renderOutput(dataTable, element);\n",
              "          const docLink = document.createElement('div');\n",
              "          docLink.innerHTML = docLinkHtml;\n",
              "          element.appendChild(docLink);\n",
              "        }\n",
              "      </script>\n",
              "    </div>\n",
              "  </div>\n",
              "  "
            ]
          },
          "metadata": {},
          "execution_count": 15
        }
      ]
    },
    {
      "cell_type": "code",
      "source": [
        "df = pd.merge(df_accounts,df_address[['id','state','city']],how='left',on='id')\n",
        "df = pd.merge(df,df_levels[['id','level']],how='left',on='id')"
      ],
      "metadata": {
        "id": "DddpuuOzsaFB"
      },
      "execution_count": 16,
      "outputs": []
    },
    {
      "cell_type": "markdown",
      "source": [
        "alterei o nome da coluna para padronizar com a coluna que já tem criada"
      ],
      "metadata": {
        "id": "tAeZWHaI3ePA"
      }
    },
    {
      "cell_type": "code",
      "source": [
        "df_transaction_type = df_transaction_type.rename(columns={'id': 'transaction_type_id'})"
      ],
      "metadata": {
        "id": "HlGEItoW3VWe"
      },
      "execution_count": 17,
      "outputs": []
    },
    {
      "cell_type": "code",
      "source": [
        "df = pd.merge(df,df_charges[['id','status','value']],how='outer',on='id')\n",
        "df = pd.merge(df,df_transactions[['id','transaction_type_id']],how='outer',on='id')\n",
        "df = pd.merge(df,df_transaction_type[['transaction_type_id','description']],how='left',on='transaction_type_id')"
      ],
      "metadata": {
        "id": "gd96Wh9N1cCX"
      },
      "execution_count": 18,
      "outputs": []
    },
    {
      "cell_type": "code",
      "source": [
        "df.head()"
      ],
      "metadata": {
        "colab": {
          "base_uri": "https://localhost:8080/",
          "height": 357
        },
        "id": "Oav_Ic6etkBx",
        "outputId": "72599784-1167-40c2-c702-d0d629f94ce9"
      },
      "execution_count": 19,
      "outputs": [
        {
          "output_type": "execute_result",
          "data": {
            "text/plain": [
              "   id  account_number       birth  occupation  \\\n",
              "0   1        155938.0  1984-10-29      Outros   \n",
              "1   2        747007.0  1977-03-26    Corretor   \n",
              "2   3        208404.0  1984-01-26    Analista   \n",
              "3   4         66402.0  1982-06-30  Investidor   \n",
              "4   5        277012.0  1967-01-11      Outros   \n",
              "\n",
              "                                email  address_id           created_at state  \\\n",
              "0  mariaceciliaazevedo042@example.com         1.0  2021-04-01 02:30:00    RJ   \n",
              "1               ananunes3@example.com         2.0  2021-04-01 02:00:00    MG   \n",
              "2      luizfernandovieira@example.com         3.0  2021-04-01 11:30:00    MG   \n",
              "3    gabriellynascimento6@example.com         4.0  2021-04-01 14:30:00    PR   \n",
              "4        aliciagoncalves7@example.com         5.0  2021-04-02 15:30:00    ES   \n",
              "\n",
              "         city level  status    value  transaction_type_id      description  \n",
              "0       Carmo     F    paid  11992.0                    1  boleto_recebido  \n",
              "1  Bertopolis     D    paid   9689.0                    1  boleto_recebido  \n",
              "2      Olaria   NaN    paid  11579.0                    1  boleto_recebido  \n",
              "3    Icaraima     D  unpaid   3134.0                    3     pix_recebido  \n",
              "4  Ecoporanga     D    paid   3085.0                    3     pix_recebido  "
            ],
            "text/html": [
              "\n",
              "  <div id=\"df-56723d1c-8975-43d2-850b-666d5cdc9585\">\n",
              "    <div class=\"colab-df-container\">\n",
              "      <div>\n",
              "<style scoped>\n",
              "    .dataframe tbody tr th:only-of-type {\n",
              "        vertical-align: middle;\n",
              "    }\n",
              "\n",
              "    .dataframe tbody tr th {\n",
              "        vertical-align: top;\n",
              "    }\n",
              "\n",
              "    .dataframe thead th {\n",
              "        text-align: right;\n",
              "    }\n",
              "</style>\n",
              "<table border=\"1\" class=\"dataframe\">\n",
              "  <thead>\n",
              "    <tr style=\"text-align: right;\">\n",
              "      <th></th>\n",
              "      <th>id</th>\n",
              "      <th>account_number</th>\n",
              "      <th>birth</th>\n",
              "      <th>occupation</th>\n",
              "      <th>email</th>\n",
              "      <th>address_id</th>\n",
              "      <th>created_at</th>\n",
              "      <th>state</th>\n",
              "      <th>city</th>\n",
              "      <th>level</th>\n",
              "      <th>status</th>\n",
              "      <th>value</th>\n",
              "      <th>transaction_type_id</th>\n",
              "      <th>description</th>\n",
              "    </tr>\n",
              "  </thead>\n",
              "  <tbody>\n",
              "    <tr>\n",
              "      <th>0</th>\n",
              "      <td>1</td>\n",
              "      <td>155938.0</td>\n",
              "      <td>1984-10-29</td>\n",
              "      <td>Outros</td>\n",
              "      <td>mariaceciliaazevedo042@example.com</td>\n",
              "      <td>1.0</td>\n",
              "      <td>2021-04-01 02:30:00</td>\n",
              "      <td>RJ</td>\n",
              "      <td>Carmo</td>\n",
              "      <td>F</td>\n",
              "      <td>paid</td>\n",
              "      <td>11992.0</td>\n",
              "      <td>1</td>\n",
              "      <td>boleto_recebido</td>\n",
              "    </tr>\n",
              "    <tr>\n",
              "      <th>1</th>\n",
              "      <td>2</td>\n",
              "      <td>747007.0</td>\n",
              "      <td>1977-03-26</td>\n",
              "      <td>Corretor</td>\n",
              "      <td>ananunes3@example.com</td>\n",
              "      <td>2.0</td>\n",
              "      <td>2021-04-01 02:00:00</td>\n",
              "      <td>MG</td>\n",
              "      <td>Bertopolis</td>\n",
              "      <td>D</td>\n",
              "      <td>paid</td>\n",
              "      <td>9689.0</td>\n",
              "      <td>1</td>\n",
              "      <td>boleto_recebido</td>\n",
              "    </tr>\n",
              "    <tr>\n",
              "      <th>2</th>\n",
              "      <td>3</td>\n",
              "      <td>208404.0</td>\n",
              "      <td>1984-01-26</td>\n",
              "      <td>Analista</td>\n",
              "      <td>luizfernandovieira@example.com</td>\n",
              "      <td>3.0</td>\n",
              "      <td>2021-04-01 11:30:00</td>\n",
              "      <td>MG</td>\n",
              "      <td>Olaria</td>\n",
              "      <td>NaN</td>\n",
              "      <td>paid</td>\n",
              "      <td>11579.0</td>\n",
              "      <td>1</td>\n",
              "      <td>boleto_recebido</td>\n",
              "    </tr>\n",
              "    <tr>\n",
              "      <th>3</th>\n",
              "      <td>4</td>\n",
              "      <td>66402.0</td>\n",
              "      <td>1982-06-30</td>\n",
              "      <td>Investidor</td>\n",
              "      <td>gabriellynascimento6@example.com</td>\n",
              "      <td>4.0</td>\n",
              "      <td>2021-04-01 14:30:00</td>\n",
              "      <td>PR</td>\n",
              "      <td>Icaraima</td>\n",
              "      <td>D</td>\n",
              "      <td>unpaid</td>\n",
              "      <td>3134.0</td>\n",
              "      <td>3</td>\n",
              "      <td>pix_recebido</td>\n",
              "    </tr>\n",
              "    <tr>\n",
              "      <th>4</th>\n",
              "      <td>5</td>\n",
              "      <td>277012.0</td>\n",
              "      <td>1967-01-11</td>\n",
              "      <td>Outros</td>\n",
              "      <td>aliciagoncalves7@example.com</td>\n",
              "      <td>5.0</td>\n",
              "      <td>2021-04-02 15:30:00</td>\n",
              "      <td>ES</td>\n",
              "      <td>Ecoporanga</td>\n",
              "      <td>D</td>\n",
              "      <td>paid</td>\n",
              "      <td>3085.0</td>\n",
              "      <td>3</td>\n",
              "      <td>pix_recebido</td>\n",
              "    </tr>\n",
              "  </tbody>\n",
              "</table>\n",
              "</div>\n",
              "      <button class=\"colab-df-convert\" onclick=\"convertToInteractive('df-56723d1c-8975-43d2-850b-666d5cdc9585')\"\n",
              "              title=\"Convert this dataframe to an interactive table.\"\n",
              "              style=\"display:none;\">\n",
              "        \n",
              "  <svg xmlns=\"http://www.w3.org/2000/svg\" height=\"24px\"viewBox=\"0 0 24 24\"\n",
              "       width=\"24px\">\n",
              "    <path d=\"M0 0h24v24H0V0z\" fill=\"none\"/>\n",
              "    <path d=\"M18.56 5.44l.94 2.06.94-2.06 2.06-.94-2.06-.94-.94-2.06-.94 2.06-2.06.94zm-11 1L8.5 8.5l.94-2.06 2.06-.94-2.06-.94L8.5 2.5l-.94 2.06-2.06.94zm10 10l.94 2.06.94-2.06 2.06-.94-2.06-.94-.94-2.06-.94 2.06-2.06.94z\"/><path d=\"M17.41 7.96l-1.37-1.37c-.4-.4-.92-.59-1.43-.59-.52 0-1.04.2-1.43.59L10.3 9.45l-7.72 7.72c-.78.78-.78 2.05 0 2.83L4 21.41c.39.39.9.59 1.41.59.51 0 1.02-.2 1.41-.59l7.78-7.78 2.81-2.81c.8-.78.8-2.07 0-2.86zM5.41 20L4 18.59l7.72-7.72 1.47 1.35L5.41 20z\"/>\n",
              "  </svg>\n",
              "      </button>\n",
              "      \n",
              "  <style>\n",
              "    .colab-df-container {\n",
              "      display:flex;\n",
              "      flex-wrap:wrap;\n",
              "      gap: 12px;\n",
              "    }\n",
              "\n",
              "    .colab-df-convert {\n",
              "      background-color: #E8F0FE;\n",
              "      border: none;\n",
              "      border-radius: 50%;\n",
              "      cursor: pointer;\n",
              "      display: none;\n",
              "      fill: #1967D2;\n",
              "      height: 32px;\n",
              "      padding: 0 0 0 0;\n",
              "      width: 32px;\n",
              "    }\n",
              "\n",
              "    .colab-df-convert:hover {\n",
              "      background-color: #E2EBFA;\n",
              "      box-shadow: 0px 1px 2px rgba(60, 64, 67, 0.3), 0px 1px 3px 1px rgba(60, 64, 67, 0.15);\n",
              "      fill: #174EA6;\n",
              "    }\n",
              "\n",
              "    [theme=dark] .colab-df-convert {\n",
              "      background-color: #3B4455;\n",
              "      fill: #D2E3FC;\n",
              "    }\n",
              "\n",
              "    [theme=dark] .colab-df-convert:hover {\n",
              "      background-color: #434B5C;\n",
              "      box-shadow: 0px 1px 3px 1px rgba(0, 0, 0, 0.15);\n",
              "      filter: drop-shadow(0px 1px 2px rgba(0, 0, 0, 0.3));\n",
              "      fill: #FFFFFF;\n",
              "    }\n",
              "  </style>\n",
              "\n",
              "      <script>\n",
              "        const buttonEl =\n",
              "          document.querySelector('#df-56723d1c-8975-43d2-850b-666d5cdc9585 button.colab-df-convert');\n",
              "        buttonEl.style.display =\n",
              "          google.colab.kernel.accessAllowed ? 'block' : 'none';\n",
              "\n",
              "        async function convertToInteractive(key) {\n",
              "          const element = document.querySelector('#df-56723d1c-8975-43d2-850b-666d5cdc9585');\n",
              "          const dataTable =\n",
              "            await google.colab.kernel.invokeFunction('convertToInteractive',\n",
              "                                                     [key], {});\n",
              "          if (!dataTable) return;\n",
              "\n",
              "          const docLinkHtml = 'Like what you see? Visit the ' +\n",
              "            '<a target=\"_blank\" href=https://colab.research.google.com/notebooks/data_table.ipynb>data table notebook</a>'\n",
              "            + ' to learn more about interactive tables.';\n",
              "          element.innerHTML = '';\n",
              "          dataTable['output_type'] = 'display_data';\n",
              "          await google.colab.output.renderOutput(dataTable, element);\n",
              "          const docLink = document.createElement('div');\n",
              "          docLink.innerHTML = docLinkHtml;\n",
              "          element.appendChild(docLink);\n",
              "        }\n",
              "      </script>\n",
              "    </div>\n",
              "  </div>\n",
              "  "
            ]
          },
          "metadata": {},
          "execution_count": 19
        }
      ]
    },
    {
      "cell_type": "code",
      "source": [
        "df.isnull().sum()"
      ],
      "metadata": {
        "colab": {
          "base_uri": "https://localhost:8080/"
        },
        "id": "dgc-J2kQt56u",
        "outputId": "5d3cb9f6-a5a2-48a2-fced-d5e48048e8ce"
      },
      "execution_count": 20,
      "outputs": [
        {
          "output_type": "execute_result",
          "data": {
            "text/plain": [
              "id                          0\n",
              "account_number         255198\n",
              "birth                  255198\n",
              "occupation             255198\n",
              "email                  255198\n",
              "address_id             255198\n",
              "created_at             255198\n",
              "state                  255480\n",
              "city                   255480\n",
              "level                  255301\n",
              "status                 101758\n",
              "value                  101758\n",
              "transaction_type_id         0\n",
              "description                 0\n",
              "dtype: int64"
            ]
          },
          "metadata": {},
          "execution_count": 20
        }
      ]
    },
    {
      "cell_type": "markdown",
      "source": [
        "separei o que estava como nulo em um outra tabela"
      ],
      "metadata": {
        "id": "CezaPW6K4iX6"
      }
    },
    {
      "cell_type": "code",
      "source": [
        "df_test = df[df['state'].isnull()]"
      ],
      "metadata": {
        "id": "BQ2i1JIi0EgU"
      },
      "execution_count": 26,
      "outputs": []
    },
    {
      "cell_type": "code",
      "source": [
        "df_treino = df.dropna()"
      ],
      "metadata": {
        "id": "9i651B214VZw"
      },
      "execution_count": 31,
      "outputs": []
    },
    {
      "cell_type": "markdown",
      "source": [
        "verificando se ainda há nulos"
      ],
      "metadata": {
        "id": "_xGRbXYj5T9D"
      }
    },
    {
      "cell_type": "code",
      "source": [
        "df_treino.isnull().sum()"
      ],
      "metadata": {
        "colab": {
          "base_uri": "https://localhost:8080/"
        },
        "id": "Mi4KOj4i4yhO",
        "outputId": "36e73930-fac3-4e41-bcc2-117320b76eb4"
      },
      "execution_count": 32,
      "outputs": [
        {
          "output_type": "execute_result",
          "data": {
            "text/plain": [
              "id                     0\n",
              "account_number         0\n",
              "birth                  0\n",
              "occupation             0\n",
              "email                  0\n",
              "address_id             0\n",
              "created_at             0\n",
              "state                  0\n",
              "city                   0\n",
              "level                  0\n",
              "status                 0\n",
              "value                  0\n",
              "transaction_type_id    0\n",
              "description            0\n",
              "dtype: int64"
            ]
          },
          "metadata": {},
          "execution_count": 32
        }
      ]
    },
    {
      "cell_type": "code",
      "source": [
        ""
      ],
      "metadata": {
        "id": "C0kLPps441hs"
      },
      "execution_count": null,
      "outputs": []
    }
  ]
}