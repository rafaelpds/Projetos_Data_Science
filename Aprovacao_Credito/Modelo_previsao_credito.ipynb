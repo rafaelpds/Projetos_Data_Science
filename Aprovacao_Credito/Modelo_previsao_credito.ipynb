{
 "cells": [
  {
   "cell_type": "markdown",
   "metadata": {},
   "source": [
    "# Qual o problema quero resolver com a solução de ML?"
   ]
  },
  {
   "cell_type": "markdown",
   "metadata": {},
   "source": [
    "- R: Como aumentar a taxa de aprovação, reduzindo a inadimplência ao mesmo tempo?"
   ]
  },
  {
   "cell_type": "markdown",
   "metadata": {},
   "source": [
    "### Entendimento do negócio:"
   ]
  },
  {
   "cell_type": "markdown",
   "metadata": {},
   "source": [
    "Imaginando que uma pessoa que deseja obter um crédito com o banco, é desejável ter uma alta precisão, pois o banco não gostaria de perder clientes que tiveram um empréstimo negado com base na previsão do modelo de que seriam inadimplentes.\n",
    "\n",
    "- Que tipo de crédito o cliente oferece?\n",
    "- Em que parte do processo de aprovação de crédito, o modelo será aplicado?\n",
    "- Qual o valor dos emprestimos que os clientes inadimplentes mais adquirem?\n",
    "- Todas as features presentes no dataset ajudam a responder o desejo do cliente?"
   ]
  },
  {
   "cell_type": "markdown",
   "metadata": {},
   "source": [
    "### Entendimento Dataset:\n",
    "\n",
    "- idade: A idade do cliente..\n",
    "- numero_de_dependentes: O número de pessoas dependentes do cliente.\n",
    "- salario_mensal: Salário mensal do cliente.\n",
    "- numero_emprestimos_imobiliarios: Quantidade de empréstimos imobiliários que o cliente possui em aberto.\n",
    "- numero_vezes_passou_90_dias: Número de vezes que o tomador passou mais de 90 dias em atraso.\n",
    "- util_linhas_inseguras: Quanto que o cliente está usando, relativamente ao limite dele, de linhas de crédito que não são seguradas por qualquer bem do tomador e.g: imoveis, carros etc.\n",
    "- vezes_passou_de_30_59_dias: Número de vezes que o cliente atrasou, entre 30 e 59 dias, o pagamento de um empréstimo.\n",
    "- razao_debito: Razão entre as dívidas e o patrimônio do tomador. razão débito Dividas/Patrimônio\n",
    "- numero_linhas_crdto_aberto: Número de empréstimos em aberto pelo cliente.\n",
    "- numero_de_vezes_que_passou_60_89_dias: Número de vezes que o cliente atrasou, entre 60 e 89 dias, o pagamento de um empréstimo."
   ]
  },
  {
   "cell_type": "markdown",
   "metadata": {},
   "source": [
    "### Imports iniciais necessários"
   ]
  },
  {
   "cell_type": "code",
   "execution_count": 2,
   "metadata": {
    "id": "tsemLRvmnak2",
    "tags": []
   },
   "outputs": [],
   "source": [
    "import pandas as pd\n",
    "import numpy as np\n",
    "\n",
    "import matplotlib.pyplot as plt\n",
    "import seaborn as sns\n",
    "\n",
    "from imblearn.over_sampling import SMOTE\n",
    "from sklearn.model_selection import train_test_split\n",
    "from sklearn.tree import DecisionTreeClassifier, plot_tree\n",
    "from sklearn.ensemble import RandomForestClassifier\n",
    "from sklearn.metrics import accuracy_score, roc_auc_score, classification_report\n",
    "from sklearn.preprocessing import MinMaxScaler"
   ]
  },
  {
   "cell_type": "code",
   "execution_count": 3,
   "metadata": {
    "id": "JrxrqYSSndaj"
   },
   "outputs": [],
   "source": [
    "df_train = pd.read_csv('treino.csv')\n",
    "df_test = pd.read_csv('teste.csv')"
   ]
  },
  {
   "cell_type": "markdown",
   "metadata": {},
   "source": [
    "Primeiramente, foi utilizada a função head(), tanto no dataframe de treino e teste de maneira que possa possilitar uma visão geral da estrutura dos dados."
   ]
  },
  {
   "cell_type": "code",
   "execution_count": 4,
   "metadata": {
    "colab": {
     "base_uri": "https://localhost:8080/",
     "height": 270
    },
    "id": "eUuof6URnqzA",
    "outputId": "213c605c-10d8-4377-af18-bbde7dcb5aa1"
   },
   "outputs": [
    {
     "data": {
      "text/html": [
       "<div>\n",
       "<style scoped>\n",
       "    .dataframe tbody tr th:only-of-type {\n",
       "        vertical-align: middle;\n",
       "    }\n",
       "\n",
       "    .dataframe tbody tr th {\n",
       "        vertical-align: top;\n",
       "    }\n",
       "\n",
       "    .dataframe thead th {\n",
       "        text-align: right;\n",
       "    }\n",
       "</style>\n",
       "<table border=\"1\" class=\"dataframe\">\n",
       "  <thead>\n",
       "    <tr style=\"text-align: right;\">\n",
       "      <th></th>\n",
       "      <th>inadimplente</th>\n",
       "      <th>util_linhas_inseguras</th>\n",
       "      <th>idade</th>\n",
       "      <th>vezes_passou_de_30_59_dias</th>\n",
       "      <th>razao_debito</th>\n",
       "      <th>salario_mensal</th>\n",
       "      <th>numero_linhas_crdto_aberto</th>\n",
       "      <th>numero_vezes_passou_90_dias</th>\n",
       "      <th>numero_emprestimos_imobiliarios</th>\n",
       "      <th>numero_de_vezes_que_passou_60_89_dias</th>\n",
       "      <th>numero_de_dependentes</th>\n",
       "    </tr>\n",
       "  </thead>\n",
       "  <tbody>\n",
       "    <tr>\n",
       "      <th>0</th>\n",
       "      <td>1</td>\n",
       "      <td>0.766127</td>\n",
       "      <td>45</td>\n",
       "      <td>2</td>\n",
       "      <td>0.802982</td>\n",
       "      <td>9120.0</td>\n",
       "      <td>13</td>\n",
       "      <td>0</td>\n",
       "      <td>6</td>\n",
       "      <td>0</td>\n",
       "      <td>2.0</td>\n",
       "    </tr>\n",
       "    <tr>\n",
       "      <th>1</th>\n",
       "      <td>0</td>\n",
       "      <td>0.957151</td>\n",
       "      <td>40</td>\n",
       "      <td>0</td>\n",
       "      <td>0.121876</td>\n",
       "      <td>2600.0</td>\n",
       "      <td>4</td>\n",
       "      <td>0</td>\n",
       "      <td>0</td>\n",
       "      <td>0</td>\n",
       "      <td>1.0</td>\n",
       "    </tr>\n",
       "    <tr>\n",
       "      <th>2</th>\n",
       "      <td>0</td>\n",
       "      <td>0.658180</td>\n",
       "      <td>38</td>\n",
       "      <td>1</td>\n",
       "      <td>0.085113</td>\n",
       "      <td>3042.0</td>\n",
       "      <td>2</td>\n",
       "      <td>1</td>\n",
       "      <td>0</td>\n",
       "      <td>0</td>\n",
       "      <td>0.0</td>\n",
       "    </tr>\n",
       "    <tr>\n",
       "      <th>3</th>\n",
       "      <td>0</td>\n",
       "      <td>0.233810</td>\n",
       "      <td>30</td>\n",
       "      <td>0</td>\n",
       "      <td>0.036050</td>\n",
       "      <td>3300.0</td>\n",
       "      <td>5</td>\n",
       "      <td>0</td>\n",
       "      <td>0</td>\n",
       "      <td>0</td>\n",
       "      <td>0.0</td>\n",
       "    </tr>\n",
       "    <tr>\n",
       "      <th>4</th>\n",
       "      <td>0</td>\n",
       "      <td>0.907239</td>\n",
       "      <td>49</td>\n",
       "      <td>1</td>\n",
       "      <td>0.024926</td>\n",
       "      <td>63588.0</td>\n",
       "      <td>7</td>\n",
       "      <td>0</td>\n",
       "      <td>1</td>\n",
       "      <td>0</td>\n",
       "      <td>0.0</td>\n",
       "    </tr>\n",
       "  </tbody>\n",
       "</table>\n",
       "</div>"
      ],
      "text/plain": [
       "   inadimplente  util_linhas_inseguras  idade  vezes_passou_de_30_59_dias  \\\n",
       "0             1               0.766127     45                           2   \n",
       "1             0               0.957151     40                           0   \n",
       "2             0               0.658180     38                           1   \n",
       "3             0               0.233810     30                           0   \n",
       "4             0               0.907239     49                           1   \n",
       "\n",
       "   razao_debito  salario_mensal  numero_linhas_crdto_aberto  \\\n",
       "0      0.802982          9120.0                          13   \n",
       "1      0.121876          2600.0                           4   \n",
       "2      0.085113          3042.0                           2   \n",
       "3      0.036050          3300.0                           5   \n",
       "4      0.024926         63588.0                           7   \n",
       "\n",
       "   numero_vezes_passou_90_dias  numero_emprestimos_imobiliarios  \\\n",
       "0                            0                                6   \n",
       "1                            0                                0   \n",
       "2                            1                                0   \n",
       "3                            0                                0   \n",
       "4                            0                                1   \n",
       "\n",
       "   numero_de_vezes_que_passou_60_89_dias  numero_de_dependentes  \n",
       "0                                      0                    2.0  \n",
       "1                                      0                    1.0  \n",
       "2                                      0                    0.0  \n",
       "3                                      0                    0.0  \n",
       "4                                      0                    0.0  "
      ]
     },
     "execution_count": 4,
     "metadata": {},
     "output_type": "execute_result"
    }
   ],
   "source": [
    "df_train.head()"
   ]
  },
  {
   "cell_type": "code",
   "execution_count": 5,
   "metadata": {
    "colab": {
     "base_uri": "https://localhost:8080/",
     "height": 270
    },
    "id": "wH1bHbCBnxDe",
    "outputId": "0deabdf9-a161-410d-c5ea-04dcf87e637e"
   },
   "outputs": [
    {
     "data": {
      "text/html": [
       "<div>\n",
       "<style scoped>\n",
       "    .dataframe tbody tr th:only-of-type {\n",
       "        vertical-align: middle;\n",
       "    }\n",
       "\n",
       "    .dataframe tbody tr th {\n",
       "        vertical-align: top;\n",
       "    }\n",
       "\n",
       "    .dataframe thead th {\n",
       "        text-align: right;\n",
       "    }\n",
       "</style>\n",
       "<table border=\"1\" class=\"dataframe\">\n",
       "  <thead>\n",
       "    <tr style=\"text-align: right;\">\n",
       "      <th></th>\n",
       "      <th>util_linhas_inseguras</th>\n",
       "      <th>idade</th>\n",
       "      <th>vezes_passou_de_30_59_dias</th>\n",
       "      <th>razao_debito</th>\n",
       "      <th>salario_mensal</th>\n",
       "      <th>numero_linhas_crdto_aberto</th>\n",
       "      <th>numero_vezes_passou_90_dias</th>\n",
       "      <th>numero_emprestimos_imobiliarios</th>\n",
       "      <th>numero_de_vezes_que_passou_60_89_dias</th>\n",
       "      <th>numero_de_dependentes</th>\n",
       "    </tr>\n",
       "  </thead>\n",
       "  <tbody>\n",
       "    <tr>\n",
       "      <th>0</th>\n",
       "      <td>0.025849</td>\n",
       "      <td>62</td>\n",
       "      <td>0</td>\n",
       "      <td>0.081775</td>\n",
       "      <td>8180.0</td>\n",
       "      <td>3</td>\n",
       "      <td>0</td>\n",
       "      <td>2</td>\n",
       "      <td>0</td>\n",
       "      <td>0.0</td>\n",
       "    </tr>\n",
       "    <tr>\n",
       "      <th>1</th>\n",
       "      <td>0.667083</td>\n",
       "      <td>55</td>\n",
       "      <td>0</td>\n",
       "      <td>0.153112</td>\n",
       "      <td>2200.0</td>\n",
       "      <td>3</td>\n",
       "      <td>0</td>\n",
       "      <td>0</td>\n",
       "      <td>0</td>\n",
       "      <td>0.0</td>\n",
       "    </tr>\n",
       "    <tr>\n",
       "      <th>2</th>\n",
       "      <td>0.007093</td>\n",
       "      <td>44</td>\n",
       "      <td>0</td>\n",
       "      <td>0.148800</td>\n",
       "      <td>7499.0</td>\n",
       "      <td>20</td>\n",
       "      <td>0</td>\n",
       "      <td>1</td>\n",
       "      <td>0</td>\n",
       "      <td>0.0</td>\n",
       "    </tr>\n",
       "    <tr>\n",
       "      <th>3</th>\n",
       "      <td>0.091213</td>\n",
       "      <td>54</td>\n",
       "      <td>0</td>\n",
       "      <td>0.351635</td>\n",
       "      <td>5900.0</td>\n",
       "      <td>15</td>\n",
       "      <td>0</td>\n",
       "      <td>1</td>\n",
       "      <td>1</td>\n",
       "      <td>0.0</td>\n",
       "    </tr>\n",
       "    <tr>\n",
       "      <th>4</th>\n",
       "      <td>0.112680</td>\n",
       "      <td>54</td>\n",
       "      <td>0</td>\n",
       "      <td>0.065959</td>\n",
       "      <td>2167.0</td>\n",
       "      <td>3</td>\n",
       "      <td>0</td>\n",
       "      <td>0</td>\n",
       "      <td>0</td>\n",
       "      <td>0.0</td>\n",
       "    </tr>\n",
       "  </tbody>\n",
       "</table>\n",
       "</div>"
      ],
      "text/plain": [
       "   util_linhas_inseguras  idade  vezes_passou_de_30_59_dias  razao_debito  \\\n",
       "0               0.025849     62                           0      0.081775   \n",
       "1               0.667083     55                           0      0.153112   \n",
       "2               0.007093     44                           0      0.148800   \n",
       "3               0.091213     54                           0      0.351635   \n",
       "4               0.112680     54                           0      0.065959   \n",
       "\n",
       "   salario_mensal  numero_linhas_crdto_aberto  numero_vezes_passou_90_dias  \\\n",
       "0          8180.0                           3                            0   \n",
       "1          2200.0                           3                            0   \n",
       "2          7499.0                          20                            0   \n",
       "3          5900.0                          15                            0   \n",
       "4          2167.0                           3                            0   \n",
       "\n",
       "   numero_emprestimos_imobiliarios  numero_de_vezes_que_passou_60_89_dias  \\\n",
       "0                                2                                      0   \n",
       "1                                0                                      0   \n",
       "2                                1                                      0   \n",
       "3                                1                                      1   \n",
       "4                                0                                      0   \n",
       "\n",
       "   numero_de_dependentes  \n",
       "0                    0.0  \n",
       "1                    0.0  \n",
       "2                    0.0  \n",
       "3                    0.0  \n",
       "4                    0.0  "
      ]
     },
     "execution_count": 5,
     "metadata": {},
     "output_type": "execute_result"
    }
   ],
   "source": [
    "df_test.head()"
   ]
  },
  {
   "cell_type": "markdown",
   "metadata": {},
   "source": [
    "Visualizar todas as colunas do dataset"
   ]
  },
  {
   "cell_type": "code",
   "execution_count": 6,
   "metadata": {
    "colab": {
     "base_uri": "https://localhost:8080/"
    },
    "id": "KrcsQKbnn5gB",
    "outputId": "a11b3ddc-4b69-4987-8140-265ad6c93b7e"
   },
   "outputs": [
    {
     "data": {
      "text/plain": [
       "Index(['inadimplente', 'util_linhas_inseguras', 'idade',\n",
       "       'vezes_passou_de_30_59_dias', 'razao_debito', 'salario_mensal',\n",
       "       'numero_linhas_crdto_aberto', 'numero_vezes_passou_90_dias',\n",
       "       'numero_emprestimos_imobiliarios',\n",
       "       'numero_de_vezes_que_passou_60_89_dias', 'numero_de_dependentes'],\n",
       "      dtype='object')"
      ]
     },
     "execution_count": 6,
     "metadata": {},
     "output_type": "execute_result"
    }
   ],
   "source": [
    "df_train.columns"
   ]
  },
  {
   "cell_type": "markdown",
   "metadata": {
    "id": "_0MWrYeRoT1G"
   },
   "source": [
    "# 0 - Pré processando e analisando os dados"
   ]
  },
  {
   "cell_type": "markdown",
   "metadata": {
    "id": "2Lw6BEMSr2Ge"
   },
   "source": [
    "### Análise Estatistica"
   ]
  },
  {
   "cell_type": "markdown",
   "metadata": {},
   "source": [
    "O metódo .info() imprime as informações sobre um DataFrame, incluindo o dtype, as colunas do índice, valores não nulos e uso de memória."
   ]
  },
  {
   "cell_type": "code",
   "execution_count": 7,
   "metadata": {
    "colab": {
     "base_uri": "https://localhost:8080/"
    },
    "id": "zxZR2z2moB3S",
    "outputId": "7a7789ee-29f4-43cb-bd47-5b2dcbb2382f"
   },
   "outputs": [
    {
     "name": "stdout",
     "output_type": "stream",
     "text": [
      "<class 'pandas.core.frame.DataFrame'>\n",
      "RangeIndex: 110000 entries, 0 to 109999\n",
      "Data columns (total 11 columns):\n",
      " #   Column                                 Non-Null Count   Dtype  \n",
      "---  ------                                 --------------   -----  \n",
      " 0   inadimplente                           110000 non-null  int64  \n",
      " 1   util_linhas_inseguras                  110000 non-null  float64\n",
      " 2   idade                                  110000 non-null  int64  \n",
      " 3   vezes_passou_de_30_59_dias             110000 non-null  int64  \n",
      " 4   razao_debito                           110000 non-null  float64\n",
      " 5   salario_mensal                         88237 non-null   float64\n",
      " 6   numero_linhas_crdto_aberto             110000 non-null  int64  \n",
      " 7   numero_vezes_passou_90_dias            110000 non-null  int64  \n",
      " 8   numero_emprestimos_imobiliarios        110000 non-null  int64  \n",
      " 9   numero_de_vezes_que_passou_60_89_dias  110000 non-null  int64  \n",
      " 10  numero_de_dependentes                  107122 non-null  float64\n",
      "dtypes: float64(4), int64(7)\n",
      "memory usage: 9.2 MB\n"
     ]
    }
   ],
   "source": [
    "df_train.info()"
   ]
  },
  {
   "cell_type": "markdown",
   "metadata": {},
   "source": [
    "O método describe() exibe informações estatística da base de dados\n",
    "\n",
    " - count: a quantidade de linhas\n",
    " - mean: média dos valores por coluna\n",
    " - std: desvio padrão\n",
    " - min: valor mínimo\n",
    " - quartis (25%,50% e 75%)\n",
    " - max: valor máximo"
   ]
  },
  {
   "cell_type": "code",
   "execution_count": 8,
   "metadata": {
    "colab": {
     "base_uri": "https://localhost:8080/",
     "height": 0
    },
    "id": "hGeDHJ2mr6Y_",
    "outputId": "39cdaa22-f6bc-4961-91ca-dc7a40c21034"
   },
   "outputs": [
    {
     "data": {
      "text/html": [
       "<div>\n",
       "<style scoped>\n",
       "    .dataframe tbody tr th:only-of-type {\n",
       "        vertical-align: middle;\n",
       "    }\n",
       "\n",
       "    .dataframe tbody tr th {\n",
       "        vertical-align: top;\n",
       "    }\n",
       "\n",
       "    .dataframe thead th {\n",
       "        text-align: right;\n",
       "    }\n",
       "</style>\n",
       "<table border=\"1\" class=\"dataframe\">\n",
       "  <thead>\n",
       "    <tr style=\"text-align: right;\">\n",
       "      <th></th>\n",
       "      <th>inadimplente</th>\n",
       "      <th>util_linhas_inseguras</th>\n",
       "      <th>idade</th>\n",
       "      <th>vezes_passou_de_30_59_dias</th>\n",
       "      <th>razao_debito</th>\n",
       "      <th>salario_mensal</th>\n",
       "      <th>numero_linhas_crdto_aberto</th>\n",
       "      <th>numero_vezes_passou_90_dias</th>\n",
       "      <th>numero_emprestimos_imobiliarios</th>\n",
       "      <th>numero_de_vezes_que_passou_60_89_dias</th>\n",
       "      <th>numero_de_dependentes</th>\n",
       "    </tr>\n",
       "  </thead>\n",
       "  <tbody>\n",
       "    <tr>\n",
       "      <th>count</th>\n",
       "      <td>110000.000000</td>\n",
       "      <td>110000.000000</td>\n",
       "      <td>110000.000000</td>\n",
       "      <td>110000.000000</td>\n",
       "      <td>110000.000000</td>\n",
       "      <td>8.823700e+04</td>\n",
       "      <td>110000.000000</td>\n",
       "      <td>110000.000000</td>\n",
       "      <td>110000.000000</td>\n",
       "      <td>110000.000000</td>\n",
       "      <td>107122.000000</td>\n",
       "    </tr>\n",
       "    <tr>\n",
       "      <th>mean</th>\n",
       "      <td>0.066645</td>\n",
       "      <td>5.929979</td>\n",
       "      <td>52.255636</td>\n",
       "      <td>0.424055</td>\n",
       "      <td>354.823589</td>\n",
       "      <td>6.637411e+03</td>\n",
       "      <td>8.445573</td>\n",
       "      <td>0.269955</td>\n",
       "      <td>1.019891</td>\n",
       "      <td>0.243891</td>\n",
       "      <td>0.757482</td>\n",
       "    </tr>\n",
       "    <tr>\n",
       "      <th>std</th>\n",
       "      <td>0.249408</td>\n",
       "      <td>252.301965</td>\n",
       "      <td>14.768241</td>\n",
       "      <td>4.240780</td>\n",
       "      <td>2074.140421</td>\n",
       "      <td>1.338395e+04</td>\n",
       "      <td>5.139026</td>\n",
       "      <td>4.217326</td>\n",
       "      <td>1.135989</td>\n",
       "      <td>4.204137</td>\n",
       "      <td>1.114670</td>\n",
       "    </tr>\n",
       "    <tr>\n",
       "      <th>min</th>\n",
       "      <td>0.000000</td>\n",
       "      <td>0.000000</td>\n",
       "      <td>0.000000</td>\n",
       "      <td>0.000000</td>\n",
       "      <td>0.000000</td>\n",
       "      <td>0.000000e+00</td>\n",
       "      <td>0.000000</td>\n",
       "      <td>0.000000</td>\n",
       "      <td>0.000000</td>\n",
       "      <td>0.000000</td>\n",
       "      <td>0.000000</td>\n",
       "    </tr>\n",
       "    <tr>\n",
       "      <th>25%</th>\n",
       "      <td>0.000000</td>\n",
       "      <td>0.030054</td>\n",
       "      <td>41.000000</td>\n",
       "      <td>0.000000</td>\n",
       "      <td>0.175016</td>\n",
       "      <td>3.400000e+03</td>\n",
       "      <td>5.000000</td>\n",
       "      <td>0.000000</td>\n",
       "      <td>0.000000</td>\n",
       "      <td>0.000000</td>\n",
       "      <td>0.000000</td>\n",
       "    </tr>\n",
       "    <tr>\n",
       "      <th>50%</th>\n",
       "      <td>0.000000</td>\n",
       "      <td>0.155936</td>\n",
       "      <td>52.000000</td>\n",
       "      <td>0.000000</td>\n",
       "      <td>0.366682</td>\n",
       "      <td>5.400000e+03</td>\n",
       "      <td>8.000000</td>\n",
       "      <td>0.000000</td>\n",
       "      <td>1.000000</td>\n",
       "      <td>0.000000</td>\n",
       "      <td>0.000000</td>\n",
       "    </tr>\n",
       "    <tr>\n",
       "      <th>75%</th>\n",
       "      <td>0.000000</td>\n",
       "      <td>0.562806</td>\n",
       "      <td>63.000000</td>\n",
       "      <td>0.000000</td>\n",
       "      <td>0.866874</td>\n",
       "      <td>8.225000e+03</td>\n",
       "      <td>11.000000</td>\n",
       "      <td>0.000000</td>\n",
       "      <td>2.000000</td>\n",
       "      <td>0.000000</td>\n",
       "      <td>1.000000</td>\n",
       "    </tr>\n",
       "    <tr>\n",
       "      <th>max</th>\n",
       "      <td>1.000000</td>\n",
       "      <td>50708.000000</td>\n",
       "      <td>109.000000</td>\n",
       "      <td>98.000000</td>\n",
       "      <td>329664.000000</td>\n",
       "      <td>3.008750e+06</td>\n",
       "      <td>58.000000</td>\n",
       "      <td>98.000000</td>\n",
       "      <td>54.000000</td>\n",
       "      <td>98.000000</td>\n",
       "      <td>20.000000</td>\n",
       "    </tr>\n",
       "  </tbody>\n",
       "</table>\n",
       "</div>"
      ],
      "text/plain": [
       "        inadimplente  util_linhas_inseguras          idade  \\\n",
       "count  110000.000000          110000.000000  110000.000000   \n",
       "mean        0.066645               5.929979      52.255636   \n",
       "std         0.249408             252.301965      14.768241   \n",
       "min         0.000000               0.000000       0.000000   \n",
       "25%         0.000000               0.030054      41.000000   \n",
       "50%         0.000000               0.155936      52.000000   \n",
       "75%         0.000000               0.562806      63.000000   \n",
       "max         1.000000           50708.000000     109.000000   \n",
       "\n",
       "       vezes_passou_de_30_59_dias   razao_debito  salario_mensal  \\\n",
       "count               110000.000000  110000.000000    8.823700e+04   \n",
       "mean                     0.424055     354.823589    6.637411e+03   \n",
       "std                      4.240780    2074.140421    1.338395e+04   \n",
       "min                      0.000000       0.000000    0.000000e+00   \n",
       "25%                      0.000000       0.175016    3.400000e+03   \n",
       "50%                      0.000000       0.366682    5.400000e+03   \n",
       "75%                      0.000000       0.866874    8.225000e+03   \n",
       "max                     98.000000  329664.000000    3.008750e+06   \n",
       "\n",
       "       numero_linhas_crdto_aberto  numero_vezes_passou_90_dias  \\\n",
       "count               110000.000000                110000.000000   \n",
       "mean                     8.445573                     0.269955   \n",
       "std                      5.139026                     4.217326   \n",
       "min                      0.000000                     0.000000   \n",
       "25%                      5.000000                     0.000000   \n",
       "50%                      8.000000                     0.000000   \n",
       "75%                     11.000000                     0.000000   \n",
       "max                     58.000000                    98.000000   \n",
       "\n",
       "       numero_emprestimos_imobiliarios  numero_de_vezes_que_passou_60_89_dias  \\\n",
       "count                    110000.000000                          110000.000000   \n",
       "mean                          1.019891                               0.243891   \n",
       "std                           1.135989                               4.204137   \n",
       "min                           0.000000                               0.000000   \n",
       "25%                           0.000000                               0.000000   \n",
       "50%                           1.000000                               0.000000   \n",
       "75%                           2.000000                               0.000000   \n",
       "max                          54.000000                              98.000000   \n",
       "\n",
       "       numero_de_dependentes  \n",
       "count          107122.000000  \n",
       "mean                0.757482  \n",
       "std                 1.114670  \n",
       "min                 0.000000  \n",
       "25%                 0.000000  \n",
       "50%                 0.000000  \n",
       "75%                 1.000000  \n",
       "max                20.000000  "
      ]
     },
     "execution_count": 8,
     "metadata": {},
     "output_type": "execute_result"
    }
   ],
   "source": [
    "df_train.describe()"
   ]
  },
  {
   "cell_type": "code",
   "execution_count": 9,
   "metadata": {
    "colab": {
     "base_uri": "https://localhost:8080/"
    },
    "id": "Z2HTSzzHoKJn",
    "outputId": "c257790e-60eb-452a-f412-bdbc5de76e87"
   },
   "outputs": [
    {
     "data": {
      "text/plain": [
       "inadimplente                              0.000000\n",
       "util_linhas_inseguras                     0.000000\n",
       "idade                                     0.000000\n",
       "vezes_passou_de_30_59_dias                0.000000\n",
       "razao_debito                              0.000000\n",
       "salario_mensal                           19.784545\n",
       "numero_linhas_crdto_aberto                0.000000\n",
       "numero_vezes_passou_90_dias               0.000000\n",
       "numero_emprestimos_imobiliarios           0.000000\n",
       "numero_de_vezes_que_passou_60_89_dias     0.000000\n",
       "numero_de_dependentes                     2.616364\n",
       "dtype: float64"
      ]
     },
     "execution_count": 9,
     "metadata": {},
     "output_type": "execute_result"
    }
   ],
   "source": [
    "#Porcentagem de numeros em branco\n",
    "df_train.isnull().sum() / len(df_train)*100"
   ]
  },
  {
   "cell_type": "markdown",
   "metadata": {},
   "source": [
    "Há dados ausentes nas colunas de numero_de_dependentes e salario_mensal. Vou utilizar a média para preencher os dados faltantes."
   ]
  },
  {
   "cell_type": "code",
   "execution_count": 10,
   "metadata": {
    "colab": {
     "base_uri": "https://localhost:8080/"
    },
    "id": "47g3e4NXpUQJ",
    "outputId": "580cd328-1901-4c6d-ed87-87943e81cea5"
   },
   "outputs": [
    {
     "data": {
      "text/plain": [
       "util_linhas_inseguras                       0\n",
       "idade                                       0\n",
       "vezes_passou_de_30_59_dias                  0\n",
       "razao_debito                                0\n",
       "salario_mensal                           7968\n",
       "numero_linhas_crdto_aberto                  0\n",
       "numero_vezes_passou_90_dias                 0\n",
       "numero_emprestimos_imobiliarios             0\n",
       "numero_de_vezes_que_passou_60_89_dias       0\n",
       "numero_de_dependentes                    1046\n",
       "dtype: int64"
      ]
     },
     "execution_count": 10,
     "metadata": {},
     "output_type": "execute_result"
    }
   ],
   "source": [
    "#Verificando se tem campos em branco base de teste\n",
    "df_test.isnull().sum()"
   ]
  },
  {
   "cell_type": "markdown",
   "metadata": {},
   "source": [
    "Qual o total de salarios em branco, que são inadimplentes?"
   ]
  },
  {
   "cell_type": "code",
   "execution_count": 11,
   "metadata": {
    "colab": {
     "base_uri": "https://localhost:8080/",
     "height": 0
    },
    "id": "BUFaw_mnoPYc",
    "outputId": "e22b868c-d4ca-45c5-a66a-ed3a55f6cfd7"
   },
   "outputs": [
    {
     "name": "stdout",
     "output_type": "stream",
     "text": [
      "Total de indimplentes com salário em branco: 1247\n",
      "Total de indimplentes com nº dependentes em branco: 132\n"
     ]
    }
   ],
   "source": [
    "print(\"Total de indimplentes com salário em branco:\",df_train[(df_train['salario_mensal'].isnull()) & (df_train['inadimplente'] == 1)].shape[0])\n",
    "print(\"Total de indimplentes com nº dependentes em branco:\",df_train[(df_train['numero_de_dependentes'].isnull()) & (df_train['inadimplente'] == 1)].shape[0])"
   ]
  },
  {
   "cell_type": "markdown",
   "metadata": {},
   "source": [
    "Qual o total de inadimplentes?"
   ]
  },
  {
   "cell_type": "code",
   "execution_count": 12,
   "metadata": {},
   "outputs": [
    {
     "data": {
      "text/plain": [
       "0    102669\n",
       "1      7331\n",
       "Name: inadimplente, dtype: int64"
      ]
     },
     "execution_count": 12,
     "metadata": {},
     "output_type": "execute_result"
    }
   ],
   "source": [
    "df_train.inadimplente.value_counts()"
   ]
  },
  {
   "cell_type": "markdown",
   "metadata": {},
   "source": [
    "Com base nas análises acima, foi verificado que ~17% dos inadimplentes estão com a informação do salário em branco e ~2% estão com a informação do nº do dependente em branco."
   ]
  },
  {
   "cell_type": "markdown",
   "metadata": {},
   "source": [
    "#### Qual a % de inadimplentes e não inadimplentes?"
   ]
  },
  {
   "cell_type": "code",
   "execution_count": 13,
   "metadata": {
    "colab": {
     "base_uri": "https://localhost:8080/"
    },
    "id": "2Mh_lfi0TheD",
    "outputId": "d0645b24-0c88-4d9b-fbba-f3b46bb15604"
   },
   "outputs": [
    {
     "data": {
      "text/plain": [
       "0    93.34\n",
       "1     6.66\n",
       "Name: inadimplente, dtype: float64"
      ]
     },
     "execution_count": 13,
     "metadata": {},
     "output_type": "execute_result"
    }
   ],
   "source": [
    "total_inadimplente = round(df_train.inadimplente.value_counts() / len(df_train)*100,2)\n",
    "total_inadimplente"
   ]
  },
  {
   "cell_type": "markdown",
   "metadata": {
    "id": "GaMhoE_GVDvz"
   },
   "source": [
    "A base de treino está desbalanceada, vou criar um modelo sem desbalancear e depois um balanceando a base."
   ]
  },
  {
   "cell_type": "markdown",
   "metadata": {
    "id": "t2LbMbnJpzGL"
   },
   "source": [
    "## Tratamento da base"
   ]
  },
  {
   "cell_type": "markdown",
   "metadata": {
    "id": "Z4eY66zfqT5g"
   },
   "source": [
    "### Tratamento do Dataset"
   ]
  },
  {
   "cell_type": "markdown",
   "metadata": {
    "id": "VVslArHBVddL"
   },
   "source": [
    "Conforme informado anteriormente, as colunas salario_mensal e numero_de_dependentes possuem valores nulos, foi utilizada a média para preenchimento dos valores nulos, conforme racional descrito abaixo."
   ]
  },
  {
   "cell_type": "code",
   "execution_count": 14,
   "metadata": {},
   "outputs": [],
   "source": [
    "#df_train['salario_mensal'].dropna(inplace=True)\n",
    "#df_train['numero_de_dependentes'].dropna(inplace=True)"
   ]
  },
  {
   "cell_type": "markdown",
   "metadata": {},
   "source": [
    "- Dropando os valores nulos teve uma leve piora, por conta disso optei por manter a média.\n",
    "\n",
    "- Acuracia do modelo escolhido quando dropei os valores em branco: 0.9466942750712755"
   ]
  },
  {
   "cell_type": "code",
   "execution_count": 15,
   "metadata": {
    "id": "Q8qPZk3hetS8"
   },
   "outputs": [],
   "source": [
    "#Preenchi os valores nulos com a média\n",
    "df_train['salario_mensal'].fillna(df_train['salario_mensal'].mean(), inplace=True)\n",
    "df_train['numero_de_dependentes'].fillna(df_train['numero_de_dependentes'].mean(), inplace=True)\n",
    "df_test['salario_mensal'].fillna(df_test['salario_mensal'].mean(), inplace=True)\n",
    "df_test['numero_de_dependentes'].fillna(df_test['numero_de_dependentes'].mean(), inplace=True)"
   ]
  },
  {
   "cell_type": "code",
   "execution_count": 16,
   "metadata": {
    "colab": {
     "base_uri": "https://localhost:8080/"
    },
    "id": "eoGT7QaLpSR3",
    "outputId": "0b72ac59-b513-41c0-dc83-915ea9c92761"
   },
   "outputs": [
    {
     "data": {
      "text/plain": [
       "inadimplente                             0\n",
       "util_linhas_inseguras                    0\n",
       "idade                                    0\n",
       "vezes_passou_de_30_59_dias               0\n",
       "razao_debito                             0\n",
       "salario_mensal                           0\n",
       "numero_linhas_crdto_aberto               0\n",
       "numero_vezes_passou_90_dias              0\n",
       "numero_emprestimos_imobiliarios          0\n",
       "numero_de_vezes_que_passou_60_89_dias    0\n",
       "numero_de_dependentes                    0\n",
       "dtype: int64"
      ]
     },
     "execution_count": 16,
     "metadata": {},
     "output_type": "execute_result"
    }
   ],
   "source": [
    "df_train.isnull().sum()"
   ]
  },
  {
   "cell_type": "code",
   "execution_count": 17,
   "metadata": {
    "colab": {
     "base_uri": "https://localhost:8080/"
    },
    "id": "8_hgRK43qC92",
    "outputId": "7a708efb-ad1a-4c59-a07a-4cb3b8c85007"
   },
   "outputs": [
    {
     "data": {
      "text/plain": [
       "util_linhas_inseguras                    0\n",
       "idade                                    0\n",
       "vezes_passou_de_30_59_dias               0\n",
       "razao_debito                             0\n",
       "salario_mensal                           0\n",
       "numero_linhas_crdto_aberto               0\n",
       "numero_vezes_passou_90_dias              0\n",
       "numero_emprestimos_imobiliarios          0\n",
       "numero_de_vezes_que_passou_60_89_dias    0\n",
       "numero_de_dependentes                    0\n",
       "dtype: int64"
      ]
     },
     "execution_count": 17,
     "metadata": {},
     "output_type": "execute_result"
    }
   ],
   "source": [
    "df_test.isnull().sum()"
   ]
  },
  {
   "cell_type": "markdown",
   "metadata": {},
   "source": [
    "Agora que temos todos os dados presentes, podemos continuar com a análise. Começamos analisando a correlação entre as variáveis, com foco na inadimplência."
   ]
  },
  {
   "cell_type": "code",
   "execution_count": 18,
   "metadata": {
    "colab": {
     "base_uri": "https://localhost:8080/",
     "height": 575
    },
    "id": "SDS6qeXyrZXx",
    "outputId": "579f2ad6-88c8-4004-b425-ce2b835320c6"
   },
   "outputs": [
    {
     "data": {
      "text/plain": [
       "<AxesSubplot:>"
      ]
     },
     "execution_count": 18,
     "metadata": {},
     "output_type": "execute_result"
    },
    {
     "data": {
      "image/png": "[encoded data removed]",
      "text/plain": [
       "<Figure size 1440x720 with 2 Axes>"
      ]
     },
     "metadata": {
      "needs_background": "light"
     },
     "output_type": "display_data"
    }
   ],
   "source": [
    "plt.figure(figsize=(20,10))\n",
    "corr = df_train.corr()\n",
    "corr = (corr)\n",
    "sns.heatmap(corr, annot=True)"
   ]
  },
  {
   "cell_type": "markdown",
   "metadata": {
    "id": "PPl2cIspjpLv"
   },
   "source": [
    "Algumas variaveis são interessantes, tais como:\n",
    "\n",
    "- numero_vezes_passou_90_dias\n",
    "- numreo_de_vezes_que_passou_60_89_dias\n",
    "- idade\n",
    "- util_linhas_inseguras\n",
    "\n",
    "Aparentemente, nenhuma tem uma correlação muito forte"
   ]
  },
  {
   "cell_type": "markdown",
   "metadata": {},
   "source": [
    "### Análise para verificar se há algum outlier"
   ]
  },
  {
   "cell_type": "code",
   "execution_count": 19,
   "metadata": {},
   "outputs": [
    {
     "data": {
      "text/plain": [
       "<AxesSubplot:xlabel='razao_debito'>"
      ]
     },
     "execution_count": 19,
     "metadata": {},
     "output_type": "execute_result"
    },
    {
     "data": {
      "image/png": "[encoded data removed]",
      "text/plain": [
       "<Figure size 1224x576 with 5 Axes>"
      ]
     },
     "metadata": {
      "needs_background": "light"
     },
     "output_type": "display_data"
    },
    {
     "data": {
      "image/png": "[encoded data removed]",
      "text/plain": [
       "<Figure size 1224x576 with 5 Axes>"
      ]
     },
     "metadata": {
      "needs_background": "light"
     },
     "output_type": "display_data"
    }
   ],
   "source": [
    "fig,ax = plt.subplots(1,5,figsize=(17,8))\n",
    "ax[0].set_xlabel('numero_vezes_passou_90_dias')\n",
    "sns.boxplot(ax=ax[0],data=df_train['numero_vezes_passou_90_dias'])\n",
    "ax[1].set_xlabel('salario_mensal')\n",
    "sns.boxplot(ax=ax[1],data=df_train['salario_mensal'])\n",
    "ax[2].set_xlabel('vezes_passou_de_30_59_dias')\n",
    "sns.boxplot(ax=ax[2],data=df_train['vezes_passou_de_30_59_dias'])\n",
    "ax[3].set_xlabel('numero_de_dependentes')\n",
    "sns.boxplot(ax=ax[3],data=df_train['numero_de_dependentes'])\n",
    "ax[4].set_xlabel('numero_linhas_crdto_aberto')\n",
    "sns.boxplot(ax=ax[4],data=df_train['numero_linhas_crdto_aberto'])\n",
    "\n",
    "fig,ax = plt.subplots(1,5,figsize=(17,8))\n",
    "ax[0].set_xlabel('idade')\n",
    "sns.boxplot(ax=ax[0],data=df_train['idade'])\n",
    "ax[1].set_xlabel('numero_de_vezes_que_passou_60_89_dias')\n",
    "sns.boxplot(ax=ax[1],data=df_train['numero_de_vezes_que_passou_60_89_dias'])\n",
    "ax[2].set_xlabel('util_linhas_inseguras')\n",
    "sns.boxplot(ax=ax[2],data=df_train['util_linhas_inseguras'])\n",
    "ax[3].set_xlabel('numero_emprestimos_imobiliarios')\n",
    "sns.boxplot(ax=ax[3], data=df_train['numero_emprestimos_imobiliarios'])\n",
    "ax[4].set_xlabel('razao_debito')\n",
    "sns.boxplot(ax=ax[4], data=df_train['razao_debito'])"
   ]
  },
  {
   "cell_type": "markdown",
   "metadata": {},
   "source": [
    "Como identifiquei outliers, vou realizar o tratamento, para que estes dados não venham impactar o resultado do modelo"
   ]
  },
  {
   "cell_type": "code",
   "execution_count": 20,
   "metadata": {},
   "outputs": [],
   "source": [
    "#df_train.drop(df_train[df_train['numero_vezes_passou_90_dias']>20].index,inplace=True)\n",
    "\n",
    "df_train.drop(df_train[df_train['salario_mensal']>15000].index,inplace=True)\n",
    "df_train.drop(df_train[df_train['salario_mensal']<0].index,inplace=True)\n",
    "\n",
    "#df_train_tratado.drop(df_train_tratado[df_train_tratado['vezes_passou_de_30_59_dias']>20].index,inplace=True)\n",
    "\n",
    "df_train.drop(df_train[df_train['numero_de_dependentes']>15].index,inplace=True)\n",
    "\n",
    "df_train.drop(df_train[df_train['numero_linhas_crdto_aberto']>20].index,inplace=True)\n",
    "df_train.drop(df_train[df_train['numero_linhas_crdto_aberto']<0].index,inplace=True)\n",
    "\n",
    "df_train.drop(df_train[df_train['idade']>90].index,inplace=True)\n",
    "df_train.drop(df_train[df_train['idade']<20].index,inplace=True)\n",
    "\n",
    "#df_train_tratado.drop(df_train_tratado[df_train_tratado['numero_de_vezes_que_passou_60_89_dias']>20].index,inplace=True)\n",
    "\n",
    "df_train.drop(df_train[df_train['util_linhas_inseguras']>1500].index,inplace=True)\n",
    "\n",
    "df_train.drop(df_train[df_train['numero_emprestimos_imobiliarios']>10].index,inplace=True)\n",
    "\n",
    "df_train.drop(df_train[df_train['razao_debito']>50000].index,inplace=True)"
   ]
  },
  {
   "cell_type": "markdown",
   "metadata": {},
   "source": [
    "Para as features realizada ao tempo que o cliente atrasou, verifiquei que o modelo piorou quando removi os outliers, por conta disso mantive elas sem realizar nenhuma alteração."
   ]
  },
  {
   "cell_type": "markdown",
   "metadata": {},
   "source": [
    "### Como o modelo se comportaria se as pessoas que atrasaram 1 vez mais do que 30 dias, fossem retiradas?"
   ]
  },
  {
   "cell_type": "code",
   "execution_count": 21,
   "metadata": {},
   "outputs": [],
   "source": [
    "df_train = df_train[df_train['vezes_passou_de_30_59_dias']!=1]"
   ]
  },
  {
   "cell_type": "markdown",
   "metadata": {},
   "source": [
    "- O modelo desempenhou levemente melhor quando retirei os clientes que atrasaram apenas uma vez\n",
    "\n",
    "   - Resultado antes de retirar os clientes -> 0.9475370944582024\n",
    "   - Resultado depois de retirar os clientes ->0.9508155207937659"
   ]
  },
  {
   "cell_type": "markdown",
   "metadata": {
    "jp-MarkdownHeadingCollapsed": true,
    "tags": []
   },
   "source": [
    "# 1 - Baseline"
   ]
  },
  {
   "cell_type": "markdown",
   "metadata": {},
   "source": [
    "## Criando a baseline"
   ]
  },
  {
   "cell_type": "markdown",
   "metadata": {
    "id": "tkc9yHg-uFwP",
    "tags": []
   },
   "source": [
    "#### Separando e tratando o conjunto de dados para baseline"
   ]
  },
  {
   "cell_type": "code",
   "execution_count": 22,
   "metadata": {
    "id": "b_tnqVDHssG5"
   },
   "outputs": [],
   "source": [
    "target_name = 'inadimplente'\n",
    "X = df_train.drop('inadimplente', axis=1)\n",
    "y = df_train[target_name]"
   ]
  },
  {
   "cell_type": "code",
   "execution_count": 23,
   "metadata": {
    "colab": {
     "base_uri": "https://localhost:8080/",
     "height": 270
    },
    "id": "cLJWDk8yuYWh",
    "outputId": "efd7c451-1575-4c9f-9555-7a3561e477f5"
   },
   "outputs": [
    {
     "data": {
      "text/html": [
       "<div>\n",
       "<style scoped>\n",
       "    .dataframe tbody tr th:only-of-type {\n",
       "        vertical-align: middle;\n",
       "    }\n",
       "\n",
       "    .dataframe tbody tr th {\n",
       "        vertical-align: top;\n",
       "    }\n",
       "\n",
       "    .dataframe thead th {\n",
       "        text-align: right;\n",
       "    }\n",
       "</style>\n",
       "<table border=\"1\" class=\"dataframe\">\n",
       "  <thead>\n",
       "    <tr style=\"text-align: right;\">\n",
       "      <th></th>\n",
       "      <th>util_linhas_inseguras</th>\n",
       "      <th>idade</th>\n",
       "      <th>vezes_passou_de_30_59_dias</th>\n",
       "      <th>razao_debito</th>\n",
       "      <th>salario_mensal</th>\n",
       "      <th>numero_linhas_crdto_aberto</th>\n",
       "      <th>numero_vezes_passou_90_dias</th>\n",
       "      <th>numero_emprestimos_imobiliarios</th>\n",
       "      <th>numero_de_vezes_que_passou_60_89_dias</th>\n",
       "      <th>numero_de_dependentes</th>\n",
       "    </tr>\n",
       "  </thead>\n",
       "  <tbody>\n",
       "    <tr>\n",
       "      <th>0</th>\n",
       "      <td>0.766127</td>\n",
       "      <td>45</td>\n",
       "      <td>2</td>\n",
       "      <td>0.802982</td>\n",
       "      <td>9120.000000</td>\n",
       "      <td>13</td>\n",
       "      <td>0</td>\n",
       "      <td>6</td>\n",
       "      <td>0</td>\n",
       "      <td>2.0</td>\n",
       "    </tr>\n",
       "    <tr>\n",
       "      <th>1</th>\n",
       "      <td>0.957151</td>\n",
       "      <td>40</td>\n",
       "      <td>0</td>\n",
       "      <td>0.121876</td>\n",
       "      <td>2600.000000</td>\n",
       "      <td>4</td>\n",
       "      <td>0</td>\n",
       "      <td>0</td>\n",
       "      <td>0</td>\n",
       "      <td>1.0</td>\n",
       "    </tr>\n",
       "    <tr>\n",
       "      <th>3</th>\n",
       "      <td>0.233810</td>\n",
       "      <td>30</td>\n",
       "      <td>0</td>\n",
       "      <td>0.036050</td>\n",
       "      <td>3300.000000</td>\n",
       "      <td>5</td>\n",
       "      <td>0</td>\n",
       "      <td>0</td>\n",
       "      <td>0</td>\n",
       "      <td>0.0</td>\n",
       "    </tr>\n",
       "    <tr>\n",
       "      <th>5</th>\n",
       "      <td>0.213179</td>\n",
       "      <td>74</td>\n",
       "      <td>0</td>\n",
       "      <td>0.375607</td>\n",
       "      <td>3500.000000</td>\n",
       "      <td>3</td>\n",
       "      <td>0</td>\n",
       "      <td>1</td>\n",
       "      <td>0</td>\n",
       "      <td>1.0</td>\n",
       "    </tr>\n",
       "    <tr>\n",
       "      <th>6</th>\n",
       "      <td>0.305682</td>\n",
       "      <td>57</td>\n",
       "      <td>0</td>\n",
       "      <td>5710.000000</td>\n",
       "      <td>6637.411063</td>\n",
       "      <td>8</td>\n",
       "      <td>0</td>\n",
       "      <td>3</td>\n",
       "      <td>0</td>\n",
       "      <td>0.0</td>\n",
       "    </tr>\n",
       "  </tbody>\n",
       "</table>\n",
       "</div>"
      ],
      "text/plain": [
       "   util_linhas_inseguras  idade  vezes_passou_de_30_59_dias  razao_debito  \\\n",
       "0               0.766127     45                           2      0.802982   \n",
       "1               0.957151     40                           0      0.121876   \n",
       "3               0.233810     30                           0      0.036050   \n",
       "5               0.213179     74                           0      0.375607   \n",
       "6               0.305682     57                           0   5710.000000   \n",
       "\n",
       "   salario_mensal  numero_linhas_crdto_aberto  numero_vezes_passou_90_dias  \\\n",
       "0     9120.000000                          13                            0   \n",
       "1     2600.000000                           4                            0   \n",
       "3     3300.000000                           5                            0   \n",
       "5     3500.000000                           3                            0   \n",
       "6     6637.411063                           8                            0   \n",
       "\n",
       "   numero_emprestimos_imobiliarios  numero_de_vezes_que_passou_60_89_dias  \\\n",
       "0                                6                                      0   \n",
       "1                                0                                      0   \n",
       "3                                0                                      0   \n",
       "5                                1                                      0   \n",
       "6                                3                                      0   \n",
       "\n",
       "   numero_de_dependentes  \n",
       "0                    2.0  \n",
       "1                    1.0  \n",
       "3                    0.0  \n",
       "5                    1.0  \n",
       "6                    0.0  "
      ]
     },
     "execution_count": 23,
     "metadata": {},
     "output_type": "execute_result"
    }
   ],
   "source": [
    "X.head()"
   ]
  },
  {
   "cell_type": "code",
   "execution_count": 24,
   "metadata": {
    "colab": {
     "base_uri": "https://localhost:8080/"
    },
    "id": "V_jxsLiKuhMI",
    "outputId": "4f6fad6c-ec1f-4695-8374-f1810a0230c0"
   },
   "outputs": [
    {
     "data": {
      "text/plain": [
       "0    1\n",
       "1    0\n",
       "3    0\n",
       "5    0\n",
       "6    0\n",
       "Name: inadimplente, dtype: int64"
      ]
     },
     "execution_count": 24,
     "metadata": {},
     "output_type": "execute_result"
    }
   ],
   "source": [
    "y.head()"
   ]
  },
  {
   "cell_type": "markdown",
   "metadata": {},
   "source": [
    "np.zeros -> retorna um array preenchido com zeros"
   ]
  },
  {
   "cell_type": "code",
   "execution_count": 25,
   "metadata": {
    "id": "v_psyIfEtgUB"
   },
   "outputs": [],
   "source": [
    "def baseline_model(X):\n",
    "  y = np.zeros(X.shape[0])\n",
    "  return y"
   ]
  },
  {
   "cell_type": "code",
   "execution_count": 26,
   "metadata": {
    "id": "nuT76nDQz832"
   },
   "outputs": [],
   "source": [
    "#Separando em treino e validação\n",
    "X_train, X_val, y_train, y_val = train_test_split(\n",
    "   X, \n",
    "   y, \n",
    "   random_state=0, \n",
    "   test_size=0.50,\n",
    "   stratify=y\n",
    "   )"
   ]
  },
  {
   "cell_type": "code",
   "execution_count": 27,
   "metadata": {
    "id": "88tyzUrAthTv"
   },
   "outputs": [],
   "source": [
    "#Analise do baseline\n",
    "p_val = baseline_model(X_val)"
   ]
  },
  {
   "cell_type": "code",
   "execution_count": 28,
   "metadata": {},
   "outputs": [
    {
     "data": {
      "text/plain": [
       "0.9428093935842341"
      ]
     },
     "execution_count": 28,
     "metadata": {},
     "output_type": "execute_result"
    }
   ],
   "source": [
    "np.mean(y_val == p_val)"
   ]
  },
  {
   "cell_type": "markdown",
   "metadata": {
    "tags": []
   },
   "source": [
    "# 2 - Padronização e Balanceamento dos dados"
   ]
  },
  {
   "cell_type": "markdown",
   "metadata": {},
   "source": [
    "Agora vamos verificar o balanceamento do dataset. Caso esteja desbalanceado, podemos realizar um resample."
   ]
  },
  {
   "cell_type": "code",
   "execution_count": 29,
   "metadata": {},
   "outputs": [
    {
     "data": {
      "text/plain": [
       "<AxesSubplot:xlabel='inadimplente', ylabel='count'>"
      ]
     },
     "execution_count": 29,
     "metadata": {},
     "output_type": "execute_result"
    },
    {
     "data": {
      "image/png": "[encoded data removed]",
      "text/plain": [
       "<Figure size 432x288 with 1 Axes>"
      ]
     },
     "metadata": {
      "needs_background": "light"
     },
     "output_type": "display_data"
    }
   ],
   "source": [
    "sns.countplot(x = 'inadimplente',data=df_train)"
   ]
  },
  {
   "cell_type": "markdown",
   "metadata": {},
   "source": [
    "Como podemos perceber, o dataset é extremamente desbalanceado, o que torna necessário o balanceamento."
   ]
  },
  {
   "cell_type": "markdown",
   "metadata": {},
   "source": [
    "## Paronizando os dados utilizando o SMOTE e o Min_max_scaler\n",
    "\n",
    "- Smote: Gerar dados sintéticos da classe minoritária\n",
    "- Min_max_scaler: coloca os resultados das features na mesma proporção"
   ]
  },
  {
   "cell_type": "code",
   "execution_count": 30,
   "metadata": {
    "id": "nMv3BFPBgkmY"
   },
   "outputs": [],
   "source": [
    "# Separa os dados e as classes\n",
    "target_name = 'inadimplente'\n",
    "X = df_train.drop('inadimplente', axis=1)\n",
    "y = df_train[target_name]"
   ]
  },
  {
   "cell_type": "code",
   "execution_count": 31,
   "metadata": {
    "id": "i_slTtQBwZ2f"
   },
   "outputs": [],
   "source": [
    "#Vou utilizar o min_max_scaler para deixar todas as features na mesma escala, as escalas dos salarios\n",
    "#são diferente de outras features\n",
    "scaler = MinMaxScaler()\n",
    "X = scaler.fit_transform(X)"
   ]
  },
  {
   "cell_type": "markdown",
   "metadata": {},
   "source": [
    "Vamos dividir os dados de treino e teste do dataset padronizado e desbalanceado para fins de comparação, utilizando random_state = 0 para replicabilidade."
   ]
  },
  {
   "cell_type": "code",
   "execution_count": 32,
   "metadata": {},
   "outputs": [],
   "source": [
    "X_train, X_val, y_train, y_val = train_test_split(\n",
    "   X, \n",
    "   y, \n",
    "   random_state=0, \n",
    "   test_size=0.50,\n",
    "   stratify=y\n",
    "   )"
   ]
  },
  {
   "cell_type": "markdown",
   "metadata": {},
   "source": [
    "Agora utilizamos uma tecnica de resample para balancear o dataframe. Algumas técnicas podem ser interessantes, tanto oversampling da classe minoritária, quanto undersampling da majoritária ou mesmo a combinação dos dois podem ser utilizados."
   ]
  },
  {
   "cell_type": "code",
   "execution_count": 33,
   "metadata": {},
   "outputs": [],
   "source": [
    "from collections import Counter"
   ]
  },
  {
   "cell_type": "code",
   "execution_count": 34,
   "metadata": {
    "id": "AvznQIsVgkMp"
   },
   "outputs": [
    {
     "name": "stdout",
     "output_type": "stream",
     "text": [
      "Counter({0: 86877, 1: 5271}) Counter({1: 86877, 0: 86877})\n"
     ]
    }
   ],
   "source": [
    "# Instância o SMOTE\n",
    "smt = SMOTE()\n",
    "#Aplica o SMOTE nos dados\n",
    "X_balanceado, y_balanceado = smt.fit_resample(X,y)\n",
    "print(Counter(y),Counter(y_balanceado))"
   ]
  },
  {
   "cell_type": "code",
   "execution_count": 35,
   "metadata": {},
   "outputs": [
    {
     "data": {
      "text/plain": [
       "<AxesSubplot:xlabel='inadimplente', ylabel='count'>"
      ]
     },
     "execution_count": 35,
     "metadata": {},
     "output_type": "execute_result"
    },
    {
     "data": {
      "image/png": "[encoded data removed]",
      "text/plain": [
       "<Figure size 432x288 with 1 Axes>"
      ]
     },
     "metadata": {
      "needs_background": "light"
     },
     "output_type": "display_data"
    }
   ],
   "source": [
    "sns.countplot(x=y_balanceado,data=df_train)"
   ]
  },
  {
   "cell_type": "markdown",
   "metadata": {},
   "source": [
    "Agora dividimos o dataframe balanceado e padronizado para treinamento dos modelos."
   ]
  },
  {
   "cell_type": "code",
   "execution_count": 36,
   "metadata": {},
   "outputs": [],
   "source": [
    "X_train_balanceado, X_val_balanceado, y_train_balanceado, y_val_balanceado = train_test_split(\n",
    "   X_balanceado, \n",
    "   y_balanceado, \n",
    "   random_state=0, \n",
    "   test_size=0.50,\n",
    "  #stratify=y\n",
    "   )"
   ]
  },
  {
   "cell_type": "markdown",
   "metadata": {
    "id": "UPKKQ5cHqiaX"
   },
   "source": [
    "## 2.1 - Aplicando o modelo com o dataset balanceado"
   ]
  },
  {
   "cell_type": "markdown",
   "metadata": {},
   "source": [
    "Com os dados devidamente tratados, foi realizada a escolha do modelo para a predição da ariável, apesar de muitos modelos serem viáveis foram utilizados os que seguem abaixo:\n",
    "\n",
    "- Regressão Logística;\n",
    "- Árvores de Decisão;\n",
    "- Florestas Aleatórias (Random forest)\n",
    "\n",
    "Cabe ressaltar que a escolha dos algoritmos se deu por opção do autor. A escolha do modelo final levará em conta a maior probabilidade encontrada.\n",
    "\n",
    "O modelo que apresentar melhor resultado nessa etapa, segue para uma etapa de ajuste paramétrico usando GrindSearch.\n",
    "\n",
    "No que diz respeito as métricas de avaliação, serão utilizados a precisão e matriz de confusão."
   ]
  },
  {
   "cell_type": "markdown",
   "metadata": {
    "id": "9BFqSrFXjI7A",
    "jp-MarkdownHeadingCollapsed": true,
    "tags": []
   },
   "source": [
    "## Logistic Regression"
   ]
  },
  {
   "cell_type": "markdown",
   "metadata": {},
   "source": [
    "Começamos pelo modelo mais simples, a regressão logística."
   ]
  },
  {
   "cell_type": "code",
   "execution_count": 37,
   "metadata": {
    "id": "HZ4YQPM3jOWM"
   },
   "outputs": [],
   "source": [
    "from sklearn.linear_model import LogisticRegression"
   ]
  },
  {
   "cell_type": "code",
   "execution_count": 38,
   "metadata": {
    "id": "5yA1yYQYjOP1"
   },
   "outputs": [
    {
     "data": {
      "text/plain": [
       "LogisticRegression(max_iter=1000)"
      ]
     },
     "execution_count": 38,
     "metadata": {},
     "output_type": "execute_result"
    }
   ],
   "source": [
    "#Instanciando o algoritmo\n",
    "logistic = LogisticRegression(max_iter=1000)\n",
    "logistic.fit(X_train_balanceado,y_train_balanceado)"
   ]
  },
  {
   "cell_type": "code",
   "execution_count": 39,
   "metadata": {
    "id": "wGzynOvbjvDc"
   },
   "outputs": [],
   "source": [
    "#Calculando as predições\n",
    "p_val = logistic.predict(X_val_balanceado)"
   ]
  },
  {
   "cell_type": "code",
   "execution_count": 40,
   "metadata": {
    "colab": {
     "base_uri": "https://localhost:8080/"
    },
    "id": "ixStaistj_V2",
    "outputId": "61f2644f-dc72-4a57-a6b7-ed492d1a17bd"
   },
   "outputs": [
    {
     "data": {
      "text/plain": [
       "0.6992529668381735"
      ]
     },
     "execution_count": 40,
     "metadata": {},
     "output_type": "execute_result"
    }
   ],
   "source": [
    "#Avaliando o modelo\n",
    "np.mean(y_val_balanceado == p_val)"
   ]
  },
  {
   "cell_type": "code",
   "execution_count": 41,
   "metadata": {
    "colab": {
     "base_uri": "https://localhost:8080/"
    },
    "id": "joml26IJkY7z",
    "outputId": "b5f6eb7d-c242-4e43-fa5b-2fd59424a318"
   },
   "outputs": [
    {
     "data": {
      "text/plain": [
       "0.699387320378574"
      ]
     },
     "execution_count": 41,
     "metadata": {},
     "output_type": "execute_result"
    }
   ],
   "source": [
    "#Resultado ponderado das classes 0 e 1\n",
    "roc_auc_score(y_val_balanceado, p_val)"
   ]
  },
  {
   "cell_type": "code",
   "execution_count": 42,
   "metadata": {
    "colab": {
     "base_uri": "https://localhost:8080/"
    },
    "id": "6xrk_zfdklRI",
    "outputId": "2f2d2950-fc12-418e-d4d1-8bc90685dccd"
   },
   "outputs": [
    {
     "name": "stdout",
     "output_type": "stream",
     "text": [
      "              precision    recall  f1-score   support\n",
      "\n",
      "           0       0.69      0.73      0.71     43218\n",
      "           1       0.71      0.67      0.69     43659\n",
      "\n",
      "    accuracy                           0.70     86877\n",
      "   macro avg       0.70      0.70      0.70     86877\n",
      "weighted avg       0.70      0.70      0.70     86877\n",
      "\n"
     ]
    }
   ],
   "source": [
    "print(classification_report(y_val_balanceado, p_val))"
   ]
  },
  {
   "cell_type": "code",
   "execution_count": 43,
   "metadata": {
    "colab": {
     "base_uri": "https://localhost:8080/"
    },
    "id": "0sPxAirMcKB2",
    "outputId": "25effa2c-cd99-4dcc-e0e1-741b39237a48"
   },
   "outputs": [
    {
     "name": "stdout",
     "output_type": "stream",
     "text": [
      "Predito      0      1    All\n",
      "Real                        \n",
      "0        31370  11848  43218\n",
      "1        14280  29379  43659\n",
      "All      45650  41227  86877\n"
     ]
    }
   ],
   "source": [
    "print(pd.crosstab(y_val_balanceado, p_val, rownames=['Real'], colnames=['Predito'], margins=True))"
   ]
  },
  {
   "cell_type": "markdown",
   "metadata": {
    "id": "8rgwYJZ2i3OC",
    "jp-MarkdownHeadingCollapsed": true,
    "tags": []
   },
   "source": [
    "## Arvore de decisão"
   ]
  },
  {
   "cell_type": "code",
   "execution_count": 44,
   "metadata": {
    "id": "uDmaUn03YArI"
   },
   "outputs": [],
   "source": [
    "#Treinando o modelo com arvore de decisão\n",
    "dtree = DecisionTreeClassifier(min_samples_leaf=10, random_state=0)\n",
    "dtree = dtree.fit(X_train_balanceado, y_train_balanceado)"
   ]
  },
  {
   "cell_type": "markdown",
   "metadata": {
    "id": "0HiRQIvKegWh"
   },
   "source": [
    "O max_depth acerta mais 1 do que o min_samples_leaf\n",
    "\n",
    "Fiz testes aleatórios setando as informações no max_depth e min_samples_leaf e identifiquei que o min_samples_leaf = 10 possui uma acurácia parecida com a do max_depth, contudo o min_samples_leaf acertou mais 1 do que o max_depth, no teste aleatório realizado."
   ]
  },
  {
   "cell_type": "code",
   "execution_count": 45,
   "metadata": {
    "id": "MKSdj10eYAkh"
   },
   "outputs": [],
   "source": [
    "p_val = dtree.predict(X_val_balanceado)"
   ]
  },
  {
   "cell_type": "markdown",
   "metadata": {
    "id": "O444MlYrbhcD"
   },
   "source": [
    "**Fazendo avaliação do modelo**"
   ]
  },
  {
   "cell_type": "code",
   "execution_count": 46,
   "metadata": {
    "colab": {
     "base_uri": "https://localhost:8080/"
    },
    "id": "Z7JhOKelYAX3",
    "outputId": "5df4b441-a06d-4097-8726-47b6b36929e2"
   },
   "outputs": [
    {
     "data": {
      "text/plain": [
       "0.9081229784638052"
      ]
     },
     "execution_count": 46,
     "metadata": {},
     "output_type": "execute_result"
    }
   ],
   "source": [
    "#Verificando a acuracia\n",
    "accuracy_score(p_val, y_val_balanceado)"
   ]
  },
  {
   "cell_type": "code",
   "execution_count": 47,
   "metadata": {
    "colab": {
     "base_uri": "https://localhost:8080/"
    },
    "id": "NJphUxTVbsa4",
    "outputId": "88a12cd1-ebcb-47d8-9ffc-b9da825a76e2"
   },
   "outputs": [
    {
     "data": {
      "text/plain": [
       "0.9082336157166089"
      ]
     },
     "execution_count": 47,
     "metadata": {},
     "output_type": "execute_result"
    }
   ],
   "source": [
    "#Verificando a curva ROC\n",
    "roc_auc_score(y_val_balanceado, p_val)"
   ]
  },
  {
   "cell_type": "markdown",
   "metadata": {
    "id": "v4beXz2xhwl-"
   },
   "source": [
    "O modelo não está bom, só está praticamente acertando o que é 0, ou seja, que não é inadimplente."
   ]
  },
  {
   "cell_type": "markdown",
   "metadata": {},
   "source": [
    "Outra métrica utilizada para avaliação, foi a precisão."
   ]
  },
  {
   "cell_type": "code",
   "execution_count": 48,
   "metadata": {
    "colab": {
     "base_uri": "https://localhost:8080/"
    },
    "id": "egpyY51zddgc",
    "outputId": "fc0337c1-c843-48aa-ea7c-8ba44b3842f4"
   },
   "outputs": [
    {
     "name": "stdout",
     "output_type": "stream",
     "text": [
      "              precision    recall  f1-score   support\n",
      "\n",
      "           0       0.89      0.93      0.91     43218\n",
      "           1       0.93      0.89      0.91     43659\n",
      "\n",
      "    accuracy                           0.91     86877\n",
      "   macro avg       0.91      0.91      0.91     86877\n",
      "weighted avg       0.91      0.91      0.91     86877\n",
      "\n"
     ]
    }
   ],
   "source": [
    "print(classification_report(y_val_balanceado, p_val))"
   ]
  },
  {
   "cell_type": "markdown",
   "metadata": {
    "id": "z1J3vDEMeI91"
   },
   "source": [
    "Com base na ROC o modelo basicamente só acerta os casos que são 0, quando faz a media entre a classe 0 e 1 a curva ROC mostra uma % de quase 50%, está quase um processo aleatório."
   ]
  },
  {
   "cell_type": "code",
   "execution_count": 49,
   "metadata": {
    "colab": {
     "base_uri": "https://localhost:8080/"
    },
    "id": "ErGvmHexaGNe",
    "outputId": "345de56a-a2a5-48db-9deb-b37653586041"
   },
   "outputs": [
    {
     "name": "stdout",
     "output_type": "stream",
     "text": [
      "Predito      0      1    All\n",
      "Real                        \n",
      "0        40194   3024  43218\n",
      "1         4958  38701  43659\n",
      "All      45152  41725  86877\n"
     ]
    }
   ],
   "source": [
    "print(pd.crosstab(y_val_balanceado, p_val, rownames=['Real'], colnames=['Predito'], margins=True))"
   ]
  },
  {
   "cell_type": "markdown",
   "metadata": {
    "id": "Fr3ewow2JDfG",
    "tags": []
   },
   "source": [
    "## Random Forest"
   ]
  },
  {
   "cell_type": "markdown",
   "metadata": {},
   "source": [
    "- random_state = uma random_forest quando está criando o modelo tem várias pontos que vai ser utilizada a aleatoriedade e por conta disso é utilizado o random_state para fixar a aleatoriedade, permitindo que os resultados sejam reprodutiveis\n",
    "\n",
    "- n_jobs = demonstra a quantidade de arvores em paralelo que o modelo irá criar...o -1 informa que serão utilizados todos os threads disponíveis no computador para criação das arvores\n",
    "\n",
    "- Quando testei os hiperparametros (max_depth e min_samples_leaf) o resultado do max_depth foi melhor, por conta disso utilizei este parâmetro.\n",
    "\n",
    "- n_estimators = quantidade de arvóres que serão criadas para treinar o modelo"
   ]
  },
  {
   "cell_type": "code",
   "execution_count": 50,
   "metadata": {
    "id": "z-a7eAhAiYv7"
   },
   "outputs": [],
   "source": [
    "#Treinar o modelo\n",
    "#Escolhi o random forest pois foi o modelo com mais precoisão nos inadimplentes, antes de aplicar o SMOTE\n",
    "rf = RandomForestClassifier(random_state=0, n_jobs=-1, n_estimators=500, max_depth=30)"
   ]
  },
  {
   "cell_type": "code",
   "execution_count": 51,
   "metadata": {
    "colab": {
     "base_uri": "https://localhost:8080/"
    },
    "id": "yam70uDBiYjA",
    "outputId": "203740b4-75ea-4eba-eb9b-548033199b73"
   },
   "outputs": [
    {
     "data": {
      "text/plain": [
       "RandomForestClassifier(max_depth=30, n_estimators=500, n_jobs=-1,\n",
       "                       random_state=0)"
      ]
     },
     "execution_count": 51,
     "metadata": {},
     "output_type": "execute_result"
    }
   ],
   "source": [
    "rf.fit(X_train_balanceado, y_train_balanceado)"
   ]
  },
  {
   "cell_type": "code",
   "execution_count": 59,
   "metadata": {
    "id": "k5K9vjR4jaM1"
   },
   "outputs": [],
   "source": [
    "p_val = rf.predict(X_val_balanceado)"
   ]
  },
  {
   "cell_type": "code",
   "execution_count": 60,
   "metadata": {
    "colab": {
     "base_uri": "https://localhost:8080/"
    },
    "id": "yqZWnQM2jZ9y",
    "outputId": "2881da0d-86bc-4b8b-d4ad-b353f4ec9128"
   },
   "outputs": [
    {
     "name": "stdout",
     "output_type": "stream",
     "text": [
      "0.9498946786836562\n",
      "              precision    recall  f1-score   support\n",
      "\n",
      "           0       0.93      0.97      0.95     43218\n",
      "           1       0.97      0.93      0.95     43659\n",
      "\n",
      "    accuracy                           0.95     86877\n",
      "   macro avg       0.95      0.95      0.95     86877\n",
      "weighted avg       0.95      0.95      0.95     86877\n",
      "\n",
      "Predito      0      1    All\n",
      "Real                        \n",
      "0        41813   1405  43218\n",
      "1         2948  40711  43659\n",
      "All      44761  42116  86877\n"
     ]
    }
   ],
   "source": [
    "#Avaliando o modelo\n",
    "print(np.mean(y_val_balanceado == p_val))\n",
    "#print(roc_auc_score(y_val, p_val))\n",
    "print(classification_report(y_val_balanceado, p_val))\n",
    "print(pd.crosstab(y_val_balanceado, p_val, rownames=['Real'],colnames=['Predito'],margins=True))"
   ]
  },
  {
   "cell_type": "markdown",
   "metadata": {},
   "source": [
    "Vamos verificar quais as principais variaveis para o modelo"
   ]
  },
  {
   "cell_type": "code",
   "execution_count": 61,
   "metadata": {
    "colab": {
     "base_uri": "https://localhost:8080/",
     "height": 486
    },
    "id": "ej_5Zm3Txw8j",
    "outputId": "c27eada1-e821-4698-d966-0295af9fa18e"
   },
   "outputs": [
    {
     "data": {
      "image/png": "[encoded data removed]",
      "text/plain": [
       "<Figure size 864x288 with 1 Axes>"
      ]
     },
     "metadata": {
      "needs_background": "light"
     },
     "output_type": "display_data"
    }
   ],
   "source": [
    "#Verificar quais as principais variaveis para o modelo\n",
    "importances = rf.feature_importances_\n",
    "feat_names = df_train.drop(['inadimplente'], axis=1).columns\n",
    "\n",
    "indices = np.argsort(importances)[::-1]\n",
    "plt.figure(figsize=(12,4))\n",
    "plt.title(\"Importancias das Features\")\n",
    "plt.bar(range(len(indices)), importances[indices],color='lightblue')\n",
    "plt.xticks(range(len(indices)), feat_names[indices], rotation = 'vertical')\n",
    "plt.show()"
   ]
  },
  {
   "cell_type": "markdown",
   "metadata": {
    "id": "cBw24svO2fa4"
   },
   "source": [
    "A random forest teve os melhores resultados, além disso conseguiu bater a baseline. Portanto esse será o escolhido para fazer predição."
   ]
  },
  {
   "cell_type": "markdown",
   "metadata": {},
   "source": [
    "## Analisando os hiperparametros para melhorar o modelo selecionado"
   ]
  },
  {
   "cell_type": "markdown",
   "metadata": {},
   "source": [
    "Vamos analisar os parametros para tentar identificar se há como melhorar o modelo"
   ]
  },
  {
   "cell_type": "code",
   "execution_count": 81,
   "metadata": {},
   "outputs": [],
   "source": [
    "from sklearn.model_selection import cross_val_score\n",
    "from skopt import gp_minimize\n",
    "from skopt import dummy_minimize"
   ]
  },
  {
   "cell_type": "code",
   "execution_count": 74,
   "metadata": {
    "collapsed": true,
    "jupyter": {
     "outputs_hidden": true
    },
    "tags": []
   },
   "outputs": [
    {
     "data": {
      "text/plain": [
       "\u001b[1;31mInit signature:\u001b[0m\n",
       "\u001b[0mRandomForestClassifier\u001b[0m\u001b[1;33m(\u001b[0m\u001b[1;33m\n",
       "\u001b[0m    \u001b[0mn_estimators\u001b[0m\u001b[1;33m=\u001b[0m\u001b[1;36m100\u001b[0m\u001b[1;33m,\u001b[0m\u001b[1;33m\n",
       "\u001b[0m    \u001b[1;33m*\u001b[0m\u001b[1;33m,\u001b[0m\u001b[1;33m\n",
       "\u001b[0m    \u001b[0mcriterion\u001b[0m\u001b[1;33m=\u001b[0m\u001b[1;34m'gini'\u001b[0m\u001b[1;33m,\u001b[0m\u001b[1;33m\n",
       "\u001b[0m    \u001b[0mmax_depth\u001b[0m\u001b[1;33m=\u001b[0m\u001b[1;32mNone\u001b[0m\u001b[1;33m,\u001b[0m\u001b[1;33m\n",
       "\u001b[0m    \u001b[0mmin_samples_split\u001b[0m\u001b[1;33m=\u001b[0m\u001b[1;36m2\u001b[0m\u001b[1;33m,\u001b[0m\u001b[1;33m\n",
       "\u001b[0m    \u001b[0mmin_samples_leaf\u001b[0m\u001b[1;33m=\u001b[0m\u001b[1;36m1\u001b[0m\u001b[1;33m,\u001b[0m\u001b[1;33m\n",
       "\u001b[0m    \u001b[0mmin_weight_fraction_leaf\u001b[0m\u001b[1;33m=\u001b[0m\u001b[1;36m0.0\u001b[0m\u001b[1;33m,\u001b[0m\u001b[1;33m\n",
       "\u001b[0m    \u001b[0mmax_features\u001b[0m\u001b[1;33m=\u001b[0m\u001b[1;34m'auto'\u001b[0m\u001b[1;33m,\u001b[0m\u001b[1;33m\n",
       "\u001b[0m    \u001b[0mmax_leaf_nodes\u001b[0m\u001b[1;33m=\u001b[0m\u001b[1;32mNone\u001b[0m\u001b[1;33m,\u001b[0m\u001b[1;33m\n",
       "\u001b[0m    \u001b[0mmin_impurity_decrease\u001b[0m\u001b[1;33m=\u001b[0m\u001b[1;36m0.0\u001b[0m\u001b[1;33m,\u001b[0m\u001b[1;33m\n",
       "\u001b[0m    \u001b[0mbootstrap\u001b[0m\u001b[1;33m=\u001b[0m\u001b[1;32mTrue\u001b[0m\u001b[1;33m,\u001b[0m\u001b[1;33m\n",
       "\u001b[0m    \u001b[0moob_score\u001b[0m\u001b[1;33m=\u001b[0m\u001b[1;32mFalse\u001b[0m\u001b[1;33m,\u001b[0m\u001b[1;33m\n",
       "\u001b[0m    \u001b[0mn_jobs\u001b[0m\u001b[1;33m=\u001b[0m\u001b[1;32mNone\u001b[0m\u001b[1;33m,\u001b[0m\u001b[1;33m\n",
       "\u001b[0m    \u001b[0mrandom_state\u001b[0m\u001b[1;33m=\u001b[0m\u001b[1;32mNone\u001b[0m\u001b[1;33m,\u001b[0m\u001b[1;33m\n",
       "\u001b[0m    \u001b[0mverbose\u001b[0m\u001b[1;33m=\u001b[0m\u001b[1;36m0\u001b[0m\u001b[1;33m,\u001b[0m\u001b[1;33m\n",
       "\u001b[0m    \u001b[0mwarm_start\u001b[0m\u001b[1;33m=\u001b[0m\u001b[1;32mFalse\u001b[0m\u001b[1;33m,\u001b[0m\u001b[1;33m\n",
       "\u001b[0m    \u001b[0mclass_weight\u001b[0m\u001b[1;33m=\u001b[0m\u001b[1;32mNone\u001b[0m\u001b[1;33m,\u001b[0m\u001b[1;33m\n",
       "\u001b[0m    \u001b[0mccp_alpha\u001b[0m\u001b[1;33m=\u001b[0m\u001b[1;36m0.0\u001b[0m\u001b[1;33m,\u001b[0m\u001b[1;33m\n",
       "\u001b[0m    \u001b[0mmax_samples\u001b[0m\u001b[1;33m=\u001b[0m\u001b[1;32mNone\u001b[0m\u001b[1;33m,\u001b[0m\u001b[1;33m\n",
       "\u001b[0m\u001b[1;33m)\u001b[0m\u001b[1;33m\u001b[0m\u001b[1;33m\u001b[0m\u001b[0m\n",
       "\u001b[1;31mDocstring:\u001b[0m     \n",
       "A random forest classifier.\n",
       "\n",
       "A random forest is a meta estimator that fits a number of decision tree\n",
       "classifiers on various sub-samples of the dataset and uses averaging to\n",
       "improve the predictive accuracy and control over-fitting.\n",
       "The sub-sample size is controlled with the `max_samples` parameter if\n",
       "`bootstrap=True` (default), otherwise the whole dataset is used to build\n",
       "each tree.\n",
       "\n",
       "Read more in the :ref:`User Guide <forest>`.\n",
       "\n",
       "Parameters\n",
       "----------\n",
       "n_estimators : int, default=100\n",
       "    The number of trees in the forest.\n",
       "\n",
       "    .. versionchanged:: 0.22\n",
       "       The default value of ``n_estimators`` changed from 10 to 100\n",
       "       in 0.22.\n",
       "\n",
       "criterion : {\"gini\", \"entropy\"}, default=\"gini\"\n",
       "    The function to measure the quality of a split. Supported criteria are\n",
       "    \"gini\" for the Gini impurity and \"entropy\" for the information gain.\n",
       "    Note: this parameter is tree-specific.\n",
       "\n",
       "max_depth : int, default=None\n",
       "    The maximum depth of the tree. If None, then nodes are expanded until\n",
       "    all leaves are pure or until all leaves contain less than\n",
       "    min_samples_split samples.\n",
       "\n",
       "min_samples_split : int or float, default=2\n",
       "    The minimum number of samples required to split an internal node:\n",
       "\n",
       "    - If int, then consider `min_samples_split` as the minimum number.\n",
       "    - If float, then `min_samples_split` is a fraction and\n",
       "      `ceil(min_samples_split * n_samples)` are the minimum\n",
       "      number of samples for each split.\n",
       "\n",
       "    .. versionchanged:: 0.18\n",
       "       Added float values for fractions.\n",
       "\n",
       "min_samples_leaf : int or float, default=1\n",
       "    The minimum number of samples required to be at a leaf node.\n",
       "    A split point at any depth will only be considered if it leaves at\n",
       "    least ``min_samples_leaf`` training samples in each of the left and\n",
       "    right branches.  This may have the effect of smoothing the model,\n",
       "    especially in regression.\n",
       "\n",
       "    - If int, then consider `min_samples_leaf` as the minimum number.\n",
       "    - If float, then `min_samples_leaf` is a fraction and\n",
       "      `ceil(min_samples_leaf * n_samples)` are the minimum\n",
       "      number of samples for each node.\n",
       "\n",
       "    .. versionchanged:: 0.18\n",
       "       Added float values for fractions.\n",
       "\n",
       "min_weight_fraction_leaf : float, default=0.0\n",
       "    The minimum weighted fraction of the sum total of weights (of all\n",
       "    the input samples) required to be at a leaf node. Samples have\n",
       "    equal weight when sample_weight is not provided.\n",
       "\n",
       "max_features : {\"auto\", \"sqrt\", \"log2\"}, int or float, default=\"auto\"\n",
       "    The number of features to consider when looking for the best split:\n",
       "\n",
       "    - If int, then consider `max_features` features at each split.\n",
       "    - If float, then `max_features` is a fraction and\n",
       "      `round(max_features * n_features)` features are considered at each\n",
       "      split.\n",
       "    - If \"auto\", then `max_features=sqrt(n_features)`.\n",
       "    - If \"sqrt\", then `max_features=sqrt(n_features)` (same as \"auto\").\n",
       "    - If \"log2\", then `max_features=log2(n_features)`.\n",
       "    - If None, then `max_features=n_features`.\n",
       "\n",
       "    Note: the search for a split does not stop until at least one\n",
       "    valid partition of the node samples is found, even if it requires to\n",
       "    effectively inspect more than ``max_features`` features.\n",
       "\n",
       "max_leaf_nodes : int, default=None\n",
       "    Grow trees with ``max_leaf_nodes`` in best-first fashion.\n",
       "    Best nodes are defined as relative reduction in impurity.\n",
       "    If None then unlimited number of leaf nodes.\n",
       "\n",
       "min_impurity_decrease : float, default=0.0\n",
       "    A node will be split if this split induces a decrease of the impurity\n",
       "    greater than or equal to this value.\n",
       "\n",
       "    The weighted impurity decrease equation is the following::\n",
       "\n",
       "        N_t / N * (impurity - N_t_R / N_t * right_impurity\n",
       "                            - N_t_L / N_t * left_impurity)\n",
       "\n",
       "    where ``N`` is the total number of samples, ``N_t`` is the number of\n",
       "    samples at the current node, ``N_t_L`` is the number of samples in the\n",
       "    left child, and ``N_t_R`` is the number of samples in the right child.\n",
       "\n",
       "    ``N``, ``N_t``, ``N_t_R`` and ``N_t_L`` all refer to the weighted sum,\n",
       "    if ``sample_weight`` is passed.\n",
       "\n",
       "    .. versionadded:: 0.19\n",
       "\n",
       "bootstrap : bool, default=True\n",
       "    Whether bootstrap samples are used when building trees. If False, the\n",
       "    whole dataset is used to build each tree.\n",
       "\n",
       "oob_score : bool, default=False\n",
       "    Whether to use out-of-bag samples to estimate the generalization score.\n",
       "    Only available if bootstrap=True.\n",
       "\n",
       "n_jobs : int, default=None\n",
       "    The number of jobs to run in parallel. :meth:`fit`, :meth:`predict`,\n",
       "    :meth:`decision_path` and :meth:`apply` are all parallelized over the\n",
       "    trees. ``None`` means 1 unless in a :obj:`joblib.parallel_backend`\n",
       "    context. ``-1`` means using all processors. See :term:`Glossary\n",
       "    <n_jobs>` for more details.\n",
       "\n",
       "random_state : int, RandomState instance or None, default=None\n",
       "    Controls both the randomness of the bootstrapping of the samples used\n",
       "    when building trees (if ``bootstrap=True``) and the sampling of the\n",
       "    features to consider when looking for the best split at each node\n",
       "    (if ``max_features < n_features``).\n",
       "    See :term:`Glossary <random_state>` for details.\n",
       "\n",
       "verbose : int, default=0\n",
       "    Controls the verbosity when fitting and predicting.\n",
       "\n",
       "warm_start : bool, default=False\n",
       "    When set to ``True``, reuse the solution of the previous call to fit\n",
       "    and add more estimators to the ensemble, otherwise, just fit a whole\n",
       "    new forest. See :term:`the Glossary <warm_start>`.\n",
       "\n",
       "class_weight : {\"balanced\", \"balanced_subsample\"}, dict or list of dicts,             default=None\n",
       "    Weights associated with classes in the form ``{class_label: weight}``.\n",
       "    If not given, all classes are supposed to have weight one. For\n",
       "    multi-output problems, a list of dicts can be provided in the same\n",
       "    order as the columns of y.\n",
       "\n",
       "    Note that for multioutput (including multilabel) weights should be\n",
       "    defined for each class of every column in its own dict. For example,\n",
       "    for four-class multilabel classification weights should be\n",
       "    [{0: 1, 1: 1}, {0: 1, 1: 5}, {0: 1, 1: 1}, {0: 1, 1: 1}] instead of\n",
       "    [{1:1}, {2:5}, {3:1}, {4:1}].\n",
       "\n",
       "    The \"balanced\" mode uses the values of y to automatically adjust\n",
       "    weights inversely proportional to class frequencies in the input data\n",
       "    as ``n_samples / (n_classes * np.bincount(y))``\n",
       "\n",
       "    The \"balanced_subsample\" mode is the same as \"balanced\" except that\n",
       "    weights are computed based on the bootstrap sample for every tree\n",
       "    grown.\n",
       "\n",
       "    For multi-output, the weights of each column of y will be multiplied.\n",
       "\n",
       "    Note that these weights will be multiplied with sample_weight (passed\n",
       "    through the fit method) if sample_weight is specified.\n",
       "\n",
       "ccp_alpha : non-negative float, default=0.0\n",
       "    Complexity parameter used for Minimal Cost-Complexity Pruning. The\n",
       "    subtree with the largest cost complexity that is smaller than\n",
       "    ``ccp_alpha`` will be chosen. By default, no pruning is performed. See\n",
       "    :ref:`minimal_cost_complexity_pruning` for details.\n",
       "\n",
       "    .. versionadded:: 0.22\n",
       "\n",
       "max_samples : int or float, default=None\n",
       "    If bootstrap is True, the number of samples to draw from X\n",
       "    to train each base estimator.\n",
       "\n",
       "    - If None (default), then draw `X.shape[0]` samples.\n",
       "    - If int, then draw `max_samples` samples.\n",
       "    - If float, then draw `max_samples * X.shape[0]` samples. Thus,\n",
       "      `max_samples` should be in the interval `(0.0, 1.0]`.\n",
       "\n",
       "    .. versionadded:: 0.22\n",
       "\n",
       "Attributes\n",
       "----------\n",
       "base_estimator_ : DecisionTreeClassifier\n",
       "    The child estimator template used to create the collection of fitted\n",
       "    sub-estimators.\n",
       "\n",
       "estimators_ : list of DecisionTreeClassifier\n",
       "    The collection of fitted sub-estimators.\n",
       "\n",
       "classes_ : ndarray of shape (n_classes,) or a list of such arrays\n",
       "    The classes labels (single output problem), or a list of arrays of\n",
       "    class labels (multi-output problem).\n",
       "\n",
       "n_classes_ : int or list\n",
       "    The number of classes (single output problem), or a list containing the\n",
       "    number of classes for each output (multi-output problem).\n",
       "\n",
       "n_features_ : int\n",
       "    The number of features when ``fit`` is performed.\n",
       "\n",
       "    .. deprecated:: 1.0\n",
       "        Attribute `n_features_` was deprecated in version 1.0 and will be\n",
       "        removed in 1.2. Use `n_features_in_` instead.\n",
       "\n",
       "n_features_in_ : int\n",
       "    Number of features seen during :term:`fit`.\n",
       "\n",
       "    .. versionadded:: 0.24\n",
       "\n",
       "feature_names_in_ : ndarray of shape (`n_features_in_`,)\n",
       "    Names of features seen during :term:`fit`. Defined only when `X`\n",
       "    has feature names that are all strings.\n",
       "\n",
       "    .. versionadded:: 1.0\n",
       "\n",
       "n_outputs_ : int\n",
       "    The number of outputs when ``fit`` is performed.\n",
       "\n",
       "feature_importances_ : ndarray of shape (n_features,)\n",
       "    The impurity-based feature importances.\n",
       "    The higher, the more important the feature.\n",
       "    The importance of a feature is computed as the (normalized)\n",
       "    total reduction of the criterion brought by that feature.  It is also\n",
       "    known as the Gini importance.\n",
       "\n",
       "    Warning: impurity-based feature importances can be misleading for\n",
       "    high cardinality features (many unique values). See\n",
       "    :func:`sklearn.inspection.permutation_importance` as an alternative.\n",
       "\n",
       "oob_score_ : float\n",
       "    Score of the training dataset obtained using an out-of-bag estimate.\n",
       "    This attribute exists only when ``oob_score`` is True.\n",
       "\n",
       "oob_decision_function_ : ndarray of shape (n_samples, n_classes) or             (n_samples, n_classes, n_outputs)\n",
       "    Decision function computed with out-of-bag estimate on the training\n",
       "    set. If n_estimators is small it might be possible that a data point\n",
       "    was never left out during the bootstrap. In this case,\n",
       "    `oob_decision_function_` might contain NaN. This attribute exists\n",
       "    only when ``oob_score`` is True.\n",
       "\n",
       "See Also\n",
       "--------\n",
       "sklearn.tree.DecisionTreeClassifier : A decision tree classifier.\n",
       "sklearn.ensemble.ExtraTreesClassifier : Ensemble of extremely randomized\n",
       "    tree classifiers.\n",
       "\n",
       "Notes\n",
       "-----\n",
       "The default values for the parameters controlling the size of the trees\n",
       "(e.g. ``max_depth``, ``min_samples_leaf``, etc.) lead to fully grown and\n",
       "unpruned trees which can potentially be very large on some data sets. To\n",
       "reduce memory consumption, the complexity and size of the trees should be\n",
       "controlled by setting those parameter values.\n",
       "\n",
       "The features are always randomly permuted at each split. Therefore,\n",
       "the best found split may vary, even with the same training data,\n",
       "``max_features=n_features`` and ``bootstrap=False``, if the improvement\n",
       "of the criterion is identical for several splits enumerated during the\n",
       "search of the best split. To obtain a deterministic behaviour during\n",
       "fitting, ``random_state`` has to be fixed.\n",
       "\n",
       "References\n",
       "----------\n",
       ".. [1] L. Breiman, \"Random Forests\", Machine Learning, 45(1), 5-32, 2001.\n",
       "\n",
       "Examples\n",
       "--------\n",
       ">>> from sklearn.ensemble import RandomForestClassifier\n",
       ">>> from sklearn.datasets import make_classification\n",
       ">>> X, y = make_classification(n_samples=1000, n_features=4,\n",
       "...                            n_informative=2, n_redundant=0,\n",
       "...                            random_state=0, shuffle=False)\n",
       ">>> clf = RandomForestClassifier(max_depth=2, random_state=0)\n",
       ">>> clf.fit(X, y)\n",
       "RandomForestClassifier(...)\n",
       ">>> print(clf.predict([[0, 0, 0, 0]]))\n",
       "[1]\n",
       "\u001b[1;31mFile:\u001b[0m           c:\\users\\rp150643\\anaconda3\\lib\\site-packages\\sklearn\\ensemble\\_forest.py\n",
       "\u001b[1;31mType:\u001b[0m           ABCMeta\n",
       "\u001b[1;31mSubclasses:\u001b[0m     BalancedRandomForestClassifier\n"
      ]
     },
     "metadata": {},
     "output_type": "display_data"
    }
   ],
   "source": [
    "?RandomForestClassifier"
   ]
  },
  {
   "cell_type": "code",
   "execution_count": 72,
   "metadata": {},
   "outputs": [],
   "source": [
    "from skopt import dummy_minimize"
   ]
  },
  {
   "cell_type": "code",
   "execution_count": 85,
   "metadata": {},
   "outputs": [
    {
     "name": "stdout",
     "output_type": "stream",
     "text": [
      "Iteration No: 1 started. Evaluating function at random point.\n",
      "['entropy', 1, 4] \n",
      "\n",
      "Iteration No: 1 ended. Evaluation done at random point.\n",
      "Time taken: 4.7117\n",
      "Function value obtained: -0.8223\n",
      "Current minimum: -0.8223\n",
      "Iteration No: 2 started. Evaluating function at random point.\n",
      "['entropy', 8, 4] \n",
      "\n",
      "Iteration No: 2 ended. Evaluation done at random point.\n",
      "Time taken: 17.7867\n",
      "Function value obtained: -0.8677\n",
      "Current minimum: -0.8677\n",
      "Iteration No: 3 started. Evaluating function at random point.\n",
      "['entropy', 5, 8] \n",
      "\n",
      "Iteration No: 3 ended. Evaluation done at random point.\n",
      "Time taken: 28.1945\n",
      "Function value obtained: -0.8567\n",
      "Current minimum: -0.8677\n",
      "Iteration No: 4 started. Evaluating function at random point.\n",
      "['entropy', 9, 2] \n",
      "\n",
      "Iteration No: 4 ended. Evaluation done at random point.\n",
      "Time taken: 15.5929\n",
      "Function value obtained: -0.8674\n",
      "Current minimum: -0.8677\n",
      "Iteration No: 5 started. Evaluating function at random point.\n",
      "['entropy', 8, 9] \n",
      "\n",
      "Iteration No: 5 ended. Evaluation done at random point.\n",
      "Time taken: 43.1327\n",
      "Function value obtained: -0.8749\n",
      "Current minimum: -0.8749\n",
      "Iteration No: 6 started. Evaluating function at random point.\n",
      "['gini', 9, 5] \n",
      "\n",
      "Iteration No: 6 ended. Evaluation done at random point.\n",
      "Time taken: 22.7501\n",
      "Function value obtained: -0.8794\n",
      "Current minimum: -0.8794\n",
      "Iteration No: 7 started. Evaluating function at random point.\n",
      "['gini', 4, 6] \n",
      "\n",
      "Iteration No: 7 ended. Evaluation done at random point.\n",
      "Time taken: 19.0841\n",
      "Function value obtained: -0.8513\n",
      "Current minimum: -0.8794\n",
      "Iteration No: 8 started. Evaluating function at random point.\n",
      "['entropy', 1, 3] \n",
      "\n",
      "Iteration No: 8 ended. Evaluation done at random point.\n",
      "Time taken: 5.6439\n",
      "Function value obtained: -0.8392\n",
      "Current minimum: -0.8794\n",
      "Iteration No: 9 started. Evaluating function at random point.\n",
      "['gini', 2, 4] \n",
      "\n",
      "Iteration No: 9 ended. Evaluation done at random point.\n",
      "Time taken: 9.2099\n",
      "Function value obtained: -0.8452\n",
      "Current minimum: -0.8794\n",
      "Iteration No: 10 started. Evaluating function at random point.\n",
      "['entropy', 4, 8] \n",
      "\n",
      "Iteration No: 10 ended. Evaluation done at random point.\n",
      "Time taken: 25.7197\n",
      "Function value obtained: -0.8510\n",
      "Current minimum: -0.8794\n",
      "Iteration No: 11 started. Evaluating function at random point.\n",
      "['entropy', 1, 5] \n",
      "\n",
      "Iteration No: 11 ended. Evaluation done at random point.\n",
      "Time taken: 8.0458\n",
      "Function value obtained: -0.8225\n",
      "Current minimum: -0.8794\n",
      "Iteration No: 12 started. Evaluating function at random point.\n",
      "['gini', 3, 8] \n",
      "\n",
      "Iteration No: 12 ended. Evaluation done at random point.\n",
      "Time taken: 18.2269\n",
      "Function value obtained: -0.8407\n",
      "Current minimum: -0.8794\n",
      "Iteration No: 13 started. Evaluating function at random point.\n",
      "['gini', 1, 1] \n",
      "\n",
      "Iteration No: 13 ended. Evaluation done at random point.\n",
      "Time taken: 4.1907\n",
      "Function value obtained: -0.8332\n",
      "Current minimum: -0.8794\n",
      "Iteration No: 14 started. Evaluating function at random point.\n",
      "['gini', 6, 7] \n",
      "\n",
      "Iteration No: 14 ended. Evaluation done at random point.\n",
      "Time taken: 24.9998\n",
      "Function value obtained: -0.8599\n",
      "Current minimum: -0.8794\n",
      "Iteration No: 15 started. Evaluating function at random point.\n",
      "['gini', 2, 5] \n",
      "\n",
      "Iteration No: 15 ended. Evaluation done at random point.\n",
      "Time taken: 9.3566\n",
      "Function value obtained: -0.8326\n",
      "Current minimum: -0.8794\n",
      "Iteration No: 16 started. Evaluating function at random point.\n",
      "['entropy', 9, 2] \n",
      "\n",
      "Iteration No: 16 ended. Evaluation done at random point.\n",
      "Time taken: 16.4920\n",
      "Function value obtained: -0.8674\n",
      "Current minimum: -0.8794\n",
      "Iteration No: 17 started. Evaluating function at random point.\n",
      "['entropy', 4, 7] \n",
      "\n",
      "Iteration No: 17 ended. Evaluation done at random point.\n",
      "Time taken: 23.5987\n",
      "Function value obtained: -0.8512\n",
      "Current minimum: -0.8794\n",
      "Iteration No: 18 started. Evaluating function at random point.\n",
      "['entropy', 3, 1] \n",
      "\n",
      "Iteration No: 18 ended. Evaluation done at random point.\n",
      "Time taken: 7.1464\n",
      "Function value obtained: -0.8454\n",
      "Current minimum: -0.8794\n",
      "Iteration No: 19 started. Evaluating function at random point.\n",
      "['gini', 6, 5] \n",
      "\n",
      "Iteration No: 19 ended. Evaluation done at random point.\n",
      "Time taken: 20.1599\n",
      "Function value obtained: -0.8555\n",
      "Current minimum: -0.8794\n",
      "Iteration No: 20 started. Evaluating function at random point.\n",
      "['entropy', 7, 5] \n",
      "\n",
      "Iteration No: 20 ended. Evaluation done at random point.\n",
      "Time taken: 24.6255\n",
      "Function value obtained: -0.8632\n",
      "Current minimum: -0.8794\n",
      "Iteration No: 21 started. Evaluating function at random point.\n",
      "['entropy', 5, 4] \n",
      "\n",
      "Iteration No: 21 ended. Evaluation done at random point.\n",
      "Time taken: 17.0016\n",
      "Function value obtained: -0.8526\n",
      "Current minimum: -0.8794\n",
      "Iteration No: 22 started. Evaluating function at random point.\n",
      "['entropy', 5, 9] \n",
      "\n",
      "Iteration No: 22 ended. Evaluation done at random point.\n",
      "Time taken: 30.3462\n",
      "Function value obtained: -0.8567\n",
      "Current minimum: -0.8794\n",
      "Iteration No: 23 started. Evaluating function at random point.\n",
      "['gini', 5, 4] \n",
      "\n",
      "Iteration No: 23 ended. Evaluation done at random point.\n",
      "Time taken: 14.6759\n",
      "Function value obtained: -0.8525\n",
      "Current minimum: -0.8794\n",
      "Iteration No: 24 started. Evaluating function at random point.\n",
      "['entropy', 6, 6] \n",
      "\n",
      "Iteration No: 24 ended. Evaluation done at random point.\n",
      "Time taken: 26.6224\n",
      "Function value obtained: -0.8593\n",
      "Current minimum: -0.8794\n",
      "Iteration No: 25 started. Evaluating function at random point.\n",
      "['gini', 6, 4] \n",
      "\n",
      "Iteration No: 25 ended. Evaluation done at random point.\n",
      "Time taken: 16.7064\n",
      "Function value obtained: -0.8558\n",
      "Current minimum: -0.8794\n",
      "Iteration No: 26 started. Evaluating function at random point.\n",
      "['gini', 6, 1] \n",
      "\n",
      "Iteration No: 26 ended. Evaluation done at random point.\n",
      "Time taken: 8.7232\n",
      "Function value obtained: -0.8587\n",
      "Current minimum: -0.8794\n",
      "Iteration No: 27 started. Evaluating function at random point.\n",
      "['entropy', 5, 3] \n",
      "\n",
      "Iteration No: 27 ended. Evaluation done at random point.\n",
      "Time taken: 15.7116\n",
      "Function value obtained: -0.8522\n",
      "Current minimum: -0.8794\n",
      "Iteration No: 28 started. Evaluating function at random point.\n",
      "['entropy', 4, 3] \n",
      "\n",
      "Iteration No: 28 ended. Evaluation done at random point.\n",
      "Time taken: 15.2168\n",
      "Function value obtained: -0.8496\n",
      "Current minimum: -0.8794\n",
      "Iteration No: 29 started. Evaluating function at random point.\n",
      "['entropy', 1, 8] \n",
      "\n",
      "Iteration No: 29 ended. Evaluation done at random point.\n",
      "Time taken: 11.2583\n",
      "Function value obtained: -0.7428\n",
      "Current minimum: -0.8794\n",
      "Iteration No: 30 started. Evaluating function at random point.\n",
      "['gini', 1, 3] \n",
      "\n",
      "Iteration No: 30 ended. Evaluation done at random point.\n",
      "Time taken: 6.1614\n",
      "Function value obtained: -0.8364\n",
      "Current minimum: -0.8794\n"
     ]
    }
   ],
   "source": [
    "def treinar_modelo(params):\n",
    "    #n_estimators = params[0]\n",
    "    criterion = params[0]\n",
    "    max_depth = params[1]\n",
    "    #min_samples_leaf = params[2]\n",
    "    max_features = params[2]\n",
    "    \n",
    "    print(params,'\\n')\n",
    "    \n",
    "    mdl = RandomForestClassifier(criterion=criterion, max_depth=max_depth, \n",
    "                                 #min_samples_leaf=min_samples_leaf, \n",
    "                                 max_features = max_features,\n",
    "                                 random_state=0, n_jobs=-1, n_estimators=500)\n",
    "    mdl.fit(X_train_balanceado, y_train_balanceado)\n",
    "    \n",
    "    p = mdl.predict(X_val_balanceado)\n",
    "    return -roc_auc_score(y_val_balanceado, p)\n",
    "\n",
    "space = [('gini', 'entropy'), #criterion\n",
    "         (1, 9), # max_depth\n",
    "         (1, 9)] # max_features\n",
    "\n",
    "resultado = dummy_minimize(treinar_modelo,space,random_state=0,verbose=True,n_calls=30)"
   ]
  },
  {
   "cell_type": "code",
   "execution_count": 86,
   "metadata": {},
   "outputs": [
    {
     "data": {
      "text/plain": [
       "['gini', 9, 5]"
      ]
     },
     "execution_count": 86,
     "metadata": {},
     "output_type": "execute_result"
    }
   ],
   "source": [
    "resultado.x"
   ]
  },
  {
   "cell_type": "markdown",
   "metadata": {},
   "source": [
    "Como a acaturacia dos parametros que eu testei foi menor do que utilizado os valores default, mantive o modelo sem o tunning"
   ]
  },
  {
   "cell_type": "markdown",
   "metadata": {
    "id": "aV_UTFi81bd8",
    "tags": []
   },
   "source": [
    "# 3 - Predição do modelo"
   ]
  },
  {
   "cell_type": "markdown",
   "metadata": {},
   "source": [
    "Importamos os dados de teste, visualizamos e buscamos por dados ausentes."
   ]
  },
  {
   "cell_type": "code",
   "execution_count": 89,
   "metadata": {},
   "outputs": [],
   "source": [
    "X_test = df_test.copy()"
   ]
  },
  {
   "cell_type": "markdown",
   "metadata": {},
   "source": [
    "Antes de avançar para aplicar o modelo, primeiramente vou realizar os tratamentos"
   ]
  },
  {
   "cell_type": "code",
   "execution_count": 90,
   "metadata": {},
   "outputs": [
    {
     "data": {
      "text/plain": [
       "util_linhas_inseguras                    0\n",
       "idade                                    0\n",
       "vezes_passou_de_30_59_dias               0\n",
       "razao_debito                             0\n",
       "salario_mensal                           0\n",
       "numero_linhas_crdto_aberto               0\n",
       "numero_vezes_passou_90_dias              0\n",
       "numero_emprestimos_imobiliarios          0\n",
       "numero_de_vezes_que_passou_60_89_dias    0\n",
       "numero_de_dependentes                    0\n",
       "dtype: int64"
      ]
     },
     "execution_count": 90,
     "metadata": {},
     "output_type": "execute_result"
    }
   ],
   "source": [
    "#Os valores nulos já foram tratados anteriormente\n",
    "X_test.isnull().sum()"
   ]
  },
  {
   "cell_type": "markdown",
   "metadata": {},
   "source": [
    "Vou utilizar o boxplots novamente para ajudar a ver a existência de outliers."
   ]
  },
  {
   "cell_type": "code",
   "execution_count": 91,
   "metadata": {},
   "outputs": [
    {
     "data": {
      "text/plain": [
       "<AxesSubplot:xlabel='razao_debito'>"
      ]
     },
     "execution_count": 91,
     "metadata": {},
     "output_type": "execute_result"
    },
    {
     "data": {
      "image/png": "[encoded data removed]",
      "text/plain": [
       "<Figure size 1224x576 with 5 Axes>"
      ]
     },
     "metadata": {
      "needs_background": "light"
     },
     "output_type": "display_data"
    },
    {
     "data": {
      "image/png": "[encoded data removed]",
      "text/plain": [
       "<Figure size 1224x576 with 5 Axes>"
      ]
     },
     "metadata": {
      "needs_background": "light"
     },
     "output_type": "display_data"
    }
   ],
   "source": [
    "fig,ax = plt.subplots(1,5,figsize=(17,8))\n",
    "ax[0].set_xlabel('numero_vezes_passou_90_dias')\n",
    "sns.boxplot(ax=ax[0],data=X_test['numero_vezes_passou_90_dias'])\n",
    "ax[1].set_xlabel('salario_mensal')\n",
    "sns.boxplot(ax=ax[1],data=X_test['salario_mensal'])\n",
    "ax[2].set_xlabel('vezes_passou_de_30_59_dias')\n",
    "sns.boxplot(ax=ax[2],data=X_test['vezes_passou_de_30_59_dias'])\n",
    "ax[3].set_xlabel('numero_de_dependentes')\n",
    "sns.boxplot(ax=ax[3],data=X_test['numero_de_dependentes'])\n",
    "ax[4].set_xlabel('numero_linhas_crdto_aberto')\n",
    "sns.boxplot(ax=ax[4],data=X_test['numero_linhas_crdto_aberto'])\n",
    "\n",
    "fig,ax = plt.subplots(1,5,figsize=(17,8))\n",
    "ax[0].set_xlabel('idade')\n",
    "sns.boxplot(ax=ax[0],data=X_test['idade'])\n",
    "ax[1].set_xlabel('numero_de_vezes_que_passou_60_89_dias')\n",
    "sns.boxplot(ax=ax[1],data=X_test['numero_de_vezes_que_passou_60_89_dias'])\n",
    "ax[2].set_xlabel('util_linhas_inseguras')\n",
    "sns.boxplot(ax=ax[2],data=X_test['util_linhas_inseguras'])\n",
    "ax[3].set_xlabel('numero_emprestimos_imobiliarios')\n",
    "sns.boxplot(ax=ax[3], data=X_test['numero_emprestimos_imobiliarios'])\n",
    "ax[4].set_xlabel('razao_debito')\n",
    "sns.boxplot(ax=ax[4], data=X_test['razao_debito'])"
   ]
  },
  {
   "cell_type": "markdown",
   "metadata": {},
   "source": [
    "Com os dados ausentes tratados, é hora de padroniza-los. Para tal utilizamos o mesmo min_max_scaler utilizado nos dados de treino. Pois, utilizar um novo Scaler, ajustado para os dados de teste, fará com que as proporções sejam muito diferentes, visto que há outliers grandes nos dados de teste."
   ]
  },
  {
   "cell_type": "code",
   "execution_count": 92,
   "metadata": {},
   "outputs": [],
   "source": [
    "X_test = scaler.transform(X_test)"
   ]
  },
  {
   "cell_type": "markdown",
   "metadata": {},
   "source": [
    "Com os dados padronizados, podemos realizar as previsões."
   ]
  },
  {
   "cell_type": "code",
   "execution_count": 93,
   "metadata": {
    "id": "K2NNfYFX1hi4"
   },
   "outputs": [],
   "source": [
    "p_test = rf.predict(X_test)"
   ]
  },
  {
   "cell_type": "code",
   "execution_count": 94,
   "metadata": {},
   "outputs": [
    {
     "data": {
      "text/plain": [
       "array([0, 0, 0, ..., 0, 0, 1], dtype=int64)"
      ]
     },
     "execution_count": 94,
     "metadata": {},
     "output_type": "execute_result"
    }
   ],
   "source": [
    "p_test"
   ]
  },
  {
   "cell_type": "markdown",
   "metadata": {},
   "source": [
    "Com as previsões feitas, podemos salva-las no arquivo de teste."
   ]
  },
  {
   "cell_type": "code",
   "execution_count": 95,
   "metadata": {
    "id": "F9iCtQbF1p_m"
   },
   "outputs": [],
   "source": [
    "df_test['inadimplente'] = p_test"
   ]
  },
  {
   "cell_type": "code",
   "execution_count": 96,
   "metadata": {},
   "outputs": [
    {
     "data": {
      "text/html": [
       "<div>\n",
       "<style scoped>\n",
       "    .dataframe tbody tr th:only-of-type {\n",
       "        vertical-align: middle;\n",
       "    }\n",
       "\n",
       "    .dataframe tbody tr th {\n",
       "        vertical-align: top;\n",
       "    }\n",
       "\n",
       "    .dataframe thead th {\n",
       "        text-align: right;\n",
       "    }\n",
       "</style>\n",
       "<table border=\"1\" class=\"dataframe\">\n",
       "  <thead>\n",
       "    <tr style=\"text-align: right;\">\n",
       "      <th></th>\n",
       "      <th>util_linhas_inseguras</th>\n",
       "      <th>idade</th>\n",
       "      <th>vezes_passou_de_30_59_dias</th>\n",
       "      <th>razao_debito</th>\n",
       "      <th>salario_mensal</th>\n",
       "      <th>numero_linhas_crdto_aberto</th>\n",
       "      <th>numero_vezes_passou_90_dias</th>\n",
       "      <th>numero_emprestimos_imobiliarios</th>\n",
       "      <th>numero_de_vezes_que_passou_60_89_dias</th>\n",
       "      <th>numero_de_dependentes</th>\n",
       "      <th>inadimplente</th>\n",
       "    </tr>\n",
       "  </thead>\n",
       "  <tbody>\n",
       "    <tr>\n",
       "      <th>0</th>\n",
       "      <td>0.025849</td>\n",
       "      <td>62</td>\n",
       "      <td>0</td>\n",
       "      <td>0.081775</td>\n",
       "      <td>8180.0</td>\n",
       "      <td>3</td>\n",
       "      <td>0</td>\n",
       "      <td>2</td>\n",
       "      <td>0</td>\n",
       "      <td>0.0</td>\n",
       "      <td>0</td>\n",
       "    </tr>\n",
       "    <tr>\n",
       "      <th>1</th>\n",
       "      <td>0.667083</td>\n",
       "      <td>55</td>\n",
       "      <td>0</td>\n",
       "      <td>0.153112</td>\n",
       "      <td>2200.0</td>\n",
       "      <td>3</td>\n",
       "      <td>0</td>\n",
       "      <td>0</td>\n",
       "      <td>0</td>\n",
       "      <td>0.0</td>\n",
       "      <td>0</td>\n",
       "    </tr>\n",
       "    <tr>\n",
       "      <th>2</th>\n",
       "      <td>0.007093</td>\n",
       "      <td>44</td>\n",
       "      <td>0</td>\n",
       "      <td>0.148800</td>\n",
       "      <td>7499.0</td>\n",
       "      <td>20</td>\n",
       "      <td>0</td>\n",
       "      <td>1</td>\n",
       "      <td>0</td>\n",
       "      <td>0.0</td>\n",
       "      <td>0</td>\n",
       "    </tr>\n",
       "    <tr>\n",
       "      <th>3</th>\n",
       "      <td>0.091213</td>\n",
       "      <td>54</td>\n",
       "      <td>0</td>\n",
       "      <td>0.351635</td>\n",
       "      <td>5900.0</td>\n",
       "      <td>15</td>\n",
       "      <td>0</td>\n",
       "      <td>1</td>\n",
       "      <td>1</td>\n",
       "      <td>0.0</td>\n",
       "      <td>0</td>\n",
       "    </tr>\n",
       "    <tr>\n",
       "      <th>4</th>\n",
       "      <td>0.112680</td>\n",
       "      <td>54</td>\n",
       "      <td>0</td>\n",
       "      <td>0.065959</td>\n",
       "      <td>2167.0</td>\n",
       "      <td>3</td>\n",
       "      <td>0</td>\n",
       "      <td>0</td>\n",
       "      <td>0</td>\n",
       "      <td>0.0</td>\n",
       "      <td>0</td>\n",
       "    </tr>\n",
       "  </tbody>\n",
       "</table>\n",
       "</div>"
      ],
      "text/plain": [
       "   util_linhas_inseguras  idade  vezes_passou_de_30_59_dias  razao_debito  \\\n",
       "0               0.025849     62                           0      0.081775   \n",
       "1               0.667083     55                           0      0.153112   \n",
       "2               0.007093     44                           0      0.148800   \n",
       "3               0.091213     54                           0      0.351635   \n",
       "4               0.112680     54                           0      0.065959   \n",
       "\n",
       "   salario_mensal  numero_linhas_crdto_aberto  numero_vezes_passou_90_dias  \\\n",
       "0          8180.0                           3                            0   \n",
       "1          2200.0                           3                            0   \n",
       "2          7499.0                          20                            0   \n",
       "3          5900.0                          15                            0   \n",
       "4          2167.0                           3                            0   \n",
       "\n",
       "   numero_emprestimos_imobiliarios  numero_de_vezes_que_passou_60_89_dias  \\\n",
       "0                                2                                      0   \n",
       "1                                0                                      0   \n",
       "2                                1                                      0   \n",
       "3                                1                                      1   \n",
       "4                                0                                      0   \n",
       "\n",
       "   numero_de_dependentes  inadimplente  \n",
       "0                    0.0             0  \n",
       "1                    0.0             0  \n",
       "2                    0.0             0  \n",
       "3                    0.0             0  \n",
       "4                    0.0             0  "
      ]
     },
     "execution_count": 96,
     "metadata": {},
     "output_type": "execute_result"
    }
   ],
   "source": [
    "df_test.head()"
   ]
  },
  {
   "cell_type": "code",
   "execution_count": 97,
   "metadata": {
    "colab": {
     "base_uri": "https://localhost:8080/",
     "height": 499
    },
    "id": "DSnUUbTZ6mhy",
    "outputId": "d6b08c6d-b5c6-4848-86c4-e0752869fa02",
    "tags": []
   },
   "outputs": [
    {
     "data": {
      "text/html": [
       "<div>\n",
       "<style scoped>\n",
       "    .dataframe tbody tr th:only-of-type {\n",
       "        vertical-align: middle;\n",
       "    }\n",
       "\n",
       "    .dataframe tbody tr th {\n",
       "        vertical-align: top;\n",
       "    }\n",
       "\n",
       "    .dataframe thead th {\n",
       "        text-align: right;\n",
       "    }\n",
       "</style>\n",
       "<table border=\"1\" class=\"dataframe\">\n",
       "  <thead>\n",
       "    <tr style=\"text-align: right;\">\n",
       "      <th></th>\n",
       "      <th>util_linhas_inseguras</th>\n",
       "      <th>idade</th>\n",
       "      <th>vezes_passou_de_30_59_dias</th>\n",
       "      <th>razao_debito</th>\n",
       "      <th>salario_mensal</th>\n",
       "      <th>numero_linhas_crdto_aberto</th>\n",
       "      <th>numero_vezes_passou_90_dias</th>\n",
       "      <th>numero_emprestimos_imobiliarios</th>\n",
       "      <th>numero_de_vezes_que_passou_60_89_dias</th>\n",
       "      <th>numero_de_dependentes</th>\n",
       "      <th>inadimplente</th>\n",
       "    </tr>\n",
       "  </thead>\n",
       "  <tbody>\n",
       "    <tr>\n",
       "      <th>7</th>\n",
       "      <td>0.000000</td>\n",
       "      <td>76</td>\n",
       "      <td>1</td>\n",
       "      <td>0.261611</td>\n",
       "      <td>1700.000000</td>\n",
       "      <td>4</td>\n",
       "      <td>0</td>\n",
       "      <td>0</td>\n",
       "      <td>0</td>\n",
       "      <td>0.000000</td>\n",
       "      <td>1</td>\n",
       "    </tr>\n",
       "    <tr>\n",
       "      <th>9</th>\n",
       "      <td>0.479899</td>\n",
       "      <td>41</td>\n",
       "      <td>1</td>\n",
       "      <td>0.209903</td>\n",
       "      <td>8441.000000</td>\n",
       "      <td>6</td>\n",
       "      <td>0</td>\n",
       "      <td>3</td>\n",
       "      <td>0</td>\n",
       "      <td>0.000000</td>\n",
       "      <td>1</td>\n",
       "    </tr>\n",
       "    <tr>\n",
       "      <th>11</th>\n",
       "      <td>0.843405</td>\n",
       "      <td>56</td>\n",
       "      <td>1</td>\n",
       "      <td>0.592720</td>\n",
       "      <td>6400.000000</td>\n",
       "      <td>5</td>\n",
       "      <td>0</td>\n",
       "      <td>2</td>\n",
       "      <td>0</td>\n",
       "      <td>1.000000</td>\n",
       "      <td>1</td>\n",
       "    </tr>\n",
       "    <tr>\n",
       "      <th>15</th>\n",
       "      <td>0.594159</td>\n",
       "      <td>64</td>\n",
       "      <td>1</td>\n",
       "      <td>1.648363</td>\n",
       "      <td>7083.000000</td>\n",
       "      <td>19</td>\n",
       "      <td>0</td>\n",
       "      <td>5</td>\n",
       "      <td>0</td>\n",
       "      <td>0.000000</td>\n",
       "      <td>1</td>\n",
       "    </tr>\n",
       "    <tr>\n",
       "      <th>18</th>\n",
       "      <td>0.815551</td>\n",
       "      <td>49</td>\n",
       "      <td>1</td>\n",
       "      <td>4081.000000</td>\n",
       "      <td>6760.601836</td>\n",
       "      <td>5</td>\n",
       "      <td>3</td>\n",
       "      <td>2</td>\n",
       "      <td>1</td>\n",
       "      <td>0.756508</td>\n",
       "      <td>1</td>\n",
       "    </tr>\n",
       "    <tr>\n",
       "      <th>...</th>\n",
       "      <td>...</td>\n",
       "      <td>...</td>\n",
       "      <td>...</td>\n",
       "      <td>...</td>\n",
       "      <td>...</td>\n",
       "      <td>...</td>\n",
       "      <td>...</td>\n",
       "      <td>...</td>\n",
       "      <td>...</td>\n",
       "      <td>...</td>\n",
       "      <td>...</td>\n",
       "    </tr>\n",
       "    <tr>\n",
       "      <th>39982</th>\n",
       "      <td>0.974605</td>\n",
       "      <td>42</td>\n",
       "      <td>1</td>\n",
       "      <td>0.130724</td>\n",
       "      <td>1200.000000</td>\n",
       "      <td>3</td>\n",
       "      <td>0</td>\n",
       "      <td>0</td>\n",
       "      <td>1</td>\n",
       "      <td>0.000000</td>\n",
       "      <td>1</td>\n",
       "    </tr>\n",
       "    <tr>\n",
       "      <th>39984</th>\n",
       "      <td>0.420788</td>\n",
       "      <td>48</td>\n",
       "      <td>1</td>\n",
       "      <td>1333.000000</td>\n",
       "      <td>6760.601836</td>\n",
       "      <td>7</td>\n",
       "      <td>0</td>\n",
       "      <td>0</td>\n",
       "      <td>0</td>\n",
       "      <td>0.000000</td>\n",
       "      <td>1</td>\n",
       "    </tr>\n",
       "    <tr>\n",
       "      <th>39989</th>\n",
       "      <td>0.963580</td>\n",
       "      <td>27</td>\n",
       "      <td>0</td>\n",
       "      <td>121.000000</td>\n",
       "      <td>6760.601836</td>\n",
       "      <td>1</td>\n",
       "      <td>0</td>\n",
       "      <td>0</td>\n",
       "      <td>1</td>\n",
       "      <td>0.000000</td>\n",
       "      <td>1</td>\n",
       "    </tr>\n",
       "    <tr>\n",
       "      <th>39995</th>\n",
       "      <td>0.000000</td>\n",
       "      <td>68</td>\n",
       "      <td>1</td>\n",
       "      <td>0.062858</td>\n",
       "      <td>10833.000000</td>\n",
       "      <td>9</td>\n",
       "      <td>1</td>\n",
       "      <td>0</td>\n",
       "      <td>0</td>\n",
       "      <td>0.000000</td>\n",
       "      <td>1</td>\n",
       "    </tr>\n",
       "    <tr>\n",
       "      <th>39999</th>\n",
       "      <td>1.000000</td>\n",
       "      <td>28</td>\n",
       "      <td>0</td>\n",
       "      <td>0.002285</td>\n",
       "      <td>3500.000000</td>\n",
       "      <td>0</td>\n",
       "      <td>1</td>\n",
       "      <td>0</td>\n",
       "      <td>0</td>\n",
       "      <td>0.000000</td>\n",
       "      <td>1</td>\n",
       "    </tr>\n",
       "  </tbody>\n",
       "</table>\n",
       "<p>6713 rows × 11 columns</p>\n",
       "</div>"
      ],
      "text/plain": [
       "       util_linhas_inseguras  idade  vezes_passou_de_30_59_dias  razao_debito  \\\n",
       "7                   0.000000     76                           1      0.261611   \n",
       "9                   0.479899     41                           1      0.209903   \n",
       "11                  0.843405     56                           1      0.592720   \n",
       "15                  0.594159     64                           1      1.648363   \n",
       "18                  0.815551     49                           1   4081.000000   \n",
       "...                      ...    ...                         ...           ...   \n",
       "39982               0.974605     42                           1      0.130724   \n",
       "39984               0.420788     48                           1   1333.000000   \n",
       "39989               0.963580     27                           0    121.000000   \n",
       "39995               0.000000     68                           1      0.062858   \n",
       "39999               1.000000     28                           0      0.002285   \n",
       "\n",
       "       salario_mensal  numero_linhas_crdto_aberto  \\\n",
       "7         1700.000000                           4   \n",
       "9         8441.000000                           6   \n",
       "11        6400.000000                           5   \n",
       "15        7083.000000                          19   \n",
       "18        6760.601836                           5   \n",
       "...               ...                         ...   \n",
       "39982     1200.000000                           3   \n",
       "39984     6760.601836                           7   \n",
       "39989     6760.601836                           1   \n",
       "39995    10833.000000                           9   \n",
       "39999     3500.000000                           0   \n",
       "\n",
       "       numero_vezes_passou_90_dias  numero_emprestimos_imobiliarios  \\\n",
       "7                                0                                0   \n",
       "9                                0                                3   \n",
       "11                               0                                2   \n",
       "15                               0                                5   \n",
       "18                               3                                2   \n",
       "...                            ...                              ...   \n",
       "39982                            0                                0   \n",
       "39984                            0                                0   \n",
       "39989                            0                                0   \n",
       "39995                            1                                0   \n",
       "39999                            1                                0   \n",
       "\n",
       "       numero_de_vezes_que_passou_60_89_dias  numero_de_dependentes  \\\n",
       "7                                          0               0.000000   \n",
       "9                                          0               0.000000   \n",
       "11                                         0               1.000000   \n",
       "15                                         0               0.000000   \n",
       "18                                         1               0.756508   \n",
       "...                                      ...                    ...   \n",
       "39982                                      1               0.000000   \n",
       "39984                                      0               0.000000   \n",
       "39989                                      1               0.000000   \n",
       "39995                                      0               0.000000   \n",
       "39999                                      0               0.000000   \n",
       "\n",
       "       inadimplente  \n",
       "7                 1  \n",
       "9                 1  \n",
       "11                1  \n",
       "15                1  \n",
       "18                1  \n",
       "...             ...  \n",
       "39982             1  \n",
       "39984             1  \n",
       "39989             1  \n",
       "39995             1  \n",
       "39999             1  \n",
       "\n",
       "[6713 rows x 11 columns]"
      ]
     },
     "execution_count": 97,
     "metadata": {},
     "output_type": "execute_result"
    }
   ],
   "source": [
    "df_test[df_test['inadimplente']==1]"
   ]
  },
  {
   "cell_type": "code",
   "execution_count": 98,
   "metadata": {
    "id": "o6LoYS3w6oEL"
   },
   "outputs": [],
   "source": [
    "df_test.to_csv('resultado_predic_rafael_santos.csv')"
   ]
  }
 ],
 "metadata": {
  "colab": {
   "collapsed_sections": [
    "_0MWrYeRoT1G",
    "2Lw6BEMSr2Ge",
    "t2LbMbnJpzGL",
    "Z4eY66zfqT5g",
    "tkc9yHg-uFwP",
    "hyvYety3fvmr",
    "agFyuiR4qQp7",
    "obddOhwWtcRf",
    "8rgwYJZ2i3OC",
    "9BFqSrFXjI7A",
    "APCAW32XjH__",
    "UPKKQ5cHqiaX",
    "aV_UTFi81bd8"
   ],
   "name": "Modelo_previsao_credito.ipynb",
   "provenance": []
  },
  "kernelspec": {
   "display_name": "Python 3 (ipykernel)",
   "language": "python",
   "name": "python3"
  },
  "language_info": {
   "codemirror_mode": {
    "name": "ipython",
    "version": 3
   },
   "file_extension": ".py",
   "mimetype": "text/x-python",
   "name": "python",
   "nbconvert_exporter": "python",
   "pygments_lexer": "ipython3",
   "version": "3.9.7"
  }
 },
 "nbformat": 4,
 "nbformat_minor": 4
}
