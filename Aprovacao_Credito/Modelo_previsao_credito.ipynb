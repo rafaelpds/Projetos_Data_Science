{
 "cells": [
  {
   "cell_type": "markdown",
   "metadata": {},
   "source": [
    "# Qual o problema quero resolver com a solução de ML?"
   ]
  },
  {
   "cell_type": "markdown",
   "metadata": {},
   "source": [
    "- R: Como aumentar a taxa de aprovação, reduzindo a inadimplência ao mesmo tempo?"
   ]
  },
  {
   "cell_type": "markdown",
   "metadata": {},
   "source": [
    "### Entendimento do negócio:"
   ]
  },
  {
   "cell_type": "markdown",
   "metadata": {},
   "source": [
    "- Que tipo de crédito o cliente oferece?\n",
    "- Em que parte do processo de aprovação de crédito, o modelo será aplicado?\n",
    "- Todas as features presentes no dataset ajudam a responder o desejo do cliente?"
   ]
  },
  {
   "cell_type": "markdown",
   "metadata": {},
   "source": [
    "### Entendimento Dataset:\n",
    "\n",
    "- idade: A idade do cliente..\n",
    "- numero_de_dependentes: O número de pessoas dependentes do cliente.\n",
    "- salario_mensal: Salário mensal do cliente.\n",
    "- numero_emprestimos_imobiliarios: Quantidade de empréstimos imobiliários que o cliente possui em aberto.\n",
    "- numero_vezes_passou_90_dias: Número de vezes que o tomador passou mais de 90 dias em atraso.\n",
    "- util_linhas_inseguras: Quanto que o cliente está usando, relativamente ao limite dele, de linhas de crédito que não são seguradas por qualquer bem do tomador e.g: imoveis, carros etc.\n",
    "- vezes_passou_de_30_59_dias: Número de vezes que o cliente atrasou, entre 30 e 59 dias, o pagamento de um empréstimo.\n",
    "- razao_debito: Razão entre as dívidas e o patrimônio do tomador. razão débito Dividas/Patrimônio\n",
    "- numero_linhas_crdto_aberto: Número de empréstimos em aberto pelo cliente.\n",
    "- numero_de_vezes_que_passou_60_89_dias: Número de vezes que o cliente atrasou, entre 60 e 89 dias, o pagamento de um empréstimo."
   ]
  },
  {
   "cell_type": "markdown",
   "metadata": {},
   "source": [
    "### Imports iniciais necessários"
   ]
  },
  {
   "cell_type": "code",
   "execution_count": 1,
   "metadata": {
    "id": "tsemLRvmnak2",
    "tags": []
   },
   "outputs": [],
   "source": [
    "import pandas as pd\n",
    "import numpy as np\n",
    "\n",
    "import matplotlib.pyplot as plt\n",
    "import seaborn as sns\n",
    "\n",
    "# Sampling Methods\n",
    "from imblearn.over_sampling import SMOTE"
   ]
  },
  {
   "cell_type": "code",
   "execution_count": 2,
   "metadata": {
    "id": "JrxrqYSSndaj"
   },
   "outputs": [],
   "source": [
    "df_train = pd.read_csv('treino.csv')\n",
    "df_test = pd.read_csv('teste.csv')"
   ]
  },
  {
   "cell_type": "markdown",
   "metadata": {},
   "source": [
    "Primeiramente, foi utilizada a função head(), tanto no dataframe de treino e teste de maneira que possa possilitar uma visão geral da estrutura dos dados."
   ]
  },
  {
   "cell_type": "code",
   "execution_count": 3,
   "metadata": {
    "colab": {
     "base_uri": "https://localhost:8080/",
     "height": 270
    },
    "id": "eUuof6URnqzA",
    "outputId": "213c605c-10d8-4377-af18-bbde7dcb5aa1"
   },
   "outputs": [
    {
     "data": {
      "text/html": [
       "<div>\n",
       "<style scoped>\n",
       "    .dataframe tbody tr th:only-of-type {\n",
       "        vertical-align: middle;\n",
       "    }\n",
       "\n",
       "    .dataframe tbody tr th {\n",
       "        vertical-align: top;\n",
       "    }\n",
       "\n",
       "    .dataframe thead th {\n",
       "        text-align: right;\n",
       "    }\n",
       "</style>\n",
       "<table border=\"1\" class=\"dataframe\">\n",
       "  <thead>\n",
       "    <tr style=\"text-align: right;\">\n",
       "      <th></th>\n",
       "      <th>inadimplente</th>\n",
       "      <th>util_linhas_inseguras</th>\n",
       "      <th>idade</th>\n",
       "      <th>vezes_passou_de_30_59_dias</th>\n",
       "      <th>razao_debito</th>\n",
       "      <th>salario_mensal</th>\n",
       "      <th>numero_linhas_crdto_aberto</th>\n",
       "      <th>numero_vezes_passou_90_dias</th>\n",
       "      <th>numero_emprestimos_imobiliarios</th>\n",
       "      <th>numero_de_vezes_que_passou_60_89_dias</th>\n",
       "      <th>numero_de_dependentes</th>\n",
       "    </tr>\n",
       "  </thead>\n",
       "  <tbody>\n",
       "    <tr>\n",
       "      <th>0</th>\n",
       "      <td>1</td>\n",
       "      <td>0.766127</td>\n",
       "      <td>45</td>\n",
       "      <td>2</td>\n",
       "      <td>0.802982</td>\n",
       "      <td>9120.0</td>\n",
       "      <td>13</td>\n",
       "      <td>0</td>\n",
       "      <td>6</td>\n",
       "      <td>0</td>\n",
       "      <td>2.0</td>\n",
       "    </tr>\n",
       "    <tr>\n",
       "      <th>1</th>\n",
       "      <td>0</td>\n",
       "      <td>0.957151</td>\n",
       "      <td>40</td>\n",
       "      <td>0</td>\n",
       "      <td>0.121876</td>\n",
       "      <td>2600.0</td>\n",
       "      <td>4</td>\n",
       "      <td>0</td>\n",
       "      <td>0</td>\n",
       "      <td>0</td>\n",
       "      <td>1.0</td>\n",
       "    </tr>\n",
       "    <tr>\n",
       "      <th>2</th>\n",
       "      <td>0</td>\n",
       "      <td>0.658180</td>\n",
       "      <td>38</td>\n",
       "      <td>1</td>\n",
       "      <td>0.085113</td>\n",
       "      <td>3042.0</td>\n",
       "      <td>2</td>\n",
       "      <td>1</td>\n",
       "      <td>0</td>\n",
       "      <td>0</td>\n",
       "      <td>0.0</td>\n",
       "    </tr>\n",
       "    <tr>\n",
       "      <th>3</th>\n",
       "      <td>0</td>\n",
       "      <td>0.233810</td>\n",
       "      <td>30</td>\n",
       "      <td>0</td>\n",
       "      <td>0.036050</td>\n",
       "      <td>3300.0</td>\n",
       "      <td>5</td>\n",
       "      <td>0</td>\n",
       "      <td>0</td>\n",
       "      <td>0</td>\n",
       "      <td>0.0</td>\n",
       "    </tr>\n",
       "    <tr>\n",
       "      <th>4</th>\n",
       "      <td>0</td>\n",
       "      <td>0.907239</td>\n",
       "      <td>49</td>\n",
       "      <td>1</td>\n",
       "      <td>0.024926</td>\n",
       "      <td>63588.0</td>\n",
       "      <td>7</td>\n",
       "      <td>0</td>\n",
       "      <td>1</td>\n",
       "      <td>0</td>\n",
       "      <td>0.0</td>\n",
       "    </tr>\n",
       "  </tbody>\n",
       "</table>\n",
       "</div>"
      ],
      "text/plain": [
       "   inadimplente  util_linhas_inseguras  idade  vezes_passou_de_30_59_dias  \\\n",
       "0             1               0.766127     45                           2   \n",
       "1             0               0.957151     40                           0   \n",
       "2             0               0.658180     38                           1   \n",
       "3             0               0.233810     30                           0   \n",
       "4             0               0.907239     49                           1   \n",
       "\n",
       "   razao_debito  salario_mensal  numero_linhas_crdto_aberto  \\\n",
       "0      0.802982          9120.0                          13   \n",
       "1      0.121876          2600.0                           4   \n",
       "2      0.085113          3042.0                           2   \n",
       "3      0.036050          3300.0                           5   \n",
       "4      0.024926         63588.0                           7   \n",
       "\n",
       "   numero_vezes_passou_90_dias  numero_emprestimos_imobiliarios  \\\n",
       "0                            0                                6   \n",
       "1                            0                                0   \n",
       "2                            1                                0   \n",
       "3                            0                                0   \n",
       "4                            0                                1   \n",
       "\n",
       "   numero_de_vezes_que_passou_60_89_dias  numero_de_dependentes  \n",
       "0                                      0                    2.0  \n",
       "1                                      0                    1.0  \n",
       "2                                      0                    0.0  \n",
       "3                                      0                    0.0  \n",
       "4                                      0                    0.0  "
      ]
     },
     "execution_count": 3,
     "metadata": {},
     "output_type": "execute_result"
    }
   ],
   "source": [
    "df_train.head()"
   ]
  },
  {
   "cell_type": "code",
   "execution_count": 4,
   "metadata": {
    "colab": {
     "base_uri": "https://localhost:8080/",
     "height": 270
    },
    "id": "wH1bHbCBnxDe",
    "outputId": "0deabdf9-a161-410d-c5ea-04dcf87e637e"
   },
   "outputs": [
    {
     "data": {
      "text/html": [
       "<div>\n",
       "<style scoped>\n",
       "    .dataframe tbody tr th:only-of-type {\n",
       "        vertical-align: middle;\n",
       "    }\n",
       "\n",
       "    .dataframe tbody tr th {\n",
       "        vertical-align: top;\n",
       "    }\n",
       "\n",
       "    .dataframe thead th {\n",
       "        text-align: right;\n",
       "    }\n",
       "</style>\n",
       "<table border=\"1\" class=\"dataframe\">\n",
       "  <thead>\n",
       "    <tr style=\"text-align: right;\">\n",
       "      <th></th>\n",
       "      <th>util_linhas_inseguras</th>\n",
       "      <th>idade</th>\n",
       "      <th>vezes_passou_de_30_59_dias</th>\n",
       "      <th>razao_debito</th>\n",
       "      <th>salario_mensal</th>\n",
       "      <th>numero_linhas_crdto_aberto</th>\n",
       "      <th>numero_vezes_passou_90_dias</th>\n",
       "      <th>numero_emprestimos_imobiliarios</th>\n",
       "      <th>numero_de_vezes_que_passou_60_89_dias</th>\n",
       "      <th>numero_de_dependentes</th>\n",
       "    </tr>\n",
       "  </thead>\n",
       "  <tbody>\n",
       "    <tr>\n",
       "      <th>0</th>\n",
       "      <td>0.025849</td>\n",
       "      <td>62</td>\n",
       "      <td>0</td>\n",
       "      <td>0.081775</td>\n",
       "      <td>8180.0</td>\n",
       "      <td>3</td>\n",
       "      <td>0</td>\n",
       "      <td>2</td>\n",
       "      <td>0</td>\n",
       "      <td>0.0</td>\n",
       "    </tr>\n",
       "    <tr>\n",
       "      <th>1</th>\n",
       "      <td>0.667083</td>\n",
       "      <td>55</td>\n",
       "      <td>0</td>\n",
       "      <td>0.153112</td>\n",
       "      <td>2200.0</td>\n",
       "      <td>3</td>\n",
       "      <td>0</td>\n",
       "      <td>0</td>\n",
       "      <td>0</td>\n",
       "      <td>0.0</td>\n",
       "    </tr>\n",
       "    <tr>\n",
       "      <th>2</th>\n",
       "      <td>0.007093</td>\n",
       "      <td>44</td>\n",
       "      <td>0</td>\n",
       "      <td>0.148800</td>\n",
       "      <td>7499.0</td>\n",
       "      <td>20</td>\n",
       "      <td>0</td>\n",
       "      <td>1</td>\n",
       "      <td>0</td>\n",
       "      <td>0.0</td>\n",
       "    </tr>\n",
       "    <tr>\n",
       "      <th>3</th>\n",
       "      <td>0.091213</td>\n",
       "      <td>54</td>\n",
       "      <td>0</td>\n",
       "      <td>0.351635</td>\n",
       "      <td>5900.0</td>\n",
       "      <td>15</td>\n",
       "      <td>0</td>\n",
       "      <td>1</td>\n",
       "      <td>1</td>\n",
       "      <td>0.0</td>\n",
       "    </tr>\n",
       "    <tr>\n",
       "      <th>4</th>\n",
       "      <td>0.112680</td>\n",
       "      <td>54</td>\n",
       "      <td>0</td>\n",
       "      <td>0.065959</td>\n",
       "      <td>2167.0</td>\n",
       "      <td>3</td>\n",
       "      <td>0</td>\n",
       "      <td>0</td>\n",
       "      <td>0</td>\n",
       "      <td>0.0</td>\n",
       "    </tr>\n",
       "  </tbody>\n",
       "</table>\n",
       "</div>"
      ],
      "text/plain": [
       "   util_linhas_inseguras  idade  vezes_passou_de_30_59_dias  razao_debito  \\\n",
       "0               0.025849     62                           0      0.081775   \n",
       "1               0.667083     55                           0      0.153112   \n",
       "2               0.007093     44                           0      0.148800   \n",
       "3               0.091213     54                           0      0.351635   \n",
       "4               0.112680     54                           0      0.065959   \n",
       "\n",
       "   salario_mensal  numero_linhas_crdto_aberto  numero_vezes_passou_90_dias  \\\n",
       "0          8180.0                           3                            0   \n",
       "1          2200.0                           3                            0   \n",
       "2          7499.0                          20                            0   \n",
       "3          5900.0                          15                            0   \n",
       "4          2167.0                           3                            0   \n",
       "\n",
       "   numero_emprestimos_imobiliarios  numero_de_vezes_que_passou_60_89_dias  \\\n",
       "0                                2                                      0   \n",
       "1                                0                                      0   \n",
       "2                                1                                      0   \n",
       "3                                1                                      1   \n",
       "4                                0                                      0   \n",
       "\n",
       "   numero_de_dependentes  \n",
       "0                    0.0  \n",
       "1                    0.0  \n",
       "2                    0.0  \n",
       "3                    0.0  \n",
       "4                    0.0  "
      ]
     },
     "execution_count": 4,
     "metadata": {},
     "output_type": "execute_result"
    }
   ],
   "source": [
    "df_test.head()"
   ]
  },
  {
   "cell_type": "markdown",
   "metadata": {},
   "source": [
    "Visualizar todas as colunas do dataset"
   ]
  },
  {
   "cell_type": "code",
   "execution_count": 5,
   "metadata": {
    "colab": {
     "base_uri": "https://localhost:8080/"
    },
    "id": "KrcsQKbnn5gB",
    "outputId": "a11b3ddc-4b69-4987-8140-265ad6c93b7e"
   },
   "outputs": [
    {
     "data": {
      "text/plain": [
       "Index(['inadimplente', 'util_linhas_inseguras', 'idade',\n",
       "       'vezes_passou_de_30_59_dias', 'razao_debito', 'salario_mensal',\n",
       "       'numero_linhas_crdto_aberto', 'numero_vezes_passou_90_dias',\n",
       "       'numero_emprestimos_imobiliarios',\n",
       "       'numero_de_vezes_que_passou_60_89_dias', 'numero_de_dependentes'],\n",
       "      dtype='object')"
      ]
     },
     "execution_count": 5,
     "metadata": {},
     "output_type": "execute_result"
    }
   ],
   "source": [
    "df_train.columns"
   ]
  },
  {
   "cell_type": "markdown",
   "metadata": {
    "id": "_0MWrYeRoT1G"
   },
   "source": [
    "# 0 - Pré processando e analisando os dados"
   ]
  },
  {
   "cell_type": "markdown",
   "metadata": {
    "id": "2Lw6BEMSr2Ge"
   },
   "source": [
    "### Análise Estatistica"
   ]
  },
  {
   "cell_type": "markdown",
   "metadata": {},
   "source": [
    "O metódo .info() imprime as informações sobre um DataFrame, incluindo o dtype, as colunas do índice, valores não nulos e uso de memória."
   ]
  },
  {
   "cell_type": "code",
   "execution_count": 6,
   "metadata": {
    "colab": {
     "base_uri": "https://localhost:8080/"
    },
    "id": "zxZR2z2moB3S",
    "outputId": "7a7789ee-29f4-43cb-bd47-5b2dcbb2382f"
   },
   "outputs": [
    {
     "name": "stdout",
     "output_type": "stream",
     "text": [
      "<class 'pandas.core.frame.DataFrame'>\n",
      "RangeIndex: 110000 entries, 0 to 109999\n",
      "Data columns (total 11 columns):\n",
      " #   Column                                 Non-Null Count   Dtype  \n",
      "---  ------                                 --------------   -----  \n",
      " 0   inadimplente                           110000 non-null  int64  \n",
      " 1   util_linhas_inseguras                  110000 non-null  float64\n",
      " 2   idade                                  110000 non-null  int64  \n",
      " 3   vezes_passou_de_30_59_dias             110000 non-null  int64  \n",
      " 4   razao_debito                           110000 non-null  float64\n",
      " 5   salario_mensal                         88237 non-null   float64\n",
      " 6   numero_linhas_crdto_aberto             110000 non-null  int64  \n",
      " 7   numero_vezes_passou_90_dias            110000 non-null  int64  \n",
      " 8   numero_emprestimos_imobiliarios        110000 non-null  int64  \n",
      " 9   numero_de_vezes_que_passou_60_89_dias  110000 non-null  int64  \n",
      " 10  numero_de_dependentes                  107122 non-null  float64\n",
      "dtypes: float64(4), int64(7)\n",
      "memory usage: 9.2 MB\n"
     ]
    }
   ],
   "source": [
    "df_train.info()"
   ]
  },
  {
   "cell_type": "markdown",
   "metadata": {},
   "source": [
    "O método describe() exibe informações estatística da base de dados\n",
    "\n",
    " - count: a quantidade de linhas\n",
    " - mean: média dos valores por coluna\n",
    " - std: desvio padrão\n",
    " - min: valor mínimo\n",
    " - quartis (25%,50% e 75%)\n",
    " - max: valor máximo"
   ]
  },
  {
   "cell_type": "code",
   "execution_count": 7,
   "metadata": {
    "colab": {
     "base_uri": "https://localhost:8080/",
     "height": 0
    },
    "id": "hGeDHJ2mr6Y_",
    "outputId": "39cdaa22-f6bc-4961-91ca-dc7a40c21034"
   },
   "outputs": [
    {
     "data": {
      "text/html": [
       "<div>\n",
       "<style scoped>\n",
       "    .dataframe tbody tr th:only-of-type {\n",
       "        vertical-align: middle;\n",
       "    }\n",
       "\n",
       "    .dataframe tbody tr th {\n",
       "        vertical-align: top;\n",
       "    }\n",
       "\n",
       "    .dataframe thead th {\n",
       "        text-align: right;\n",
       "    }\n",
       "</style>\n",
       "<table border=\"1\" class=\"dataframe\">\n",
       "  <thead>\n",
       "    <tr style=\"text-align: right;\">\n",
       "      <th></th>\n",
       "      <th>inadimplente</th>\n",
       "      <th>util_linhas_inseguras</th>\n",
       "      <th>idade</th>\n",
       "      <th>vezes_passou_de_30_59_dias</th>\n",
       "      <th>razao_debito</th>\n",
       "      <th>salario_mensal</th>\n",
       "      <th>numero_linhas_crdto_aberto</th>\n",
       "      <th>numero_vezes_passou_90_dias</th>\n",
       "      <th>numero_emprestimos_imobiliarios</th>\n",
       "      <th>numero_de_vezes_que_passou_60_89_dias</th>\n",
       "      <th>numero_de_dependentes</th>\n",
       "    </tr>\n",
       "  </thead>\n",
       "  <tbody>\n",
       "    <tr>\n",
       "      <th>count</th>\n",
       "      <td>110000.000000</td>\n",
       "      <td>110000.000000</td>\n",
       "      <td>110000.000000</td>\n",
       "      <td>110000.000000</td>\n",
       "      <td>110000.000000</td>\n",
       "      <td>8.823700e+04</td>\n",
       "      <td>110000.000000</td>\n",
       "      <td>110000.000000</td>\n",
       "      <td>110000.000000</td>\n",
       "      <td>110000.000000</td>\n",
       "      <td>107122.000000</td>\n",
       "    </tr>\n",
       "    <tr>\n",
       "      <th>mean</th>\n",
       "      <td>0.066645</td>\n",
       "      <td>5.929979</td>\n",
       "      <td>52.255636</td>\n",
       "      <td>0.424055</td>\n",
       "      <td>354.823589</td>\n",
       "      <td>6.637411e+03</td>\n",
       "      <td>8.445573</td>\n",
       "      <td>0.269955</td>\n",
       "      <td>1.019891</td>\n",
       "      <td>0.243891</td>\n",
       "      <td>0.757482</td>\n",
       "    </tr>\n",
       "    <tr>\n",
       "      <th>std</th>\n",
       "      <td>0.249408</td>\n",
       "      <td>252.301965</td>\n",
       "      <td>14.768241</td>\n",
       "      <td>4.240780</td>\n",
       "      <td>2074.140421</td>\n",
       "      <td>1.338395e+04</td>\n",
       "      <td>5.139026</td>\n",
       "      <td>4.217326</td>\n",
       "      <td>1.135989</td>\n",
       "      <td>4.204137</td>\n",
       "      <td>1.114670</td>\n",
       "    </tr>\n",
       "    <tr>\n",
       "      <th>min</th>\n",
       "      <td>0.000000</td>\n",
       "      <td>0.000000</td>\n",
       "      <td>0.000000</td>\n",
       "      <td>0.000000</td>\n",
       "      <td>0.000000</td>\n",
       "      <td>0.000000e+00</td>\n",
       "      <td>0.000000</td>\n",
       "      <td>0.000000</td>\n",
       "      <td>0.000000</td>\n",
       "      <td>0.000000</td>\n",
       "      <td>0.000000</td>\n",
       "    </tr>\n",
       "    <tr>\n",
       "      <th>25%</th>\n",
       "      <td>0.000000</td>\n",
       "      <td>0.030054</td>\n",
       "      <td>41.000000</td>\n",
       "      <td>0.000000</td>\n",
       "      <td>0.175016</td>\n",
       "      <td>3.400000e+03</td>\n",
       "      <td>5.000000</td>\n",
       "      <td>0.000000</td>\n",
       "      <td>0.000000</td>\n",
       "      <td>0.000000</td>\n",
       "      <td>0.000000</td>\n",
       "    </tr>\n",
       "    <tr>\n",
       "      <th>50%</th>\n",
       "      <td>0.000000</td>\n",
       "      <td>0.155936</td>\n",
       "      <td>52.000000</td>\n",
       "      <td>0.000000</td>\n",
       "      <td>0.366682</td>\n",
       "      <td>5.400000e+03</td>\n",
       "      <td>8.000000</td>\n",
       "      <td>0.000000</td>\n",
       "      <td>1.000000</td>\n",
       "      <td>0.000000</td>\n",
       "      <td>0.000000</td>\n",
       "    </tr>\n",
       "    <tr>\n",
       "      <th>75%</th>\n",
       "      <td>0.000000</td>\n",
       "      <td>0.562806</td>\n",
       "      <td>63.000000</td>\n",
       "      <td>0.000000</td>\n",
       "      <td>0.866874</td>\n",
       "      <td>8.225000e+03</td>\n",
       "      <td>11.000000</td>\n",
       "      <td>0.000000</td>\n",
       "      <td>2.000000</td>\n",
       "      <td>0.000000</td>\n",
       "      <td>1.000000</td>\n",
       "    </tr>\n",
       "    <tr>\n",
       "      <th>max</th>\n",
       "      <td>1.000000</td>\n",
       "      <td>50708.000000</td>\n",
       "      <td>109.000000</td>\n",
       "      <td>98.000000</td>\n",
       "      <td>329664.000000</td>\n",
       "      <td>3.008750e+06</td>\n",
       "      <td>58.000000</td>\n",
       "      <td>98.000000</td>\n",
       "      <td>54.000000</td>\n",
       "      <td>98.000000</td>\n",
       "      <td>20.000000</td>\n",
       "    </tr>\n",
       "  </tbody>\n",
       "</table>\n",
       "</div>"
      ],
      "text/plain": [
       "        inadimplente  util_linhas_inseguras          idade  \\\n",
       "count  110000.000000          110000.000000  110000.000000   \n",
       "mean        0.066645               5.929979      52.255636   \n",
       "std         0.249408             252.301965      14.768241   \n",
       "min         0.000000               0.000000       0.000000   \n",
       "25%         0.000000               0.030054      41.000000   \n",
       "50%         0.000000               0.155936      52.000000   \n",
       "75%         0.000000               0.562806      63.000000   \n",
       "max         1.000000           50708.000000     109.000000   \n",
       "\n",
       "       vezes_passou_de_30_59_dias   razao_debito  salario_mensal  \\\n",
       "count               110000.000000  110000.000000    8.823700e+04   \n",
       "mean                     0.424055     354.823589    6.637411e+03   \n",
       "std                      4.240780    2074.140421    1.338395e+04   \n",
       "min                      0.000000       0.000000    0.000000e+00   \n",
       "25%                      0.000000       0.175016    3.400000e+03   \n",
       "50%                      0.000000       0.366682    5.400000e+03   \n",
       "75%                      0.000000       0.866874    8.225000e+03   \n",
       "max                     98.000000  329664.000000    3.008750e+06   \n",
       "\n",
       "       numero_linhas_crdto_aberto  numero_vezes_passou_90_dias  \\\n",
       "count               110000.000000                110000.000000   \n",
       "mean                     8.445573                     0.269955   \n",
       "std                      5.139026                     4.217326   \n",
       "min                      0.000000                     0.000000   \n",
       "25%                      5.000000                     0.000000   \n",
       "50%                      8.000000                     0.000000   \n",
       "75%                     11.000000                     0.000000   \n",
       "max                     58.000000                    98.000000   \n",
       "\n",
       "       numero_emprestimos_imobiliarios  numero_de_vezes_que_passou_60_89_dias  \\\n",
       "count                    110000.000000                          110000.000000   \n",
       "mean                          1.019891                               0.243891   \n",
       "std                           1.135989                               4.204137   \n",
       "min                           0.000000                               0.000000   \n",
       "25%                           0.000000                               0.000000   \n",
       "50%                           1.000000                               0.000000   \n",
       "75%                           2.000000                               0.000000   \n",
       "max                          54.000000                              98.000000   \n",
       "\n",
       "       numero_de_dependentes  \n",
       "count          107122.000000  \n",
       "mean                0.757482  \n",
       "std                 1.114670  \n",
       "min                 0.000000  \n",
       "25%                 0.000000  \n",
       "50%                 0.000000  \n",
       "75%                 1.000000  \n",
       "max                20.000000  "
      ]
     },
     "execution_count": 7,
     "metadata": {},
     "output_type": "execute_result"
    }
   ],
   "source": [
    "df_train.describe()"
   ]
  },
  {
   "cell_type": "code",
   "execution_count": 8,
   "metadata": {
    "colab": {
     "base_uri": "https://localhost:8080/"
    },
    "id": "Z2HTSzzHoKJn",
    "outputId": "c257790e-60eb-452a-f412-bdbc5de76e87"
   },
   "outputs": [
    {
     "data": {
      "text/plain": [
       "inadimplente                              0.000000\n",
       "util_linhas_inseguras                     0.000000\n",
       "idade                                     0.000000\n",
       "vezes_passou_de_30_59_dias                0.000000\n",
       "razao_debito                              0.000000\n",
       "salario_mensal                           19.784545\n",
       "numero_linhas_crdto_aberto                0.000000\n",
       "numero_vezes_passou_90_dias               0.000000\n",
       "numero_emprestimos_imobiliarios           0.000000\n",
       "numero_de_vezes_que_passou_60_89_dias     0.000000\n",
       "numero_de_dependentes                     2.616364\n",
       "dtype: float64"
      ]
     },
     "execution_count": 8,
     "metadata": {},
     "output_type": "execute_result"
    }
   ],
   "source": [
    "#Porcentagem de numeros em branco\n",
    "df_train.isnull().sum() / len(df_train)*100"
   ]
  },
  {
   "cell_type": "markdown",
   "metadata": {},
   "source": [
    "Há dados ausentes nas colunas de numero_de_dependentes e salario_mensal. Vou utilizar a média para preencher os dados faltantes."
   ]
  },
  {
   "cell_type": "code",
   "execution_count": 9,
   "metadata": {
    "colab": {
     "base_uri": "https://localhost:8080/"
    },
    "id": "47g3e4NXpUQJ",
    "outputId": "580cd328-1901-4c6d-ed87-87943e81cea5"
   },
   "outputs": [
    {
     "data": {
      "text/plain": [
       "util_linhas_inseguras                       0\n",
       "idade                                       0\n",
       "vezes_passou_de_30_59_dias                  0\n",
       "razao_debito                                0\n",
       "salario_mensal                           7968\n",
       "numero_linhas_crdto_aberto                  0\n",
       "numero_vezes_passou_90_dias                 0\n",
       "numero_emprestimos_imobiliarios             0\n",
       "numero_de_vezes_que_passou_60_89_dias       0\n",
       "numero_de_dependentes                    1046\n",
       "dtype: int64"
      ]
     },
     "execution_count": 9,
     "metadata": {},
     "output_type": "execute_result"
    }
   ],
   "source": [
    "#Verificando se tem campos em branco base de teste\n",
    "df_test.isnull().sum()"
   ]
  },
  {
   "cell_type": "markdown",
   "metadata": {},
   "source": [
    "Qual o total de salarios em branco, que são inadimplentes?"
   ]
  },
  {
   "cell_type": "code",
   "execution_count": 10,
   "metadata": {
    "colab": {
     "base_uri": "https://localhost:8080/",
     "height": 0
    },
    "id": "BUFaw_mnoPYc",
    "outputId": "e22b868c-d4ca-45c5-a66a-ed3a55f6cfd7"
   },
   "outputs": [
    {
     "name": "stdout",
     "output_type": "stream",
     "text": [
      "Total de indimplentes com salário em branco: 1247\n",
      "Total de indimplentes com nº dependentes em branco: 132\n"
     ]
    }
   ],
   "source": [
    "print(\"Total de indimplentes com salário em branco:\",df_train[(df_train['salario_mensal'].isnull()) & (df_train['inadimplente'] == 1)].shape[0])\n",
    "print(\"Total de indimplentes com nº dependentes em branco:\",df_train[(df_train['numero_de_dependentes'].isnull()) & (df_train['inadimplente'] == 1)].shape[0])"
   ]
  },
  {
   "cell_type": "markdown",
   "metadata": {},
   "source": [
    "Qual o total de inadimplentes?"
   ]
  },
  {
   "cell_type": "code",
   "execution_count": 11,
   "metadata": {},
   "outputs": [
    {
     "data": {
      "text/plain": [
       "0    102669\n",
       "1      7331\n",
       "Name: inadimplente, dtype: int64"
      ]
     },
     "execution_count": 11,
     "metadata": {},
     "output_type": "execute_result"
    }
   ],
   "source": [
    "df_train.inadimplente.value_counts()"
   ]
  },
  {
   "cell_type": "markdown",
   "metadata": {},
   "source": [
    "Com base nas análises acima, foi verificado que ~17% dos inadimplentes estão com a informação do salário em branco e ~2% estão com a informação do nº do dependente em branco."
   ]
  },
  {
   "cell_type": "markdown",
   "metadata": {},
   "source": [
    "#### Qual a % de inadimplentes e não inadimplentes?"
   ]
  },
  {
   "cell_type": "code",
   "execution_count": 12,
   "metadata": {
    "colab": {
     "base_uri": "https://localhost:8080/"
    },
    "id": "2Mh_lfi0TheD",
    "outputId": "d0645b24-0c88-4d9b-fbba-f3b46bb15604"
   },
   "outputs": [
    {
     "data": {
      "text/plain": [
       "0    93.34\n",
       "1     6.66\n",
       "Name: inadimplente, dtype: float64"
      ]
     },
     "execution_count": 12,
     "metadata": {},
     "output_type": "execute_result"
    }
   ],
   "source": [
    "total_inadimplente = round(df_train.inadimplente.value_counts() / len(df_train)*100,2)\n",
    "total_inadimplente"
   ]
  },
  {
   "cell_type": "markdown",
   "metadata": {
    "id": "GaMhoE_GVDvz"
   },
   "source": [
    "A base de treino está desbalanceada, vou criar um modelo sem desbalancear e depois um balanceando a base."
   ]
  },
  {
   "cell_type": "markdown",
   "metadata": {
    "id": "t2LbMbnJpzGL"
   },
   "source": [
    "## Tratamento da base"
   ]
  },
  {
   "cell_type": "markdown",
   "metadata": {
    "id": "Z4eY66zfqT5g"
   },
   "source": [
    "### Tratamento do Dataset"
   ]
  },
  {
   "cell_type": "markdown",
   "metadata": {
    "id": "VVslArHBVddL"
   },
   "source": [
    "Conforme informado anteriormente, as colunas salario_mensal e numero_de_dependentes possuem valores nulos, foi utilizada a média para preenchimento dos valores nulos, conforme racional descrito abaixo."
   ]
  },
  {
   "cell_type": "code",
   "execution_count": 13,
   "metadata": {},
   "outputs": [],
   "source": [
    "#df_train['salario_mensal'].dropna(inplace=True)\n",
    "#df_train['numero_de_dependentes'].dropna(inplace=True)"
   ]
  },
  {
   "cell_type": "markdown",
   "metadata": {},
   "source": [
    "- Dropando os valores nulos teve uma leve piora, por conta disso optei por manter a média.\n",
    "\n",
    "- Acuracia do modelo escolhido quando dropei os valores em branco: 0.9466942750712755"
   ]
  },
  {
   "cell_type": "code",
   "execution_count": 14,
   "metadata": {
    "id": "Q8qPZk3hetS8"
   },
   "outputs": [],
   "source": [
    "#Preenchi os valores nulos com a média\n",
    "df_train['salario_mensal'].fillna(df_train['salario_mensal'].mean(), inplace=True)\n",
    "df_train['numero_de_dependentes'].fillna(df_train['numero_de_dependentes'].mean(), inplace=True)\n",
    "df_test['salario_mensal'].fillna(df_test['salario_mensal'].mean(), inplace=True)\n",
    "df_test['numero_de_dependentes'].fillna(df_test['numero_de_dependentes'].mean(), inplace=True)"
   ]
  },
  {
   "cell_type": "code",
   "execution_count": 15,
   "metadata": {
    "colab": {
     "base_uri": "https://localhost:8080/"
    },
    "id": "eoGT7QaLpSR3",
    "outputId": "0b72ac59-b513-41c0-dc83-915ea9c92761"
   },
   "outputs": [
    {
     "data": {
      "text/plain": [
       "inadimplente                             0\n",
       "util_linhas_inseguras                    0\n",
       "idade                                    0\n",
       "vezes_passou_de_30_59_dias               0\n",
       "razao_debito                             0\n",
       "salario_mensal                           0\n",
       "numero_linhas_crdto_aberto               0\n",
       "numero_vezes_passou_90_dias              0\n",
       "numero_emprestimos_imobiliarios          0\n",
       "numero_de_vezes_que_passou_60_89_dias    0\n",
       "numero_de_dependentes                    0\n",
       "dtype: int64"
      ]
     },
     "execution_count": 15,
     "metadata": {},
     "output_type": "execute_result"
    }
   ],
   "source": [
    "df_train.isnull().sum()"
   ]
  },
  {
   "cell_type": "code",
   "execution_count": 16,
   "metadata": {
    "colab": {
     "base_uri": "https://localhost:8080/"
    },
    "id": "8_hgRK43qC92",
    "outputId": "7a708efb-ad1a-4c59-a07a-4cb3b8c85007"
   },
   "outputs": [
    {
     "data": {
      "text/plain": [
       "util_linhas_inseguras                    0\n",
       "idade                                    0\n",
       "vezes_passou_de_30_59_dias               0\n",
       "razao_debito                             0\n",
       "salario_mensal                           0\n",
       "numero_linhas_crdto_aberto               0\n",
       "numero_vezes_passou_90_dias              0\n",
       "numero_emprestimos_imobiliarios          0\n",
       "numero_de_vezes_que_passou_60_89_dias    0\n",
       "numero_de_dependentes                    0\n",
       "dtype: int64"
      ]
     },
     "execution_count": 16,
     "metadata": {},
     "output_type": "execute_result"
    }
   ],
   "source": [
    "df_test.isnull().sum()"
   ]
  },
  {
   "cell_type": "markdown",
   "metadata": {},
   "source": [
    "Agora que temos todos os dados presentes, podemos continuar com a análise. Começamos analisando a correlação entre as variáveis, com foco na inadimplência."
   ]
  },
  {
   "cell_type": "code",
   "execution_count": 17,
   "metadata": {
    "colab": {
     "base_uri": "https://localhost:8080/",
     "height": 575
    },
    "id": "SDS6qeXyrZXx",
    "outputId": "579f2ad6-88c8-4004-b425-ce2b835320c6"
   },
   "outputs": [
    {
     "data": {
      "text/plain": [
       "<AxesSubplot:>"
      ]
     },
     "execution_count": 17,
     "metadata": {},
     "output_type": "execute_result"
    },
    {
     "data": {
      "image/png": "[encoded data removed]",
      "text/plain": [
       "<Figure size 1440x720 with 2 Axes>"
      ]
     },
     "metadata": {
      "needs_background": "light"
     },
     "output_type": "display_data"
    }
   ],
   "source": [
    "plt.figure(figsize=(20,10))\n",
    "corr = df_train.corr()\n",
    "corr = (corr)\n",
    "sns.heatmap(corr, annot=True)"
   ]
  },
  {
   "cell_type": "markdown",
   "metadata": {
    "id": "PPl2cIspjpLv"
   },
   "source": [
    "Algumas variaveis são interessantes, tais como:\n",
    "\n",
    "- numero_vezes_passou_90_dias\n",
    "- numreo_de_vezes_que_passou_60_89_dias\n",
    "- idade\n",
    "- util_linhas_inseguras\n",
    "\n",
    "Aparentemente, nenhuma tem uma correlação muito forte"
   ]
  },
  {
   "cell_type": "code",
   "execution_count": 18,
   "metadata": {},
   "outputs": [
    {
     "data": {
      "text/plain": [
       "<AxesSubplot:xlabel='razao_debito'>"
      ]
     },
     "execution_count": 18,
     "metadata": {},
     "output_type": "execute_result"
    },
    {
     "data": {
      "image/png": "[encoded data removed]",
      "text/plain": [
       "<Figure size 1224x576 with 5 Axes>"
      ]
     },
     "metadata": {
      "needs_background": "light"
     },
     "output_type": "display_data"
    },
    {
     "data": {
      "image/png": "[encoded data removed]",
      "text/plain": [
       "<Figure size 1224x576 with 5 Axes>"
      ]
     },
     "metadata": {
      "needs_background": "light"
     },
     "output_type": "display_data"
    }
   ],
   "source": [
    "fig,ax = plt.subplots(1,5,figsize=(17,8))\n",
    "ax[0].set_xlabel('numero_vezes_passou_90_dias')\n",
    "sns.boxplot(ax=ax[0],data=df_train['numero_vezes_passou_90_dias'])\n",
    "ax[1].set_xlabel('salario_mensal')\n",
    "sns.boxplot(ax=ax[1],data=df_train['salario_mensal'])\n",
    "ax[2].set_xlabel('vezes_passou_de_30_59_dias')\n",
    "sns.boxplot(ax=ax[2],data=df_train['vezes_passou_de_30_59_dias'])\n",
    "ax[3].set_xlabel('numero_de_dependentes')\n",
    "sns.boxplot(ax=ax[3],data=df_train['numero_de_dependentes'])\n",
    "ax[4].set_xlabel('numero_linhas_crdto_aberto')\n",
    "sns.boxplot(ax=ax[4],data=df_train['numero_linhas_crdto_aberto'])\n",
    "\n",
    "fig,ax = plt.subplots(1,5,figsize=(17,8))\n",
    "ax[0].set_xlabel('idade')\n",
    "sns.boxplot(ax=ax[0],data=df_train['idade'])\n",
    "ax[1].set_xlabel('numero_de_vezes_que_passou_60_89_dias')\n",
    "sns.boxplot(ax=ax[1],data=df_train['numero_de_vezes_que_passou_60_89_dias'])\n",
    "ax[2].set_xlabel('util_linhas_inseguras')\n",
    "sns.boxplot(ax=ax[2],data=df_train['util_linhas_inseguras'])\n",
    "ax[3].set_xlabel('numero_emprestimos_imobiliarios')\n",
    "sns.boxplot(ax=ax[3], data=df_train['numero_emprestimos_imobiliarios'])\n",
    "ax[4].set_xlabel('razao_debito')\n",
    "sns.boxplot(ax=ax[4], data=df_train['razao_debito'])"
   ]
  },
  {
   "cell_type": "code",
   "execution_count": 19,
   "metadata": {},
   "outputs": [],
   "source": [
    "#df_train.drop(df_train[df_train['numero_vezes_passou_90_dias']>20].index,inplace=True)\n",
    "\n",
    "df_train.drop(df_train[df_train['salario_mensal']>15000].index,inplace=True)\n",
    "df_train.drop(df_train[df_train['salario_mensal']<0].index,inplace=True)\n",
    "\n",
    "#df_train.drop(df_train[df_train['vezes_passou_de_30_59_dias']>20].index,inplace=True)\n",
    "\n",
    "df_train.drop(df_train[df_train['numero_de_dependentes']>15].index,inplace=True)\n",
    "\n",
    "df_train.drop(df_train[df_train['numero_linhas_crdto_aberto']>20].index,inplace=True)\n",
    "df_train.drop(df_train[df_train['numero_linhas_crdto_aberto']<0].index,inplace=True)\n",
    "\n",
    "df_train.drop(df_train[df_train['idade']>90].index,inplace=True)\n",
    "df_train.drop(df_train[df_train['idade']<20].index,inplace=True)\n",
    "\n",
    "#df_train.drop(df_train[df_train['numero_de_vezes_que_passou_60_89_dias']>20].index,inplace=True)\n",
    "\n",
    "df_train.drop(df_train[df_train['util_linhas_inseguras']>1500].index,inplace=True)\n",
    "\n",
    "df_train.drop(df_train[df_train['numero_emprestimos_imobiliarios']>10].index,inplace=True)\n",
    "\n",
    "df_train.drop(df_train[df_train['razao_debito']>50000].index,inplace=True)"
   ]
  },
  {
   "cell_type": "markdown",
   "metadata": {},
   "source": [
    "### Como o modelo se comportaria se as pessoas que atrasaram 1 vez mais do que 30 dias, fossem retiradas?"
   ]
  },
  {
   "cell_type": "code",
   "execution_count": 20,
   "metadata": {},
   "outputs": [],
   "source": [
    "df_train = df_train[df_train['vezes_passou_de_30_59_dias']!=1]"
   ]
  },
  {
   "cell_type": "markdown",
   "metadata": {},
   "source": [
    "- A acurácia sofre uma leve melhora quando retirei os clientes que atrasaram apenas uma vez"
   ]
  },
  {
   "cell_type": "markdown",
   "metadata": {
    "id": "tkc9yHg-uFwP",
    "tags": []
   },
   "source": [
    "### Separando e tratando o conjunto de dados"
   ]
  },
  {
   "cell_type": "code",
   "execution_count": 21,
   "metadata": {
    "id": "b_tnqVDHssG5"
   },
   "outputs": [],
   "source": [
    "target_name = 'inadimplente'\n",
    "X = df_train.drop('inadimplente', axis=1)\n",
    "y = df_train[target_name]"
   ]
  },
  {
   "cell_type": "code",
   "execution_count": 22,
   "metadata": {
    "colab": {
     "base_uri": "https://localhost:8080/",
     "height": 270
    },
    "id": "cLJWDk8yuYWh",
    "outputId": "efd7c451-1575-4c9f-9555-7a3561e477f5"
   },
   "outputs": [
    {
     "data": {
      "text/html": [
       "<div>\n",
       "<style scoped>\n",
       "    .dataframe tbody tr th:only-of-type {\n",
       "        vertical-align: middle;\n",
       "    }\n",
       "\n",
       "    .dataframe tbody tr th {\n",
       "        vertical-align: top;\n",
       "    }\n",
       "\n",
       "    .dataframe thead th {\n",
       "        text-align: right;\n",
       "    }\n",
       "</style>\n",
       "<table border=\"1\" class=\"dataframe\">\n",
       "  <thead>\n",
       "    <tr style=\"text-align: right;\">\n",
       "      <th></th>\n",
       "      <th>util_linhas_inseguras</th>\n",
       "      <th>idade</th>\n",
       "      <th>vezes_passou_de_30_59_dias</th>\n",
       "      <th>razao_debito</th>\n",
       "      <th>salario_mensal</th>\n",
       "      <th>numero_linhas_crdto_aberto</th>\n",
       "      <th>numero_vezes_passou_90_dias</th>\n",
       "      <th>numero_emprestimos_imobiliarios</th>\n",
       "      <th>numero_de_vezes_que_passou_60_89_dias</th>\n",
       "      <th>numero_de_dependentes</th>\n",
       "    </tr>\n",
       "  </thead>\n",
       "  <tbody>\n",
       "    <tr>\n",
       "      <th>0</th>\n",
       "      <td>0.766127</td>\n",
       "      <td>45</td>\n",
       "      <td>2</td>\n",
       "      <td>0.802982</td>\n",
       "      <td>9120.000000</td>\n",
       "      <td>13</td>\n",
       "      <td>0</td>\n",
       "      <td>6</td>\n",
       "      <td>0</td>\n",
       "      <td>2.0</td>\n",
       "    </tr>\n",
       "    <tr>\n",
       "      <th>1</th>\n",
       "      <td>0.957151</td>\n",
       "      <td>40</td>\n",
       "      <td>0</td>\n",
       "      <td>0.121876</td>\n",
       "      <td>2600.000000</td>\n",
       "      <td>4</td>\n",
       "      <td>0</td>\n",
       "      <td>0</td>\n",
       "      <td>0</td>\n",
       "      <td>1.0</td>\n",
       "    </tr>\n",
       "    <tr>\n",
       "      <th>3</th>\n",
       "      <td>0.233810</td>\n",
       "      <td>30</td>\n",
       "      <td>0</td>\n",
       "      <td>0.036050</td>\n",
       "      <td>3300.000000</td>\n",
       "      <td>5</td>\n",
       "      <td>0</td>\n",
       "      <td>0</td>\n",
       "      <td>0</td>\n",
       "      <td>0.0</td>\n",
       "    </tr>\n",
       "    <tr>\n",
       "      <th>5</th>\n",
       "      <td>0.213179</td>\n",
       "      <td>74</td>\n",
       "      <td>0</td>\n",
       "      <td>0.375607</td>\n",
       "      <td>3500.000000</td>\n",
       "      <td>3</td>\n",
       "      <td>0</td>\n",
       "      <td>1</td>\n",
       "      <td>0</td>\n",
       "      <td>1.0</td>\n",
       "    </tr>\n",
       "    <tr>\n",
       "      <th>6</th>\n",
       "      <td>0.305682</td>\n",
       "      <td>57</td>\n",
       "      <td>0</td>\n",
       "      <td>5710.000000</td>\n",
       "      <td>6637.411063</td>\n",
       "      <td>8</td>\n",
       "      <td>0</td>\n",
       "      <td>3</td>\n",
       "      <td>0</td>\n",
       "      <td>0.0</td>\n",
       "    </tr>\n",
       "  </tbody>\n",
       "</table>\n",
       "</div>"
      ],
      "text/plain": [
       "   util_linhas_inseguras  idade  vezes_passou_de_30_59_dias  razao_debito  \\\n",
       "0               0.766127     45                           2      0.802982   \n",
       "1               0.957151     40                           0      0.121876   \n",
       "3               0.233810     30                           0      0.036050   \n",
       "5               0.213179     74                           0      0.375607   \n",
       "6               0.305682     57                           0   5710.000000   \n",
       "\n",
       "   salario_mensal  numero_linhas_crdto_aberto  numero_vezes_passou_90_dias  \\\n",
       "0     9120.000000                          13                            0   \n",
       "1     2600.000000                           4                            0   \n",
       "3     3300.000000                           5                            0   \n",
       "5     3500.000000                           3                            0   \n",
       "6     6637.411063                           8                            0   \n",
       "\n",
       "   numero_emprestimos_imobiliarios  numero_de_vezes_que_passou_60_89_dias  \\\n",
       "0                                6                                      0   \n",
       "1                                0                                      0   \n",
       "3                                0                                      0   \n",
       "5                                1                                      0   \n",
       "6                                3                                      0   \n",
       "\n",
       "   numero_de_dependentes  \n",
       "0                    2.0  \n",
       "1                    1.0  \n",
       "3                    0.0  \n",
       "5                    1.0  \n",
       "6                    0.0  "
      ]
     },
     "execution_count": 22,
     "metadata": {},
     "output_type": "execute_result"
    }
   ],
   "source": [
    "X.head()"
   ]
  },
  {
   "cell_type": "code",
   "execution_count": 23,
   "metadata": {
    "colab": {
     "base_uri": "https://localhost:8080/"
    },
    "id": "V_jxsLiKuhMI",
    "outputId": "4f6fad6c-ec1f-4695-8374-f1810a0230c0"
   },
   "outputs": [
    {
     "data": {
      "text/plain": [
       "0    1\n",
       "1    0\n",
       "3    0\n",
       "5    0\n",
       "6    0\n",
       "Name: inadimplente, dtype: int64"
      ]
     },
     "execution_count": 23,
     "metadata": {},
     "output_type": "execute_result"
    }
   ],
   "source": [
    "y.head()"
   ]
  },
  {
   "cell_type": "code",
   "execution_count": 24,
   "metadata": {
    "id": "8ymjhaiLVbQb"
   },
   "outputs": [],
   "source": [
    "from sklearn.model_selection import train_test_split\n",
    "from sklearn.tree import DecisionTreeClassifier, plot_tree\n",
    "from sklearn.ensemble import RandomForestClassifier\n",
    "from sklearn.metrics import accuracy_score, roc_auc_score, classification_report\n",
    "from sklearn.preprocessing import MinMaxScaler"
   ]
  },
  {
   "cell_type": "markdown",
   "metadata": {
    "id": "agFyuiR4qQp7"
   },
   "source": [
    "# 1 - Aplicando modelos com o dataset desbalanceado"
   ]
  },
  {
   "cell_type": "markdown",
   "metadata": {
    "id": "obddOhwWtcRf"
   },
   "source": [
    "## Função da baseline"
   ]
  },
  {
   "cell_type": "markdown",
   "metadata": {},
   "source": [
    "np.zeros -> retorna um array preenchido com zeros"
   ]
  },
  {
   "cell_type": "code",
   "execution_count": 25,
   "metadata": {
    "id": "v_psyIfEtgUB"
   },
   "outputs": [],
   "source": [
    "def baseline_model(X):\n",
    "  y = np.zeros(X.shape[0])\n",
    "  return y"
   ]
  },
  {
   "cell_type": "code",
   "execution_count": 26,
   "metadata": {
    "id": "nuT76nDQz832"
   },
   "outputs": [],
   "source": [
    "#Separando em treino e validação\n",
    "X_train, X_val, y_train, y_val = train_test_split(\n",
    "   X, \n",
    "   y, \n",
    "   random_state=0, \n",
    "   test_size=0.50,\n",
    "   stratify=y\n",
    "   )"
   ]
  },
  {
   "cell_type": "code",
   "execution_count": 27,
   "metadata": {
    "id": "88tyzUrAthTv"
   },
   "outputs": [],
   "source": [
    "#Analise do baseline\n",
    "p_val = baseline_model(X_val)"
   ]
  },
  {
   "cell_type": "code",
   "execution_count": 28,
   "metadata": {
    "colab": {
     "base_uri": "https://localhost:8080/"
    },
    "id": "ITkH20Zutno2",
    "outputId": "b518b59a-a4eb-40b4-91d0-fb46ce21116f"
   },
   "outputs": [
    {
     "data": {
      "text/plain": [
       "0.9428093935842341"
      ]
     },
     "execution_count": 28,
     "metadata": {},
     "output_type": "execute_result"
    }
   ],
   "source": [
    "np.mean(y_val == p_val)"
   ]
  },
  {
   "cell_type": "markdown",
   "metadata": {
    "id": "8rgwYJZ2i3OC"
   },
   "source": [
    "## Arvore de decisão"
   ]
  },
  {
   "cell_type": "code",
   "execution_count": 29,
   "metadata": {
    "id": "uDmaUn03YArI"
   },
   "outputs": [],
   "source": [
    "#Treinando o modelo com arvore de decisão\n",
    "dtree = DecisionTreeClassifier(max_depth=5, random_state=0)\n",
    "dtree = dtree.fit(X_train, y_train)"
   ]
  },
  {
   "cell_type": "markdown",
   "metadata": {
    "id": "0HiRQIvKegWh"
   },
   "source": [
    "O max_depth acerta mais 1 do que o min_samples_leaf\n",
    "\n",
    "Fiz testes aleatórios e verifiquei que o max_depth = 5 possui a melhor acurácia, foi o indicativo utilizado para continuar com o parametro == 5\n",
    "\n",
    "**Resultado testeando o Maxdepth**\n",
    "\n",
    "None -> 0.8974181818181818\n",
    "\n",
    "1 -> 0.9334545454545454\n",
    "\n",
    "5 -> 0.9354727272727272\n",
    "\n",
    "10 -> 0.932509090909091\n",
    "\n",
    "\n",
    "**Resultado testeando o min_samples_leaf**\n",
    "\n",
    "None -> 0.8978727272727273\n",
    "\n",
    "1 -> 0.8978727272727273\n",
    "\n",
    "5 -> 0.919290909090909\n",
    "\n",
    "10 -> 0.9280363636363637"
   ]
  },
  {
   "cell_type": "code",
   "execution_count": 30,
   "metadata": {
    "id": "MKSdj10eYAkh"
   },
   "outputs": [],
   "source": [
    "p_val = dtree.predict(X_val)"
   ]
  },
  {
   "cell_type": "markdown",
   "metadata": {
    "id": "O444MlYrbhcD"
   },
   "source": [
    "**Fazendo avaliação do modelo**"
   ]
  },
  {
   "cell_type": "code",
   "execution_count": 31,
   "metadata": {
    "colab": {
     "base_uri": "https://localhost:8080/"
    },
    "id": "Z7JhOKelYAX3",
    "outputId": "5df4b441-a06d-4097-8726-47b6b36929e2"
   },
   "outputs": [
    {
     "data": {
      "text/plain": [
       "0.9443720970612492"
      ]
     },
     "execution_count": 31,
     "metadata": {},
     "output_type": "execute_result"
    }
   ],
   "source": [
    "#Verificando a acuracia\n",
    "accuracy_score(p_val, y_val)"
   ]
  },
  {
   "cell_type": "code",
   "execution_count": 32,
   "metadata": {
    "colab": {
     "base_uri": "https://localhost:8080/"
    },
    "id": "NJphUxTVbsa4",
    "outputId": "88a12cd1-ebcb-47d8-9ffc-b9da825a76e2"
   },
   "outputs": [
    {
     "data": {
      "text/plain": [
       "0.5951192566356109"
      ]
     },
     "execution_count": 32,
     "metadata": {},
     "output_type": "execute_result"
    }
   ],
   "source": [
    "#Verificando a curva ROC\n",
    "roc_auc_score(y_val, p_val)"
   ]
  },
  {
   "cell_type": "markdown",
   "metadata": {
    "id": "v4beXz2xhwl-"
   },
   "source": [
    "O modelo não está bom, só está praticamente acertando o que é 0, ou seja, que não é inadimplente."
   ]
  },
  {
   "cell_type": "markdown",
   "metadata": {},
   "source": [
    "Outr métrica utilizada para avaliação, foi a precisão, imaginando que uma pessoa que deseja obter um crédito com o banco, é desejável ter uma alta precisão, pois o banco não gostaria de perder clientes que tiveram um empréstimo negado com base na previsão do modelo de que seriam inadimplentes."
   ]
  },
  {
   "cell_type": "code",
   "execution_count": 33,
   "metadata": {
    "colab": {
     "base_uri": "https://localhost:8080/"
    },
    "id": "egpyY51zddgc",
    "outputId": "fc0337c1-c843-48aa-ea7c-8ba44b3842f4"
   },
   "outputs": [
    {
     "name": "stdout",
     "output_type": "stream",
     "text": [
      "              precision    recall  f1-score   support\n",
      "\n",
      "           0       0.95      0.99      0.97     43439\n",
      "           1       0.54      0.20      0.29      2635\n",
      "\n",
      "    accuracy                           0.94     46074\n",
      "   macro avg       0.74      0.60      0.63     46074\n",
      "weighted avg       0.93      0.94      0.93     46074\n",
      "\n"
     ]
    }
   ],
   "source": [
    "print(classification_report(y_val, p_val))"
   ]
  },
  {
   "cell_type": "markdown",
   "metadata": {
    "id": "z1J3vDEMeI91"
   },
   "source": [
    "Com base na ROC o modelo basicamente só acerta os casos que são 0, quando faz a media entre a classe 0 e 1 a curva ROC mostra uma % de quase 50%, está quase um processo aleatório."
   ]
  },
  {
   "cell_type": "code",
   "execution_count": 34,
   "metadata": {
    "colab": {
     "base_uri": "https://localhost:8080/"
    },
    "id": "ErGvmHexaGNe",
    "outputId": "345de56a-a2a5-48db-9deb-b37653586041"
   },
   "outputs": [
    {
     "name": "stdout",
     "output_type": "stream",
     "text": [
      "Predito      0    1    All\n",
      "Real                      \n",
      "0        42982  457  43439\n",
      "1         2106  529   2635\n",
      "All      45088  986  46074\n"
     ]
    }
   ],
   "source": [
    "print(pd.crosstab(y_val, p_val, rownames=['Real'], colnames=['Predito'], margins=True))"
   ]
  },
  {
   "cell_type": "markdown",
   "metadata": {
    "id": "9BFqSrFXjI7A"
   },
   "source": [
    "## Logistic Regression"
   ]
  },
  {
   "cell_type": "code",
   "execution_count": 35,
   "metadata": {
    "id": "HZ4YQPM3jOWM"
   },
   "outputs": [],
   "source": [
    "from sklearn.linear_model import LogisticRegression"
   ]
  },
  {
   "cell_type": "code",
   "execution_count": 36,
   "metadata": {
    "id": "5yA1yYQYjOP1"
   },
   "outputs": [],
   "source": [
    "#Instanciando o algoritmo\n",
    "logistic = LogisticRegression(max_iter=1000)"
   ]
  },
  {
   "cell_type": "code",
   "execution_count": 37,
   "metadata": {
    "colab": {
     "base_uri": "https://localhost:8080/"
    },
    "id": "SE2fnCUgjN_X",
    "outputId": "544ba80e-6bce-4e9e-c7bd-e84b226dab0c",
    "tags": []
   },
   "outputs": [
    {
     "data": {
      "text/plain": [
       "LogisticRegression(max_iter=1000)"
      ]
     },
     "execution_count": 37,
     "metadata": {},
     "output_type": "execute_result"
    }
   ],
   "source": [
    "#Realizando o treinamento\n",
    "logistic.fit(X_train,y_train)"
   ]
  },
  {
   "cell_type": "code",
   "execution_count": 38,
   "metadata": {
    "id": "wGzynOvbjvDc"
   },
   "outputs": [],
   "source": [
    "#Calculando as predições\n",
    "p_val = logistic.predict(X_val)"
   ]
  },
  {
   "cell_type": "code",
   "execution_count": 39,
   "metadata": {
    "colab": {
     "base_uri": "https://localhost:8080/"
    },
    "id": "ixStaistj_V2",
    "outputId": "61f2644f-dc72-4a57-a6b7-ed492d1a17bd"
   },
   "outputs": [
    {
     "data": {
      "text/plain": [
       "0.9431349568086123"
      ]
     },
     "execution_count": 39,
     "metadata": {},
     "output_type": "execute_result"
    }
   ],
   "source": [
    "#Avaliando o modelo\n",
    "np.mean(y_val == p_val)"
   ]
  },
  {
   "cell_type": "code",
   "execution_count": 40,
   "metadata": {
    "colab": {
     "base_uri": "https://localhost:8080/"
    },
    "id": "joml26IJkY7z",
    "outputId": "b5f6eb7d-c242-4e43-fa5b-2fd59424a318"
   },
   "outputs": [
    {
     "data": {
      "text/plain": [
       "0.5368906988285564"
      ]
     },
     "execution_count": 40,
     "metadata": {},
     "output_type": "execute_result"
    }
   ],
   "source": [
    "#Resultado ponderado das classes 0 e 1\n",
    "roc_auc_score(y_val, p_val)"
   ]
  },
  {
   "cell_type": "code",
   "execution_count": 41,
   "metadata": {
    "colab": {
     "base_uri": "https://localhost:8080/"
    },
    "id": "6xrk_zfdklRI",
    "outputId": "2f2d2950-fc12-418e-d4d1-8bc90685dccd"
   },
   "outputs": [
    {
     "name": "stdout",
     "output_type": "stream",
     "text": [
      "              precision    recall  f1-score   support\n",
      "\n",
      "           0       0.95      1.00      0.97     43439\n",
      "           1       0.52      0.08      0.14      2635\n",
      "\n",
      "    accuracy                           0.94     46074\n",
      "   macro avg       0.73      0.54      0.55     46074\n",
      "weighted avg       0.92      0.94      0.92     46074\n",
      "\n"
     ]
    }
   ],
   "source": [
    "print(classification_report(y_val, p_val))"
   ]
  },
  {
   "cell_type": "code",
   "execution_count": 42,
   "metadata": {
    "colab": {
     "base_uri": "https://localhost:8080/"
    },
    "id": "0sPxAirMcKB2",
    "outputId": "25effa2c-cd99-4dcc-e0e1-741b39237a48"
   },
   "outputs": [
    {
     "name": "stdout",
     "output_type": "stream",
     "text": [
      "Predito      0    1    All\n",
      "Real                      \n",
      "0        43248  191  43439\n",
      "1         2429  206   2635\n",
      "All      45677  397  46074\n"
     ]
    }
   ],
   "source": [
    "print(pd.crosstab(y_val, p_val, rownames=['Real'], colnames=['Predito'], margins=True))"
   ]
  },
  {
   "cell_type": "markdown",
   "metadata": {
    "id": "APCAW32XjH__"
   },
   "source": [
    "## Random Forest"
   ]
  },
  {
   "cell_type": "code",
   "execution_count": 43,
   "metadata": {},
   "outputs": [],
   "source": [
    "from sklearn.ensemble import RandomForestClassifier\n",
    "rf = RandomForestClassifier()"
   ]
  },
  {
   "cell_type": "code",
   "execution_count": 44,
   "metadata": {
    "id": "RbVVb0z3iELz"
   },
   "outputs": [],
   "source": [
    "#Realizando o treinamento\n",
    "rf = rf.fit(X_train, y_train)"
   ]
  },
  {
   "cell_type": "code",
   "execution_count": 45,
   "metadata": {
    "id": "z3jL0BvzjHi3"
   },
   "outputs": [],
   "source": [
    "p_val = rf.predict(X_val)"
   ]
  },
  {
   "cell_type": "code",
   "execution_count": 46,
   "metadata": {
    "colab": {
     "base_uri": "https://localhost:8080/"
    },
    "id": "KKKBdH0LmTNL",
    "outputId": "89352a26-aad1-44e5-9b8b-50f2d748d66b"
   },
   "outputs": [
    {
     "name": "stdout",
     "output_type": "stream",
     "text": [
      "0.9438294916872857\n",
      "0.5896624519113435\n",
      "              precision    recall  f1-score   support\n",
      "\n",
      "           0       0.95      0.99      0.97     43439\n",
      "           1       0.52      0.19      0.28      2635\n",
      "\n",
      "    accuracy                           0.94     46074\n",
      "   macro avg       0.74      0.59      0.62     46074\n",
      "weighted avg       0.93      0.94      0.93     46074\n",
      "\n",
      "Predito      0    1    All\n",
      "Real                      \n",
      "0        42986  453  43439\n",
      "1         2135  500   2635\n",
      "All      45121  953  46074\n"
     ]
    }
   ],
   "source": [
    "#Avaliando o modelo\n",
    "print(np.mean(y_val == p_val))\n",
    "print(roc_auc_score(y_val, p_val))\n",
    "print(classification_report(y_val, p_val))\n",
    "print(pd.crosstab(y_val, p_val, rownames=['Real'],colnames=['Predito'],margins=True))"
   ]
  },
  {
   "cell_type": "markdown",
   "metadata": {
    "id": "3TfdbFidnIBF"
   },
   "source": [
    "A area sobre a curva do randomforest foi a melhor até o momento"
   ]
  },
  {
   "cell_type": "markdown",
   "metadata": {
    "id": "Hgp1TPl-w-p9"
   },
   "source": [
    "Todos os modelos treinados com a base desbalanceada não tiveram um resultado bom"
   ]
  },
  {
   "cell_type": "markdown",
   "metadata": {
    "id": "UPKKQ5cHqiaX"
   },
   "source": [
    "# 2 - Aplicando o modelo com o dataset balanceado"
   ]
  },
  {
   "cell_type": "markdown",
   "metadata": {
    "id": "Uttx5ZK0gOF0"
   },
   "source": [
    "## Aplicando o SMOTE\n",
    "\n",
    "- Gerar dados sintéticos da classe minoritária"
   ]
  },
  {
   "cell_type": "code",
   "execution_count": 47,
   "metadata": {
    "id": "nMv3BFPBgkmY"
   },
   "outputs": [],
   "source": [
    "# Separa os dados e as classes\n",
    "target_name = 'inadimplente'\n",
    "X = df_train.drop('inadimplente', axis=1)\n",
    "y = df_train[target_name]"
   ]
  },
  {
   "cell_type": "code",
   "execution_count": 48,
   "metadata": {
    "id": "i_slTtQBwZ2f"
   },
   "outputs": [],
   "source": [
    "#Vou utilizar o min_max_scaler para deixar todas as features na mesma escala, as escalas do salarios são diferente de outras features\n",
    "scaler = MinMaxScaler()\n",
    "X = scaler.fit_transform(X)"
   ]
  },
  {
   "cell_type": "code",
   "execution_count": 49,
   "metadata": {
    "id": "AvznQIsVgkMp"
   },
   "outputs": [],
   "source": [
    "# Instância o SMOTE\n",
    "smt = SMOTE()"
   ]
  },
  {
   "cell_type": "code",
   "execution_count": 50,
   "metadata": {
    "id": "M369Rix0hewj"
   },
   "outputs": [],
   "source": [
    "#Aplica o SMOTE nos dados\n",
    "X, y = smt.fit_resample(X,y)"
   ]
  },
  {
   "cell_type": "code",
   "execution_count": 51,
   "metadata": {
    "colab": {
     "base_uri": "https://localhost:8080/",
     "height": 297
    },
    "id": "JBxpJXxBhevp",
    "outputId": "1e855abe-8a8a-47d4-eab3-6be6bda37b19"
   },
   "outputs": [
    {
     "data": {
      "text/plain": [
       "<AxesSubplot:xlabel='inadimplente', ylabel='count'>"
      ]
     },
     "execution_count": 51,
     "metadata": {},
     "output_type": "execute_result"
    },
    {
     "data": {
      "image/png": "[encoded data removed]",
      "text/plain": [
       "<Figure size 432x288 with 1 Axes>"
      ]
     },
     "metadata": {
      "needs_background": "light"
     },
     "output_type": "display_data"
    }
   ],
   "source": [
    "#Visualizando a distribuição\n",
    "sns.countplot(x=y)"
   ]
  },
  {
   "cell_type": "code",
   "execution_count": 52,
   "metadata": {
    "id": "wH_acw0XheUR"
   },
   "outputs": [],
   "source": [
    "#Separando em treino e validação\n",
    "X_train, X_val, y_train, y_val = train_test_split(\n",
    "   X, \n",
    "   y, \n",
    "   random_state=0, \n",
    "   test_size=0.50,\n",
    "   stratify=y\n",
    "   )"
   ]
  },
  {
   "cell_type": "markdown",
   "metadata": {
    "id": "Fr3ewow2JDfG"
   },
   "source": [
    "## Random Forest"
   ]
  },
  {
   "cell_type": "markdown",
   "metadata": {},
   "source": [
    "- random_state = uma random_forest quando está criando o modelo tem várias pontos que vai ser utilizada a aleatoriedade e por conta disso é utilizado o random_state para fixar a aleatoriedade, permitindo que os resultados sejam reprodutiveis\n",
    "\n",
    "- n_jobs = demonstra a quantidade de arvores em paralelo que o modelo irá criar...o -1 informa que serão utilizados todos os threads disponíveis no computador para criação das arvores\n",
    "\n",
    "- Quando testei os hiperparametros (max_depth e min_samples_leaf) o resultado do modelo piorou, por conta disso utilizei os parametrôs default"
   ]
  },
  {
   "cell_type": "code",
   "execution_count": 87,
   "metadata": {
    "id": "z-a7eAhAiYv7"
   },
   "outputs": [],
   "source": [
    "#Treinar o modelo\n",
    "#Escolhi o random forest pois tinha sido o melhor modelo antes de aplicar o SMOTE\n",
    "rf = RandomForestClassifier(random_state=0, n_jobs=-1, n_estimators=300, max_depth=30)"
   ]
  },
  {
   "cell_type": "code",
   "execution_count": 88,
   "metadata": {
    "colab": {
     "base_uri": "https://localhost:8080/"
    },
    "id": "yam70uDBiYjA",
    "outputId": "203740b4-75ea-4eba-eb9b-548033199b73"
   },
   "outputs": [
    {
     "data": {
      "text/plain": [
       "RandomForestClassifier(max_depth=30, n_estimators=300, n_jobs=-1,\n",
       "                       random_state=0)"
      ]
     },
     "execution_count": 88,
     "metadata": {},
     "output_type": "execute_result"
    }
   ],
   "source": [
    "rf.fit(X_train, y_train)"
   ]
  },
  {
   "cell_type": "code",
   "execution_count": 89,
   "metadata": {
    "id": "k5K9vjR4jaM1"
   },
   "outputs": [],
   "source": [
    "p_val = rf.predict(X_val)"
   ]
  },
  {
   "cell_type": "code",
   "execution_count": 90,
   "metadata": {
    "colab": {
     "base_uri": "https://localhost:8080/"
    },
    "id": "yqZWnQM2jZ9y",
    "outputId": "2881da0d-86bc-4b8b-d4ad-b353f4ec9128"
   },
   "outputs": [
    {
     "name": "stdout",
     "output_type": "stream",
     "text": [
      "0.9504702050024748\n",
      "0.9504700199042847\n",
      "              precision    recall  f1-score   support\n",
      "\n",
      "           0       0.94      0.97      0.95     43439\n",
      "           1       0.97      0.93      0.95     43438\n",
      "\n",
      "    accuracy                           0.95     86877\n",
      "   macro avg       0.95      0.95      0.95     86877\n",
      "weighted avg       0.95      0.95      0.95     86877\n",
      "\n",
      "Predito      0      1    All\n",
      "Real                        \n",
      "0        41986   1453  43439\n",
      "1         2850  40588  43438\n",
      "All      44836  42041  86877\n"
     ]
    }
   ],
   "source": [
    "#Avaliando o modelo\n",
    "print(np.mean(y_val == p_val))\n",
    "print(roc_auc_score(y_val, p_val))\n",
    "print(classification_report(y_val, p_val))\n",
    "print(pd.crosstab(y_val, p_val, rownames=['Real'],colnames=['Predito'],margins=True))"
   ]
  },
  {
   "cell_type": "code",
   "execution_count": 57,
   "metadata": {
    "colab": {
     "base_uri": "https://localhost:8080/",
     "height": 486
    },
    "id": "ej_5Zm3Txw8j",
    "outputId": "c27eada1-e821-4698-d966-0295af9fa18e"
   },
   "outputs": [
    {
     "data": {
      "image/png": "[encoded data removed]",
      "text/plain": [
       "<Figure size 864x288 with 1 Axes>"
      ]
     },
     "metadata": {
      "needs_background": "light"
     },
     "output_type": "display_data"
    }
   ],
   "source": [
    "#Verificar quais as principais variaveis para o modelo\n",
    "importances = rf.feature_importances_\n",
    "feat_names = df_train.drop(['inadimplente'], axis=1).columns\n",
    "\n",
    "indices = np.argsort(importances)[::-1]\n",
    "plt.figure(figsize=(12,4))\n",
    "plt.title(\"Importancias das Features\")\n",
    "plt.bar(range(len(indices)), importances[indices],color='lightblue')\n",
    "plt.xticks(range(len(indices)), feat_names[indices], rotation = 'vertical')\n",
    "plt.xlim([-1, len(indices)])\n",
    "plt.show()"
   ]
  },
  {
   "cell_type": "markdown",
   "metadata": {
    "id": "cBw24svO2fa4"
   },
   "source": [
    "O modelo conseguiu bater a baseline. Portanto esse será o escolhido para fazer predição."
   ]
  },
  {
   "cell_type": "markdown",
   "metadata": {
    "id": "aV_UTFi81bd8"
   },
   "source": [
    "# 3 - Predição do modelo"
   ]
  },
  {
   "cell_type": "code",
   "execution_count": 58,
   "metadata": {},
   "outputs": [],
   "source": [
    "X_test = df_test"
   ]
  },
  {
   "cell_type": "code",
   "execution_count": 59,
   "metadata": {},
   "outputs": [],
   "source": [
    "#Vou utilizar o min_max_scaler para deixar todas as features na mesma escala, as escalas do salarios são diferente de outras features\n",
    "X_test = scaler.fit_transform(X_test)"
   ]
  },
  {
   "cell_type": "code",
   "execution_count": 60,
   "metadata": {
    "colab": {
     "base_uri": "https://localhost:8080/"
    },
    "id": "O-_cJYHX1dyE",
    "outputId": "e8c24226-1d95-477d-bdd5-74ddfa51552b"
   },
   "outputs": [
    {
     "data": {
      "text/plain": [
       "((86877, 10), (86877,), (40000, 10))"
      ]
     },
     "execution_count": 60,
     "metadata": {},
     "output_type": "execute_result"
    }
   ],
   "source": [
    "X_train.shape, y_train.shape, X_test.shape"
   ]
  },
  {
   "cell_type": "code",
   "execution_count": 61,
   "metadata": {
    "id": "K2NNfYFX1hi4"
   },
   "outputs": [],
   "source": [
    "p = rf.predict(X_test)"
   ]
  },
  {
   "cell_type": "code",
   "execution_count": 62,
   "metadata": {},
   "outputs": [
    {
     "data": {
      "text/plain": [
       "array([0, 0, 0, ..., 0, 0, 1], dtype=int64)"
      ]
     },
     "execution_count": 62,
     "metadata": {},
     "output_type": "execute_result"
    }
   ],
   "source": [
    "p"
   ]
  },
  {
   "cell_type": "markdown",
   "metadata": {},
   "source": [
    "Incluindo a predição na base de teste"
   ]
  },
  {
   "cell_type": "code",
   "execution_count": 63,
   "metadata": {
    "id": "F9iCtQbF1p_m"
   },
   "outputs": [],
   "source": [
    "df_test['inadimplente'] = p"
   ]
  },
  {
   "cell_type": "code",
   "execution_count": 64,
   "metadata": {},
   "outputs": [
    {
     "data": {
      "text/html": [
       "<div>\n",
       "<style scoped>\n",
       "    .dataframe tbody tr th:only-of-type {\n",
       "        vertical-align: middle;\n",
       "    }\n",
       "\n",
       "    .dataframe tbody tr th {\n",
       "        vertical-align: top;\n",
       "    }\n",
       "\n",
       "    .dataframe thead th {\n",
       "        text-align: right;\n",
       "    }\n",
       "</style>\n",
       "<table border=\"1\" class=\"dataframe\">\n",
       "  <thead>\n",
       "    <tr style=\"text-align: right;\">\n",
       "      <th></th>\n",
       "      <th>util_linhas_inseguras</th>\n",
       "      <th>idade</th>\n",
       "      <th>vezes_passou_de_30_59_dias</th>\n",
       "      <th>razao_debito</th>\n",
       "      <th>salario_mensal</th>\n",
       "      <th>numero_linhas_crdto_aberto</th>\n",
       "      <th>numero_vezes_passou_90_dias</th>\n",
       "      <th>numero_emprestimos_imobiliarios</th>\n",
       "      <th>numero_de_vezes_que_passou_60_89_dias</th>\n",
       "      <th>numero_de_dependentes</th>\n",
       "      <th>inadimplente</th>\n",
       "    </tr>\n",
       "  </thead>\n",
       "  <tbody>\n",
       "    <tr>\n",
       "      <th>0</th>\n",
       "      <td>0.025849</td>\n",
       "      <td>62</td>\n",
       "      <td>0</td>\n",
       "      <td>0.081775</td>\n",
       "      <td>8180.0</td>\n",
       "      <td>3</td>\n",
       "      <td>0</td>\n",
       "      <td>2</td>\n",
       "      <td>0</td>\n",
       "      <td>0.0</td>\n",
       "      <td>0</td>\n",
       "    </tr>\n",
       "    <tr>\n",
       "      <th>1</th>\n",
       "      <td>0.667083</td>\n",
       "      <td>55</td>\n",
       "      <td>0</td>\n",
       "      <td>0.153112</td>\n",
       "      <td>2200.0</td>\n",
       "      <td>3</td>\n",
       "      <td>0</td>\n",
       "      <td>0</td>\n",
       "      <td>0</td>\n",
       "      <td>0.0</td>\n",
       "      <td>0</td>\n",
       "    </tr>\n",
       "    <tr>\n",
       "      <th>2</th>\n",
       "      <td>0.007093</td>\n",
       "      <td>44</td>\n",
       "      <td>0</td>\n",
       "      <td>0.148800</td>\n",
       "      <td>7499.0</td>\n",
       "      <td>20</td>\n",
       "      <td>0</td>\n",
       "      <td>1</td>\n",
       "      <td>0</td>\n",
       "      <td>0.0</td>\n",
       "      <td>0</td>\n",
       "    </tr>\n",
       "    <tr>\n",
       "      <th>3</th>\n",
       "      <td>0.091213</td>\n",
       "      <td>54</td>\n",
       "      <td>0</td>\n",
       "      <td>0.351635</td>\n",
       "      <td>5900.0</td>\n",
       "      <td>15</td>\n",
       "      <td>0</td>\n",
       "      <td>1</td>\n",
       "      <td>1</td>\n",
       "      <td>0.0</td>\n",
       "      <td>0</td>\n",
       "    </tr>\n",
       "    <tr>\n",
       "      <th>4</th>\n",
       "      <td>0.112680</td>\n",
       "      <td>54</td>\n",
       "      <td>0</td>\n",
       "      <td>0.065959</td>\n",
       "      <td>2167.0</td>\n",
       "      <td>3</td>\n",
       "      <td>0</td>\n",
       "      <td>0</td>\n",
       "      <td>0</td>\n",
       "      <td>0.0</td>\n",
       "      <td>0</td>\n",
       "    </tr>\n",
       "  </tbody>\n",
       "</table>\n",
       "</div>"
      ],
      "text/plain": [
       "   util_linhas_inseguras  idade  vezes_passou_de_30_59_dias  razao_debito  \\\n",
       "0               0.025849     62                           0      0.081775   \n",
       "1               0.667083     55                           0      0.153112   \n",
       "2               0.007093     44                           0      0.148800   \n",
       "3               0.091213     54                           0      0.351635   \n",
       "4               0.112680     54                           0      0.065959   \n",
       "\n",
       "   salario_mensal  numero_linhas_crdto_aberto  numero_vezes_passou_90_dias  \\\n",
       "0          8180.0                           3                            0   \n",
       "1          2200.0                           3                            0   \n",
       "2          7499.0                          20                            0   \n",
       "3          5900.0                          15                            0   \n",
       "4          2167.0                           3                            0   \n",
       "\n",
       "   numero_emprestimos_imobiliarios  numero_de_vezes_que_passou_60_89_dias  \\\n",
       "0                                2                                      0   \n",
       "1                                0                                      0   \n",
       "2                                1                                      0   \n",
       "3                                1                                      1   \n",
       "4                                0                                      0   \n",
       "\n",
       "   numero_de_dependentes  inadimplente  \n",
       "0                    0.0             0  \n",
       "1                    0.0             0  \n",
       "2                    0.0             0  \n",
       "3                    0.0             0  \n",
       "4                    0.0             0  "
      ]
     },
     "execution_count": 64,
     "metadata": {},
     "output_type": "execute_result"
    }
   ],
   "source": [
    "df_test.head()"
   ]
  },
  {
   "cell_type": "code",
   "execution_count": 65,
   "metadata": {
    "colab": {
     "base_uri": "https://localhost:8080/",
     "height": 499
    },
    "id": "DSnUUbTZ6mhy",
    "outputId": "d6b08c6d-b5c6-4848-86c4-e0752869fa02",
    "tags": []
   },
   "outputs": [
    {
     "data": {
      "text/html": [
       "<div>\n",
       "<style scoped>\n",
       "    .dataframe tbody tr th:only-of-type {\n",
       "        vertical-align: middle;\n",
       "    }\n",
       "\n",
       "    .dataframe tbody tr th {\n",
       "        vertical-align: top;\n",
       "    }\n",
       "\n",
       "    .dataframe thead th {\n",
       "        text-align: right;\n",
       "    }\n",
       "</style>\n",
       "<table border=\"1\" class=\"dataframe\">\n",
       "  <thead>\n",
       "    <tr style=\"text-align: right;\">\n",
       "      <th></th>\n",
       "      <th>util_linhas_inseguras</th>\n",
       "      <th>idade</th>\n",
       "      <th>vezes_passou_de_30_59_dias</th>\n",
       "      <th>razao_debito</th>\n",
       "      <th>salario_mensal</th>\n",
       "      <th>numero_linhas_crdto_aberto</th>\n",
       "      <th>numero_vezes_passou_90_dias</th>\n",
       "      <th>numero_emprestimos_imobiliarios</th>\n",
       "      <th>numero_de_vezes_que_passou_60_89_dias</th>\n",
       "      <th>numero_de_dependentes</th>\n",
       "      <th>inadimplente</th>\n",
       "    </tr>\n",
       "  </thead>\n",
       "  <tbody>\n",
       "    <tr>\n",
       "      <th>7</th>\n",
       "      <td>0.000000</td>\n",
       "      <td>76</td>\n",
       "      <td>1</td>\n",
       "      <td>0.261611</td>\n",
       "      <td>1700.000000</td>\n",
       "      <td>4</td>\n",
       "      <td>0</td>\n",
       "      <td>0</td>\n",
       "      <td>0</td>\n",
       "      <td>0.0</td>\n",
       "      <td>1</td>\n",
       "    </tr>\n",
       "    <tr>\n",
       "      <th>8</th>\n",
       "      <td>0.062280</td>\n",
       "      <td>55</td>\n",
       "      <td>0</td>\n",
       "      <td>0.406667</td>\n",
       "      <td>15658.000000</td>\n",
       "      <td>14</td>\n",
       "      <td>1</td>\n",
       "      <td>3</td>\n",
       "      <td>0</td>\n",
       "      <td>0.0</td>\n",
       "      <td>1</td>\n",
       "    </tr>\n",
       "    <tr>\n",
       "      <th>9</th>\n",
       "      <td>0.479899</td>\n",
       "      <td>41</td>\n",
       "      <td>1</td>\n",
       "      <td>0.209903</td>\n",
       "      <td>8441.000000</td>\n",
       "      <td>6</td>\n",
       "      <td>0</td>\n",
       "      <td>3</td>\n",
       "      <td>0</td>\n",
       "      <td>0.0</td>\n",
       "      <td>1</td>\n",
       "    </tr>\n",
       "    <tr>\n",
       "      <th>11</th>\n",
       "      <td>0.843405</td>\n",
       "      <td>56</td>\n",
       "      <td>1</td>\n",
       "      <td>0.592720</td>\n",
       "      <td>6400.000000</td>\n",
       "      <td>5</td>\n",
       "      <td>0</td>\n",
       "      <td>2</td>\n",
       "      <td>0</td>\n",
       "      <td>1.0</td>\n",
       "      <td>1</td>\n",
       "    </tr>\n",
       "    <tr>\n",
       "      <th>14</th>\n",
       "      <td>0.964024</td>\n",
       "      <td>41</td>\n",
       "      <td>0</td>\n",
       "      <td>0.059349</td>\n",
       "      <td>10749.000000</td>\n",
       "      <td>9</td>\n",
       "      <td>1</td>\n",
       "      <td>0</td>\n",
       "      <td>0</td>\n",
       "      <td>0.0</td>\n",
       "      <td>1</td>\n",
       "    </tr>\n",
       "    <tr>\n",
       "      <th>...</th>\n",
       "      <td>...</td>\n",
       "      <td>...</td>\n",
       "      <td>...</td>\n",
       "      <td>...</td>\n",
       "      <td>...</td>\n",
       "      <td>...</td>\n",
       "      <td>...</td>\n",
       "      <td>...</td>\n",
       "      <td>...</td>\n",
       "      <td>...</td>\n",
       "      <td>...</td>\n",
       "    </tr>\n",
       "    <tr>\n",
       "      <th>39979</th>\n",
       "      <td>0.073758</td>\n",
       "      <td>63</td>\n",
       "      <td>1</td>\n",
       "      <td>0.392101</td>\n",
       "      <td>6000.000000</td>\n",
       "      <td>15</td>\n",
       "      <td>0</td>\n",
       "      <td>1</td>\n",
       "      <td>0</td>\n",
       "      <td>0.0</td>\n",
       "      <td>1</td>\n",
       "    </tr>\n",
       "    <tr>\n",
       "      <th>39982</th>\n",
       "      <td>0.974605</td>\n",
       "      <td>42</td>\n",
       "      <td>1</td>\n",
       "      <td>0.130724</td>\n",
       "      <td>1200.000000</td>\n",
       "      <td>3</td>\n",
       "      <td>0</td>\n",
       "      <td>0</td>\n",
       "      <td>1</td>\n",
       "      <td>0.0</td>\n",
       "      <td>1</td>\n",
       "    </tr>\n",
       "    <tr>\n",
       "      <th>39984</th>\n",
       "      <td>0.420788</td>\n",
       "      <td>48</td>\n",
       "      <td>1</td>\n",
       "      <td>1333.000000</td>\n",
       "      <td>6760.601836</td>\n",
       "      <td>7</td>\n",
       "      <td>0</td>\n",
       "      <td>0</td>\n",
       "      <td>0</td>\n",
       "      <td>0.0</td>\n",
       "      <td>1</td>\n",
       "    </tr>\n",
       "    <tr>\n",
       "      <th>39995</th>\n",
       "      <td>0.000000</td>\n",
       "      <td>68</td>\n",
       "      <td>1</td>\n",
       "      <td>0.062858</td>\n",
       "      <td>10833.000000</td>\n",
       "      <td>9</td>\n",
       "      <td>1</td>\n",
       "      <td>0</td>\n",
       "      <td>0</td>\n",
       "      <td>0.0</td>\n",
       "      <td>1</td>\n",
       "    </tr>\n",
       "    <tr>\n",
       "      <th>39999</th>\n",
       "      <td>1.000000</td>\n",
       "      <td>28</td>\n",
       "      <td>0</td>\n",
       "      <td>0.002285</td>\n",
       "      <td>3500.000000</td>\n",
       "      <td>0</td>\n",
       "      <td>1</td>\n",
       "      <td>0</td>\n",
       "      <td>0</td>\n",
       "      <td>0.0</td>\n",
       "      <td>1</td>\n",
       "    </tr>\n",
       "  </tbody>\n",
       "</table>\n",
       "<p>5847 rows × 11 columns</p>\n",
       "</div>"
      ],
      "text/plain": [
       "       util_linhas_inseguras  idade  vezes_passou_de_30_59_dias  razao_debito  \\\n",
       "7                   0.000000     76                           1      0.261611   \n",
       "8                   0.062280     55                           0      0.406667   \n",
       "9                   0.479899     41                           1      0.209903   \n",
       "11                  0.843405     56                           1      0.592720   \n",
       "14                  0.964024     41                           0      0.059349   \n",
       "...                      ...    ...                         ...           ...   \n",
       "39979               0.073758     63                           1      0.392101   \n",
       "39982               0.974605     42                           1      0.130724   \n",
       "39984               0.420788     48                           1   1333.000000   \n",
       "39995               0.000000     68                           1      0.062858   \n",
       "39999               1.000000     28                           0      0.002285   \n",
       "\n",
       "       salario_mensal  numero_linhas_crdto_aberto  \\\n",
       "7         1700.000000                           4   \n",
       "8        15658.000000                          14   \n",
       "9         8441.000000                           6   \n",
       "11        6400.000000                           5   \n",
       "14       10749.000000                           9   \n",
       "...               ...                         ...   \n",
       "39979     6000.000000                          15   \n",
       "39982     1200.000000                           3   \n",
       "39984     6760.601836                           7   \n",
       "39995    10833.000000                           9   \n",
       "39999     3500.000000                           0   \n",
       "\n",
       "       numero_vezes_passou_90_dias  numero_emprestimos_imobiliarios  \\\n",
       "7                                0                                0   \n",
       "8                                1                                3   \n",
       "9                                0                                3   \n",
       "11                               0                                2   \n",
       "14                               1                                0   \n",
       "...                            ...                              ...   \n",
       "39979                            0                                1   \n",
       "39982                            0                                0   \n",
       "39984                            0                                0   \n",
       "39995                            1                                0   \n",
       "39999                            1                                0   \n",
       "\n",
       "       numero_de_vezes_que_passou_60_89_dias  numero_de_dependentes  \\\n",
       "7                                          0                    0.0   \n",
       "8                                          0                    0.0   \n",
       "9                                          0                    0.0   \n",
       "11                                         0                    1.0   \n",
       "14                                         0                    0.0   \n",
       "...                                      ...                    ...   \n",
       "39979                                      0                    0.0   \n",
       "39982                                      1                    0.0   \n",
       "39984                                      0                    0.0   \n",
       "39995                                      0                    0.0   \n",
       "39999                                      0                    0.0   \n",
       "\n",
       "       inadimplente  \n",
       "7                 1  \n",
       "8                 1  \n",
       "9                 1  \n",
       "11                1  \n",
       "14                1  \n",
       "...             ...  \n",
       "39979             1  \n",
       "39982             1  \n",
       "39984             1  \n",
       "39995             1  \n",
       "39999             1  \n",
       "\n",
       "[5847 rows x 11 columns]"
      ]
     },
     "execution_count": 65,
     "metadata": {},
     "output_type": "execute_result"
    }
   ],
   "source": [
    "df_test[df_test['inadimplente']==1]"
   ]
  },
  {
   "cell_type": "code",
   "execution_count": 66,
   "metadata": {
    "id": "o6LoYS3w6oEL"
   },
   "outputs": [],
   "source": [
    "df_test.to_csv('resultado_predic_rafael_santos.csv')"
   ]
  }
 ],
 "metadata": {
  "colab": {
   "collapsed_sections": [
    "_0MWrYeRoT1G",
    "2Lw6BEMSr2Ge",
    "t2LbMbnJpzGL",
    "Z4eY66zfqT5g",
    "tkc9yHg-uFwP",
    "hyvYety3fvmr",
    "agFyuiR4qQp7",
    "obddOhwWtcRf",
    "8rgwYJZ2i3OC",
    "9BFqSrFXjI7A",
    "APCAW32XjH__",
    "UPKKQ5cHqiaX",
    "aV_UTFi81bd8"
   ],
   "name": "Modelo_previsao_credito.ipynb",
   "provenance": []
  },
  "kernelspec": {
   "display_name": "Python 3 (ipykernel)",
   "language": "python",
   "name": "python3"
  },
  "language_info": {
   "codemirror_mode": {
    "name": "ipython",
    "version": 3
   },
   "file_extension": ".py",
   "mimetype": "text/x-python",
   "name": "python",
   "nbconvert_exporter": "python",
   "pygments_lexer": "ipython3",
   "version": "3.9.7"
  }
 },
 "nbformat": 4,
 "nbformat_minor": 4
}
