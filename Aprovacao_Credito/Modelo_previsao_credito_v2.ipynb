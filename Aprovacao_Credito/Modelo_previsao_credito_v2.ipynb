{
 "cells": [
  {
   "cell_type": "markdown",
   "metadata": {},
   "source": [
    "Imports iniciais necessários"
   ]
  },
  {
   "cell_type": "code",
   "execution_count": 143,
   "metadata": {
    "id": "tsemLRvmnak2",
    "tags": []
   },
   "outputs": [],
   "source": [
    "import pandas as pd\n",
    "import numpy as np\n",
    "\n",
    "import matplotlib.pyplot as plt\n",
    "import seaborn as sns\n",
    "\n",
    "# Sampling Methods\n",
    "from imblearn.over_sampling import SMOTE"
   ]
  },
  {
   "cell_type": "code",
   "execution_count": 144,
   "metadata": {
    "id": "JrxrqYSSndaj"
   },
   "outputs": [],
   "source": [
    "df_train = pd.read_csv('treino.csv')\n",
    "df_test = pd.read_csv('teste.csv')"
   ]
  },
  {
   "cell_type": "markdown",
   "metadata": {},
   "source": [
    "Primeiramente, foi utilizada a função head(), tanto no dataframe de treino e teste de maneira que possa possilitar uma visão geral da estrutura dos dados."
   ]
  },
  {
   "cell_type": "code",
   "execution_count": 145,
   "metadata": {
    "colab": {
     "base_uri": "https://localhost:8080/",
     "height": 270
    },
    "id": "eUuof6URnqzA",
    "outputId": "213c605c-10d8-4377-af18-bbde7dcb5aa1"
   },
   "outputs": [
    {
     "data": {
      "text/html": [
       "<div>\n",
       "<style scoped>\n",
       "    .dataframe tbody tr th:only-of-type {\n",
       "        vertical-align: middle;\n",
       "    }\n",
       "\n",
       "    .dataframe tbody tr th {\n",
       "        vertical-align: top;\n",
       "    }\n",
       "\n",
       "    .dataframe thead th {\n",
       "        text-align: right;\n",
       "    }\n",
       "</style>\n",
       "<table border=\"1\" class=\"dataframe\">\n",
       "  <thead>\n",
       "    <tr style=\"text-align: right;\">\n",
       "      <th></th>\n",
       "      <th>inadimplente</th>\n",
       "      <th>util_linhas_inseguras</th>\n",
       "      <th>idade</th>\n",
       "      <th>vezes_passou_de_30_59_dias</th>\n",
       "      <th>razao_debito</th>\n",
       "      <th>salario_mensal</th>\n",
       "      <th>numero_linhas_crdto_aberto</th>\n",
       "      <th>numero_vezes_passou_90_dias</th>\n",
       "      <th>numero_emprestimos_imobiliarios</th>\n",
       "      <th>numero_de_vezes_que_passou_60_89_dias</th>\n",
       "      <th>numero_de_dependentes</th>\n",
       "    </tr>\n",
       "  </thead>\n",
       "  <tbody>\n",
       "    <tr>\n",
       "      <th>0</th>\n",
       "      <td>1</td>\n",
       "      <td>0.766127</td>\n",
       "      <td>45</td>\n",
       "      <td>2</td>\n",
       "      <td>0.802982</td>\n",
       "      <td>9120.0</td>\n",
       "      <td>13</td>\n",
       "      <td>0</td>\n",
       "      <td>6</td>\n",
       "      <td>0</td>\n",
       "      <td>2.0</td>\n",
       "    </tr>\n",
       "    <tr>\n",
       "      <th>1</th>\n",
       "      <td>0</td>\n",
       "      <td>0.957151</td>\n",
       "      <td>40</td>\n",
       "      <td>0</td>\n",
       "      <td>0.121876</td>\n",
       "      <td>2600.0</td>\n",
       "      <td>4</td>\n",
       "      <td>0</td>\n",
       "      <td>0</td>\n",
       "      <td>0</td>\n",
       "      <td>1.0</td>\n",
       "    </tr>\n",
       "    <tr>\n",
       "      <th>2</th>\n",
       "      <td>0</td>\n",
       "      <td>0.658180</td>\n",
       "      <td>38</td>\n",
       "      <td>1</td>\n",
       "      <td>0.085113</td>\n",
       "      <td>3042.0</td>\n",
       "      <td>2</td>\n",
       "      <td>1</td>\n",
       "      <td>0</td>\n",
       "      <td>0</td>\n",
       "      <td>0.0</td>\n",
       "    </tr>\n",
       "    <tr>\n",
       "      <th>3</th>\n",
       "      <td>0</td>\n",
       "      <td>0.233810</td>\n",
       "      <td>30</td>\n",
       "      <td>0</td>\n",
       "      <td>0.036050</td>\n",
       "      <td>3300.0</td>\n",
       "      <td>5</td>\n",
       "      <td>0</td>\n",
       "      <td>0</td>\n",
       "      <td>0</td>\n",
       "      <td>0.0</td>\n",
       "    </tr>\n",
       "    <tr>\n",
       "      <th>4</th>\n",
       "      <td>0</td>\n",
       "      <td>0.907239</td>\n",
       "      <td>49</td>\n",
       "      <td>1</td>\n",
       "      <td>0.024926</td>\n",
       "      <td>63588.0</td>\n",
       "      <td>7</td>\n",
       "      <td>0</td>\n",
       "      <td>1</td>\n",
       "      <td>0</td>\n",
       "      <td>0.0</td>\n",
       "    </tr>\n",
       "  </tbody>\n",
       "</table>\n",
       "</div>"
      ],
      "text/plain": [
       "   inadimplente  util_linhas_inseguras  idade  vezes_passou_de_30_59_dias  \\\n",
       "0             1               0.766127     45                           2   \n",
       "1             0               0.957151     40                           0   \n",
       "2             0               0.658180     38                           1   \n",
       "3             0               0.233810     30                           0   \n",
       "4             0               0.907239     49                           1   \n",
       "\n",
       "   razao_debito  salario_mensal  numero_linhas_crdto_aberto  \\\n",
       "0      0.802982          9120.0                          13   \n",
       "1      0.121876          2600.0                           4   \n",
       "2      0.085113          3042.0                           2   \n",
       "3      0.036050          3300.0                           5   \n",
       "4      0.024926         63588.0                           7   \n",
       "\n",
       "   numero_vezes_passou_90_dias  numero_emprestimos_imobiliarios  \\\n",
       "0                            0                                6   \n",
       "1                            0                                0   \n",
       "2                            1                                0   \n",
       "3                            0                                0   \n",
       "4                            0                                1   \n",
       "\n",
       "   numero_de_vezes_que_passou_60_89_dias  numero_de_dependentes  \n",
       "0                                      0                    2.0  \n",
       "1                                      0                    1.0  \n",
       "2                                      0                    0.0  \n",
       "3                                      0                    0.0  \n",
       "4                                      0                    0.0  "
      ]
     },
     "execution_count": 145,
     "metadata": {},
     "output_type": "execute_result"
    }
   ],
   "source": [
    "df_train.head()"
   ]
  },
  {
   "cell_type": "code",
   "execution_count": 146,
   "metadata": {
    "colab": {
     "base_uri": "https://localhost:8080/",
     "height": 270
    },
    "id": "wH1bHbCBnxDe",
    "outputId": "0deabdf9-a161-410d-c5ea-04dcf87e637e"
   },
   "outputs": [
    {
     "data": {
      "text/html": [
       "<div>\n",
       "<style scoped>\n",
       "    .dataframe tbody tr th:only-of-type {\n",
       "        vertical-align: middle;\n",
       "    }\n",
       "\n",
       "    .dataframe tbody tr th {\n",
       "        vertical-align: top;\n",
       "    }\n",
       "\n",
       "    .dataframe thead th {\n",
       "        text-align: right;\n",
       "    }\n",
       "</style>\n",
       "<table border=\"1\" class=\"dataframe\">\n",
       "  <thead>\n",
       "    <tr style=\"text-align: right;\">\n",
       "      <th></th>\n",
       "      <th>util_linhas_inseguras</th>\n",
       "      <th>idade</th>\n",
       "      <th>vezes_passou_de_30_59_dias</th>\n",
       "      <th>razao_debito</th>\n",
       "      <th>salario_mensal</th>\n",
       "      <th>numero_linhas_crdto_aberto</th>\n",
       "      <th>numero_vezes_passou_90_dias</th>\n",
       "      <th>numero_emprestimos_imobiliarios</th>\n",
       "      <th>numero_de_vezes_que_passou_60_89_dias</th>\n",
       "      <th>numero_de_dependentes</th>\n",
       "    </tr>\n",
       "  </thead>\n",
       "  <tbody>\n",
       "    <tr>\n",
       "      <th>0</th>\n",
       "      <td>0.025849</td>\n",
       "      <td>62</td>\n",
       "      <td>0</td>\n",
       "      <td>0.081775</td>\n",
       "      <td>8180.0</td>\n",
       "      <td>3</td>\n",
       "      <td>0</td>\n",
       "      <td>2</td>\n",
       "      <td>0</td>\n",
       "      <td>0.0</td>\n",
       "    </tr>\n",
       "    <tr>\n",
       "      <th>1</th>\n",
       "      <td>0.667083</td>\n",
       "      <td>55</td>\n",
       "      <td>0</td>\n",
       "      <td>0.153112</td>\n",
       "      <td>2200.0</td>\n",
       "      <td>3</td>\n",
       "      <td>0</td>\n",
       "      <td>0</td>\n",
       "      <td>0</td>\n",
       "      <td>0.0</td>\n",
       "    </tr>\n",
       "    <tr>\n",
       "      <th>2</th>\n",
       "      <td>0.007093</td>\n",
       "      <td>44</td>\n",
       "      <td>0</td>\n",
       "      <td>0.148800</td>\n",
       "      <td>7499.0</td>\n",
       "      <td>20</td>\n",
       "      <td>0</td>\n",
       "      <td>1</td>\n",
       "      <td>0</td>\n",
       "      <td>0.0</td>\n",
       "    </tr>\n",
       "    <tr>\n",
       "      <th>3</th>\n",
       "      <td>0.091213</td>\n",
       "      <td>54</td>\n",
       "      <td>0</td>\n",
       "      <td>0.351635</td>\n",
       "      <td>5900.0</td>\n",
       "      <td>15</td>\n",
       "      <td>0</td>\n",
       "      <td>1</td>\n",
       "      <td>1</td>\n",
       "      <td>0.0</td>\n",
       "    </tr>\n",
       "    <tr>\n",
       "      <th>4</th>\n",
       "      <td>0.112680</td>\n",
       "      <td>54</td>\n",
       "      <td>0</td>\n",
       "      <td>0.065959</td>\n",
       "      <td>2167.0</td>\n",
       "      <td>3</td>\n",
       "      <td>0</td>\n",
       "      <td>0</td>\n",
       "      <td>0</td>\n",
       "      <td>0.0</td>\n",
       "    </tr>\n",
       "  </tbody>\n",
       "</table>\n",
       "</div>"
      ],
      "text/plain": [
       "   util_linhas_inseguras  idade  vezes_passou_de_30_59_dias  razao_debito  \\\n",
       "0               0.025849     62                           0      0.081775   \n",
       "1               0.667083     55                           0      0.153112   \n",
       "2               0.007093     44                           0      0.148800   \n",
       "3               0.091213     54                           0      0.351635   \n",
       "4               0.112680     54                           0      0.065959   \n",
       "\n",
       "   salario_mensal  numero_linhas_crdto_aberto  numero_vezes_passou_90_dias  \\\n",
       "0          8180.0                           3                            0   \n",
       "1          2200.0                           3                            0   \n",
       "2          7499.0                          20                            0   \n",
       "3          5900.0                          15                            0   \n",
       "4          2167.0                           3                            0   \n",
       "\n",
       "   numero_emprestimos_imobiliarios  numero_de_vezes_que_passou_60_89_dias  \\\n",
       "0                                2                                      0   \n",
       "1                                0                                      0   \n",
       "2                                1                                      0   \n",
       "3                                1                                      1   \n",
       "4                                0                                      0   \n",
       "\n",
       "   numero_de_dependentes  \n",
       "0                    0.0  \n",
       "1                    0.0  \n",
       "2                    0.0  \n",
       "3                    0.0  \n",
       "4                    0.0  "
      ]
     },
     "execution_count": 146,
     "metadata": {},
     "output_type": "execute_result"
    }
   ],
   "source": [
    "df_test.head()"
   ]
  },
  {
   "cell_type": "markdown",
   "metadata": {},
   "source": [
    "Visualizar todas as colunas do dataset"
   ]
  },
  {
   "cell_type": "code",
   "execution_count": 147,
   "metadata": {
    "colab": {
     "base_uri": "https://localhost:8080/"
    },
    "id": "KrcsQKbnn5gB",
    "outputId": "a11b3ddc-4b69-4987-8140-265ad6c93b7e"
   },
   "outputs": [
    {
     "data": {
      "text/plain": [
       "Index(['inadimplente', 'util_linhas_inseguras', 'idade',\n",
       "       'vezes_passou_de_30_59_dias', 'razao_debito', 'salario_mensal',\n",
       "       'numero_linhas_crdto_aberto', 'numero_vezes_passou_90_dias',\n",
       "       'numero_emprestimos_imobiliarios',\n",
       "       'numero_de_vezes_que_passou_60_89_dias', 'numero_de_dependentes'],\n",
       "      dtype='object')"
      ]
     },
     "execution_count": 147,
     "metadata": {},
     "output_type": "execute_result"
    }
   ],
   "source": [
    "df_train.columns"
   ]
  },
  {
   "cell_type": "markdown",
   "metadata": {
    "id": "_0MWrYeRoT1G"
   },
   "source": [
    "# 0 - Pré processando e analisando os dados"
   ]
  },
  {
   "cell_type": "markdown",
   "metadata": {
    "id": "2Lw6BEMSr2Ge"
   },
   "source": [
    "### Análise Estatistica"
   ]
  },
  {
   "cell_type": "markdown",
   "metadata": {},
   "source": [
    "O metódo .info() imprime as informações sobre um DataFrame, incluindo o dtype, as colunas do índice, valores não nulos e uso de memória."
   ]
  },
  {
   "cell_type": "code",
   "execution_count": 148,
   "metadata": {
    "colab": {
     "base_uri": "https://localhost:8080/"
    },
    "id": "zxZR2z2moB3S",
    "outputId": "7a7789ee-29f4-43cb-bd47-5b2dcbb2382f"
   },
   "outputs": [
    {
     "name": "stdout",
     "output_type": "stream",
     "text": [
      "<class 'pandas.core.frame.DataFrame'>\n",
      "RangeIndex: 110000 entries, 0 to 109999\n",
      "Data columns (total 11 columns):\n",
      " #   Column                                 Non-Null Count   Dtype  \n",
      "---  ------                                 --------------   -----  \n",
      " 0   inadimplente                           110000 non-null  int64  \n",
      " 1   util_linhas_inseguras                  110000 non-null  float64\n",
      " 2   idade                                  110000 non-null  int64  \n",
      " 3   vezes_passou_de_30_59_dias             110000 non-null  int64  \n",
      " 4   razao_debito                           110000 non-null  float64\n",
      " 5   salario_mensal                         88237 non-null   float64\n",
      " 6   numero_linhas_crdto_aberto             110000 non-null  int64  \n",
      " 7   numero_vezes_passou_90_dias            110000 non-null  int64  \n",
      " 8   numero_emprestimos_imobiliarios        110000 non-null  int64  \n",
      " 9   numero_de_vezes_que_passou_60_89_dias  110000 non-null  int64  \n",
      " 10  numero_de_dependentes                  107122 non-null  float64\n",
      "dtypes: float64(4), int64(7)\n",
      "memory usage: 9.2 MB\n"
     ]
    }
   ],
   "source": [
    "df_train.info()"
   ]
  },
  {
   "cell_type": "markdown",
   "metadata": {},
   "source": [
    "O método describe() exibe informações estatística da base de dados\n",
    "\n",
    " - count: a quantidade de linhas\n",
    " - mean: média dos valores por coluna\n",
    " - std: desvio padrão\n",
    " - min: valor mínimo\n",
    " - quartis (25%,50% e 75%)\n",
    " - max: valor máximo"
   ]
  },
  {
   "cell_type": "code",
   "execution_count": 149,
   "metadata": {
    "colab": {
     "base_uri": "https://localhost:8080/",
     "height": 0
    },
    "id": "hGeDHJ2mr6Y_",
    "outputId": "39cdaa22-f6bc-4961-91ca-dc7a40c21034"
   },
   "outputs": [
    {
     "data": {
      "text/html": [
       "<div>\n",
       "<style scoped>\n",
       "    .dataframe tbody tr th:only-of-type {\n",
       "        vertical-align: middle;\n",
       "    }\n",
       "\n",
       "    .dataframe tbody tr th {\n",
       "        vertical-align: top;\n",
       "    }\n",
       "\n",
       "    .dataframe thead th {\n",
       "        text-align: right;\n",
       "    }\n",
       "</style>\n",
       "<table border=\"1\" class=\"dataframe\">\n",
       "  <thead>\n",
       "    <tr style=\"text-align: right;\">\n",
       "      <th></th>\n",
       "      <th>inadimplente</th>\n",
       "      <th>util_linhas_inseguras</th>\n",
       "      <th>idade</th>\n",
       "      <th>vezes_passou_de_30_59_dias</th>\n",
       "      <th>razao_debito</th>\n",
       "      <th>salario_mensal</th>\n",
       "      <th>numero_linhas_crdto_aberto</th>\n",
       "      <th>numero_vezes_passou_90_dias</th>\n",
       "      <th>numero_emprestimos_imobiliarios</th>\n",
       "      <th>numero_de_vezes_que_passou_60_89_dias</th>\n",
       "      <th>numero_de_dependentes</th>\n",
       "    </tr>\n",
       "  </thead>\n",
       "  <tbody>\n",
       "    <tr>\n",
       "      <th>count</th>\n",
       "      <td>110000.000000</td>\n",
       "      <td>110000.000000</td>\n",
       "      <td>110000.000000</td>\n",
       "      <td>110000.000000</td>\n",
       "      <td>110000.000000</td>\n",
       "      <td>8.823700e+04</td>\n",
       "      <td>110000.000000</td>\n",
       "      <td>110000.000000</td>\n",
       "      <td>110000.000000</td>\n",
       "      <td>110000.000000</td>\n",
       "      <td>107122.000000</td>\n",
       "    </tr>\n",
       "    <tr>\n",
       "      <th>mean</th>\n",
       "      <td>0.066645</td>\n",
       "      <td>5.929979</td>\n",
       "      <td>52.255636</td>\n",
       "      <td>0.424055</td>\n",
       "      <td>354.823589</td>\n",
       "      <td>6.637411e+03</td>\n",
       "      <td>8.445573</td>\n",
       "      <td>0.269955</td>\n",
       "      <td>1.019891</td>\n",
       "      <td>0.243891</td>\n",
       "      <td>0.757482</td>\n",
       "    </tr>\n",
       "    <tr>\n",
       "      <th>std</th>\n",
       "      <td>0.249408</td>\n",
       "      <td>252.301965</td>\n",
       "      <td>14.768241</td>\n",
       "      <td>4.240780</td>\n",
       "      <td>2074.140421</td>\n",
       "      <td>1.338395e+04</td>\n",
       "      <td>5.139026</td>\n",
       "      <td>4.217326</td>\n",
       "      <td>1.135989</td>\n",
       "      <td>4.204137</td>\n",
       "      <td>1.114670</td>\n",
       "    </tr>\n",
       "    <tr>\n",
       "      <th>min</th>\n",
       "      <td>0.000000</td>\n",
       "      <td>0.000000</td>\n",
       "      <td>0.000000</td>\n",
       "      <td>0.000000</td>\n",
       "      <td>0.000000</td>\n",
       "      <td>0.000000e+00</td>\n",
       "      <td>0.000000</td>\n",
       "      <td>0.000000</td>\n",
       "      <td>0.000000</td>\n",
       "      <td>0.000000</td>\n",
       "      <td>0.000000</td>\n",
       "    </tr>\n",
       "    <tr>\n",
       "      <th>25%</th>\n",
       "      <td>0.000000</td>\n",
       "      <td>0.030054</td>\n",
       "      <td>41.000000</td>\n",
       "      <td>0.000000</td>\n",
       "      <td>0.175016</td>\n",
       "      <td>3.400000e+03</td>\n",
       "      <td>5.000000</td>\n",
       "      <td>0.000000</td>\n",
       "      <td>0.000000</td>\n",
       "      <td>0.000000</td>\n",
       "      <td>0.000000</td>\n",
       "    </tr>\n",
       "    <tr>\n",
       "      <th>50%</th>\n",
       "      <td>0.000000</td>\n",
       "      <td>0.155936</td>\n",
       "      <td>52.000000</td>\n",
       "      <td>0.000000</td>\n",
       "      <td>0.366682</td>\n",
       "      <td>5.400000e+03</td>\n",
       "      <td>8.000000</td>\n",
       "      <td>0.000000</td>\n",
       "      <td>1.000000</td>\n",
       "      <td>0.000000</td>\n",
       "      <td>0.000000</td>\n",
       "    </tr>\n",
       "    <tr>\n",
       "      <th>75%</th>\n",
       "      <td>0.000000</td>\n",
       "      <td>0.562806</td>\n",
       "      <td>63.000000</td>\n",
       "      <td>0.000000</td>\n",
       "      <td>0.866874</td>\n",
       "      <td>8.225000e+03</td>\n",
       "      <td>11.000000</td>\n",
       "      <td>0.000000</td>\n",
       "      <td>2.000000</td>\n",
       "      <td>0.000000</td>\n",
       "      <td>1.000000</td>\n",
       "    </tr>\n",
       "    <tr>\n",
       "      <th>max</th>\n",
       "      <td>1.000000</td>\n",
       "      <td>50708.000000</td>\n",
       "      <td>109.000000</td>\n",
       "      <td>98.000000</td>\n",
       "      <td>329664.000000</td>\n",
       "      <td>3.008750e+06</td>\n",
       "      <td>58.000000</td>\n",
       "      <td>98.000000</td>\n",
       "      <td>54.000000</td>\n",
       "      <td>98.000000</td>\n",
       "      <td>20.000000</td>\n",
       "    </tr>\n",
       "  </tbody>\n",
       "</table>\n",
       "</div>"
      ],
      "text/plain": [
       "        inadimplente  util_linhas_inseguras          idade  \\\n",
       "count  110000.000000          110000.000000  110000.000000   \n",
       "mean        0.066645               5.929979      52.255636   \n",
       "std         0.249408             252.301965      14.768241   \n",
       "min         0.000000               0.000000       0.000000   \n",
       "25%         0.000000               0.030054      41.000000   \n",
       "50%         0.000000               0.155936      52.000000   \n",
       "75%         0.000000               0.562806      63.000000   \n",
       "max         1.000000           50708.000000     109.000000   \n",
       "\n",
       "       vezes_passou_de_30_59_dias   razao_debito  salario_mensal  \\\n",
       "count               110000.000000  110000.000000    8.823700e+04   \n",
       "mean                     0.424055     354.823589    6.637411e+03   \n",
       "std                      4.240780    2074.140421    1.338395e+04   \n",
       "min                      0.000000       0.000000    0.000000e+00   \n",
       "25%                      0.000000       0.175016    3.400000e+03   \n",
       "50%                      0.000000       0.366682    5.400000e+03   \n",
       "75%                      0.000000       0.866874    8.225000e+03   \n",
       "max                     98.000000  329664.000000    3.008750e+06   \n",
       "\n",
       "       numero_linhas_crdto_aberto  numero_vezes_passou_90_dias  \\\n",
       "count               110000.000000                110000.000000   \n",
       "mean                     8.445573                     0.269955   \n",
       "std                      5.139026                     4.217326   \n",
       "min                      0.000000                     0.000000   \n",
       "25%                      5.000000                     0.000000   \n",
       "50%                      8.000000                     0.000000   \n",
       "75%                     11.000000                     0.000000   \n",
       "max                     58.000000                    98.000000   \n",
       "\n",
       "       numero_emprestimos_imobiliarios  numero_de_vezes_que_passou_60_89_dias  \\\n",
       "count                    110000.000000                          110000.000000   \n",
       "mean                          1.019891                               0.243891   \n",
       "std                           1.135989                               4.204137   \n",
       "min                           0.000000                               0.000000   \n",
       "25%                           0.000000                               0.000000   \n",
       "50%                           1.000000                               0.000000   \n",
       "75%                           2.000000                               0.000000   \n",
       "max                          54.000000                              98.000000   \n",
       "\n",
       "       numero_de_dependentes  \n",
       "count          107122.000000  \n",
       "mean                0.757482  \n",
       "std                 1.114670  \n",
       "min                 0.000000  \n",
       "25%                 0.000000  \n",
       "50%                 0.000000  \n",
       "75%                 1.000000  \n",
       "max                20.000000  "
      ]
     },
     "execution_count": 149,
     "metadata": {},
     "output_type": "execute_result"
    }
   ],
   "source": [
    "df_train.describe()"
   ]
  },
  {
   "cell_type": "code",
   "execution_count": 150,
   "metadata": {
    "colab": {
     "base_uri": "https://localhost:8080/"
    },
    "id": "Z2HTSzzHoKJn",
    "outputId": "c257790e-60eb-452a-f412-bdbc5de76e87"
   },
   "outputs": [
    {
     "data": {
      "text/plain": [
       "inadimplente                              0.000000\n",
       "util_linhas_inseguras                     0.000000\n",
       "idade                                     0.000000\n",
       "vezes_passou_de_30_59_dias                0.000000\n",
       "razao_debito                              0.000000\n",
       "salario_mensal                           19.784545\n",
       "numero_linhas_crdto_aberto                0.000000\n",
       "numero_vezes_passou_90_dias               0.000000\n",
       "numero_emprestimos_imobiliarios           0.000000\n",
       "numero_de_vezes_que_passou_60_89_dias     0.000000\n",
       "numero_de_dependentes                     2.616364\n",
       "dtype: float64"
      ]
     },
     "execution_count": 150,
     "metadata": {},
     "output_type": "execute_result"
    }
   ],
   "source": [
    "#Porcentagem de numeros em branco\n",
    "df_train.isnull().sum() / len(df_train)*100"
   ]
  },
  {
   "cell_type": "markdown",
   "metadata": {},
   "source": [
    "Há dados ausentes nas colunas de numero_de_dependentes e salario_mensal. Na primeira, menos de 3% estão ausentes, é possivel preencher esses dados com a média do parâmetro ou eliminar as linhas com dados ausentes. Como vemos um forte desbalanceamento da classe 1, é mais interessante que, inicialmente, não eliminemos amostras. Então, a primeira opção parece mais interessante. Já no segundo caso, quase 20% dos dados são faltantes, porém, como espera-se que o salário tenha correlação relativamente forte com a inadimplência, não podemos eliminar a coluna e nem as linhas com dados ausentes. Então, saída para o segundo caso também é preencher esses valores com a média de salarios mensais."
   ]
  },
  {
   "cell_type": "code",
   "execution_count": 151,
   "metadata": {
    "colab": {
     "base_uri": "https://localhost:8080/"
    },
    "id": "47g3e4NXpUQJ",
    "outputId": "580cd328-1901-4c6d-ed87-87943e81cea5"
   },
   "outputs": [
    {
     "data": {
      "text/plain": [
       "util_linhas_inseguras                       0\n",
       "idade                                       0\n",
       "vezes_passou_de_30_59_dias                  0\n",
       "razao_debito                                0\n",
       "salario_mensal                           7968\n",
       "numero_linhas_crdto_aberto                  0\n",
       "numero_vezes_passou_90_dias                 0\n",
       "numero_emprestimos_imobiliarios             0\n",
       "numero_de_vezes_que_passou_60_89_dias       0\n",
       "numero_de_dependentes                    1046\n",
       "dtype: int64"
      ]
     },
     "execution_count": 151,
     "metadata": {},
     "output_type": "execute_result"
    }
   ],
   "source": [
    "#Verificando se tem campos em branco base de teste\n",
    "df_test.isnull().sum()"
   ]
  },
  {
   "cell_type": "code",
   "execution_count": 152,
   "metadata": {
    "colab": {
     "base_uri": "https://localhost:8080/",
     "height": 0
    },
    "id": "BUFaw_mnoPYc",
    "outputId": "e22b868c-d4ca-45c5-a66a-ed3a55f6cfd7"
   },
   "outputs": [
    {
     "data": {
      "text/html": [
       "<div>\n",
       "<style scoped>\n",
       "    .dataframe tbody tr th:only-of-type {\n",
       "        vertical-align: middle;\n",
       "    }\n",
       "\n",
       "    .dataframe tbody tr th {\n",
       "        vertical-align: top;\n",
       "    }\n",
       "\n",
       "    .dataframe thead th {\n",
       "        text-align: right;\n",
       "    }\n",
       "</style>\n",
       "<table border=\"1\" class=\"dataframe\">\n",
       "  <thead>\n",
       "    <tr style=\"text-align: right;\">\n",
       "      <th></th>\n",
       "      <th>inadimplente</th>\n",
       "      <th>util_linhas_inseguras</th>\n",
       "      <th>idade</th>\n",
       "      <th>vezes_passou_de_30_59_dias</th>\n",
       "      <th>razao_debito</th>\n",
       "      <th>salario_mensal</th>\n",
       "      <th>numero_linhas_crdto_aberto</th>\n",
       "      <th>numero_vezes_passou_90_dias</th>\n",
       "      <th>numero_emprestimos_imobiliarios</th>\n",
       "      <th>numero_de_vezes_que_passou_60_89_dias</th>\n",
       "      <th>numero_de_dependentes</th>\n",
       "    </tr>\n",
       "  </thead>\n",
       "  <tbody>\n",
       "    <tr>\n",
       "      <th>179</th>\n",
       "      <td>1</td>\n",
       "      <td>0.946964</td>\n",
       "      <td>35</td>\n",
       "      <td>0</td>\n",
       "      <td>1593.0</td>\n",
       "      <td>NaN</td>\n",
       "      <td>6</td>\n",
       "      <td>0</td>\n",
       "      <td>1</td>\n",
       "      <td>0</td>\n",
       "      <td>1.0</td>\n",
       "    </tr>\n",
       "    <tr>\n",
       "      <th>214</th>\n",
       "      <td>1</td>\n",
       "      <td>0.655316</td>\n",
       "      <td>63</td>\n",
       "      <td>0</td>\n",
       "      <td>5223.0</td>\n",
       "      <td>NaN</td>\n",
       "      <td>19</td>\n",
       "      <td>0</td>\n",
       "      <td>2</td>\n",
       "      <td>0</td>\n",
       "      <td>0.0</td>\n",
       "    </tr>\n",
       "    <tr>\n",
       "      <th>354</th>\n",
       "      <td>1</td>\n",
       "      <td>0.953344</td>\n",
       "      <td>48</td>\n",
       "      <td>2</td>\n",
       "      <td>2073.0</td>\n",
       "      <td>NaN</td>\n",
       "      <td>5</td>\n",
       "      <td>1</td>\n",
       "      <td>2</td>\n",
       "      <td>2</td>\n",
       "      <td>0.0</td>\n",
       "    </tr>\n",
       "    <tr>\n",
       "      <th>398</th>\n",
       "      <td>1</td>\n",
       "      <td>0.802417</td>\n",
       "      <td>58</td>\n",
       "      <td>1</td>\n",
       "      <td>668.0</td>\n",
       "      <td>NaN</td>\n",
       "      <td>5</td>\n",
       "      <td>1</td>\n",
       "      <td>0</td>\n",
       "      <td>0</td>\n",
       "      <td>0.0</td>\n",
       "    </tr>\n",
       "    <tr>\n",
       "      <th>789</th>\n",
       "      <td>1</td>\n",
       "      <td>1.008507</td>\n",
       "      <td>58</td>\n",
       "      <td>3</td>\n",
       "      <td>3265.0</td>\n",
       "      <td>NaN</td>\n",
       "      <td>20</td>\n",
       "      <td>0</td>\n",
       "      <td>0</td>\n",
       "      <td>1</td>\n",
       "      <td>0.0</td>\n",
       "    </tr>\n",
       "    <tr>\n",
       "      <th>...</th>\n",
       "      <td>...</td>\n",
       "      <td>...</td>\n",
       "      <td>...</td>\n",
       "      <td>...</td>\n",
       "      <td>...</td>\n",
       "      <td>...</td>\n",
       "      <td>...</td>\n",
       "      <td>...</td>\n",
       "      <td>...</td>\n",
       "      <td>...</td>\n",
       "      <td>...</td>\n",
       "    </tr>\n",
       "    <tr>\n",
       "      <th>109616</th>\n",
       "      <td>1</td>\n",
       "      <td>1.000000</td>\n",
       "      <td>48</td>\n",
       "      <td>0</td>\n",
       "      <td>1761.0</td>\n",
       "      <td>NaN</td>\n",
       "      <td>7</td>\n",
       "      <td>0</td>\n",
       "      <td>0</td>\n",
       "      <td>0</td>\n",
       "      <td>0.0</td>\n",
       "    </tr>\n",
       "    <tr>\n",
       "      <th>109714</th>\n",
       "      <td>1</td>\n",
       "      <td>0.900119</td>\n",
       "      <td>43</td>\n",
       "      <td>1</td>\n",
       "      <td>1493.0</td>\n",
       "      <td>NaN</td>\n",
       "      <td>14</td>\n",
       "      <td>0</td>\n",
       "      <td>0</td>\n",
       "      <td>1</td>\n",
       "      <td>NaN</td>\n",
       "    </tr>\n",
       "    <tr>\n",
       "      <th>109716</th>\n",
       "      <td>1</td>\n",
       "      <td>0.578842</td>\n",
       "      <td>47</td>\n",
       "      <td>0</td>\n",
       "      <td>1460.0</td>\n",
       "      <td>NaN</td>\n",
       "      <td>2</td>\n",
       "      <td>0</td>\n",
       "      <td>1</td>\n",
       "      <td>0</td>\n",
       "      <td>0.0</td>\n",
       "    </tr>\n",
       "    <tr>\n",
       "      <th>109774</th>\n",
       "      <td>1</td>\n",
       "      <td>1.000000</td>\n",
       "      <td>62</td>\n",
       "      <td>0</td>\n",
       "      <td>53.0</td>\n",
       "      <td>NaN</td>\n",
       "      <td>0</td>\n",
       "      <td>0</td>\n",
       "      <td>0</td>\n",
       "      <td>0</td>\n",
       "      <td>0.0</td>\n",
       "    </tr>\n",
       "    <tr>\n",
       "      <th>109914</th>\n",
       "      <td>1</td>\n",
       "      <td>1.000000</td>\n",
       "      <td>46</td>\n",
       "      <td>1</td>\n",
       "      <td>1650.0</td>\n",
       "      <td>NaN</td>\n",
       "      <td>1</td>\n",
       "      <td>0</td>\n",
       "      <td>1</td>\n",
       "      <td>0</td>\n",
       "      <td>0.0</td>\n",
       "    </tr>\n",
       "  </tbody>\n",
       "</table>\n",
       "<p>1247 rows × 11 columns</p>\n",
       "</div>"
      ],
      "text/plain": [
       "        inadimplente  util_linhas_inseguras  idade  \\\n",
       "179                1               0.946964     35   \n",
       "214                1               0.655316     63   \n",
       "354                1               0.953344     48   \n",
       "398                1               0.802417     58   \n",
       "789                1               1.008507     58   \n",
       "...              ...                    ...    ...   \n",
       "109616             1               1.000000     48   \n",
       "109714             1               0.900119     43   \n",
       "109716             1               0.578842     47   \n",
       "109774             1               1.000000     62   \n",
       "109914             1               1.000000     46   \n",
       "\n",
       "        vezes_passou_de_30_59_dias  razao_debito  salario_mensal  \\\n",
       "179                              0        1593.0             NaN   \n",
       "214                              0        5223.0             NaN   \n",
       "354                              2        2073.0             NaN   \n",
       "398                              1         668.0             NaN   \n",
       "789                              3        3265.0             NaN   \n",
       "...                            ...           ...             ...   \n",
       "109616                           0        1761.0             NaN   \n",
       "109714                           1        1493.0             NaN   \n",
       "109716                           0        1460.0             NaN   \n",
       "109774                           0          53.0             NaN   \n",
       "109914                           1        1650.0             NaN   \n",
       "\n",
       "        numero_linhas_crdto_aberto  numero_vezes_passou_90_dias  \\\n",
       "179                              6                            0   \n",
       "214                             19                            0   \n",
       "354                              5                            1   \n",
       "398                              5                            1   \n",
       "789                             20                            0   \n",
       "...                            ...                          ...   \n",
       "109616                           7                            0   \n",
       "109714                          14                            0   \n",
       "109716                           2                            0   \n",
       "109774                           0                            0   \n",
       "109914                           1                            0   \n",
       "\n",
       "        numero_emprestimos_imobiliarios  \\\n",
       "179                                   1   \n",
       "214                                   2   \n",
       "354                                   2   \n",
       "398                                   0   \n",
       "789                                   0   \n",
       "...                                 ...   \n",
       "109616                                0   \n",
       "109714                                0   \n",
       "109716                                1   \n",
       "109774                                0   \n",
       "109914                                1   \n",
       "\n",
       "        numero_de_vezes_que_passou_60_89_dias  numero_de_dependentes  \n",
       "179                                         0                    1.0  \n",
       "214                                         0                    0.0  \n",
       "354                                         2                    0.0  \n",
       "398                                         0                    0.0  \n",
       "789                                         1                    0.0  \n",
       "...                                       ...                    ...  \n",
       "109616                                      0                    0.0  \n",
       "109714                                      1                    NaN  \n",
       "109716                                      0                    0.0  \n",
       "109774                                      0                    0.0  \n",
       "109914                                      0                    0.0  \n",
       "\n",
       "[1247 rows x 11 columns]"
      ]
     },
     "execution_count": 152,
     "metadata": {},
     "output_type": "execute_result"
    }
   ],
   "source": [
    "df_train[(df_train['salario_mensal'].isnull()) & (df_train['inadimplente'] == 1)]"
   ]
  },
  {
   "cell_type": "code",
   "execution_count": 153,
   "metadata": {
    "colab": {
     "base_uri": "https://localhost:8080/"
    },
    "id": "2Mh_lfi0TheD",
    "outputId": "d0645b24-0c88-4d9b-fbba-f3b46bb15604"
   },
   "outputs": [
    {
     "data": {
      "text/plain": [
       "0    0.933355\n",
       "1    0.066645\n",
       "Name: inadimplente, dtype: float64"
      ]
     },
     "execution_count": 153,
     "metadata": {},
     "output_type": "execute_result"
    }
   ],
   "source": [
    "total_inadimplente = df_train.inadimplente.value_counts() / len(df_train)\n",
    "total_inadimplente"
   ]
  },
  {
   "cell_type": "markdown",
   "metadata": {
    "id": "GaMhoE_GVDvz"
   },
   "source": [
    "A base de treino está desbalanceada, vou criar um modelo sem desbalancear e depois um balanceando a base."
   ]
  },
  {
   "cell_type": "markdown",
   "metadata": {
    "id": "t2LbMbnJpzGL"
   },
   "source": [
    "## Tratamento da base"
   ]
  },
  {
   "cell_type": "markdown",
   "metadata": {
    "id": "Z4eY66zfqT5g"
   },
   "source": [
    "### Tratamento do Dataset"
   ]
  },
  {
   "cell_type": "markdown",
   "metadata": {
    "id": "VVslArHBVddL"
   },
   "source": [
    "- Conforme informado anteriormente, as colunas salario_mensal e numero_de_dependentes possuem valores nulos, foi utilizada a média para preenchimento dos valores nulos."
   ]
  },
  {
   "cell_type": "code",
   "execution_count": 154,
   "metadata": {
    "id": "Q8qPZk3hetS8"
   },
   "outputs": [],
   "source": [
    "#Preenchi os valores nulos com a média\n",
    "df_train['salario_mensal'].fillna(df_train['salario_mensal'].mean(), inplace=True)\n",
    "df_train['numero_de_dependentes'].fillna(df_train['numero_de_dependentes'].mean(), inplace=True)\n",
    "df_test['salario_mensal'].fillna(df_test['salario_mensal'].mean(), inplace=True)\n",
    "df_test['numero_de_dependentes'].fillna(df_test['numero_de_dependentes'].mean(), inplace=True)"
   ]
  },
  {
   "cell_type": "code",
   "execution_count": 155,
   "metadata": {
    "colab": {
     "base_uri": "https://localhost:8080/"
    },
    "id": "eoGT7QaLpSR3",
    "outputId": "0b72ac59-b513-41c0-dc83-915ea9c92761"
   },
   "outputs": [
    {
     "data": {
      "text/plain": [
       "inadimplente                             0\n",
       "util_linhas_inseguras                    0\n",
       "idade                                    0\n",
       "vezes_passou_de_30_59_dias               0\n",
       "razao_debito                             0\n",
       "salario_mensal                           0\n",
       "numero_linhas_crdto_aberto               0\n",
       "numero_vezes_passou_90_dias              0\n",
       "numero_emprestimos_imobiliarios          0\n",
       "numero_de_vezes_que_passou_60_89_dias    0\n",
       "numero_de_dependentes                    0\n",
       "dtype: int64"
      ]
     },
     "execution_count": 155,
     "metadata": {},
     "output_type": "execute_result"
    }
   ],
   "source": [
    "df_train.isnull().sum()"
   ]
  },
  {
   "cell_type": "code",
   "execution_count": 156,
   "metadata": {
    "colab": {
     "base_uri": "https://localhost:8080/"
    },
    "id": "8_hgRK43qC92",
    "outputId": "7a708efb-ad1a-4c59-a07a-4cb3b8c85007"
   },
   "outputs": [
    {
     "data": {
      "text/plain": [
       "util_linhas_inseguras                    0\n",
       "idade                                    0\n",
       "vezes_passou_de_30_59_dias               0\n",
       "razao_debito                             0\n",
       "salario_mensal                           0\n",
       "numero_linhas_crdto_aberto               0\n",
       "numero_vezes_passou_90_dias              0\n",
       "numero_emprestimos_imobiliarios          0\n",
       "numero_de_vezes_que_passou_60_89_dias    0\n",
       "numero_de_dependentes                    0\n",
       "dtype: int64"
      ]
     },
     "execution_count": 156,
     "metadata": {},
     "output_type": "execute_result"
    }
   ],
   "source": [
    "df_test.isnull().sum()"
   ]
  },
  {
   "cell_type": "markdown",
   "metadata": {},
   "source": [
    "Agora que temos todos os dados presentes, podemos continuar com a análise. Começamos analisando a correlação entre as variáveis, com foco na inadimplência."
   ]
  },
  {
   "cell_type": "code",
   "execution_count": 157,
   "metadata": {
    "colab": {
     "base_uri": "https://localhost:8080/",
     "height": 575
    },
    "id": "SDS6qeXyrZXx",
    "outputId": "579f2ad6-88c8-4004-b425-ce2b835320c6"
   },
   "outputs": [
    {
     "data": {
      "text/plain": [
       "<AxesSubplot:>"
      ]
     },
     "execution_count": 157,
     "metadata": {},
     "output_type": "execute_result"
    },
    {
     "data": {
      "image/png": "[encoded data removed]",
      "text/plain": [
       "<Figure size 1440x720 with 2 Axes>"
      ]
     },
     "metadata": {
      "needs_background": "light"
     },
     "output_type": "display_data"
    }
   ],
   "source": [
    "plt.figure(figsize=(20,10))\n",
    "corr = df_train.corr()\n",
    "corr = (corr)\n",
    "sns.heatmap(corr, annot=True)"
   ]
  },
  {
   "cell_type": "markdown",
   "metadata": {
    "id": "PPl2cIspjpLv"
   },
   "source": [
    "Algumas variaveis são interessantes, tais como:\n",
    "\n",
    "- numero_vezes_passou_90_dias\n",
    "- numreo_de_vezes_que_passou_60_89_dias\n",
    "- idade\n",
    "- util_linhas_inseguras\n",
    "\n",
    "Aparentemente, nenhuma tem uma correlação muito forte"
   ]
  },
  {
   "cell_type": "code",
   "execution_count": 212,
   "metadata": {},
   "outputs": [
    {
     "data": {
      "text/plain": [
       "<AxesSubplot:xlabel='numero_linhas_crdto_aberto'>"
      ]
     },
     "execution_count": 212,
     "metadata": {},
     "output_type": "execute_result"
    },
    {
     "data": {
      "image/png": "[encoded data removed]",
      "text/plain": [
       "<Figure size 1224x576 with 5 Axes>"
      ]
     },
     "metadata": {
      "needs_background": "light"
     },
     "output_type": "display_data"
    }
   ],
   "source": [
    "fig,ax = plt.subplots(1,5,figsize=(17,8))\n",
    "ax[0].set_xlabel('idade')\n",
    "sns.boxplot(ax=ax[0],data=df_train['idade'])\n",
    "ax[1].set_xlabel('salario_mensal')\n",
    "sns.boxplot(ax=ax[1],data=df_train['salario_mensal'])\n",
    "ax[2].set_xlabel('vezes_passou_de_30_59_dias')\n",
    "sns.boxplot(ax=ax[2],data=df_train['vezes_passou_de_30_59_dias'])\n",
    "ax[3].set_xlabel('numero_de_dependentes')\n",
    "sns.boxplot(ax=ax[3],data=df_train['numero_de_dependentes'])\n",
    "ax[4].set_xlabel('numero_linhas_crdto_aberto')\n",
    "sns.boxplot(ax=ax[4],data=df_train['numero_linhas_crdto_aberto'])"
   ]
  },
  {
   "cell_type": "code",
   "execution_count": 219,
   "metadata": {},
   "outputs": [
    {
     "data": {
      "text/plain": [
       "<AxesSubplot:xlabel='util_linhas_inseguras'>"
      ]
     },
     "execution_count": 219,
     "metadata": {},
     "output_type": "execute_result"
    },
    {
     "data": {
      "image/png": "[encoded data removed]",
      "text/plain": [
       "<Figure size 1224x576 with 3 Axes>"
      ]
     },
     "metadata": {
      "needs_background": "light"
     },
     "output_type": "display_data"
    }
   ],
   "source": [
    "fig,ax = plt.subplots(1,3,figsize=(17,8))\n",
    "ax[0].set_xlabel('numero_vezes_passou_90_dias')\n",
    "sns.boxplot(ax=ax[0],data=df_train['numero_vezes_passou_90_dias'])\n",
    "ax[1].set_xlabel('numero_de_vezes_que_passou_60_89_dias')\n",
    "sns.boxplot(ax=ax[1],data=df_train['numero_de_vezes_que_passou_60_89_dias'])\n",
    "ax[2].set_xlabel('util_linhas_inseguras')\n",
    "sns.boxplot(ax=ax[2],data=df_train['util_linhas_inseguras'])"
   ]
  },
  {
   "cell_type": "code",
   "execution_count": null,
   "metadata": {},
   "outputs": [],
   "source": [
    "#df_train.drop(df_train[df_train['idade']>90].index,inplace=True)\n",
    "#df_train.drop(df_train[df_train['idade']<20].index,inplace=True)\n",
    "\n",
    "#df_train.drop(df_train[df_train['salario_mensal']>25000].index,inplace=True)\n",
    "#df_train.drop(df_train[df_train['salario_mensal']<0].index,inplace=True)\n",
    "\n",
    "#df_train.drop(df_train[df_train['numero_linhas_crdto_aberto']>25].index,inplace=True)\n",
    "#df_train.drop(df_train[df_train['numero_linhas_crdto_aberto']<0].index,inplace=True)\n",
    "\n",
    "#df_train.drop(df_train[df_train['vezes_passou_de_30_59_dias']>20].index,inplace=True)\n",
    "#df_train.drop(df_train[df_train['vezes_passou_de_30_59_dias']<0].index,inplace=True)\n",
    "\n",
    "#df_train.drop(df_train[df_train['numero_de_dependentes']>12].index,inplace=True)"
   ]
  },
  {
   "cell_type": "markdown",
   "metadata": {
    "id": "tkc9yHg-uFwP"
   },
   "source": [
    "### Separando e tratando o conjunto de dados"
   ]
  },
  {
   "cell_type": "code",
   "execution_count": 161,
   "metadata": {
    "id": "b_tnqVDHssG5"
   },
   "outputs": [],
   "source": [
    "target_name = 'inadimplente'\n",
    "X = df_train.drop('inadimplente', axis=1)\n",
    "y = df_train[target_name]"
   ]
  },
  {
   "cell_type": "code",
   "execution_count": 162,
   "metadata": {
    "colab": {
     "base_uri": "https://localhost:8080/",
     "height": 270
    },
    "id": "cLJWDk8yuYWh",
    "outputId": "efd7c451-1575-4c9f-9555-7a3561e477f5"
   },
   "outputs": [
    {
     "data": {
      "text/html": [
       "<div>\n",
       "<style scoped>\n",
       "    .dataframe tbody tr th:only-of-type {\n",
       "        vertical-align: middle;\n",
       "    }\n",
       "\n",
       "    .dataframe tbody tr th {\n",
       "        vertical-align: top;\n",
       "    }\n",
       "\n",
       "    .dataframe thead th {\n",
       "        text-align: right;\n",
       "    }\n",
       "</style>\n",
       "<table border=\"1\" class=\"dataframe\">\n",
       "  <thead>\n",
       "    <tr style=\"text-align: right;\">\n",
       "      <th></th>\n",
       "      <th>util_linhas_inseguras</th>\n",
       "      <th>idade</th>\n",
       "      <th>vezes_passou_de_30_59_dias</th>\n",
       "      <th>razao_debito</th>\n",
       "      <th>salario_mensal</th>\n",
       "      <th>numero_linhas_crdto_aberto</th>\n",
       "      <th>numero_vezes_passou_90_dias</th>\n",
       "      <th>numero_emprestimos_imobiliarios</th>\n",
       "      <th>numero_de_vezes_que_passou_60_89_dias</th>\n",
       "      <th>numero_de_dependentes</th>\n",
       "    </tr>\n",
       "  </thead>\n",
       "  <tbody>\n",
       "    <tr>\n",
       "      <th>0</th>\n",
       "      <td>0.766127</td>\n",
       "      <td>45</td>\n",
       "      <td>2</td>\n",
       "      <td>0.802982</td>\n",
       "      <td>9120.0</td>\n",
       "      <td>13</td>\n",
       "      <td>0</td>\n",
       "      <td>6</td>\n",
       "      <td>0</td>\n",
       "      <td>2.0</td>\n",
       "    </tr>\n",
       "    <tr>\n",
       "      <th>1</th>\n",
       "      <td>0.957151</td>\n",
       "      <td>40</td>\n",
       "      <td>0</td>\n",
       "      <td>0.121876</td>\n",
       "      <td>2600.0</td>\n",
       "      <td>4</td>\n",
       "      <td>0</td>\n",
       "      <td>0</td>\n",
       "      <td>0</td>\n",
       "      <td>1.0</td>\n",
       "    </tr>\n",
       "    <tr>\n",
       "      <th>2</th>\n",
       "      <td>0.658180</td>\n",
       "      <td>38</td>\n",
       "      <td>1</td>\n",
       "      <td>0.085113</td>\n",
       "      <td>3042.0</td>\n",
       "      <td>2</td>\n",
       "      <td>1</td>\n",
       "      <td>0</td>\n",
       "      <td>0</td>\n",
       "      <td>0.0</td>\n",
       "    </tr>\n",
       "    <tr>\n",
       "      <th>3</th>\n",
       "      <td>0.233810</td>\n",
       "      <td>30</td>\n",
       "      <td>0</td>\n",
       "      <td>0.036050</td>\n",
       "      <td>3300.0</td>\n",
       "      <td>5</td>\n",
       "      <td>0</td>\n",
       "      <td>0</td>\n",
       "      <td>0</td>\n",
       "      <td>0.0</td>\n",
       "    </tr>\n",
       "    <tr>\n",
       "      <th>4</th>\n",
       "      <td>0.907239</td>\n",
       "      <td>49</td>\n",
       "      <td>1</td>\n",
       "      <td>0.024926</td>\n",
       "      <td>63588.0</td>\n",
       "      <td>7</td>\n",
       "      <td>0</td>\n",
       "      <td>1</td>\n",
       "      <td>0</td>\n",
       "      <td>0.0</td>\n",
       "    </tr>\n",
       "  </tbody>\n",
       "</table>\n",
       "</div>"
      ],
      "text/plain": [
       "   util_linhas_inseguras  idade  vezes_passou_de_30_59_dias  razao_debito  \\\n",
       "0               0.766127     45                           2      0.802982   \n",
       "1               0.957151     40                           0      0.121876   \n",
       "2               0.658180     38                           1      0.085113   \n",
       "3               0.233810     30                           0      0.036050   \n",
       "4               0.907239     49                           1      0.024926   \n",
       "\n",
       "   salario_mensal  numero_linhas_crdto_aberto  numero_vezes_passou_90_dias  \\\n",
       "0          9120.0                          13                            0   \n",
       "1          2600.0                           4                            0   \n",
       "2          3042.0                           2                            1   \n",
       "3          3300.0                           5                            0   \n",
       "4         63588.0                           7                            0   \n",
       "\n",
       "   numero_emprestimos_imobiliarios  numero_de_vezes_que_passou_60_89_dias  \\\n",
       "0                                6                                      0   \n",
       "1                                0                                      0   \n",
       "2                                0                                      0   \n",
       "3                                0                                      0   \n",
       "4                                1                                      0   \n",
       "\n",
       "   numero_de_dependentes  \n",
       "0                    2.0  \n",
       "1                    1.0  \n",
       "2                    0.0  \n",
       "3                    0.0  \n",
       "4                    0.0  "
      ]
     },
     "execution_count": 162,
     "metadata": {},
     "output_type": "execute_result"
    }
   ],
   "source": [
    "X.head()"
   ]
  },
  {
   "cell_type": "code",
   "execution_count": 163,
   "metadata": {
    "colab": {
     "base_uri": "https://localhost:8080/"
    },
    "id": "V_jxsLiKuhMI",
    "outputId": "4f6fad6c-ec1f-4695-8374-f1810a0230c0"
   },
   "outputs": [
    {
     "data": {
      "text/plain": [
       "0    1\n",
       "1    0\n",
       "2    0\n",
       "3    0\n",
       "4    0\n",
       "Name: inadimplente, dtype: int64"
      ]
     },
     "execution_count": 163,
     "metadata": {},
     "output_type": "execute_result"
    }
   ],
   "source": [
    "y.head()"
   ]
  },
  {
   "cell_type": "code",
   "execution_count": 164,
   "metadata": {
    "id": "8ymjhaiLVbQb"
   },
   "outputs": [
    {
     "name": "stdout",
     "output_type": "stream",
     "text": [
      "Populating the interactive namespace from numpy and matplotlib\n"
     ]
    },
    {
     "name": "stderr",
     "output_type": "stream",
     "text": [
      "C:\\Users\\RP150643\\Anaconda3\\lib\\site-packages\\IPython\\core\\magics\\pylab.py:159: UserWarning: pylab import has clobbered these variables: ['indices', 'logistic']\n",
      "`%matplotlib` prevents importing * from pylab and numpy\n",
      "  warn(\"pylab import has clobbered these variables: %s\"  % clobbered +\n"
     ]
    }
   ],
   "source": [
    "from sklearn.model_selection import train_test_split\n",
    "from sklearn.tree import DecisionTreeClassifier, plot_tree\n",
    "from sklearn.ensemble import RandomForestClassifier\n",
    "from sklearn.metrics import accuracy_score, roc_auc_score, classification_report\n",
    "from sklearn.preprocessing import MinMaxScaler\n",
    "%pylab inline"
   ]
  },
  {
   "cell_type": "markdown",
   "metadata": {
    "id": "agFyuiR4qQp7"
   },
   "source": [
    "# 1 - Aplicando modelos com o dataset desbalanceado"
   ]
  },
  {
   "cell_type": "markdown",
   "metadata": {
    "id": "obddOhwWtcRf"
   },
   "source": [
    "## Função da baseline"
   ]
  },
  {
   "cell_type": "markdown",
   "metadata": {},
   "source": [
    "np.zeros -> retorna um array preenchido com zeros"
   ]
  },
  {
   "cell_type": "code",
   "execution_count": 165,
   "metadata": {
    "id": "v_psyIfEtgUB"
   },
   "outputs": [],
   "source": [
    "def baseline_model(X):\n",
    "  y = np.zeros(X.shape[0])\n",
    "  return y"
   ]
  },
  {
   "cell_type": "code",
   "execution_count": 166,
   "metadata": {
    "id": "nuT76nDQz832"
   },
   "outputs": [],
   "source": [
    "#Separando em treino e validação\n",
    "X_train, X_val, y_train, y_val = train_test_split(\n",
    "   X, \n",
    "   y, \n",
    "   random_state=0, \n",
    "   test_size=0.50,\n",
    "   stratify=y\n",
    "   )"
   ]
  },
  {
   "cell_type": "code",
   "execution_count": 167,
   "metadata": {
    "id": "88tyzUrAthTv"
   },
   "outputs": [],
   "source": [
    "#Analise do baseline\n",
    "p_val = baseline_model(X_val)"
   ]
  },
  {
   "cell_type": "code",
   "execution_count": 168,
   "metadata": {
    "colab": {
     "base_uri": "https://localhost:8080/"
    },
    "id": "ITkH20Zutno2",
    "outputId": "b518b59a-a4eb-40b4-91d0-fb46ce21116f"
   },
   "outputs": [
    {
     "data": {
      "text/plain": [
       "0.9333636363636364"
      ]
     },
     "execution_count": 168,
     "metadata": {},
     "output_type": "execute_result"
    }
   ],
   "source": [
    "np.mean(y_val == p_val)"
   ]
  },
  {
   "cell_type": "markdown",
   "metadata": {
    "id": "8rgwYJZ2i3OC"
   },
   "source": [
    "## Arvore de decisão"
   ]
  },
  {
   "cell_type": "code",
   "execution_count": 169,
   "metadata": {
    "id": "uDmaUn03YArI"
   },
   "outputs": [],
   "source": [
    "#Treinando o modelo com arvore de decisão\n",
    "dtree = DecisionTreeClassifier(max_depth=5, random_state=0)\n",
    "dtree = dtree.fit(X_train, y_train)"
   ]
  },
  {
   "cell_type": "markdown",
   "metadata": {
    "id": "0HiRQIvKegWh"
   },
   "source": [
    "O max_depth acerta mais 1 do que o min_samples_leaf\n",
    "\n",
    "Fiz testes aleatórios e verifiquei que o max_depth = 5 possui a melhor acurácia, foi o indicativo utilizado para continuar com o parametro == 5\n",
    "\n",
    "**Resultado testeando o Maxdepth**\n",
    "\n",
    "None -> 0.8974181818181818\n",
    "\n",
    "1 -> 0.9334545454545454\n",
    "\n",
    "5 -> 0.9354727272727272\n",
    "\n",
    "10 -> 0.932509090909091\n",
    "\n",
    "\n",
    "**Resultado testeando o min_samples_leaf**\n",
    "\n",
    "None -> 0.8978727272727273\n",
    "\n",
    "1 -> 0.8978727272727273\n",
    "\n",
    "5 -> 0.919290909090909\n",
    "\n",
    "10 -> 0.9280363636363637"
   ]
  },
  {
   "cell_type": "code",
   "execution_count": 170,
   "metadata": {
    "id": "MKSdj10eYAkh"
   },
   "outputs": [],
   "source": [
    "p_val = dtree.predict(X_val)"
   ]
  },
  {
   "cell_type": "markdown",
   "metadata": {
    "id": "O444MlYrbhcD"
   },
   "source": [
    "**Fazendo avaliação do modelo**"
   ]
  },
  {
   "cell_type": "code",
   "execution_count": 171,
   "metadata": {
    "colab": {
     "base_uri": "https://localhost:8080/"
    },
    "id": "Z7JhOKelYAX3",
    "outputId": "5df4b441-a06d-4097-8726-47b6b36929e2"
   },
   "outputs": [
    {
     "data": {
      "text/plain": [
       "0.9346545454545454"
      ]
     },
     "execution_count": 171,
     "metadata": {},
     "output_type": "execute_result"
    }
   ],
   "source": [
    "#Verificando a acuracia\n",
    "accuracy_score(p_val, y_val)"
   ]
  },
  {
   "cell_type": "code",
   "execution_count": 172,
   "metadata": {
    "colab": {
     "base_uri": "https://localhost:8080/"
    },
    "id": "NJphUxTVbsa4",
    "outputId": "88a12cd1-ebcb-47d8-9ffc-b9da825a76e2"
   },
   "outputs": [
    {
     "data": {
      "text/plain": [
       "0.5969726714193516"
      ]
     },
     "execution_count": 172,
     "metadata": {},
     "output_type": "execute_result"
    }
   ],
   "source": [
    "#Verificando a curva ROC\n",
    "roc_auc_score(y_val, p_val)"
   ]
  },
  {
   "cell_type": "markdown",
   "metadata": {
    "id": "v4beXz2xhwl-"
   },
   "source": [
    "O modelo não está bom, só está praticamente acertando o que é 0, ou seja, que não é inadimplente."
   ]
  },
  {
   "cell_type": "code",
   "execution_count": 173,
   "metadata": {
    "colab": {
     "base_uri": "https://localhost:8080/"
    },
    "id": "egpyY51zddgc",
    "outputId": "fc0337c1-c843-48aa-ea7c-8ba44b3842f4"
   },
   "outputs": [
    {
     "name": "stdout",
     "output_type": "stream",
     "text": [
      "              precision    recall  f1-score   support\n",
      "\n",
      "           0       0.95      0.99      0.97     51335\n",
      "           1       0.52      0.21      0.30      3665\n",
      "\n",
      "    accuracy                           0.93     55000\n",
      "   macro avg       0.74      0.60      0.63     55000\n",
      "weighted avg       0.92      0.93      0.92     55000\n",
      "\n"
     ]
    }
   ],
   "source": [
    "print(classification_report(y_val, p_val))"
   ]
  },
  {
   "cell_type": "markdown",
   "metadata": {
    "id": "z1J3vDEMeI91"
   },
   "source": [
    "Com base na ROC o modelo basicamente só acerta os casos que são 0, quando faz a media entre a classe 0 e 1 a curva ROC mostra uma % de quase 50%, está quase um processo aleatório."
   ]
  },
  {
   "cell_type": "code",
   "execution_count": 174,
   "metadata": {
    "colab": {
     "base_uri": "https://localhost:8080/"
    },
    "id": "ErGvmHexaGNe",
    "outputId": "345de56a-a2a5-48db-9deb-b37653586041"
   },
   "outputs": [
    {
     "name": "stdout",
     "output_type": "stream",
     "text": [
      "Predito      0     1    All\n",
      "Real                       \n",
      "0        50646   689  51335\n",
      "1         2905   760   3665\n",
      "All      53551  1449  55000\n"
     ]
    }
   ],
   "source": [
    "print(pd.crosstab(y_val, p_val, rownames=['Real'], colnames=['Predito'], margins=True))"
   ]
  },
  {
   "cell_type": "code",
   "execution_count": 175,
   "metadata": {
    "colab": {
     "base_uri": "https://localhost:8080/",
     "height": 0
    },
    "id": "UkYkDs-abig0",
    "outputId": "e576484c-baae-428f-ed6e-1dda4f9645a1"
   },
   "outputs": [
    {
     "data": {
      "image/png": "[encoded data removed]",
      "text/plain": [
       "<Figure size 864x288 with 1 Axes>"
      ]
     },
     "metadata": {
      "needs_background": "light"
     },
     "output_type": "display_data"
    }
   ],
   "source": [
    "#Verificar quais as principais variaveis para o modelo\n",
    "importances = dtree.feature_importances_\n",
    "feat_names = df_train.drop(['inadimplente'], axis=1).columns\n",
    "\n",
    "indices = np.argsort(importances)[::-1]\n",
    "plt.figure(figsize=(12,4))\n",
    "plt.title(\"Importancias das Features\")\n",
    "plt.bar(range(len(indices)), importances[indices],color='lightblue')\n",
    "plt.xticks(range(len(indices)), feat_names[indices], rotation = 'vertical')\n",
    "plt.xlim([-1, len(indices)])\n",
    "plt.show()"
   ]
  },
  {
   "cell_type": "code",
   "execution_count": 176,
   "metadata": {
    "id": "tZ-vDgAob5fm"
   },
   "outputs": [],
   "source": [
    "#Filtrandro apenas os atributos relevantes\n",
    "X = df_train[[\"numero_vezes_passou_90_dias\", \"vezes_passou_de_30_59_dias\",\"numero_de_vezes_que_passou_60_89_dias\",\"util_linhas_inseguras\"]]"
   ]
  },
  {
   "cell_type": "markdown",
   "metadata": {
    "id": "9BFqSrFXjI7A"
   },
   "source": [
    "## Logistic Regression"
   ]
  },
  {
   "cell_type": "code",
   "execution_count": 177,
   "metadata": {
    "id": "HZ4YQPM3jOWM"
   },
   "outputs": [],
   "source": [
    "from sklearn.linear_model import LogisticRegression"
   ]
  },
  {
   "cell_type": "code",
   "execution_count": 220,
   "metadata": {
    "id": "5yA1yYQYjOP1"
   },
   "outputs": [],
   "source": [
    "#Instanciando o algoritmo\n",
    "logistic = LogisticRegression(max_iter=100)"
   ]
  },
  {
   "cell_type": "code",
   "execution_count": 221,
   "metadata": {
    "colab": {
     "base_uri": "https://localhost:8080/"
    },
    "id": "SE2fnCUgjN_X",
    "outputId": "544ba80e-6bce-4e9e-c7bd-e84b226dab0c",
    "tags": []
   },
   "outputs": [
    {
     "data": {
      "text/plain": [
       "LogisticRegression()"
      ]
     },
     "execution_count": 221,
     "metadata": {},
     "output_type": "execute_result"
    }
   ],
   "source": [
    "#Realizando o treinamento\n",
    "logistic.fit(X_train,y_train)"
   ]
  },
  {
   "cell_type": "code",
   "execution_count": 180,
   "metadata": {
    "id": "wGzynOvbjvDc"
   },
   "outputs": [],
   "source": [
    "#Calculando as predições\n",
    "p_val = logistic.predict(X_val)"
   ]
  },
  {
   "cell_type": "code",
   "execution_count": 181,
   "metadata": {
    "colab": {
     "base_uri": "https://localhost:8080/"
    },
    "id": "ixStaistj_V2",
    "outputId": "61f2644f-dc72-4a57-a6b7-ed492d1a17bd"
   },
   "outputs": [
    {
     "data": {
      "text/plain": [
       "0.9334363636363636"
      ]
     },
     "execution_count": 181,
     "metadata": {},
     "output_type": "execute_result"
    }
   ],
   "source": [
    "#Avaliando o modelo\n",
    "np.mean(y_val == p_val)"
   ]
  },
  {
   "cell_type": "code",
   "execution_count": 182,
   "metadata": {
    "colab": {
     "base_uri": "https://localhost:8080/"
    },
    "id": "joml26IJkY7z",
    "outputId": "b5f6eb7d-c242-4e43-fa5b-2fd59424a318"
   },
   "outputs": [
    {
     "data": {
      "text/plain": [
       "0.5061198735906813"
      ]
     },
     "execution_count": 182,
     "metadata": {},
     "output_type": "execute_result"
    }
   ],
   "source": [
    "#Resultado ponderado das classes 0 e 1\n",
    "roc_auc_score(y_val, p_val)"
   ]
  },
  {
   "cell_type": "code",
   "execution_count": 183,
   "metadata": {
    "colab": {
     "base_uri": "https://localhost:8080/"
    },
    "id": "6xrk_zfdklRI",
    "outputId": "2f2d2950-fc12-418e-d4d1-8bc90685dccd"
   },
   "outputs": [
    {
     "name": "stdout",
     "output_type": "stream",
     "text": [
      "              precision    recall  f1-score   support\n",
      "\n",
      "           0       0.93      1.00      0.97     51335\n",
      "           1       0.52      0.01      0.03      3665\n",
      "\n",
      "    accuracy                           0.93     55000\n",
      "   macro avg       0.73      0.51      0.50     55000\n",
      "weighted avg       0.91      0.93      0.90     55000\n",
      "\n"
     ]
    }
   ],
   "source": [
    "print(classification_report(y_val, p_val))"
   ]
  },
  {
   "cell_type": "code",
   "execution_count": 184,
   "metadata": {
    "colab": {
     "base_uri": "https://localhost:8080/"
    },
    "id": "0sPxAirMcKB2",
    "outputId": "25effa2c-cd99-4dcc-e0e1-741b39237a48"
   },
   "outputs": [
    {
     "name": "stdout",
     "output_type": "stream",
     "text": [
      "Predito      0   1    All\n",
      "Real                     \n",
      "0        51291  44  51335\n",
      "1         3617  48   3665\n",
      "All      54908  92  55000\n"
     ]
    }
   ],
   "source": [
    "print(pd.crosstab(y_val, p_val, rownames=['Real'], colnames=['Predito'], margins=True))"
   ]
  },
  {
   "cell_type": "markdown",
   "metadata": {
    "id": "APCAW32XjH__"
   },
   "source": [
    "## Random Forest"
   ]
  },
  {
   "cell_type": "code",
   "execution_count": 185,
   "metadata": {},
   "outputs": [],
   "source": [
    "from sklearn.ensemble import RandomForestClassifier\n",
    "rf = RandomForestClassifier()"
   ]
  },
  {
   "cell_type": "code",
   "execution_count": 186,
   "metadata": {
    "id": "RbVVb0z3iELz"
   },
   "outputs": [],
   "source": [
    "#Realizando o treinamento\n",
    "rf = rf.fit(X_train, y_train)"
   ]
  },
  {
   "cell_type": "code",
   "execution_count": 187,
   "metadata": {
    "id": "z3jL0BvzjHi3"
   },
   "outputs": [],
   "source": [
    "p_val = rf.predict(X_val)"
   ]
  },
  {
   "cell_type": "code",
   "execution_count": 188,
   "metadata": {
    "colab": {
     "base_uri": "https://localhost:8080/"
    },
    "id": "KKKBdH0LmTNL",
    "outputId": "89352a26-aad1-44e5-9b8b-50f2d748d66b"
   },
   "outputs": [
    {
     "name": "stdout",
     "output_type": "stream",
     "text": [
      "0.9353090909090909\n",
      "0.5837679390027068\n",
      "              precision    recall  f1-score   support\n",
      "\n",
      "           0       0.94      0.99      0.97     51335\n",
      "           1       0.54      0.18      0.27      3665\n",
      "\n",
      "    accuracy                           0.94     55000\n",
      "   macro avg       0.74      0.58      0.62     55000\n",
      "weighted avg       0.92      0.94      0.92     55000\n",
      "\n",
      "Predito      0     1    All\n",
      "Real                       \n",
      "0        50789   546  51335\n",
      "1         3012   653   3665\n",
      "All      53801  1199  55000\n"
     ]
    }
   ],
   "source": [
    "#Avaliando o modelo\n",
    "print(np.mean(y_val == p_val))\n",
    "print(roc_auc_score(y_val, p_val))\n",
    "print(classification_report(y_val, p_val))\n",
    "print(pd.crosstab(y_val, p_val, rownames=['Real'],colnames=['Predito'],margins=True))"
   ]
  },
  {
   "cell_type": "markdown",
   "metadata": {
    "id": "3TfdbFidnIBF"
   },
   "source": [
    "A area sobre a curva do randomforest foi a melhor até o momento"
   ]
  },
  {
   "cell_type": "markdown",
   "metadata": {
    "id": "Hgp1TPl-w-p9"
   },
   "source": [
    "Todos os modelos treinados com a base desbalanceada não tiveram um resultado bom"
   ]
  },
  {
   "cell_type": "markdown",
   "metadata": {
    "id": "UPKKQ5cHqiaX"
   },
   "source": [
    "# 2 - Aplicando o modelo com o dataset balanceado"
   ]
  },
  {
   "cell_type": "markdown",
   "metadata": {
    "id": "Uttx5ZK0gOF0"
   },
   "source": [
    "## Aplicando o SMOTE\n",
    "\n",
    "- Gerar dados sintéticos da classe minoritária"
   ]
  },
  {
   "cell_type": "code",
   "execution_count": 189,
   "metadata": {
    "id": "nMv3BFPBgkmY"
   },
   "outputs": [],
   "source": [
    "# Separa os dados e as classes\n",
    "target_name = 'inadimplente'\n",
    "X = df_train.drop('inadimplente', axis=1)\n",
    "y = df_train[target_name]"
   ]
  },
  {
   "cell_type": "code",
   "execution_count": 190,
   "metadata": {
    "id": "i_slTtQBwZ2f"
   },
   "outputs": [],
   "source": [
    "#Vou utilizar o min_max_scaler para deixar todas as features na mesma escala, as escalas do salarios são diferente de outras features\n",
    "scaler = MinMaxScaler()\n",
    "X = scaler.fit_transform(X)"
   ]
  },
  {
   "cell_type": "code",
   "execution_count": 191,
   "metadata": {
    "id": "AvznQIsVgkMp"
   },
   "outputs": [],
   "source": [
    "# Instância o SMOTE\n",
    "smt = SMOTE()"
   ]
  },
  {
   "cell_type": "code",
   "execution_count": 192,
   "metadata": {
    "id": "M369Rix0hewj"
   },
   "outputs": [],
   "source": [
    "#Aplica o SMOTE nos dados\n",
    "X, y = smt.fit_resample(X,y)"
   ]
  },
  {
   "cell_type": "code",
   "execution_count": 193,
   "metadata": {
    "colab": {
     "base_uri": "https://localhost:8080/",
     "height": 297
    },
    "id": "JBxpJXxBhevp",
    "outputId": "1e855abe-8a8a-47d4-eab3-6be6bda37b19"
   },
   "outputs": [
    {
     "data": {
      "text/plain": [
       "<AxesSubplot:xlabel='inadimplente', ylabel='count'>"
      ]
     },
     "execution_count": 193,
     "metadata": {},
     "output_type": "execute_result"
    },
    {
     "data": {
      "image/png": "[encoded data removed]",
      "text/plain": [
       "<Figure size 432x288 with 1 Axes>"
      ]
     },
     "metadata": {
      "needs_background": "light"
     },
     "output_type": "display_data"
    }
   ],
   "source": [
    "#Visualizando a distribuição\n",
    "sns.countplot(x=y)"
   ]
  },
  {
   "cell_type": "code",
   "execution_count": 194,
   "metadata": {
    "id": "wH_acw0XheUR"
   },
   "outputs": [],
   "source": [
    "#Separando em treino e validação\n",
    "X_train, X_val, y_train, y_val = train_test_split(\n",
    "   X, \n",
    "   y, \n",
    "   random_state=0, \n",
    "   test_size=0.50,\n",
    "   stratify=y\n",
    "   )"
   ]
  },
  {
   "cell_type": "markdown",
   "metadata": {
    "id": "Fr3ewow2JDfG"
   },
   "source": [
    "## Random Forest"
   ]
  },
  {
   "cell_type": "markdown",
   "metadata": {},
   "source": [
    "random_state = uma random_forest quando está criando o modelo tem várias pontos que vai ser utilizada a aleatoriedade e por conta disso é utilizado o random_state para fixar a aleatoriedade, permitindo que os resultados sejam reprodutiveis\n",
    "\n",
    "n_jobs = demonstra a quantidade de arvores em paralelo que o modelo irá criar...o -1 informa que serão utilizados todos os threads disponíveis no computador para criação das arvores"
   ]
  },
  {
   "cell_type": "code",
   "execution_count": 195,
   "metadata": {
    "id": "z-a7eAhAiYv7"
   },
   "outputs": [],
   "source": [
    "#Treinar o modelo\n",
    "#Escolhi o random forest pois tinha sido o melhor modelo antes de aplicar o SMOTE\n",
    "rf = RandomForestClassifier(random_state=0, n_jobs=-1, n_estimators=300)"
   ]
  },
  {
   "cell_type": "code",
   "execution_count": 196,
   "metadata": {
    "colab": {
     "base_uri": "https://localhost:8080/"
    },
    "id": "yam70uDBiYjA",
    "outputId": "203740b4-75ea-4eba-eb9b-548033199b73"
   },
   "outputs": [
    {
     "data": {
      "text/plain": [
       "RandomForestClassifier(n_estimators=300, n_jobs=-1, random_state=0)"
      ]
     },
     "execution_count": 196,
     "metadata": {},
     "output_type": "execute_result"
    }
   ],
   "source": [
    "rf.fit(X_train, y_train)"
   ]
  },
  {
   "cell_type": "code",
   "execution_count": 197,
   "metadata": {
    "id": "k5K9vjR4jaM1"
   },
   "outputs": [],
   "source": [
    "p_val = rf.predict(X_val)"
   ]
  },
  {
   "cell_type": "code",
   "execution_count": 198,
   "metadata": {
    "colab": {
     "base_uri": "https://localhost:8080/"
    },
    "id": "yqZWnQM2jZ9y",
    "outputId": "2881da0d-86bc-4b8b-d4ad-b353f4ec9128"
   },
   "outputs": [
    {
     "name": "stdout",
     "output_type": "stream",
     "text": [
      "0.945621365748181\n",
      "0.9456212115819574\n",
      "              precision    recall  f1-score   support\n",
      "\n",
      "           0       0.93      0.96      0.95     51335\n",
      "           1       0.96      0.93      0.94     51334\n",
      "\n",
      "    accuracy                           0.95    102669\n",
      "   macro avg       0.95      0.95      0.95    102669\n",
      "weighted avg       0.95      0.95      0.95    102669\n",
      "\n",
      "Predito      0      1     All\n",
      "Real                         \n",
      "0        49356   1979   51335\n",
      "1         3604  47730   51334\n",
      "All      52960  49709  102669\n"
     ]
    }
   ],
   "source": [
    "#Avaliando o modelo\n",
    "print(np.mean(y_val == p_val))\n",
    "print(roc_auc_score(y_val, p_val))\n",
    "print(classification_report(y_val, p_val))\n",
    "print(pd.crosstab(y_val, p_val, rownames=['Real'],colnames=['Predito'],margins=True))"
   ]
  },
  {
   "cell_type": "code",
   "execution_count": 199,
   "metadata": {
    "colab": {
     "base_uri": "https://localhost:8080/",
     "height": 486
    },
    "id": "ej_5Zm3Txw8j",
    "outputId": "c27eada1-e821-4698-d966-0295af9fa18e"
   },
   "outputs": [
    {
     "data": {
      "image/png": "[encoded data removed]",
      "text/plain": [
       "<Figure size 864x288 with 1 Axes>"
      ]
     },
     "metadata": {
      "needs_background": "light"
     },
     "output_type": "display_data"
    }
   ],
   "source": [
    "#Verificar quais as principais variaveis para o modelo\n",
    "importances = rf.feature_importances_\n",
    "feat_names = df_train.drop(['inadimplente'], axis=1).columns\n",
    "\n",
    "indices = np.argsort(importances)[::-1]\n",
    "plt.figure(figsize=(12,4))\n",
    "plt.title(\"Importancias das Features\")\n",
    "plt.bar(range(len(indices)), importances[indices],color='lightblue')\n",
    "plt.xticks(range(len(indices)), feat_names[indices], rotation = 'vertical')\n",
    "plt.xlim([-1, len(indices)])\n",
    "plt.show()"
   ]
  },
  {
   "cell_type": "markdown",
   "metadata": {
    "id": "cBw24svO2fa4"
   },
   "source": [
    "O modelo conseguiu bater a baseline. Portanto esse será o escolhido para fazer predição."
   ]
  },
  {
   "cell_type": "markdown",
   "metadata": {
    "id": "aV_UTFi81bd8"
   },
   "source": [
    "# 3 - Predição do modelo"
   ]
  },
  {
   "cell_type": "code",
   "execution_count": 200,
   "metadata": {
    "id": "WLvPMoZomsnN"
   },
   "outputs": [],
   "source": [
    "X_test = df_test"
   ]
  },
  {
   "cell_type": "code",
   "execution_count": 201,
   "metadata": {
    "colab": {
     "base_uri": "https://localhost:8080/"
    },
    "id": "O-_cJYHX1dyE",
    "outputId": "e8c24226-1d95-477d-bdd5-74ddfa51552b"
   },
   "outputs": [
    {
     "data": {
      "text/plain": [
       "((102669, 10), (102669,), (40000, 10))"
      ]
     },
     "execution_count": 201,
     "metadata": {},
     "output_type": "execute_result"
    }
   ],
   "source": [
    "X_train.shape, y_train.shape, X_test.shape"
   ]
  },
  {
   "cell_type": "code",
   "execution_count": 202,
   "metadata": {
    "id": "K2NNfYFX1hi4"
   },
   "outputs": [],
   "source": [
    "p = dtree.predict(X_test)"
   ]
  },
  {
   "cell_type": "code",
   "execution_count": 203,
   "metadata": {
    "id": "F9iCtQbF1p_m"
   },
   "outputs": [],
   "source": [
    "X_test['inadimplente'] = p"
   ]
  },
  {
   "cell_type": "code",
   "execution_count": 204,
   "metadata": {
    "colab": {
     "base_uri": "https://localhost:8080/",
     "height": 499
    },
    "id": "DSnUUbTZ6mhy",
    "outputId": "d6b08c6d-b5c6-4848-86c4-e0752869fa02"
   },
   "outputs": [
    {
     "data": {
      "text/html": [
       "<div>\n",
       "<style scoped>\n",
       "    .dataframe tbody tr th:only-of-type {\n",
       "        vertical-align: middle;\n",
       "    }\n",
       "\n",
       "    .dataframe tbody tr th {\n",
       "        vertical-align: top;\n",
       "    }\n",
       "\n",
       "    .dataframe thead th {\n",
       "        text-align: right;\n",
       "    }\n",
       "</style>\n",
       "<table border=\"1\" class=\"dataframe\">\n",
       "  <thead>\n",
       "    <tr style=\"text-align: right;\">\n",
       "      <th></th>\n",
       "      <th>util_linhas_inseguras</th>\n",
       "      <th>idade</th>\n",
       "      <th>vezes_passou_de_30_59_dias</th>\n",
       "      <th>razao_debito</th>\n",
       "      <th>salario_mensal</th>\n",
       "      <th>numero_linhas_crdto_aberto</th>\n",
       "      <th>numero_vezes_passou_90_dias</th>\n",
       "      <th>numero_emprestimos_imobiliarios</th>\n",
       "      <th>numero_de_vezes_que_passou_60_89_dias</th>\n",
       "      <th>numero_de_dependentes</th>\n",
       "      <th>inadimplente</th>\n",
       "    </tr>\n",
       "  </thead>\n",
       "  <tbody>\n",
       "    <tr>\n",
       "      <th>18</th>\n",
       "      <td>0.815551</td>\n",
       "      <td>49</td>\n",
       "      <td>1</td>\n",
       "      <td>4081.000000</td>\n",
       "      <td>6760.601836</td>\n",
       "      <td>5</td>\n",
       "      <td>3</td>\n",
       "      <td>2</td>\n",
       "      <td>1</td>\n",
       "      <td>0.756508</td>\n",
       "      <td>1</td>\n",
       "    </tr>\n",
       "    <tr>\n",
       "      <th>24</th>\n",
       "      <td>1.000000</td>\n",
       "      <td>41</td>\n",
       "      <td>0</td>\n",
       "      <td>1365.000000</td>\n",
       "      <td>6760.601836</td>\n",
       "      <td>2</td>\n",
       "      <td>5</td>\n",
       "      <td>1</td>\n",
       "      <td>0</td>\n",
       "      <td>0.000000</td>\n",
       "      <td>1</td>\n",
       "    </tr>\n",
       "    <tr>\n",
       "      <th>32</th>\n",
       "      <td>0.001496</td>\n",
       "      <td>43</td>\n",
       "      <td>4</td>\n",
       "      <td>0.492458</td>\n",
       "      <td>5833.000000</td>\n",
       "      <td>8</td>\n",
       "      <td>1</td>\n",
       "      <td>1</td>\n",
       "      <td>3</td>\n",
       "      <td>0.000000</td>\n",
       "      <td>1</td>\n",
       "    </tr>\n",
       "    <tr>\n",
       "      <th>92</th>\n",
       "      <td>0.599408</td>\n",
       "      <td>63</td>\n",
       "      <td>8</td>\n",
       "      <td>0.427368</td>\n",
       "      <td>7000.000000</td>\n",
       "      <td>13</td>\n",
       "      <td>6</td>\n",
       "      <td>2</td>\n",
       "      <td>3</td>\n",
       "      <td>0.000000</td>\n",
       "      <td>1</td>\n",
       "    </tr>\n",
       "    <tr>\n",
       "      <th>136</th>\n",
       "      <td>1.000000</td>\n",
       "      <td>39</td>\n",
       "      <td>98</td>\n",
       "      <td>0.000000</td>\n",
       "      <td>6760.601836</td>\n",
       "      <td>0</td>\n",
       "      <td>98</td>\n",
       "      <td>0</td>\n",
       "      <td>98</td>\n",
       "      <td>0.000000</td>\n",
       "      <td>1</td>\n",
       "    </tr>\n",
       "    <tr>\n",
       "      <th>...</th>\n",
       "      <td>...</td>\n",
       "      <td>...</td>\n",
       "      <td>...</td>\n",
       "      <td>...</td>\n",
       "      <td>...</td>\n",
       "      <td>...</td>\n",
       "      <td>...</td>\n",
       "      <td>...</td>\n",
       "      <td>...</td>\n",
       "      <td>...</td>\n",
       "      <td>...</td>\n",
       "    </tr>\n",
       "    <tr>\n",
       "      <th>39838</th>\n",
       "      <td>1.000000</td>\n",
       "      <td>56</td>\n",
       "      <td>0</td>\n",
       "      <td>0.421492</td>\n",
       "      <td>3833.000000</td>\n",
       "      <td>2</td>\n",
       "      <td>7</td>\n",
       "      <td>0</td>\n",
       "      <td>1</td>\n",
       "      <td>0.000000</td>\n",
       "      <td>1</td>\n",
       "    </tr>\n",
       "    <tr>\n",
       "      <th>39848</th>\n",
       "      <td>0.971924</td>\n",
       "      <td>40</td>\n",
       "      <td>5</td>\n",
       "      <td>0.920374</td>\n",
       "      <td>5236.000000</td>\n",
       "      <td>10</td>\n",
       "      <td>4</td>\n",
       "      <td>4</td>\n",
       "      <td>0</td>\n",
       "      <td>2.000000</td>\n",
       "      <td>1</td>\n",
       "    </tr>\n",
       "    <tr>\n",
       "      <th>39885</th>\n",
       "      <td>1.009769</td>\n",
       "      <td>39</td>\n",
       "      <td>2</td>\n",
       "      <td>0.520378</td>\n",
       "      <td>4661.000000</td>\n",
       "      <td>11</td>\n",
       "      <td>0</td>\n",
       "      <td>0</td>\n",
       "      <td>0</td>\n",
       "      <td>0.000000</td>\n",
       "      <td>1</td>\n",
       "    </tr>\n",
       "    <tr>\n",
       "      <th>39887</th>\n",
       "      <td>1.000000</td>\n",
       "      <td>28</td>\n",
       "      <td>98</td>\n",
       "      <td>8.000000</td>\n",
       "      <td>6760.601836</td>\n",
       "      <td>0</td>\n",
       "      <td>98</td>\n",
       "      <td>0</td>\n",
       "      <td>98</td>\n",
       "      <td>0.000000</td>\n",
       "      <td>1</td>\n",
       "    </tr>\n",
       "    <tr>\n",
       "      <th>39903</th>\n",
       "      <td>1.195500</td>\n",
       "      <td>57</td>\n",
       "      <td>3</td>\n",
       "      <td>0.576529</td>\n",
       "      <td>4200.000000</td>\n",
       "      <td>6</td>\n",
       "      <td>3</td>\n",
       "      <td>2</td>\n",
       "      <td>1</td>\n",
       "      <td>3.000000</td>\n",
       "      <td>1</td>\n",
       "    </tr>\n",
       "  </tbody>\n",
       "</table>\n",
       "<p>1042 rows × 11 columns</p>\n",
       "</div>"
      ],
      "text/plain": [
       "       util_linhas_inseguras  idade  vezes_passou_de_30_59_dias  razao_debito  \\\n",
       "18                  0.815551     49                           1   4081.000000   \n",
       "24                  1.000000     41                           0   1365.000000   \n",
       "32                  0.001496     43                           4      0.492458   \n",
       "92                  0.599408     63                           8      0.427368   \n",
       "136                 1.000000     39                          98      0.000000   \n",
       "...                      ...    ...                         ...           ...   \n",
       "39838               1.000000     56                           0      0.421492   \n",
       "39848               0.971924     40                           5      0.920374   \n",
       "39885               1.009769     39                           2      0.520378   \n",
       "39887               1.000000     28                          98      8.000000   \n",
       "39903               1.195500     57                           3      0.576529   \n",
       "\n",
       "       salario_mensal  numero_linhas_crdto_aberto  \\\n",
       "18        6760.601836                           5   \n",
       "24        6760.601836                           2   \n",
       "32        5833.000000                           8   \n",
       "92        7000.000000                          13   \n",
       "136       6760.601836                           0   \n",
       "...               ...                         ...   \n",
       "39838     3833.000000                           2   \n",
       "39848     5236.000000                          10   \n",
       "39885     4661.000000                          11   \n",
       "39887     6760.601836                           0   \n",
       "39903     4200.000000                           6   \n",
       "\n",
       "       numero_vezes_passou_90_dias  numero_emprestimos_imobiliarios  \\\n",
       "18                               3                                2   \n",
       "24                               5                                1   \n",
       "32                               1                                1   \n",
       "92                               6                                2   \n",
       "136                             98                                0   \n",
       "...                            ...                              ...   \n",
       "39838                            7                                0   \n",
       "39848                            4                                4   \n",
       "39885                            0                                0   \n",
       "39887                           98                                0   \n",
       "39903                            3                                2   \n",
       "\n",
       "       numero_de_vezes_que_passou_60_89_dias  numero_de_dependentes  \\\n",
       "18                                         1               0.756508   \n",
       "24                                         0               0.000000   \n",
       "32                                         3               0.000000   \n",
       "92                                         3               0.000000   \n",
       "136                                       98               0.000000   \n",
       "...                                      ...                    ...   \n",
       "39838                                      1               0.000000   \n",
       "39848                                      0               2.000000   \n",
       "39885                                      0               0.000000   \n",
       "39887                                     98               0.000000   \n",
       "39903                                      1               3.000000   \n",
       "\n",
       "       inadimplente  \n",
       "18                1  \n",
       "24                1  \n",
       "32                1  \n",
       "92                1  \n",
       "136               1  \n",
       "...             ...  \n",
       "39838             1  \n",
       "39848             1  \n",
       "39885             1  \n",
       "39887             1  \n",
       "39903             1  \n",
       "\n",
       "[1042 rows x 11 columns]"
      ]
     },
     "execution_count": 204,
     "metadata": {},
     "output_type": "execute_result"
    }
   ],
   "source": [
    "X_test[X_test['inadimplente']==1]"
   ]
  },
  {
   "cell_type": "code",
   "execution_count": 205,
   "metadata": {
    "id": "o6LoYS3w6oEL"
   },
   "outputs": [],
   "source": [
    "X_test.to_csv('resultado_predic_rafael_santos.csv')"
   ]
  }
 ],
 "metadata": {
  "colab": {
   "collapsed_sections": [
    "_0MWrYeRoT1G",
    "2Lw6BEMSr2Ge",
    "t2LbMbnJpzGL",
    "Z4eY66zfqT5g",
    "tkc9yHg-uFwP",
    "hyvYety3fvmr",
    "agFyuiR4qQp7",
    "obddOhwWtcRf",
    "8rgwYJZ2i3OC",
    "9BFqSrFXjI7A",
    "APCAW32XjH__",
    "UPKKQ5cHqiaX",
    "aV_UTFi81bd8"
   ],
   "name": "Modelo_previsao_credito.ipynb",
   "provenance": []
  },
  "kernelspec": {
   "display_name": "Python 3 (ipykernel)",
   "language": "python",
   "name": "python3"
  },
  "language_info": {
   "codemirror_mode": {
    "name": "ipython",
    "version": 3
   },
   "file_extension": ".py",
   "mimetype": "text/x-python",
   "name": "python",
   "nbconvert_exporter": "python",
   "pygments_lexer": "ipython3",
   "version": "3.9.7"
  }
 },
 "nbformat": 4,
 "nbformat_minor": 4
}
